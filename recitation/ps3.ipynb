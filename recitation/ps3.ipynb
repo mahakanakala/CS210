{
 "cells": [
  {
   "cell_type": "markdown",
   "metadata": {},
   "source": [
    "### <font color='brown'>Problem Set 3: List</brown>"
   ]
  },
  {
   "cell_type": "markdown",
   "metadata": {},
   "source": [
    "---"
   ]
  },
  {
   "cell_type": "markdown",
   "metadata": {
    "tags": []
   },
   "source": [
    "#### Problem 1\n",
    "\n",
    "Given the lists 'nums_1' and 'nums_2' (such as the sample below) \n",
    "\n",
    "<pre>\n",
    "nums_1 = [5, 0, 1, 0, 5, 3, 7, 5]\n",
    "nums_2 = [42, 23, 120, 300, 34, 7, 612, 78]\n",
    "</pre>\n",
    "\n",
    "Do the following:\n",
    "\n",
    "1. Sort the list 'nums_1' in descending order. Note: sort function changes the list in place. \n",
    "2. Get the list 'nums_2' in reversed order. Note: reverse functions can change the list in place. <br>\n",
    "3. Print the two lists simultaneously i.e. print first element of both lists, then second and so on. Hint: See Zip function for parallel iteration\n",
    "4. Check if there is at least one common element in 'nums_1' and 'nums_2'. "
   ]
  },
  {
   "cell_type": "markdown",
   "metadata": {},
   "source": [
    "---"
   ]
  },
  {
   "cell_type": "markdown",
   "metadata": {},
   "source": [
    "#### Problem 2\n",
    "Write a function that accepts a list of words and returns:\n",
    "- the number of words of length 4 or more whose first and last characters are the same \n",
    "- a string constructed out of the first letter of each word "
   ]
  },
  {
   "cell_type": "markdown",
   "metadata": {},
   "source": [
    "---"
   ]
  },
  {
   "cell_type": "markdown",
   "metadata": {},
   "source": [
    "#### Problem 3\n",
    "\n",
    "Given an square matrix in the form of a 2D list, calculate its column wise, row wise and diagonal sum. \n",
    "\n",
    "Example: M = [[1,2,3],[4,5,6],[1,2,3]]\n",
    "1. Column wise sum: [6,9,12]\n",
    "2. Row wise sum: [6, 15, 6]\n",
    "3. Diagonal sum: 9"
   ]
  },
  {
   "cell_type": "markdown",
   "metadata": {},
   "source": [
    "---"
   ]
  },
  {
   "cell_type": "markdown",
   "metadata": {
    "tags": []
   },
   "source": [
    "#### Problem 4\n",
    "\n",
    "Write list comprehension statements for the following:\n",
    "1. Get all scores in a list that are greater than the half the maximum\n",
    "2. Get all words in a list that start with an uppercase letter\n",
    "3. Given two lists of integers, get their intersection \n",
    "4. Given a list of words, generate a list of sublists such that each sublist corresponds to one word, and\n",
    "is the list of all characters in that word\n",
    "5. Given a list of positive integers, create a list of sublists such that each sublist corresponds to one integer, and is the set of divisors (except 1 and itself) of one of that integer\n",
    "6. Given a list of words, create a list containing the tuples (word, length of word) for each word"
   ]
  },
  {
   "cell_type": "markdown",
   "metadata": {},
   "source": [
    "---"
   ]
  },
  {
   "cell_type": "markdown",
   "metadata": {},
   "source": [
    "#### Problem 5\n",
    "\n",
    "You are given the following list of (word, count) tuples:\n",
    "\n",
    "<pre>\n",
    "count = [('hello', 56), ('the', 389), ('name', 23), ('my', 45), ('wonderful', 12)]\n",
    "</pre>\n",
    "\n",
    "1. Sort the list on descending order of counts\n",
    "2. Sort the list on word lengths"
   ]
  }
 ],
 "metadata": {
  "kernelspec": {
   "display_name": "Python 3.11.5 64-bit",
   "language": "python",
   "name": "python3"
  },
  "language_info": {
   "codemirror_mode": {
    "name": "ipython",
    "version": 3
   },
   "file_extension": ".py",
   "mimetype": "text/x-python",
   "name": "python",
   "nbconvert_exporter": "python",
   "pygments_lexer": "ipython3",
   "version": "3.11.5"
  },
  "vscode": {
   "interpreter": {
    "hash": "b0fa6594d8f4cbf19f97940f81e996739fb7646882a419484c72d19e05852a7e"
   }
  }
 },
 "nbformat": 4,
 "nbformat_minor": 4
}
