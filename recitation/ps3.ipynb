{
 "cells": [
  {
   "cell_type": "markdown",
   "metadata": {},
   "source": [
    "### <font color='brown'>Problem Set 3: List</brown>"
   ]
  },
  {
   "cell_type": "markdown",
   "metadata": {},
   "source": [
    "---"
   ]
  },
  {
   "cell_type": "markdown",
   "metadata": {
    "tags": []
   },
   "source": [
    "#### Problem 1\n",
    "\n",
    "Given the lists 'nums_1' and 'nums_2' (such as the sample below) \n",
    "\n",
    "<pre>\n",
    "nums_1 = [5, 0, 1, 0, 5, 3, 7, 5]\n",
    "nums_2 = [42, 23, 120, 300, 34, 7, 612, 78]\n",
    "</pre>\n",
    "\n",
    "Do the following:\n",
    "\n",
    "1. Sort the list 'nums_1' in descending order. Note: sort function changes the list in place. \n",
    "2. Get the list 'nums_2' in reversed order. Note: reverse functions can change the list in place. <br>\n",
    "3. Print the two lists simultaneously i.e. print first element of both lists, then second and so on. Hint: See Zip function for parallel iteration\n",
    "4. Check if there is at least one common element in 'nums_1' and 'nums_2'. "
   ]
  },
  {
   "cell_type": "code",
   "execution_count": 16,
   "metadata": {},
   "outputs": [
    {
     "name": "stdout",
     "output_type": "stream",
     "text": [
      "Descending order of nums_1: [7, 5, 5, 5, 3, 1, 0, 0]\n",
      "---\n",
      "Reversed order of nums_2:  [78, 612, 7, 34, 300, 120, 23, 42]\n",
      "---\n",
      "7 78\n",
      "5 612\n",
      "5 7\n",
      "5 34\n",
      "3 300\n",
      "1 120\n",
      "0 23\n",
      "0 42\n",
      "---\n"
     ]
    },
    {
     "ename": "NameError",
     "evalue": "name 'element_found' is not defined",
     "output_type": "error",
     "traceback": [
      "\u001b[0;31m---------------------------------------------------------------------------\u001b[0m",
      "\u001b[0;31mNameError\u001b[0m                                 Traceback (most recent call last)",
      "Cell \u001b[0;32mIn[16], line 34\u001b[0m\n\u001b[1;32m     32\u001b[0m         \u001b[39mprint\u001b[39m(\u001b[39m\"\u001b[39m\u001b[39mTrue\u001b[39m\u001b[39m\"\u001b[39m)\n\u001b[1;32m     33\u001b[0m         \u001b[39mbreak\u001b[39;00m\n\u001b[0;32m---> 34\u001b[0m \u001b[39mif\u001b[39;00m element_found:\n\u001b[1;32m     35\u001b[0m     \u001b[39mprint\u001b[39m(\u001b[39m\"\u001b[39m\u001b[39mTrue\u001b[39m\u001b[39m\"\u001b[39m)\n\u001b[1;32m     36\u001b[0m \u001b[39melse\u001b[39;00m:\n",
      "\u001b[0;31mNameError\u001b[0m: name 'element_found' is not defined"
     ]
    }
   ],
   "source": [
    "nums_1 = [5, 0, 1, 0, 5, 3, 7, 5]\n",
    "nums_2 = [42, 23, 120, 300, 34, 7, 612, 78]\n",
    "\n",
    "# 1\n",
    "nums_1.sort(reverse=True)\n",
    "print(\"Descending order of nums_1:\", nums_1)\n",
    "print(\"---\")\n",
    "'''\n",
    "# 2\n",
    "- reversed() doesn't change the list in place\n",
    "- reverse() changes the list in place\n",
    "- [::-1] also returns the reverse of the list\n",
    "'''\n",
    "# for i in reversed(nums_2):\n",
    "#     print(i)\n",
    "\n",
    "# nums_2.reverse()\n",
    "\n",
    "nums_2 = nums_2[::-1]\n",
    "print(\"Reversed order of nums_2: \", nums_2)\n",
    "print(\"---\")\n",
    "\n",
    "# 3\n",
    "for i, j in zip(nums_1, nums_2):\n",
    "    print(i, j)\n",
    "print(\"---\")\n",
    "\n",
    "# 4\n",
    "for i, j in zip(nums_1, nums_2):\n",
    "    if i == j:\n",
    "        element_found = True\n",
    "        print(\"True\")\n",
    "        break\n",
    "if element_found:\n",
    "    print(\"True\")\n",
    "else:\n",
    "    print(\"False\")\n",
    "print(\"---\")\n",
    "    \n",
    "# 5"
   ]
  },
  {
   "cell_type": "markdown",
   "metadata": {},
   "source": [
    "---"
   ]
  },
  {
   "cell_type": "markdown",
   "metadata": {},
   "source": [
    "#### Problem 2\n",
    "Write a function that accepts a list of words and returns:\n",
    "- the number of words of length 4 or more whose first and last characters are the same \n",
    "- a string constructed out of the first letter of each word "
   ]
  },
  {
   "cell_type": "code",
   "execution_count": 23,
   "metadata": {},
   "outputs": [
    {
     "data": {
      "text/plain": [
       "'gs'"
      ]
     },
     "execution_count": 23,
     "metadata": {},
     "output_type": "execute_result"
    }
   ],
   "source": [
    "list = [\"tommy\", \"gaining\", \"cat\", \"dog\", \"snowflakes\"]\n",
    "\n",
    "def constructString(words):\n",
    "    counter = 0 \n",
    "    string = \"\"\n",
    "    for word in words:\n",
    "        if len(word) >= 4 and word[0]==word[-1]:\n",
    "                # print(word)\n",
    "                counter+=1\n",
    "                string += word[0] # append the first letter of each word\n",
    "    return string\n",
    "        \n",
    "constructString(list)"
   ]
  },
  {
   "cell_type": "markdown",
   "metadata": {},
   "source": [
    "---"
   ]
  },
  {
   "cell_type": "markdown",
   "metadata": {},
   "source": [
    "#### Problem 3\n",
    "\n",
    "Given an square matrix in the form of a 2D list, calculate its column wise, row wise and diagonal sum. \n",
    "\n",
    "Example: M = [[1,2,3],[4,5,6],[1,2,3]]\n",
    "1. Column wise sum: [6,9,12]\n",
    "2. Row wise sum: [6, 15, 6]\n",
    "3. Diagonal sum: 9"
   ]
  },
  {
   "cell_type": "code",
   "execution_count": null,
   "metadata": {},
   "outputs": [],
   "source": [
    "M = [[1,2,3],[4,5,6],[1,2,4]]\n",
    "\n",
    "# col sum\n"
   ]
  },
  {
   "cell_type": "markdown",
   "metadata": {},
   "source": [
    "---"
   ]
  },
  {
   "cell_type": "markdown",
   "metadata": {
    "tags": []
   },
   "source": [
    "#### Problem 4\n",
    "\n",
    "Write list comprehension statements for the following:\n",
    "1. Get all scores in a list that are greater than the half the maximum\n",
    "2. Get all words in a list that start with an uppercase letter\n",
    "3. Given two lists of integers, get their intersection \n",
    "4. Given a list of words, generate a list of sublists such that each sublist corresponds to one word, and\n",
    "is the list of all characters in that word\n",
    "5. Given a list of positive integers, create a list of sublists such that each sublist corresponds to one integer, and is the set of divisors (except 1 and itself) of one of that integer\n",
    "6. Given a list of words, create a list containing the tuples (word, length of word) for each word"
   ]
  },
  {
   "cell_type": "code",
   "execution_count": null,
   "metadata": {},
   "outputs": [],
   "source": []
  },
  {
   "cell_type": "markdown",
   "metadata": {},
   "source": [
    "---"
   ]
  },
  {
   "cell_type": "markdown",
   "metadata": {},
   "source": [
    "#### Problem 5\n",
    "\n",
    "You are given the following list of (word, count) tuples:\n",
    "\n",
    "<pre>\n",
    "count = [('hello', 56), ('the', 389), ('name', 23), ('my', 45), ('wonderful', 12)]\n",
    "</pre>\n",
    "\n",
    "1. Sort the list on descending order of counts\n",
    "2. Sort the list on word lengths"
   ]
  },
  {
   "cell_type": "code",
   "execution_count": null,
   "metadata": {},
   "outputs": [],
   "source": [
    "count = [('hello', 56), ('the', 389), ('name', 23), ('my',45), ('wonderful', 12)]"
   ]
  }
 ],
 "metadata": {
  "kernelspec": {
   "display_name": "Python 3.11.5 64-bit",
   "language": "python",
   "name": "python3"
  },
  "language_info": {
   "codemirror_mode": {
    "name": "ipython",
    "version": 3
   },
   "file_extension": ".py",
   "mimetype": "text/x-python",
   "name": "python",
   "nbconvert_exporter": "python",
   "pygments_lexer": "ipython3",
   "version": "3.11.5"
  },
  "vscode": {
   "interpreter": {
    "hash": "b0fa6594d8f4cbf19f97940f81e996739fb7646882a419484c72d19e05852a7e"
   }
  }
 },
 "nbformat": 4,
 "nbformat_minor": 4
}
