{
 "cells": [
  {
   "cell_type": "markdown",
   "metadata": {},
   "source": [
    "### <font color='brown'>Problem Set 3: List</brown>"
   ]
  },
  {
   "cell_type": "markdown",
   "metadata": {},
   "source": [
    "---"
   ]
  },
  {
   "cell_type": "markdown",
   "metadata": {
    "tags": []
   },
   "source": [
    "#### Problem 1\n",
    "\n",
    "Given the lists 'nums_1' and 'nums_2' (such as the sample below) \n",
    "\n",
    "<pre>\n",
    "nums_1 = [5, 0, 1, 0, 5, 3, 7, 5]\n",
    "nums_2 = [42, 23, 120, 300, 34, 7, 612, 78]\n",
    "</pre>\n",
    "\n",
    "Do the following:\n",
    "\n",
    "1. Sort the list 'nums_1' in descending order. Note: sort function changes the list in place. \n",
    "2. Get the list 'nums_2' in reversed order. Note: reverse functions can change the list in place. <br>\n",
    "3. Print the two lists simultaneously i.e. print first element of both lists, then second and so on. Hint: See Zip function for parallel iteration\n",
    "4. Check if there is at least one common element in 'nums_1' and 'nums_2'. "
   ]
  },
  {
   "cell_type": "code",
   "execution_count": 1,
   "metadata": {},
   "outputs": [
    {
     "name": "stdout",
     "output_type": "stream",
     "text": [
      "Descending order of nums_1: [7, 5, 5, 5, 3, 1, 0, 0]\n",
      "---\n",
      "Reversed order of nums_2:  [78, 612, 7, 34, 300, 120, 23, 42]\n",
      "---\n",
      "7 78\n",
      "5 612\n",
      "5 7\n",
      "5 34\n",
      "3 300\n",
      "1 120\n",
      "0 23\n",
      "0 42\n",
      "---\n",
      "True\n"
     ]
    }
   ],
   "source": [
    "nums_1 = [5, 0, 1, 0, 5, 3, 7, 5]\n",
    "nums_2 = [42, 23, 120, 300, 34, 7, 612, 78]\n",
    "\n",
    "# 1\n",
    "nums_1.sort(reverse=True)\n",
    "print(\"Descending order of nums_1:\", nums_1)\n",
    "print(\"---\")\n",
    "'''\n",
    "# 2\n",
    "- reversed() doesn't change the list in place\n",
    "- reverse() changes the list in place\n",
    "- [::-1] also returns the reverse of the list\n",
    "'''\n",
    "# for i in reversed(nums_2):\n",
    "#     print(i)\n",
    "\n",
    "# nums_2.reverse()\n",
    "\n",
    "nums_2 = nums_2[::-1]\n",
    "print(\"Reversed order of nums_2: \", nums_2)\n",
    "print(\"---\")\n",
    "\n",
    "# 3\n",
    "for i, j in zip(nums_1, nums_2):\n",
    "    print(i, j)\n",
    "print(\"---\")\n",
    "\n",
    "# 4\n",
    "res = True\n",
    "for _num in nums_1:\n",
    "    if _num in nums_2:\n",
    "        res = True\n",
    "        break\n",
    "print(res)"
   ]
  },
  {
   "cell_type": "markdown",
   "metadata": {},
   "source": [
    "---"
   ]
  },
  {
   "cell_type": "markdown",
   "metadata": {},
   "source": [
    "#### Problem 2\n",
    "Write a function that accepts a list of words and returns:\n",
    "- the number of words of length 4 or more whose first and last characters are the same \n",
    "- a string constructed out of the first letter of each word "
   ]
  },
  {
   "cell_type": "code",
   "execution_count": 23,
   "metadata": {},
   "outputs": [
    {
     "data": {
      "text/plain": [
       "'gs'"
      ]
     },
     "execution_count": 23,
     "metadata": {},
     "output_type": "execute_result"
    }
   ],
   "source": [
    "list = [\"tommy\", \"gaining\", \"cat\", \"dog\", \"snowflakes\"]\n",
    "\n",
    "def constructString(words):\n",
    "    counter = 0 \n",
    "    string = \"\"\n",
    "    for word in words:\n",
    "        if len(word) >= 4 and word[0]==word[-1]:\n",
    "                # print(word)\n",
    "                counter+=1\n",
    "                string += word[0] # append the first letter of each word\n",
    "    return string\n",
    "        \n",
    "constructString(list)"
   ]
  },
  {
   "cell_type": "markdown",
   "metadata": {},
   "source": [
    "---"
   ]
  },
  {
   "cell_type": "markdown",
   "metadata": {},
   "source": [
    "#### Problem 3\n",
    "\n",
    "Given an square matrix in the form of a 2D list, calculate its column wise, row wise and diagonal sum. \n",
    "\n",
    "Example: M = [[1,2,3],[4,5,6],[1,2,3]]\n",
    "1. Column wise sum: [6,9,12]\n",
    "2. Row wise sum: [6, 15, 6]\n",
    "3. Diagonal sum: 9"
   ]
  },
  {
   "cell_type": "code",
   "execution_count": 9,
   "metadata": {},
   "outputs": [
    {
     "ename": "IndexError",
     "evalue": "list index out of range",
     "output_type": "error",
     "traceback": [
      "\u001b[0;31m---------------------------------------------------------------------------\u001b[0m",
      "\u001b[0;31mIndexError\u001b[0m                                Traceback (most recent call last)",
      "Cell \u001b[0;32mIn[9], line 19\u001b[0m\n\u001b[1;32m     16\u001b[0m         col_sum\u001b[39m.\u001b[39mappend(\u001b[39msum\u001b[39m(c_i))\n\u001b[1;32m     17\u001b[0m     \u001b[39mreturn\u001b[39;00m col_sum, row_sum, diag_sum\n\u001b[0;32m---> 19\u001b[0m col_sum, row_sum, diag_sum \u001b[39m=\u001b[39m matrix_sum(M)\n\u001b[1;32m     20\u001b[0m \u001b[39mprint\u001b[39m(col_sum)\n\u001b[1;32m     21\u001b[0m \u001b[39mprint\u001b[39m(row_sum)\n",
      "Cell \u001b[0;32mIn[9], line 10\u001b[0m, in \u001b[0;36mmatrix_sum\u001b[0;34m(m)\u001b[0m\n\u001b[1;32m      8\u001b[0m col_sum \u001b[39m=\u001b[39m []\n\u001b[1;32m      9\u001b[0m \u001b[39mfor\u001b[39;00m i \u001b[39min\u001b[39;00m \u001b[39mrange\u001b[39m(n):\n\u001b[0;32m---> 10\u001b[0m     diag_sum \u001b[39m+\u001b[39m\u001b[39m=\u001b[39m m[i][j]\n\u001b[1;32m     12\u001b[0m     r_i \u001b[39m=\u001b[39m m[i]\n\u001b[1;32m     13\u001b[0m     row_sum\u001b[39m.\u001b[39mappend(\u001b[39msum\u001b[39m(r_i))\n",
      "\u001b[0;31mIndexError\u001b[0m: list index out of range"
     ]
    }
   ],
   "source": [
    "M = [[1,2,3],[4,5,6],[1,2,4]]\n",
    "\n",
    "def matrix_sum(m):\n",
    "    n = len(m)\n",
    "    \n",
    "    diag_sum = 0\n",
    "    row_sum = []\n",
    "    col_sum = []\n",
    "    for i in range(n):\n",
    "        diag_sum += m[i][j]\n",
    "        \n",
    "        r_i = m[i]\n",
    "        row_sum.append(sum(r_i))\n",
    "        \n",
    "        c_i = [m[i][j] for j in range(n)]\n",
    "        col_sum.append(sum(c_i))\n",
    "    return col_sum, row_sum, diag_sum\n",
    "\n",
    "col_sum, row_sum, diag_sum = matrix_sum(M)\n",
    "print(col_sum)\n",
    "print(row_sum)\n",
    "print(diag_sum)"
   ]
  },
  {
   "cell_type": "markdown",
   "metadata": {},
   "source": [
    "---"
   ]
  },
  {
   "cell_type": "markdown",
   "metadata": {
    "tags": []
   },
   "source": [
    "#### Problem 4\n",
    "\n",
    "Write list comprehension statements for the following:\n",
    "1. Get all scores in a list that are greater than the half the maximum\n",
    "2. Get all words in a list that start with an uppercase letter and are longer than 5 characters\n",
    "3. Given two lists of integers, get their intersection \n",
    "4. Given a list of words, generate a list of sublists such that each sublist corresponds to one word, and\n",
    "is the list of all characters in that word\n",
    "5. Given a list of positive integers, create a list of sublists such that each sublist corresponds to one integer, and is the set of divisors (except 1 and itself) of one of that integer\n",
    "6. Given a list of words, create a list containing the tuples (word, length of word) for each word"
   ]
  },
  {
   "cell_type": "code",
   "execution_count": 29,
   "metadata": {},
   "outputs": [
    {
     "name": "stdout",
     "output_type": "stream",
     "text": [
      "[10, 8, 15, 9, 10, 11]\n"
     ]
    }
   ],
   "source": [
    "lst = [4, 10, 8, 15, 2, 9, 10, 7, 6, 11] \n",
    "\n",
    "# 1\n",
    "# counter = 0\n",
    "halfMaxScores = []\n",
    "max_score = max(lst)\n",
    "for score in lst:\n",
    "    if score > max_score/2:\n",
    "        halfMaxScores.append(score)\n",
    "        \n",
    "print(halfMaxScores)\n",
    "\n",
    "# Simpler\n",
    "# halfMaxScores = [s for s in lst if s > .5*max(lst)]\n",
    "# print(halfMaxScores)"
   ]
  },
  {
   "cell_type": "code",
   "execution_count": 30,
   "metadata": {},
   "outputs": [
    {
     "name": "stdout",
     "output_type": "stream",
     "text": [
      "['Anagram', 'America', 'Sunflower']\n"
     ]
    }
   ],
   "source": [
    "# 2\n",
    "lst = [\"Anagram\", \"after\", \"America\", \"begin\", \"xylophone\", \"Sunflower\", \"Maine\", \"best\"]\n",
    "\n",
    "# getWordsWithUpperCase = [s in s for s in lst if s[0].isupper() = True]\n",
    "\n",
    "wordsWithUpperCase =[]\n",
    "for word in lst:\n",
    "    for letter in word:\n",
    "        if letter[0].isupper() == True and len(word) > 5:\n",
    "            wordsWithUpperCase.append(word)\n",
    "\n",
    "print(wordsWithUpperCase)"
   ]
  },
  {
   "cell_type": "code",
   "execution_count": 52,
   "metadata": {},
   "outputs": [
    {
     "data": {
      "text/plain": [
       "[2, 4, -1]"
      ]
     },
     "execution_count": 52,
     "metadata": {},
     "output_type": "execute_result"
    }
   ],
   "source": [
    "# 3\n",
    "'''\n",
    "Must convert the first list to a set to compare with the second list. Use the .intersection() to find the common numbers in 2 lists.\n",
    "'''\n",
    "\n",
    "lst1 = [2,-1,6,8,-2,4,10]\n",
    "lst2 = [4,5,18,-1,9,2]\n",
    "\n",
    "list(set(lst1).intersection(lst2))\n",
    "# list(set(lst1).intersection(set(lst2)))\n",
    "\n",
    "# lst_intersection = [x for x in lst1 for y in lst2 if x==y]\n",
    "# lst_intersection"
   ]
  },
  {
   "cell_type": "code",
   "execution_count": 54,
   "metadata": {},
   "outputs": [
    {
     "data": {
      "text/plain": [
       "[['A', 'n', 'a', 'g', 'r', 'a', 'm'],\n",
       " ['a', 'f', 't', 'e', 'r'],\n",
       " ['A', 'm', 'e', 'r', 'i', 'c', 'a'],\n",
       " ['b', 'e', 'g', 'i', 'n'],\n",
       " ['x', 'y', 'l', 'o', 'p', 'h', 'o', 'n', 'e'],\n",
       " ['S', 'u', 'n', 'f', 'l', 'o', 'w', 'e', 'r'],\n",
       " ['M', 'a', 'i', 'n', 'e'],\n",
       " ['b', 'e', 's', 't']]"
      ]
     },
     "execution_count": 54,
     "metadata": {},
     "output_type": "execute_result"
    }
   ],
   "source": [
    "# 4\n",
    "words = [\"Anagram\", \"after\", \"America\", \"begin\", \"xylophone\", \"Sunflower\", \"Maine\", \"best\"]\n",
    "res = [[char for char in word] for word in words]\n",
    "res"
   ]
  },
  {
   "cell_type": "code",
   "execution_count": 57,
   "metadata": {},
   "outputs": [
    {
     "data": {
      "text/plain": [
       "[[3, 5], [], [2, 5], [3, 7], [3, 7, 9, 21], [2, 3, 4, 6, 8, 12, 16, 24]]"
      ]
     },
     "execution_count": 57,
     "metadata": {},
     "output_type": "execute_result"
    }
   ],
   "source": [
    "# 5\n",
    "lst = [15, 11, 10, 21, 63, 48]\n",
    "divisors = [[d for d in range(2,n//2+1) if n % d == 0] for n in lst]\n",
    "divisors"
   ]
  },
  {
   "cell_type": "code",
   "execution_count": 55,
   "metadata": {},
   "outputs": [
    {
     "data": {
      "text/plain": [
       "[('Anagram', 7),\n",
       " ('after', 5),\n",
       " ('America', 7),\n",
       " ('begin', 5),\n",
       " ('xylophone', 9),\n",
       " ('Sunflower', 9),\n",
       " ('Maine', 5),\n",
       " ('best', 4)]"
      ]
     },
     "execution_count": 55,
     "metadata": {},
     "output_type": "execute_result"
    }
   ],
   "source": [
    "# 6\n",
    "\n",
    "lst = [\"Anagram\", \"after\", \"America\", \"begin\", \"xylophone\", \"Sunflower\", \"Maine\", \"best\"]\n",
    "\n",
    "# word_tuple_list = [x for x in lst]\n",
    "\n",
    "# word_tuple_list = []\n",
    "# for word in lst:\n",
    "#     word_len = len(word) # len of each word\n",
    "#     tuples = tuple((word, word_len)) # making the tuples\n",
    "#     word_tuple_list.append(tuples) # appending to the tuples list\n",
    "    \n",
    "# print(word_tuple_list)\n",
    "\n",
    "res = [(w, len(w)) for w in lst]\n",
    "res"
   ]
  },
  {
   "cell_type": "markdown",
   "metadata": {},
   "source": [
    "---"
   ]
  },
  {
   "cell_type": "markdown",
   "metadata": {},
   "source": [
    "#### Problem 5\n",
    "\n",
    "You are given the following list of (word, count) tuples:\n",
    "\n",
    "<pre>\n",
    "count = [('hello', 56), ('the', 389), ('name', 23), ('my', 45), ('wonderful', 12)]\n",
    "</pre>\n",
    "\n",
    "1. Sort the list on descending order of counts\n",
    "2. Sort the list on word lengths"
   ]
  },
  {
   "cell_type": "code",
   "execution_count": 60,
   "metadata": {},
   "outputs": [
    {
     "name": "stdout",
     "output_type": "stream",
     "text": [
      "[('the', 389), ('hello', 56), ('my', 45), ('name', 23), ('wonderful', 12)]\n"
     ]
    }
   ],
   "source": [
    "count = [('hello', 56), ('the', 389), ('name', 23), ('my',45), ('wonderful', 12)]\n",
    "\n",
    "# 1\n",
    "sorted_words = sorted(count, key=lambda x: x[1], reverse=True)\n",
    "print(sorted_words)\n",
    "    "
   ]
  },
  {
   "cell_type": "code",
   "execution_count": 66,
   "metadata": {},
   "outputs": [
    {
     "name": "stdout",
     "output_type": "stream",
     "text": [
      "[('my', 45), ('the', 389), ('name', 23), ('hello', 56), ('wonderful', 12)]\n"
     ]
    }
   ],
   "source": [
    "# 2\n",
    "sorted_words = sorted(count, key=lambda x: len(x[0]))\n",
    "print(sorted_words)"
   ]
  }
 ],
 "metadata": {
  "kernelspec": {
   "display_name": "Python 3.11.5 64-bit",
   "language": "python",
   "name": "python3"
  },
  "language_info": {
   "codemirror_mode": {
    "name": "ipython",
    "version": 3
   },
   "file_extension": ".py",
   "mimetype": "text/x-python",
   "name": "python",
   "nbconvert_exporter": "python",
   "pygments_lexer": "ipython3",
   "version": "3.11.5"
  },
  "vscode": {
   "interpreter": {
    "hash": "b0fa6594d8f4cbf19f97940f81e996739fb7646882a419484c72d19e05852a7e"
   }
  }
 },
 "nbformat": 4,
 "nbformat_minor": 4
}
