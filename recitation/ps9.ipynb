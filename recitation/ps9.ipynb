{
 "cells": [
  {
   "cell_type": "markdown",
   "metadata": {},
   "source": [
    "### <font color=\"brown\">Problem Set 9: Pandas</font>"
   ]
  },
  {
   "cell_type": "code",
   "execution_count": 2,
   "metadata": {
    "tags": []
   },
   "outputs": [],
   "source": [
    "import numpy as np\n",
    "import pandas as pd\n",
    "from pandas import Series\n",
    "from pandas import DataFrame"
   ]
  },
  {
   "cell_type": "markdown",
   "metadata": {},
   "source": [
    "---"
   ]
  },
  {
   "cell_type": "markdown",
   "metadata": {
    "id": "E7KyJP-pw2nb"
   },
   "source": [
    "#### Problem 1: \n",
    "\n",
    "**Series and DataFrame - Short Answer Questions**"
   ]
  },
  {
   "cell_type": "markdown",
   "metadata": {},
   "source": [
    "**1. What does the following code print?**\n",
    "\n",
    "<pre>\n",
    "ser = Series({'A':25, 'B':31, 'C':26},name='scores')\n",
    "print(ser.reset_index().scores[1])\n",
    "</pre>"
   ]
  },
  {
   "cell_type": "markdown",
   "metadata": {},
   "source": [
    "|     | Index | Scores |\n",
    "|-----|-------|--------|\n",
    "| 0   | A     | 25     |\n",
    "| 1   | B     | 31     |\n",
    "| 2   | C     | 26     |\n",
    "\n",
    "Name: scores, dtype: int64\n"
   ]
  },
  {
   "cell_type": "markdown",
   "metadata": {},
   "source": [
    "**---------------------------------------------------------------**"
   ]
  },
  {
   "cell_type": "markdown",
   "metadata": {},
   "source": [
    "**2. What does the following code print?**\n",
    "\n",
    "<pre>\n",
    "df = DataFrame(np.arange(1,9).reshape(4,2), index=['A','B','C','D'])\n",
    "df.loc['B':'D'][0].max()\n",
    "</pre>"
   ]
  },
  {
   "cell_type": "markdown",
   "metadata": {},
   "source": [
    "[1,2,3,4]\n",
    "[5,6,7,8]"
   ]
  },
  {
   "cell_type": "markdown",
   "metadata": {},
   "source": [
    "**---------------------------------------------------------------**"
   ]
  },
  {
   "cell_type": "markdown",
   "metadata": {},
   "source": [
    "**3. Write 3 different ways to extract the last 3 rows of the following DataFrame**\n",
    "\n",
    "<pre>\n",
    "df = DataFrame(np.arange(1,25).reshape(4,6))\n",
    "</pre>"
   ]
  },
  {
   "cell_type": "markdown",
   "metadata": {},
   "source": [
    "**---------------------------------------------------------------**"
   ]
  },
  {
   "cell_type": "markdown",
   "metadata": {},
   "source": [
    "**4. What is the result of the following?**\n",
    "\n",
    "<pre>\n",
    "data = DataFrame({\n",
    "   'id':[1,2,3,4,5],\n",
    "   'Name': ['Alex', 'Amy', 'Allen', 'Alice', 'Abby'],\n",
    "   'subject_id':['sub1','sub2','sub3','sub4','sub5']})\n",
    "\n",
    "data.T[1:3][2][0]\n",
    "</pre>"
   ]
  },
  {
   "cell_type": "markdown",
   "metadata": {},
   "source": [
    "|     | id | Name | subject_id|\n",
    "|-----|-------|--------|--------|\n",
    "| 0| 1 | Alex |sub1|\n",
    "| 1| 2 | Amy |sub2|\n",
    "| 2| 3 | Allen |sub3|\n",
    "| 3| 4 | Alice |sub4|\n",
    "| 4| 5 | Abby |sub5|\n",
    "\n",
    "after `data.T[1:3][2][0]`\n",
    "\n",
    "`'Allen'`\n"
   ]
  },
  {
   "cell_type": "code",
   "execution_count": 3,
   "metadata": {},
   "outputs": [
    {
     "name": "stderr",
     "output_type": "stream",
     "text": [
      "C:\\Users\\kanak\\AppData\\Local\\Temp\\ipykernel_153984\\1449392395.py:15: FutureWarning: Series.__getitem__ treating keys as positions is deprecated. In a future version, integer keys will always be treated as labels (consistent with DataFrame behavior). To access a value by position, use `ser.iloc[pos]`\n",
      "  data.T[1:3][2][0]\n"
     ]
    },
    {
     "data": {
      "text/plain": [
       "'Allen'"
      ]
     },
     "execution_count": 3,
     "metadata": {},
     "output_type": "execute_result"
    }
   ],
   "source": [
    "data = DataFrame({\n",
    "   'id':[1,2,3,4,5],\n",
    "   'Name': ['Alex', 'Amy', 'Allen', 'Alice', 'Abby'],\n",
    "   'subject_id':['sub1','sub2','sub3','sub4','sub5']})\n",
    "\n",
    "# data.T\n",
    "\n",
    "# selects Name and subject_id rows because they are rows 1 and 2 (row 3 is not included)\n",
    "# data.T[1:3] \n",
    "\n",
    "# selects the 3rd column of data.T which is index 2\n",
    "# data.T[1:3][2]\n",
    "\n",
    "# selects the 1st value of the 3rd col which is the Name col: Allen\n",
    "data.T[1:3][2][0]"
   ]
  },
  {
   "cell_type": "markdown",
   "metadata": {},
   "source": [
    "**---------------------------------------------------------------**"
   ]
  },
  {
   "cell_type": "markdown",
   "metadata": {},
   "source": [
    "**5. For the dataframe given below**\n",
    "\n",
    "<pre>\n",
    "data = DataFrame({'Univ':['USC', 'Yale', 'Harvard', 'UCLA', 'NCSU', 'NYU'],\n",
    "                     'IVY':['No', np.nan, 'Yes', np.nan, 'No', np.nan]})\n",
    "</pre>\n",
    "\n",
    "**Which of the which of the following will make Yale an IVY, and NYU not an IVY, by setting the respective NaNs to 'Yes' and 'No'?:**\n",
    "\n",
    "1. data['IVY'] = data['IVY'].fillna(method='bfill')\n",
    "2. data['IVY'] = data['IVY'].fillna(method='ffill')\n",
    "3. data['IVY'] = data['IVY'].fillna('Yes')\n",
    "4. None of the above\n",
    "\n"
   ]
  },
  {
   "cell_type": "markdown",
   "metadata": {},
   "source": [
    "|     | Univ | IVY |\n",
    "|-----|-------|--------|\n",
    "| 0| USC | No |\n",
    "| 1| Yale | nan |\n",
    "| 2| Harvard | Yes |\n",
    "| 3| UCLA | nan |\n",
    "| 4| NSCU | No |\n",
    "| 5| NYU | nan |"
   ]
  },
  {
   "cell_type": "markdown",
   "metadata": {},
   "source": [
    "1. No (bfill leave NaN when there is no last value to base the current value off of)\n",
    "2. No\n",
    "3. No\n",
    "4. Yes"
   ]
  },
  {
   "cell_type": "markdown",
   "metadata": {},
   "source": [
    "---"
   ]
  },
  {
   "cell_type": "markdown",
   "metadata": {},
   "source": [
    "#### Problem 2"
   ]
  },
  {
   "cell_type": "markdown",
   "metadata": {},
   "source": [
    "For the sub problem #5 above, write code that will give the desired result"
   ]
  },
  {
   "cell_type": "code",
   "execution_count": 4,
   "metadata": {},
   "outputs": [
    {
     "name": "stderr",
     "output_type": "stream",
     "text": [
      "C:\\Users\\kanak\\AppData\\Local\\Temp\\ipykernel_153984\\2040891481.py:4: FutureWarning: Series.fillna with 'method' is deprecated and will raise in a future version. Use obj.ffill() or obj.bfill() instead.\n",
      "  data['IVY'] = data['IVY'].fillna(method='bfill')\n"
     ]
    },
    {
     "data": {
      "text/html": [
       "<div>\n",
       "<style scoped>\n",
       "    .dataframe tbody tr th:only-of-type {\n",
       "        vertical-align: middle;\n",
       "    }\n",
       "\n",
       "    .dataframe tbody tr th {\n",
       "        vertical-align: top;\n",
       "    }\n",
       "\n",
       "    .dataframe thead th {\n",
       "        text-align: right;\n",
       "    }\n",
       "</style>\n",
       "<table border=\"1\" class=\"dataframe\">\n",
       "  <thead>\n",
       "    <tr style=\"text-align: right;\">\n",
       "      <th></th>\n",
       "      <th>Univ</th>\n",
       "      <th>IVY</th>\n",
       "    </tr>\n",
       "  </thead>\n",
       "  <tbody>\n",
       "    <tr>\n",
       "      <th>0</th>\n",
       "      <td>USC</td>\n",
       "      <td>No</td>\n",
       "    </tr>\n",
       "    <tr>\n",
       "      <th>1</th>\n",
       "      <td>Yale</td>\n",
       "      <td>Yes</td>\n",
       "    </tr>\n",
       "    <tr>\n",
       "      <th>2</th>\n",
       "      <td>Harvard</td>\n",
       "      <td>Yes</td>\n",
       "    </tr>\n",
       "    <tr>\n",
       "      <th>3</th>\n",
       "      <td>UCLA</td>\n",
       "      <td>No</td>\n",
       "    </tr>\n",
       "    <tr>\n",
       "      <th>4</th>\n",
       "      <td>NCSU</td>\n",
       "      <td>No</td>\n",
       "    </tr>\n",
       "    <tr>\n",
       "      <th>5</th>\n",
       "      <td>NYU</td>\n",
       "      <td>No</td>\n",
       "    </tr>\n",
       "  </tbody>\n",
       "</table>\n",
       "</div>"
      ],
      "text/plain": [
       "      Univ  IVY\n",
       "0      USC   No\n",
       "1     Yale  Yes\n",
       "2  Harvard  Yes\n",
       "3     UCLA   No\n",
       "4     NCSU   No\n",
       "5      NYU   No"
      ]
     },
     "execution_count": 4,
     "metadata": {},
     "output_type": "execute_result"
    }
   ],
   "source": [
    "data = DataFrame({'Univ':['USC', 'Yale', 'Harvard', 'UCLA', 'NCSU', 'NYU'],\n",
    "                     'IVY':['No', np.nan, 'Yes', np.nan, 'No', np.nan]})\n",
    "\n",
    "data['IVY'] = data['IVY'].fillna(method='bfill')\n",
    "data['IVY'] = data['IVY'].fillna('No')\n",
    "\n",
    "data"
   ]
  },
  {
   "cell_type": "markdown",
   "metadata": {},
   "source": [
    "---"
   ]
  },
  {
   "cell_type": "markdown",
   "metadata": {
    "id": "HxpZ5nIjeCgG"
   },
   "source": [
    "#### Problem 3\n",
    "Execute the code below to get a series called nums. <br>\n",
    "Fill in the missing values (NaN) by the rounded off mean value of the series and get a subset of the series where the numbers are divisible by 3."
   ]
  },
  {
   "cell_type": "code",
   "execution_count": 5,
   "metadata": {
    "executionInfo": {
     "elapsed": 2436,
     "status": "ok",
     "timestamp": 1611853652488,
     "user": {
      "displayName": "PRAKRUTI JOSHI",
      "photoUrl": "",
      "userId": "13509940654676308883"
     },
     "user_tz": -330
    },
    "id": "U2r0GZ3fTCJy",
    "tags": []
   },
   "outputs": [
    {
     "data": {
      "text/plain": [
       "0     3.0\n",
       "1     9.0\n",
       "2     5.0\n",
       "3     NaN\n",
       "4     NaN\n",
       "5     NaN\n",
       "6     NaN\n",
       "7     1.0\n",
       "8     4.0\n",
       "9     NaN\n",
       "10    8.0\n",
       "11    1.0\n",
       "12    6.0\n",
       "13    5.0\n",
       "14    8.0\n",
       "15    1.0\n",
       "16    3.0\n",
       "17    9.0\n",
       "18    5.0\n",
       "19    9.0\n",
       "dtype: float64"
      ]
     },
     "execution_count": 5,
     "metadata": {},
     "output_type": "execute_result"
    }
   ],
   "source": [
    "from numpy import nan as NA\n",
    "nums = Series(np.random.randint(1, 10, 20))\n",
    "for i in range(5):\n",
    "    nums[np.random.randint(0, 20, 1)] = NA\n",
    "    \n",
    "nums"
   ]
  },
  {
   "cell_type": "code",
   "execution_count": 6,
   "metadata": {},
   "outputs": [
    {
     "data": {
      "text/plain": [
       "0     3.0\n",
       "1     9.0\n",
       "2     5.0\n",
       "3     5.0\n",
       "4     5.0\n",
       "5     5.0\n",
       "6     5.0\n",
       "7     1.0\n",
       "8     4.0\n",
       "9     5.0\n",
       "10    8.0\n",
       "11    1.0\n",
       "12    6.0\n",
       "13    5.0\n",
       "14    8.0\n",
       "15    1.0\n",
       "16    3.0\n",
       "17    9.0\n",
       "18    5.0\n",
       "19    9.0\n",
       "dtype: float64"
      ]
     },
     "execution_count": 6,
     "metadata": {},
     "output_type": "execute_result"
    }
   ],
   "source": [
    "nums.fillna(round(nums.mean()), inplace=True)\n",
    "nums"
   ]
  },
  {
   "cell_type": "code",
   "execution_count": 7,
   "metadata": {},
   "outputs": [
    {
     "data": {
      "text/plain": [
       "0     3.0\n",
       "1     9.0\n",
       "12    6.0\n",
       "16    3.0\n",
       "17    9.0\n",
       "19    9.0\n",
       "dtype: float64"
      ]
     },
     "execution_count": 7,
     "metadata": {},
     "output_type": "execute_result"
    }
   ],
   "source": [
    "subset = nums[nums % 3==0]\n",
    "subset"
   ]
  },
  {
   "cell_type": "markdown",
   "metadata": {},
   "source": [
    "---"
   ]
  },
  {
   "cell_type": "markdown",
   "metadata": {
    "id": "ikfVXtSGa0wI"
   },
   "source": [
    "#### Problem 4\n",
    "\n",
    "Given the following series, keep only top 2 most frequent values as is, and replace everything else with 'Other'\n",
    "\n",
    "<pre>\n",
    "  ser = pd.Series(np.random.randint(1, 6, [12]))\n",
    "</pre>\n",
    "\n",
    "Hint: Use Series method <tt>isin</tt>"
   ]
  },
  {
   "cell_type": "code",
   "execution_count": 8,
   "metadata": {},
   "outputs": [
    {
     "data": {
      "text/plain": [
       "0     2\n",
       "1     3\n",
       "2     4\n",
       "3     3\n",
       "4     1\n",
       "5     5\n",
       "6     4\n",
       "7     4\n",
       "8     3\n",
       "9     1\n",
       "10    3\n",
       "11    3\n",
       "dtype: int32"
      ]
     },
     "execution_count": 8,
     "metadata": {},
     "output_type": "execute_result"
    }
   ],
   "source": [
    "ser = pd.Series(np.random.randint(1, 6, [12]))\n",
    "ser"
   ]
  },
  {
   "cell_type": "code",
   "execution_count": 9,
   "metadata": {},
   "outputs": [
    {
     "name": "stderr",
     "output_type": "stream",
     "text": [
      "C:\\Users\\kanak\\AppData\\Local\\Temp\\ipykernel_153984\\3650994699.py:4: FutureWarning: Setting an item of incompatible dtype is deprecated and will raise in a future error of pandas. Value 'Other' has dtype incompatible with int32, please explicitly cast to a compatible dtype first.\n",
      "  ser[~ser.isin(top_2)] = 'Other'\n"
     ]
    },
    {
     "data": {
      "text/plain": [
       "0     Other\n",
       "1         3\n",
       "2         4\n",
       "3         3\n",
       "4     Other\n",
       "5     Other\n",
       "6         4\n",
       "7         4\n",
       "8         3\n",
       "9     Other\n",
       "10        3\n",
       "11        3\n",
       "dtype: object"
      ]
     },
     "execution_count": 9,
     "metadata": {},
     "output_type": "execute_result"
    }
   ],
   "source": [
    "# get the top 2 from the counter\n",
    "top_2 = ser.value_counts().index[:2]\n",
    "\n",
    "ser[~ser.isin(top_2)] = 'Other'\n",
    "\n",
    "ser"
   ]
  },
  {
   "cell_type": "markdown",
   "metadata": {},
   "source": [
    "---"
   ]
  },
  {
   "cell_type": "markdown",
   "metadata": {
    "id": "ikfVXtSGa0wI"
   },
   "source": [
    "#### Problem 5\n",
    "\n",
    "In the following Series, convert the first character of each word to uppercase. (Hint: the title() method of String converts the first letter of each word to uppercase, and all others to lowercase. Also try without using the title() method)\n",
    "\n",
    "<pre>\n",
    "   ser = Series(['how', 'to easily', 'learn', 'spoken spanish'])\n",
    "</pre>\n"
   ]
  },
  {
   "cell_type": "markdown",
   "metadata": {},
   "source": [
    "---"
   ]
  },
  {
   "cell_type": "code",
   "execution_count": 10,
   "metadata": {},
   "outputs": [
    {
     "data": {
      "text/plain": [
       "0               how\n",
       "1         to easily\n",
       "2             learn\n",
       "3    spoken spanish\n",
       "dtype: object"
      ]
     },
     "execution_count": 10,
     "metadata": {},
     "output_type": "execute_result"
    }
   ],
   "source": [
    "ser = Series(['how', 'to easily', 'learn', 'spoken spanish'])\n",
    "ser"
   ]
  },
  {
   "cell_type": "code",
   "execution_count": 11,
   "metadata": {},
   "outputs": [
    {
     "data": {
      "text/plain": [
       "0               How\n",
       "1         To Easily\n",
       "2             Learn\n",
       "3    Spoken Spanish\n",
       "dtype: object"
      ]
     },
     "execution_count": 11,
     "metadata": {},
     "output_type": "execute_result"
    }
   ],
   "source": [
    "# with title() method\n",
    "ser_with_title = ser.str.title()\n",
    "ser_with_title"
   ]
  },
  {
   "cell_type": "code",
   "execution_count": 17,
   "metadata": {},
   "outputs": [
    {
     "data": {
      "text/plain": [
       "0               How\n",
       "1         To Easily\n",
       "2             Learn\n",
       "3    Spoken Spanish\n",
       "dtype: object"
      ]
     },
     "execution_count": 17,
     "metadata": {},
     "output_type": "execute_result"
    }
   ],
   "source": [
    "# without title() method\n",
    "ser_without_title = ser.apply(lambda x: ' '.join([i.capitalize() for i in x.split()]))\n",
    "ser_without_title"
   ]
  },
  {
   "cell_type": "markdown",
   "metadata": {
    "id": "ikfVXtSGa0wI"
   },
   "source": [
    "#### Problem 6\n",
    "\n",
    "Write code to pick words in a Series that contain at least 2 vowels."
   ]
  },
  {
   "cell_type": "markdown",
   "metadata": {},
   "source": [
    "---"
   ]
  },
  {
   "cell_type": "code",
   "execution_count": 20,
   "metadata": {},
   "outputs": [
    {
     "name": "stdout",
     "output_type": "stream",
     "text": [
      "1         to easily\n",
      "2             learn\n",
      "3    spoken spanish\n",
      "dtype: object\n"
     ]
    }
   ],
   "source": [
    "import re\n",
    "\n",
    "ser6 = Series(['how', 'to easily', 'learn', 'spoken spanish'])\n",
    "\n",
    "pattern = re.compile(r'a|e|i|o|u|A|E|I|O|U')\n",
    "vowel_counts = ser6.str.count(pattern)\n",
    "ser6_w_atleast_2_vowels = ser6[vowel_counts >= 2]\n",
    "\n",
    "print(ser6_w_atleast_2_vowels)\n"
   ]
  },
  {
   "cell_type": "markdown",
   "metadata": {},
   "source": [
    "#### Problem 7\n",
    "\n",
    "Write a generic function to switch the columns of a dataframe. (Take column names as input to function)"
   ]
  },
  {
   "cell_type": "code",
   "execution_count": null,
   "metadata": {},
   "outputs": [],
   "source": [
    "def switch_column_name(df):\n",
    "    pass"
   ]
  }
 ],
 "metadata": {
  "kernelspec": {
   "display_name": "Python 3 (ipykernel)",
   "language": "python",
   "name": "python3"
  },
  "language_info": {
   "codemirror_mode": {
    "name": "ipython",
    "version": 3
   },
   "file_extension": ".py",
   "mimetype": "text/x-python",
   "name": "python",
   "nbconvert_exporter": "python",
   "pygments_lexer": "ipython3",
   "version": "3.11.7"
  }
 },
 "nbformat": 4,
 "nbformat_minor": 4
}
