{
 "cells": [
  {
   "cell_type": "markdown",
   "metadata": {},
   "source": [
    "### <font color=\"brown\">Problem Set 2: Conditions, Error Handling, Loops, Command-line Arguments</font>"
   ]
  },
  {
   "cell_type": "markdown",
   "metadata": {},
   "source": [
    "---"
   ]
  },
  {
   "cell_type": "markdown",
   "metadata": {},
   "source": [
    "#### Problem 1\n",
    "\n",
    "1. Write a function that takes an integer as an input and checks if it is divisible by 5.\n",
    "2. If it is divisible, return it as it is, else convert it to a string, append \"5\" to it and return as an integer. <br/>\n",
    "e.g., (i) Input = 10, Output = 10, \n",
    "      (ii) Input  = 19, Output = 195\n",
    "3. If the input is not an integer, generate an error.\n",
    "\n",
    "```python\n",
    "try:\n",
    "      #logic\n",
    "except ValueError:\n",
    "```\n"
   ]
  },
  {
   "cell_type": "code",
   "execution_count": 8,
   "metadata": {
    "tags": []
   },
   "outputs": [],
   "source": [
    "def checkNumber(n):\n",
    "    try:\n",
    "        if int(n) % 5 == 0:\n",
    "            return n\n",
    "        else: \n",
    "            result = int(str(n) + \"5\")\n",
    "            return result\n",
    "    except ValueError:\n",
    "        print(\"Error! input is not an integer!\")  "
   ]
  },
  {
   "cell_type": "code",
   "execution_count": 6,
   "metadata": {
    "tags": []
   },
   "outputs": [
    {
     "data": {
      "text/plain": [
       "20"
      ]
     },
     "execution_count": 6,
     "metadata": {},
     "output_type": "execute_result"
    }
   ],
   "source": [
    "checkNumber(20)"
   ]
  },
  {
   "cell_type": "code",
   "execution_count": 3,
   "metadata": {
    "tags": []
   },
   "outputs": [
    {
     "data": {
      "text/plain": [
       "375"
      ]
     },
     "execution_count": 3,
     "metadata": {},
     "output_type": "execute_result"
    }
   ],
   "source": [
    "checkNumber(37)"
   ]
  },
  {
   "cell_type": "code",
   "execution_count": 9,
   "metadata": {
    "tags": []
   },
   "outputs": [
    {
     "name": "stdout",
     "output_type": "stream",
     "text": [
      "Error! input is not an integer\n"
     ]
    }
   ],
   "source": [
    "checkNumber(\"hey\")"
   ]
  },
  {
   "cell_type": "markdown",
   "metadata": {},
   "source": [
    "---"
   ]
  },
  {
   "cell_type": "markdown",
   "metadata": {},
   "source": [
    "#### Problem 2\n",
    "\n",
    "Take the lengths of three sides of a triangle as an input and output whether the triangle is equilateral, isosceles or scalene. No need to write a function here. Inputs can be taken from standard input (console)."
   ]
  },
  {
   "cell_type": "code",
   "execution_count": 15,
   "metadata": {
    "tags": []
   },
   "outputs": [
    {
     "name": "stdout",
     "output_type": "stream",
     "text": [
      "Enter three lengths of the triangle:  12 3 12\n"
     ]
    },
    {
     "name": "stdout",
     "output_type": "stream",
     "text": [
      "isosceles\n"
     ]
    }
   ],
   "source": [
    "### Write your code here\n",
    "# s1 = int(input(\"Enter the 1st side of triangle: \")\n",
    "# s2 = int(input(\"Enter the 2nd side of triangle: \")\n",
    "# s3 = int(input(\"Enter the 3rd side of triangle: \")\n",
    "\n",
    "\"\"\"\n",
    "Considering the given is a triangle\n",
    "Equilateral = 3 sides equal\n",
    "Scalene = 2 sides equal\n",
    "Isosceles: none\n",
    "\"\"\"\n",
    "x, y, z = map(int, input(\"Enter three lengths of the triangle: \").split())\n",
    "         \n",
    "if x==y and y==z:\n",
    "         print(\"equilateral\")\n",
    "elif x==y or y==z or x==z:\n",
    "         print(\"isosceles\")\n",
    "else:\n",
    "         print(\"scalene\")"
   ]
  },
  {
   "cell_type": "markdown",
   "metadata": {},
   "source": [
    "---"
   ]
  },
  {
   "cell_type": "markdown",
   "metadata": {},
   "source": [
    "#### Problem 3\n",
    "\n",
    "1. Write a function that takes in two numbers, check if their difference is less than or equal to 5.<br/>\n",
    "2. If not, increase the smaller number until the difference between the two numbers is equal to 5.<br/>\n",
    "3. Return the numbers after performing the operation"
   ]
  },
  {
   "cell_type": "code",
   "execution_count": 11,
   "metadata": {
    "tags": []
   },
   "outputs": [
    {
     "name": "stdout",
     "output_type": "stream",
     "text": [
      "(4, 9)\n"
     ]
    }
   ],
   "source": [
    "def decreaseSumToFive(a, b):\n",
    "    # figure out which is the smaller and larger number\n",
    "    small = min(a, b)\n",
    "    large = max(a, b)\n",
    "    diff = large - small\n",
    "    if diff <= 5: \n",
    "        return small, large\n",
    "    while large - small > 5:\n",
    "        small+=1\n",
    "    return small,large    \n",
    "\n",
    "print(decreaseSumToFive(2,9))"
   ]
  },
  {
   "cell_type": "code",
   "execution_count": 12,
   "metadata": {
    "tags": []
   },
   "outputs": [
    {
     "name": "stdout",
     "output_type": "stream",
     "text": [
      "(3, 5)\n"
     ]
    }
   ],
   "source": [
    "print(decreaseSumToFive(5,3))"
   ]
  },
  {
   "cell_type": "markdown",
   "metadata": {},
   "source": [
    "---"
   ]
  },
  {
   "cell_type": "markdown",
   "metadata": {},
   "source": [
    "#### Problems 4 and 5 below should be Python programs that can be independently executed.\n",
    "For these problems, you will have to submit Python Code files having a .py extension.<br/>\n",
    "Arguments needed in the code are to be taken in from the command line. <br/>\n",
    "For more information on how to work with command line arguments, click [here](https://www.tutorialspoint.com/python/python_command_line_arguments.htm)."
   ]
  },
  {
   "cell_type": "markdown",
   "metadata": {},
   "source": [
    "---"
   ]
  },
  {
   "cell_type": "markdown",
   "metadata": {},
   "source": [
    "#### Problem 4\n",
    "\n",
    "In this problem, you are going to implement a Quadratic Equation solver. <br>\n",
    "A quadratic equation is of the form $ax^2 + bx + c = 0.$ \n",
    "\n",
    "Roots of this equation are $ -b \\pm \\sqrt(b^2 - 4ac)\\over2a$.\n",
    "\n",
    "What you need to do:\n",
    "1. Take a, b, c as inputs to the quadratic solver function.\n",
    "2. Calculate -b, $\\sqrt(b^2 - 4ac)$ and 2a.<br>\n",
    "Now, we can have two cases: <br>\n",
    "a) $b^2 - 4ac$ >= 0<br>\n",
    "b) $b^2 - 4ac$ < 0<br>\n",
    "\n",
    "The first case is pretty simple where the roots are as decribed above. But in the second case where the term inside the square root is < 0, the roots become $ -b \\pm i \\sqrt(4ac - b^2)\\over2a$, where \"i\" is an imaginary number.\n",
    "\n",
    "<b>Note:</b> the $\\pm$ sign means one root is $ -b + \\sqrt(b^2 - 4ac)\\over2a$ and other is $ -b - \\sqrt(b^2 - 4ac)\\over2a$\n",
    "<br>\n",
    "Print the roots in a string format, with proper placement of \"i\" in the imaginary roots."
   ]
  },
  {
   "cell_type": "code",
   "execution_count": 3,
   "metadata": {},
   "outputs": [
    {
     "data": {
      "text/plain": [
       "(6.0, 2.0)"
      ]
     },
     "execution_count": 3,
     "metadata": {},
     "output_type": "execute_result"
    }
   ],
   "source": [
    "def quadraticSolver(a, b, c):\n",
    "    disc= (b**2)-(4*a*c)\n",
    "    pos_instance = (-b + (disc**(1/2)))/2*a\n",
    "    neg_instance = (-b - (disc**(1/2)))/2*a\n",
    "    return pos_instance, neg_instance\n",
    "\n",
    "quadraticSolver(1,-8,12)"
   ]
  },
  {
   "cell_type": "markdown",
   "metadata": {},
   "source": [
    "---"
   ]
  },
  {
   "cell_type": "markdown",
   "metadata": {},
   "source": [
    "#### Problem 5\n",
    "\n",
    "In this problem, you will be performing string length encoding and decoding. You will have to write a function for each of those.\n",
    "\n",
    "1. <h5>Encoding</h5>\n",
    "For this part, your function will take in a string input and return another string that keeps a count of the consecutive characters in the string in the following manner.<br>\n",
    "For e.g., \"hhaaabbxwww\" will be encoded as \"h2a3b2x1w3\". As you can see, the character count is appended next to the character. Another example: \"jjjkrrjjwww\" will be encoded as \"j3k1r2j2w3\". Notice that j occurs consecutively twice in different parts of the string and is thus handled twice.\n",
    "\n",
    "2. <h5>Decoding</h5>\n",
    "For this part, the input and output will be strings just like the previous function. This function will do the opposite. For e.g., \"h2a3b2x1w3\" will be decoded to \"hhaaabbxwww\".<br>\n",
    "<b>Note:</b> For decoding, you can assume that the number next to a character will be a single digit. You can also attempt the more general scenario where a character could occur more than 9 times in sequence, so the number following it is multi-digit."
   ]
  },
  {
   "cell_type": "code",
   "execution_count": null,
   "metadata": {},
   "outputs": [],
   "source": []
  }
 ],
 "metadata": {
  "kernelspec": {
   "display_name": "Python 3.11.5 64-bit",
   "language": "python",
   "name": "python3"
  },
  "language_info": {
   "codemirror_mode": {
    "name": "ipython",
    "version": 3
   },
   "file_extension": ".py",
   "mimetype": "text/x-python",
   "name": "python",
   "nbconvert_exporter": "python",
   "pygments_lexer": "ipython3",
   "version": "3.11.5"
  },
  "vscode": {
   "interpreter": {
    "hash": "b0fa6594d8f4cbf19f97940f81e996739fb7646882a419484c72d19e05852a7e"
   }
  }
 },
 "nbformat": 4,
 "nbformat_minor": 4
}
