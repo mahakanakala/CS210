{
 "cells": [
  {
   "cell_type": "markdown",
   "metadata": {
    "id": "EeExvGg38nsy"
   },
   "source": [
    "### <font color=\"brown\">Problem Set 1: Python basics</font>"
   ]
  },
  {
   "cell_type": "markdown",
   "metadata": {
    "id": "JsDs7_mT8nsy"
   },
   "source": [
    "Rules for variables and function names in python:\n",
    "1. All names must start with a letter or underscore. For e.g: user_name is a valid identifier but 1digit is not. <br> \n",
    "2. Identifiers can contain letters, digits and underscores. <br> \n",
    "3. They can be of any length. <br> \n",
    "4. Identifiers can't be a keyword. Keywords are reserved words that Python uses for special purposes. For e.g: False, None, break etc <br> "
   ]
  },
  {
   "cell_type": "markdown",
   "metadata": {},
   "source": [
    "---"
   ]
  },
  {
   "cell_type": "markdown",
   "metadata": {
    "id": "z0alGOgt8nsy"
   },
   "source": [
    "#### Problem 1:\n",
    "\n",
    "Given the value of x, compute and print the values of following:\n",
    "1. Cube of x\n",
    "2. The remainder when divided by 4\n",
    "3. The integer quotient when divided by 5\n",
    "4. Expression to determine whether x is greater than 15 and less than 25. Print the resultant value.\n",
    "5. Check if x is equal to the value of x as string. Eg: if 3 and \"3\" are same.  \n",
    "\n",
    "All the above values should be printed in the following form: <br>\n",
    "\"Problem: Value\"\n",
    "For e.g.: \"Cube of 10: 1000\""
   ]
  },
  {
   "cell_type": "code",
   "execution_count": 7,
   "metadata": {
    "id": "AwxVpl3z8nsy",
    "tags": []
   },
   "outputs": [],
   "source": [
    "x = 18"
   ]
  },
  {
   "cell_type": "code",
   "execution_count": 8,
   "metadata": {
    "id": "HbxPXTBL8nsy",
    "tags": []
   },
   "outputs": [
    {
     "name": "stdout",
     "output_type": "stream",
     "text": [
      "5832\n"
     ]
    }
   ],
   "source": [
    "# 1. \n",
    "x=x**3\n",
    "print(x)"
   ]
  },
  {
   "cell_type": "code",
   "execution_count": 9,
   "metadata": {
    "id": "tU9cnicJ8nsy",
    "tags": []
   },
   "outputs": [
    {
     "name": "stdout",
     "output_type": "stream",
     "text": [
      "0\n"
     ]
    }
   ],
   "source": [
    "# 2. \n",
    "x=x%4\n",
    "print(x)"
   ]
  },
  {
   "cell_type": "code",
   "execution_count": 21,
   "metadata": {
    "id": "XPMB7Nsu8nsy",
    "tags": []
   },
   "outputs": [
    {
     "name": "stdout",
     "output_type": "stream",
     "text": [
      "0\n"
     ]
    }
   ],
   "source": [
    "# 3. \n",
    "x=x/5\n",
    "print(int(x))"
   ]
  },
  {
   "cell_type": "code",
   "execution_count": 11,
   "metadata": {
    "id": "yxo3SMkT8nsy",
    "tags": []
   },
   "outputs": [
    {
     "name": "stdout",
     "output_type": "stream",
     "text": [
      "24\n"
     ]
    }
   ],
   "source": [
    "x=24 \n",
    "\n",
    "# 4. \n",
    "# if x>15 and x<25:\n",
    "#     print(x)\n",
    "\n",
    "if 15<x<25:\n",
    "    print(x) "
   ]
  },
  {
   "cell_type": "code",
   "execution_count": 13,
   "metadata": {
    "id": "vaA2gkTF8nsz",
    "tags": []
   },
   "outputs": [
    {
     "name": "stdout",
     "output_type": "stream",
     "text": [
      "True\n"
     ]
    }
   ],
   "source": [
    "# 5.\n",
    "x = \"18\"\n",
    "if x == str(x):\n",
    "    print(\"True\")\n",
    "else:\n",
    "    print(\"False\")"
   ]
  },
  {
   "cell_type": "markdown",
   "metadata": {},
   "source": [
    "---"
   ]
  },
  {
   "cell_type": "markdown",
   "metadata": {
    "id": "BvWrfby68nsz"
   },
   "source": [
    "#### Problem 2: \n",
    "\n",
    "String concatenation and string repetition:\n",
    "\n",
    "Form a single string using the below given variables: \n",
    "\n",
    "\"My name is Jim Halpert. My annual salary is $60000 <br>\n",
    "I am good. I am good. I am good.\" \n",
    "\n",
    "Print the resultant string."
   ]
  },
  {
   "cell_type": "code",
   "execution_count": 24,
   "metadata": {
    "id": "OzqWzNcO8nsz",
    "tags": []
   },
   "outputs": [],
   "source": [
    "name = \"Jim Halpert\" \n",
    "salary = 60000\n",
    "string = \"I am good. \"\n",
    "age = 35"
   ]
  },
  {
   "cell_type": "code",
   "execution_count": 25,
   "metadata": {
    "id": "W4Lz4Vs78nsz",
    "tags": []
   },
   "outputs": [
    {
     "name": "stdout",
     "output_type": "stream",
     "text": [
      "My name is Jim Halpert. My annual salary is $60000\n",
      "I am good. I am good. I am good. \n"
     ]
    }
   ],
   "source": [
    "# Solution\n",
    "print(\"My name is \" + name + \". My annual salary is $\" + str(salary))\n",
    "# for i in range(3):\n",
    "#      print(string)\n",
    "print(string + string + string)"
   ]
  },
  {
   "cell_type": "markdown",
   "metadata": {},
   "source": [
    "---"
   ]
  },
  {
   "cell_type": "markdown",
   "metadata": {
    "id": "LouUoFKi8nsz"
   },
   "source": [
    "#### Problem 3:\n",
    "\n",
    "String Methods:\n",
    "\n",
    "Note: All string methods returns new values. They do not change the original string.\n",
    "\n",
    "Reference: https://www.w3schools.com/python/python_ref_string.asp"
   ]
  },
  {
   "cell_type": "code",
   "execution_count": 15,
   "metadata": {
    "id": "QDRm6W2d8nsz",
    "tags": []
   },
   "outputs": [],
   "source": [
    "string = \"Hello! How are you? It has been quite some time. Last time I saw you was in California.\""
   ]
  },
  {
   "cell_type": "markdown",
   "metadata": {
    "id": "2eVgjV0U8nsz"
   },
   "source": [
    "Given the following input string, perform the following:\n",
    "1. Print the length of string\n",
    "   `len()` \n",
    "2. Occurrence of substring \"time\"\n",
    "    `.count()`\n",
    "3. Check if substring \"California\" and \"New York\" occur in string\n",
    "    `if-else statement with literal`\n",
    "4. Convert string to uppercase\n",
    "    `.upper()`\n",
    "5. Find the index of '!' in the string\n",
    "    `.index()`\n",
    "6. Check is there are any digits in the string\n",
    "   `map the str.isdigit function onto the string`"
   ]
  },
  {
   "cell_type": "code",
   "execution_count": 21,
   "metadata": {
    "id": "mJ9X4BV28nsz",
    "tags": []
   },
   "outputs": [
    {
     "name": "stdout",
     "output_type": "stream",
     "text": [
      "87\n",
      "2\n",
      "No\n",
      "HELLO! HOW ARE YOU? IT HAS BEEN QUITE SOME TIME. LAST TIME I SAW YOU WAS IN CALIFORNIA.\n",
      "5\n",
      "False\n"
     ]
    }
   ],
   "source": [
    "# Solution\n",
    "# 1 \n",
    "print(len(string))\n",
    "# 2\n",
    "print(string.count('time'))\n",
    "# 3 \n",
    "print(\"Yes\") if \"California\" and \"New York\" in string else print(\"No\")\n",
    "# 4\n",
    "print(string.upper())\n",
    "# 4\n",
    "print(string.index(\"!\"))\n",
    "# 5\n",
    "print(any(map(str.isdigit, string)))"
   ]
  },
  {
   "cell_type": "markdown",
   "metadata": {},
   "source": [
    "---"
   ]
  },
  {
   "cell_type": "markdown",
   "metadata": {
    "id": "r_Wu8xYH8nsz"
   },
   "source": [
    "#### Problem 4:\n",
    "\n",
    "The function \"calculate_average\" takes in three integers and returns their average. Complete the function definition to calculate the average. Print the value of average inside the function. Also, print the data type of computed average inside the function. \n",
    "\n",
    "```python\n",
    "def calculate_average(x, y, z):\n",
    "    average = (x+y+z)/3\n",
    "    print(average)\n",
    "    print(type(average))\n",
    "    return average\n",
    "\n",
    "```"
   ]
  },
  {
   "cell_type": "code",
   "execution_count": 22,
   "metadata": {
    "id": "qvW5Pbkb8nsz",
    "tags": []
   },
   "outputs": [
    {
     "name": "stdout",
     "output_type": "stream",
     "text": [
      "15.0\n",
      "<class 'float'>\n"
     ]
    },
    {
     "data": {
      "text/plain": [
       "15.0"
      ]
     },
     "execution_count": 22,
     "metadata": {},
     "output_type": "execute_result"
    }
   ],
   "source": [
    "def calculate_average(a, b, c):\n",
    "    # Complete function definition here\n",
    "    average = (a+b+c)/3\n",
    "    print(average)\n",
    "    print(type(average))\n",
    "    # print(type(average))\n",
    "    return average\n",
    "\n",
    "calculate_average(15,25,5)"
   ]
  },
  {
   "cell_type": "markdown",
   "metadata": {},
   "source": [
    "---"
   ]
  },
  {
   "cell_type": "markdown",
   "metadata": {
    "id": "srit6lO38nsz"
   },
   "source": [
    "#### Problem 5:\n",
    "\n",
    "Write a function to compute the area of the circle given radius r. Use a default value of 5 for the radius. Use the value of Pi from the math module.\n",
    "\n",
    "```python\n",
    "def \n",
    "```"
   ]
  },
  {
   "cell_type": "code",
   "execution_count": 4,
   "metadata": {
    "id": "sOhhkTEv8nsz",
    "tags": []
   },
   "outputs": [
    {
     "name": "stdout",
     "output_type": "stream",
     "text": [
      "78.53981633974483\n"
     ]
    }
   ],
   "source": [
    "# Solution \n",
    "import math\n",
    "\n",
    "def compute_area(r=5):\n",
    "    area = (r**2)*math.pi\n",
    "    return area\n",
    "\n",
    "print(compute_area())"
   ]
  },
  {
   "cell_type": "markdown",
   "metadata": {},
   "source": [
    "---"
   ]
  },
  {
   "cell_type": "markdown",
   "metadata": {
    "id": "Qwerb4-38nsz"
   },
   "source": [
    "#### Problem 6: \n",
    "\n",
    "Create a function that takes in the student id, age, name, and grade of the student. The function should print both the values. If the grade is missing, the function should display the grade as 'B'. If the age is missing, the function should display the age as 18. "
   ]
  },
  {
   "cell_type": "code",
   "execution_count": 23,
   "metadata": {
    "id": "oSVezndG8nsz"
   },
   "outputs": [],
   "source": [
    "# Solution \n",
    "def student_info(name, id, age = 18, grade = \"B\"):\n",
    "    print(\"id: \" + str(id), \"age: \" + str(age),\"name: \" + str(name), \"grade: \" + str(grade))\n",
    "        "
   ]
  },
  {
   "cell_type": "code",
   "execution_count": 24,
   "metadata": {
    "id": "oSVezndG8nsz"
   },
   "outputs": [
    {
     "name": "stdout",
     "output_type": "stream",
     "text": [
      "id: 256777 age: 23 name: test grade: A\n"
     ]
    }
   ],
   "source": [
    "# Solution \n",
    "\n",
    "student_info(\"test\", 256777, 23, \"A\")       "
   ]
  },
  {
   "cell_type": "markdown",
   "metadata": {},
   "source": [
    "---"
   ]
  },
  {
   "cell_type": "markdown",
   "metadata": {
    "id": "Pq8gHj9e8nsz"
   },
   "source": [
    "#### Problem 7: \n",
    "\n",
    "1. Create a function \"calculate()\" that takes in two integers (a,b). The function should return a plus b, a minus b, a multipled with c, and a divided by b. Note: If b is zero, it will result in \"Divide by zero error\".  <br>\n",
    "2. Write a function call with sample values of a and b. Print the results from the function call. "
   ]
  },
  {
   "cell_type": "code",
   "execution_count": 25,
   "metadata": {
    "id": "zSU7qcM38nsz"
   },
   "outputs": [
    {
     "data": {
      "text/plain": [
       "(5, -1, 6, 0.6666666666666666)"
      ]
     },
     "execution_count": 25,
     "metadata": {},
     "output_type": "execute_result"
    }
   ],
   "source": [
    "# Solution\n",
    "def calculate(a,b):\n",
    "    if b==0:\n",
    "        print(\"Divide by zero error\")\n",
    "    else:     \n",
    "        return a + b, a-b, a*b, a/b\n",
    "\n",
    "calculate(2,3)"
   ]
  },
  {
   "cell_type": "markdown",
   "metadata": {},
   "source": [
    "---"
   ]
  },
  {
   "cell_type": "markdown",
   "metadata": {
    "id": "nD8CZ5iW8nsz",
    "tags": []
   },
   "source": [
    "#### Problem 8:\n",
    "\n",
    "Write a function to check if a number is in a particular range (a,b), with a default range of 0..100 <br>"
   ]
  },
  {
   "cell_type": "code",
   "execution_count": 28,
   "metadata": {
    "id": "NJwMLsSS8nsz",
    "tags": []
   },
   "outputs": [
    {
     "data": {
      "text/plain": [
       "False"
      ]
     },
     "execution_count": 28,
     "metadata": {},
     "output_type": "execute_result"
    }
   ],
   "source": [
    "# Solution \n",
    "def inRange(num):\n",
    "    a = 0.\n",
    "    b = 100\n",
    "    if num > a and num < b:\n",
    "        return True\n",
    "    return False\n",
    "\n",
    "inRange(67)"
   ]
  },
  {
   "cell_type": "code",
   "execution_count": 29,
   "metadata": {
    "tags": []
   },
   "outputs": [
    {
     "data": {
      "text/plain": [
       "False"
      ]
     },
     "execution_count": 29,
     "metadata": {},
     "output_type": "execute_result"
    }
   ],
   "source": [
    "inRange(120)\n"
   ]
  },
  {
   "cell_type": "code",
   "execution_count": 30,
   "metadata": {
    "tags": []
   },
   "outputs": [
    {
     "data": {
      "text/plain": [
       "False"
      ]
     },
     "execution_count": 30,
     "metadata": {},
     "output_type": "execute_result"
    }
   ],
   "source": [
    "inRange(0)\n"
   ]
  },
  {
   "cell_type": "code",
   "execution_count": 31,
   "metadata": {
    "tags": []
   },
   "outputs": [
    {
     "data": {
      "text/plain": [
       "False"
      ]
     },
     "execution_count": 31,
     "metadata": {},
     "output_type": "execute_result"
    }
   ],
   "source": [
    "inRange(100)"
   ]
  },
  {
   "cell_type": "code",
   "execution_count": null,
   "metadata": {},
   "outputs": [],
   "source": []
  }
 ],
 "metadata": {
  "colab": {
   "name": "Week1_Exercises.ipynb",
   "provenance": []
  },
  "kernelspec": {
   "display_name": "Python 3.11.5 64-bit",
   "language": "python",
   "name": "python3"
  },
  "language_info": {
   "codemirror_mode": {
    "name": "ipython",
    "version": 3
   },
   "file_extension": ".py",
   "mimetype": "text/x-python",
   "name": "python",
   "nbconvert_exporter": "python",
   "pygments_lexer": "ipython3",
   "version": "3.11.5"
  },
  "vscode": {
   "interpreter": {
    "hash": "b0fa6594d8f4cbf19f97940f81e996739fb7646882a419484c72d19e05852a7e"
   }
  }
 },
 "nbformat": 4,
 "nbformat_minor": 4
}
