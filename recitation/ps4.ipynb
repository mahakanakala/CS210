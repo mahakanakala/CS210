{
 "cells": [
  {
   "cell_type": "markdown",
   "metadata": {},
   "source": [
    "### <font color='brown'>Problem Set 4: Dictionary and File Handling</brown>"
   ]
  },
  {
   "cell_type": "markdown",
   "metadata": {},
   "source": [
    "---"
   ]
  },
  {
   "cell_type": "markdown",
   "metadata": {},
   "source": [
    "#### Problem 1\n",
    "\n",
    "1. Given two parallel lists of keys and values, convert them into a dictionary. \n",
    "2. Can you do it without iterating the lists? Hint: use the zip function: https://realpython.com/python-zip-function/"
   ]
  },
  {
   "cell_type": "code",
   "execution_count": 1,
   "metadata": {
    "tags": []
   },
   "outputs": [
    {
     "name": "stdout",
     "output_type": "stream",
     "text": [
      "(('Id', 87), ('Name', 'Bob'), ('Salary', 100000), ('Age', 28), ('Teams', ['CRM', 'QA']))\n"
     ]
    }
   ],
   "source": [
    "keys = ['Id', 'Name', 'Salary', 'Age', 'Teams']\n",
    "values = [87, 'Bob', 100000, 28, ['CRM', 'QA']]\n",
    "\n",
    "parallel_list = zip(keys, values)\n",
    "print(tuple(parallel_list))"
   ]
  },
  {
   "cell_type": "markdown",
   "metadata": {},
   "source": [
    "---"
   ]
  },
  {
   "cell_type": "markdown",
   "metadata": {},
   "source": [
    "#### Problem 2\n",
    "\n",
    "Given a dictionary, do the following: \n",
    "\n",
    "1. Check if the dictionary is empty.\n",
    "2. Print all unique values in the dictionary.\n",
    "3. Get the keys in the dictionary.\n",
    "4. Make a new dictionary out of the values that are > 50."
   ]
  },
  {
   "cell_type": "code",
   "execution_count": 2,
   "metadata": {
    "tags": []
   },
   "outputs": [],
   "source": [
    "d = {'a':'12', 'b':'34', 'c':'76', 'd':'87', 'e':'12', 'f':'90', 'g':'34', 'h':'0', 'i':'0'}"
   ]
  },
  {
   "cell_type": "code",
   "execution_count": 10,
   "metadata": {},
   "outputs": [
    {
     "name": "stdout",
     "output_type": "stream",
     "text": [
      "not empty\n",
      "{0, 34, 12, 76, 87, 90}\n",
      "dict_keys(['a', 'b', 'c', 'd', 'e', 'f', 'g', 'h', 'i'])\n",
      "{'c': 76, 'd': 87, 'f': 90}\n"
     ]
    }
   ],
   "source": [
    "# 1\n",
    "print(\"not empty\") if bool(d) == True else print(\" empty\")\n",
    "\n",
    "# 2\n",
    "unique_values = set(d.values())\n",
    "print(unique_values)\n",
    "\n",
    "# 3 \n",
    "print(d.keys())\n",
    "\n",
    "# 4\n",
    "dictValsOverFifty = {}\n",
    "for key, value in d.items():\n",
    "    if value > 50:\n",
    "        dictValsOverFifty[key] = value\n",
    "        # dictValsOverFifty.update({key: value})\n",
    "        \n",
    "print(dictValsOverFifty)"
   ]
  },
  {
   "cell_type": "markdown",
   "metadata": {},
   "source": [
    "---"
   ]
  },
  {
   "cell_type": "markdown",
   "metadata": {},
   "source": [
    "#### Problem 3\n",
    "\n",
    "Write a function that takes two strings and tells if they are anagrams. Two words are anagrams if they are rearrangments of each other. Examples of anagrams: \"race\" and \"care\", \"keen\" and \"knee\""
   ]
  },
  {
   "cell_type": "code",
   "execution_count": 22,
   "metadata": {},
   "outputs": [
    {
     "data": {
      "text/plain": [
       "True"
      ]
     },
     "execution_count": 22,
     "metadata": {},
     "output_type": "execute_result"
    }
   ],
   "source": [
    "'''\n",
    "BC: if the length of the 2 strings are not equal, they are not anagrams\n",
    "make 2 dicts of the unique letters in each string\n",
    "for each dict key compare the dict's values, if they are equal, they are anagrams\n",
    "\n",
    "runtime: O(n)\n",
    "space: O(str1 + str2)\n",
    "'''\n",
    "\n",
    "def is_anagram(str1, str2):\n",
    "    if len(str1) != len(str2):\n",
    "        return False\n",
    "\n",
    "    dict1 = {}\n",
    "    dict2 = {}\n",
    "    \n",
    "    for i in range(len(str1)):\n",
    "        dict1[str1[i]] = 1 + dict1.get(str1[i], 0)\n",
    "        dict2[str2[i]] = 1 + dict2.get(str2[i], 0)\n",
    "    \n",
    "    for char in str1:\n",
    "        if dict1[char] != dict2.get(char, 0):\n",
    "            return False\n",
    "    return True\n",
    "\n",
    "\n",
    "is_anagram(\"race\", \"care\")"
   ]
  },
  {
   "cell_type": "markdown",
   "metadata": {},
   "source": [
    "---"
   ]
  },
  {
   "cell_type": "markdown",
   "metadata": {},
   "source": [
    "#### Problem 4\n",
    "\n",
    "The following dictionary (in cell below) has student id for key, mapped to a list scores on assignments. Calculate the final letter grade of each student using the following percentage weights for the assignments: [10%, 10%, 10%, 20%, 50%]. The maximum score for each assignment is as follows: [100,100,200,200,300]. The letter grade should be computed using the following grade scheme: \n",
    "\n",
    "1. [90-100] : 'A'  (90 and 100 are both included)\n",
    "2. [80-90) : 'B+'  (80 is included, 90 is not)\n",
    "3. [70-80) : 'B'\n",
    "4. [60-70) : 'C+'\n",
    "5. < 60 : 'C'\n",
    "\n",
    "The final output should be a dictionary with student id mapped to letter grade. "
   ]
  },
  {
   "cell_type": "code",
   "execution_count": 20,
   "metadata": {
    "tags": []
   },
   "outputs": [
    {
     "data": {
      "text/plain": [
       "{'phj17': 'A', 'kd710': 'C+', 'tn278': 'B+', 'rhb13': 'B+'}"
      ]
     },
     "execution_count": 20,
     "metadata": {},
     "output_type": "execute_result"
    }
   ],
   "source": [
    "student_scores = {\n",
    "    'phj17' : [90, 90, 187, 175, 290],\n",
    "    'kd710' : [50, 60, 110, 180, 210],\n",
    "    'tn278' : [100, 95, 170, 105, 280],\n",
    "    'rhb13' : [85, 88, 192, 178, 263]\n",
    "}\n",
    "\n",
    "def calculate_student_grade(student_scores):\n",
    "    student_averages = {}\n",
    "    for student, scores in student_scores.items():\n",
    "        average = (scores[0]/100)*.1 + (scores[1]/100)*.1 + (scores[2]/200)*.1 + (scores[3]/200)*.2 + (scores[4]/300)*.5\n",
    "        student_averages[student] = average\n",
    "    # print(student_averages)\n",
    "\n",
    "    student_grades = {}\n",
    "\n",
    "    for student, grade in student_averages.items():\n",
    "        if .9 <= grade <= 1:\n",
    "            student_grades[student] = 'A'\n",
    "        elif .8 <= grade < .9:\n",
    "            student_grades[student] = 'B+'\n",
    "        elif .7 <= grade < .8:\n",
    "            student_grades[student] = 'B'\n",
    "        elif .6 <= grade < .7:\n",
    "            student_grades[student] = 'C+'\n",
    "        else:\n",
    "            student_grades[student] = 'C'\n",
    "            \n",
    "    # print(student_grades)\n",
    "    \n",
    "    return student_grades\n",
    "\n",
    "calculate_student_grade(student_scores)"
   ]
  },
  {
   "cell_type": "markdown",
   "metadata": {},
   "source": [
    "---"
   ]
  },
  {
   "cell_type": "markdown",
   "metadata": {},
   "source": [
    "#### Problem 5\n",
    "\n",
    "You are given a file named [ps4-5_in.txt](ps4-5_in.txt) with multiple records, each on a separate line. Each record has person name, profession, and school name, separated by a comma. You are required to extract only those records for which person name starts with 'a' and profession is student, and write the extracted records to a new output file called *ps4-5_out.txt*. \n",
    "\n",
    "Note: 'student scholar' is a different profession than 'student'\n"
   ]
  },
  {
   "cell_type": "code",
   "execution_count": null,
   "metadata": {},
   "outputs": [],
   "source": []
  },
  {
   "cell_type": "markdown",
   "metadata": {},
   "source": [
    "---"
   ]
  },
  {
   "cell_type": "markdown",
   "metadata": {},
   "source": [
    "#### Problem 6\n",
    "\n",
    "Given a text file [sampleSentences.txt](sampleSentences.txt) containing sentences on separate lines, create a dictionary to map a letter with the number of words starting with it. To keep it simple, a word is any sequence of non-space characters, so a word can include punctuation. To avoid discrepancies of upper and lower case characters, start by converting all uppercase characters to lowercase. Write the contents of the dictionary to the file *ps4-6_out.txt* in ranked order of counts. For example, write t : 18 if words starting with t or T occur 18 times. "
   ]
  },
  {
   "cell_type": "code",
   "execution_count": null,
   "metadata": {},
   "outputs": [],
   "source": []
  }
 ],
 "metadata": {
  "kernelspec": {
   "display_name": "Python 3.11.5 64-bit",
   "language": "python",
   "name": "python3"
  },
  "language_info": {
   "codemirror_mode": {
    "name": "ipython",
    "version": 3
   },
   "file_extension": ".py",
   "mimetype": "text/x-python",
   "name": "python",
   "nbconvert_exporter": "python",
   "pygments_lexer": "ipython3",
   "version": "3.11.5"
  },
  "vscode": {
   "interpreter": {
    "hash": "b0fa6594d8f4cbf19f97940f81e996739fb7646882a419484c72d19e05852a7e"
   }
  }
 },
 "nbformat": 4,
 "nbformat_minor": 4
}
