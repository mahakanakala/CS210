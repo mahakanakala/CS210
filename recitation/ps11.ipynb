{
 "cells": [
  {
   "cell_type": "markdown",
   "metadata": {
    "id": "o2PDkcDWDj6p"
   },
   "source": [
    "### <font color=\"brown\">Problem Set 11: Data Exploration</font>"
   ]
  },
  {
   "cell_type": "code",
   "execution_count": 66,
   "metadata": {
    "tags": []
   },
   "outputs": [],
   "source": [
    "import pandas as pd\n",
    "import matplotlib.pyplot as plt"
   ]
  },
  {
   "cell_type": "markdown",
   "metadata": {},
   "source": [
    "---"
   ]
  },
  {
   "cell_type": "markdown",
   "metadata": {},
   "source": [
    "### Problem 1\n",
    "\n",
    "##### In this problem, you will explore a breast cancer dataset, breastCancer.csv"
   ]
  },
  {
   "cell_type": "code",
   "execution_count": 67,
   "metadata": {
    "tags": []
   },
   "outputs": [
    {
     "data": {
      "text/html": [
       "<div>\n",
       "<style scoped>\n",
       "    .dataframe tbody tr th:only-of-type {\n",
       "        vertical-align: middle;\n",
       "    }\n",
       "\n",
       "    .dataframe tbody tr th {\n",
       "        vertical-align: top;\n",
       "    }\n",
       "\n",
       "    .dataframe thead th {\n",
       "        text-align: right;\n",
       "    }\n",
       "</style>\n",
       "<table border=\"1\" class=\"dataframe\">\n",
       "  <thead>\n",
       "    <tr style=\"text-align: right;\">\n",
       "      <th></th>\n",
       "      <th>age</th>\n",
       "      <th>menopause</th>\n",
       "      <th>tumor-size</th>\n",
       "      <th>inv-nodes</th>\n",
       "      <th>node-caps</th>\n",
       "      <th>deg-malig</th>\n",
       "      <th>breast</th>\n",
       "      <th>breast-quad</th>\n",
       "      <th>irradiat</th>\n",
       "      <th>Class</th>\n",
       "    </tr>\n",
       "  </thead>\n",
       "  <tbody>\n",
       "    <tr>\n",
       "      <th>0</th>\n",
       "      <td>40-49</td>\n",
       "      <td>premeno</td>\n",
       "      <td>15-19</td>\n",
       "      <td>0-2</td>\n",
       "      <td>yes</td>\n",
       "      <td>3</td>\n",
       "      <td>right</td>\n",
       "      <td>left_up</td>\n",
       "      <td>no</td>\n",
       "      <td>recurrence-events</td>\n",
       "    </tr>\n",
       "    <tr>\n",
       "      <th>1</th>\n",
       "      <td>50-59</td>\n",
       "      <td>ge40</td>\n",
       "      <td>15-19</td>\n",
       "      <td>0-2</td>\n",
       "      <td>no</td>\n",
       "      <td>1</td>\n",
       "      <td>right</td>\n",
       "      <td>central</td>\n",
       "      <td>no</td>\n",
       "      <td>no-recurrence-events</td>\n",
       "    </tr>\n",
       "    <tr>\n",
       "      <th>2</th>\n",
       "      <td>50-59</td>\n",
       "      <td>ge40</td>\n",
       "      <td>35-39</td>\n",
       "      <td>0-2</td>\n",
       "      <td>no</td>\n",
       "      <td>2</td>\n",
       "      <td>left</td>\n",
       "      <td>left_low</td>\n",
       "      <td>no</td>\n",
       "      <td>recurrence-events</td>\n",
       "    </tr>\n",
       "    <tr>\n",
       "      <th>3</th>\n",
       "      <td>40-49</td>\n",
       "      <td>premeno</td>\n",
       "      <td>35-39</td>\n",
       "      <td>0-2</td>\n",
       "      <td>yes</td>\n",
       "      <td>3</td>\n",
       "      <td>right</td>\n",
       "      <td>left_low</td>\n",
       "      <td>yes</td>\n",
       "      <td>no-recurrence-events</td>\n",
       "    </tr>\n",
       "    <tr>\n",
       "      <th>4</th>\n",
       "      <td>40-49</td>\n",
       "      <td>premeno</td>\n",
       "      <td>30-34</td>\n",
       "      <td>3-5</td>\n",
       "      <td>yes</td>\n",
       "      <td>2</td>\n",
       "      <td>left</td>\n",
       "      <td>right_up</td>\n",
       "      <td>no</td>\n",
       "      <td>recurrence-events</td>\n",
       "    </tr>\n",
       "    <tr>\n",
       "      <th>...</th>\n",
       "      <td>...</td>\n",
       "      <td>...</td>\n",
       "      <td>...</td>\n",
       "      <td>...</td>\n",
       "      <td>...</td>\n",
       "      <td>...</td>\n",
       "      <td>...</td>\n",
       "      <td>...</td>\n",
       "      <td>...</td>\n",
       "      <td>...</td>\n",
       "    </tr>\n",
       "    <tr>\n",
       "      <th>281</th>\n",
       "      <td>50-59</td>\n",
       "      <td>ge40</td>\n",
       "      <td>30-34</td>\n",
       "      <td>6-8</td>\n",
       "      <td>yes</td>\n",
       "      <td>2</td>\n",
       "      <td>left</td>\n",
       "      <td>left_low</td>\n",
       "      <td>no</td>\n",
       "      <td>no-recurrence-events</td>\n",
       "    </tr>\n",
       "    <tr>\n",
       "      <th>282</th>\n",
       "      <td>50-59</td>\n",
       "      <td>premeno</td>\n",
       "      <td>25-29</td>\n",
       "      <td>3-5</td>\n",
       "      <td>yes</td>\n",
       "      <td>2</td>\n",
       "      <td>left</td>\n",
       "      <td>left_low</td>\n",
       "      <td>yes</td>\n",
       "      <td>no-recurrence-events</td>\n",
       "    </tr>\n",
       "    <tr>\n",
       "      <th>283</th>\n",
       "      <td>30-39</td>\n",
       "      <td>premeno</td>\n",
       "      <td>30-34</td>\n",
       "      <td>6-8</td>\n",
       "      <td>yes</td>\n",
       "      <td>2</td>\n",
       "      <td>right</td>\n",
       "      <td>right_up</td>\n",
       "      <td>no</td>\n",
       "      <td>no-recurrence-events</td>\n",
       "    </tr>\n",
       "    <tr>\n",
       "      <th>284</th>\n",
       "      <td>50-59</td>\n",
       "      <td>premeno</td>\n",
       "      <td>15-19</td>\n",
       "      <td>0-2</td>\n",
       "      <td>no</td>\n",
       "      <td>2</td>\n",
       "      <td>right</td>\n",
       "      <td>left_low</td>\n",
       "      <td>no</td>\n",
       "      <td>no-recurrence-events</td>\n",
       "    </tr>\n",
       "    <tr>\n",
       "      <th>285</th>\n",
       "      <td>50-59</td>\n",
       "      <td>ge40</td>\n",
       "      <td>40-44</td>\n",
       "      <td>0-2</td>\n",
       "      <td>no</td>\n",
       "      <td>3</td>\n",
       "      <td>left</td>\n",
       "      <td>right_up</td>\n",
       "      <td>no</td>\n",
       "      <td>no-recurrence-events</td>\n",
       "    </tr>\n",
       "  </tbody>\n",
       "</table>\n",
       "<p>286 rows × 10 columns</p>\n",
       "</div>"
      ],
      "text/plain": [
       "       age menopause tumor-size inv-nodes node-caps  deg-malig breast  \\\n",
       "0    40-49   premeno      15-19       0-2       yes          3  right   \n",
       "1    50-59      ge40      15-19       0-2        no          1  right   \n",
       "2    50-59      ge40      35-39       0-2        no          2   left   \n",
       "3    40-49   premeno      35-39       0-2       yes          3  right   \n",
       "4    40-49   premeno      30-34       3-5       yes          2   left   \n",
       "..     ...       ...        ...       ...       ...        ...    ...   \n",
       "281  50-59      ge40      30-34       6-8       yes          2   left   \n",
       "282  50-59   premeno      25-29       3-5       yes          2   left   \n",
       "283  30-39   premeno      30-34       6-8       yes          2  right   \n",
       "284  50-59   premeno      15-19       0-2        no          2  right   \n",
       "285  50-59      ge40      40-44       0-2        no          3   left   \n",
       "\n",
       "    breast-quad irradiat                 Class  \n",
       "0       left_up       no     recurrence-events  \n",
       "1       central       no  no-recurrence-events  \n",
       "2      left_low       no     recurrence-events  \n",
       "3      left_low      yes  no-recurrence-events  \n",
       "4      right_up       no     recurrence-events  \n",
       "..          ...      ...                   ...  \n",
       "281    left_low       no  no-recurrence-events  \n",
       "282    left_low      yes  no-recurrence-events  \n",
       "283    right_up       no  no-recurrence-events  \n",
       "284    left_low       no  no-recurrence-events  \n",
       "285    right_up       no  no-recurrence-events  \n",
       "\n",
       "[286 rows x 10 columns]"
      ]
     },
     "execution_count": 67,
     "metadata": {},
     "output_type": "execute_result"
    }
   ],
   "source": [
    "data = pd.read_csv(\"./data/breastCancer.csv\")\n",
    "data"
   ]
  },
  {
   "cell_type": "markdown",
   "metadata": {
    "jp-MarkdownHeadingCollapsed": true,
    "tags": []
   },
   "source": [
    "#### <font color=\"brown\">1.1</font>\n",
    "\n",
    "Perform plotting for this task using the inbuilt functions in Pandas.\n",
    "\n",
    "1. Plot a histogram of 'Class' where 'breast-quad' and 'node-caps' are not NaN. \n",
    "2. In the column \"inv-nodes\", replace the class interval values by class mean, e.g., 3-5 becomes 4. Plot  a histogram of 'inv-nodes' divided into 5 bins."
   ]
  },
  {
   "cell_type": "code",
   "execution_count": 68,
   "metadata": {},
   "outputs": [
    {
     "data": {
      "text/plain": [
       "<Axes: >"
      ]
     },
     "execution_count": 68,
     "metadata": {},
     "output_type": "execute_result"
    },
    {
     "data": {
      "image/png": "[encoded data removed]",
      "text/plain": [
       "<Figure size 640x480 with 1 Axes>"
      ]
     },
     "metadata": {},
     "output_type": "display_data"
    }
   ],
   "source": [
    "# 1\n",
    "df1 = data[data['breast-quad'].notna() & data['node-caps'].notna()]\n",
    "df1['Class'].hist()"
   ]
  },
  {
   "cell_type": "code",
   "execution_count": 69,
   "metadata": {},
   "outputs": [
    {
     "data": {
      "text/plain": [
       "0      1.0\n",
       "1      1.0\n",
       "2      1.0\n",
       "3      1.0\n",
       "4      4.0\n",
       "      ... \n",
       "281    7.0\n",
       "282    4.0\n",
       "283    7.0\n",
       "284    1.0\n",
       "285    1.0\n",
       "Name: inv-nodes, Length: 286, dtype: float64"
      ]
     },
     "execution_count": 69,
     "metadata": {},
     "output_type": "execute_result"
    }
   ],
   "source": [
    "# 2\n",
    "def avg_of_ranges(range_str):\n",
    "    lower, upper = map(int, range_str.split('-'))\n",
    "    return (lower+upper)/2\n",
    "data['inv-nodes'] = data['inv-nodes'].apply(avg_of_ranges)\n",
    "data['inv-nodes']\n"
   ]
  },
  {
   "cell_type": "markdown",
   "metadata": {},
   "source": [
    "#### <font color=\"brown\">1.2</font>\n",
    "\n",
    "Drop all null values before starting with these tasks.\n",
    "\n",
    "1. Just like the \"inv-nodes\" column, replace the class interval values by class mean in the \"tumor-size\" column and plot a bar graph of the average tumor size for each \"age\" group.\n",
    "2. For each menopause stage, plot a pie chart for degree of malignancy (deg-malig) values. Use subplots, where each subplot handles a menopause stage.\n",
    "3. Label the recurrence and no-recurrence events as 0 and 1 respectively and plot a histogram to show the frequency of recurrence and no-recurrence events for different \"breast-quad\" values. Use subplots for the different breast-quad values."
   ]
  },
  {
   "cell_type": "code",
   "execution_count": 70,
   "metadata": {},
   "outputs": [
    {
     "name": "stdout",
     "output_type": "stream",
     "text": [
      "age            0\n",
      "menopause      0\n",
      "tumor-size     0\n",
      "inv-nodes      0\n",
      "node-caps      0\n",
      "deg-malig      0\n",
      "breast         0\n",
      "breast-quad    0\n",
      "irradiat       0\n",
      "Class          0\n",
      "dtype: int64\n"
     ]
    }
   ],
   "source": [
    "# Drop all null values\n",
    "data = data.dropna()\n",
    "\n",
    "na_count = data.isna().sum()\n",
    "print(na_count)"
   ]
  },
  {
   "cell_type": "code",
   "execution_count": null,
   "metadata": {},
   "outputs": [],
   "source": [
    "# 1\n",
    "data2 = data.copy()\n",
    "data2['tumor-size'] = data['tumor-size'].apply(avg_of_ranges)\n",
    "data2['tumor-size']\n",
    "\n",
    "data2['age'] = pd.to_numeric(data2['age'], errors='coerce')\n",
    "data2['tumor-size'] = pd.to_numeric(data2['tumor-size'], errors='coerce')\n",
    "\n",
    "axis = data2.plot(x='age',y='tumor-size',kind='bar', title='Avergae Tumor Size per age group',figsize=(4,4))"
   ]
  },
  {
   "cell_type": "code",
   "execution_count": 76,
   "metadata": {},
   "outputs": [
    {
     "data": {
      "text/plain": [
       "<Axes: ylabel='deg-malig'>"
      ]
     },
     "execution_count": 76,
     "metadata": {},
     "output_type": "execute_result"
    },
    {
     "data": {
      "image/png": "[encoded data removed]",
      "text/plain": [
       "<Figure size 640x480 with 1 Axes>"
      ]
     },
     "metadata": {},
     "output_type": "display_data"
    }
   ],
   "source": [
    "# 2\n",
    "data.groupby(['menopause']).sum().plot( \n",
    "    kind='pie', y='deg-malig', autopct='%1.0f%%') "
   ]
  },
  {
   "cell_type": "code",
   "execution_count": null,
   "metadata": {},
   "outputs": [],
   "source": [
    "# 3\n"
   ]
  },
  {
   "cell_type": "markdown",
   "metadata": {},
   "source": [
    "---"
   ]
  },
  {
   "cell_type": "markdown",
   "metadata": {
    "id": "abaCEA5QsJz5"
   },
   "source": [
    "### Problem 2\n",
    "\n",
    "The following list shows the sales of items per month in a particular year. The months are labelled from 1 to 12. The total units per month are sum of all the units of items per months. "
   ]
  },
  {
   "cell_type": "code",
   "execution_count": null,
   "metadata": {
    "id": "DFcOUvVXundn",
    "tags": []
   },
   "outputs": [],
   "source": [
    "facecream_sales = [2500, 2630, 2140, 3400, 3600, 2760, 2980, 3700, 3540, 1990, 2340, 2900]\n",
    "shampoo_sales = [1200, 2100, 3550, 1870, 1560, 1890, 1780, 2860, 2100, 2300, 2400, 1800]\n",
    "toothpaste_sales = [5200, 5100, 4550, 5870, 4560, 4890, 4780, 5860, 6100, 8300, 7300, 7400]\n",
    "facewash_sales = [1500, 1200, 1340, 1130, 1740, 1555, 1120, 1400, 1780, 1890, 2100, 1760]"
   ]
  },
  {
   "cell_type": "markdown",
   "metadata": {
    "id": "abaCEA5QsJz5"
   },
   "source": [
    "The profit distribution (multipler of sales numbers) is as follows: \n",
    "\n",
    "* facecream = 5 \n",
    "* shampoo = 3\n",
    "* toothpaste = 10\n",
    "\n",
    "The total profit (per month) is calculated as the individual profit amount times the number of units per month.\n",
    "\n",
    "\n",
    "1. Display the toothpaste sales data of each month and show it using a scatter plot. Also, add a grid in the plot. gridline style should be “–“.\n",
    "\n",
    "2. Plot comparative monthly facecream and shampoo product sales data in a bar chart. \n",
    "\n",
    "3. Plot toothpaste and facewash sales data for each month in separate line plots in a vertically stacked grid.\n",
    "\n",
    "4. Plot the total annual sales for all the products in a pie chart. In each slice of the pie, display the percentage sale of that product relative to the total sales of all products.\n",
    "\n",
    "5. Plot a histogram for the total monthly profites of all products. Use 5 bins, and set the histogram ranges accordingly.\n"
   ]
  },
  {
   "cell_type": "code",
   "execution_count": null,
   "metadata": {},
   "outputs": [],
   "source": []
  },
  {
   "cell_type": "markdown",
   "metadata": {},
   "source": [
    "---"
   ]
  },
  {
   "cell_type": "markdown",
   "metadata": {
    "id": "T6fjs6y65Xai"
   },
   "source": [
    "#### Problem 3\n",
    "\n",
    "Here is the relative popularity figures for some programming languages:\n",
    "\n",
    "<pre>\n",
    "Programming languages: Java, Python, PHP, JavaScript, C#, C++ \n",
    "Popularity: 22.2, 17.6, 8.8, 8, 7.7, 6.7\n",
    "</pre>\n",
    "\n",
    "Plot a bar chart of these popularities. Attach a text label above each bar displaying its popularity."
   ]
  },
  {
   "cell_type": "code",
   "execution_count": 80,
   "metadata": {},
   "outputs": [
    {
     "data": {
      "text/html": [
       "<div>\n",
       "<style scoped>\n",
       "    .dataframe tbody tr th:only-of-type {\n",
       "        vertical-align: middle;\n",
       "    }\n",
       "\n",
       "    .dataframe tbody tr th {\n",
       "        vertical-align: top;\n",
       "    }\n",
       "\n",
       "    .dataframe thead th {\n",
       "        text-align: right;\n",
       "    }\n",
       "</style>\n",
       "<table border=\"1\" class=\"dataframe\">\n",
       "  <thead>\n",
       "    <tr style=\"text-align: right;\">\n",
       "      <th></th>\n",
       "      <th>Programming languages</th>\n",
       "      <th>Popularity</th>\n",
       "    </tr>\n",
       "  </thead>\n",
       "  <tbody>\n",
       "    <tr>\n",
       "      <th>0</th>\n",
       "      <td>Java</td>\n",
       "      <td>22.2</td>\n",
       "    </tr>\n",
       "    <tr>\n",
       "      <th>1</th>\n",
       "      <td>Python</td>\n",
       "      <td>17.6</td>\n",
       "    </tr>\n",
       "    <tr>\n",
       "      <th>2</th>\n",
       "      <td>PHP</td>\n",
       "      <td>8.8</td>\n",
       "    </tr>\n",
       "    <tr>\n",
       "      <th>3</th>\n",
       "      <td>JavaScript</td>\n",
       "      <td>8.0</td>\n",
       "    </tr>\n",
       "    <tr>\n",
       "      <th>4</th>\n",
       "      <td>C#</td>\n",
       "      <td>7.7</td>\n",
       "    </tr>\n",
       "    <tr>\n",
       "      <th>5</th>\n",
       "      <td>C++</td>\n",
       "      <td>6.7</td>\n",
       "    </tr>\n",
       "  </tbody>\n",
       "</table>\n",
       "</div>"
      ],
      "text/plain": [
       "  Programming languages  Popularity\n",
       "0                  Java        22.2\n",
       "1                Python        17.6\n",
       "2                   PHP         8.8\n",
       "3            JavaScript         8.0\n",
       "4                    C#         7.7\n",
       "5                   C++         6.7"
      ]
     },
     "execution_count": 80,
     "metadata": {},
     "output_type": "execute_result"
    }
   ],
   "source": [
    "from pandas import DataFrame\n",
    "\n",
    "df3 = {'Programming languages': ['Java','Python','PHP','JavaScript','C#','C++'], 'Popularity': [22.2,17.6,8.8,8,7.7,6.7]}\n",
    "df3 = DataFrame(df3)\n",
    "df3"
   ]
  },
  {
   "cell_type": "code",
   "execution_count": null,
   "metadata": {},
   "outputs": [],
   "source": []
  }
 ],
 "metadata": {
  "kernelspec": {
   "display_name": "Python 3 (ipykernel)",
   "language": "python",
   "name": "python3"
  },
  "language_info": {
   "codemirror_mode": {
    "name": "ipython",
    "version": 3
   },
   "file_extension": ".py",
   "mimetype": "text/x-python",
   "name": "python",
   "nbconvert_exporter": "python",
   "pygments_lexer": "ipython3",
   "version": "3.11.7"
  }
 },
 "nbformat": 4,
 "nbformat_minor": 4
}
