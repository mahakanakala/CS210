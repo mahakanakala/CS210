{
 "cells": [
  {
   "cell_type": "markdown",
   "metadata": {},
   "source": [
    "### <font color='brown'>Problem Set 5: Regular Expressions</brown>"
   ]
  },
  {
   "cell_type": "markdown",
   "metadata": {},
   "source": [
    "**Square Brackets []:** Square brackets are used to create character classes. They specify a set of characters from which the regex engine can match any single character. For example:\n",
    "\n",
    "- [abc]: Matches either 'a', 'b', or 'c'.\n",
    "- [a-z]: Matches any lowercase letter from 'a' to 'z'.\n",
    "- [0-9]: Matches any digit from '0' to '9'.\n",
    "- [^abc]: Matches any character except 'a', 'b', or 'c'.\n",
    "- [a-zA-Z0-9]: Matches any alphanumeric character.\n",
    "- [aeiou]: Matches any vowel.\n",
    "\n",
    "\n",
    "**Parentheses ():** Parentheses are used to create capturing groups or to specify the scope of alternation (the | symbol).\n",
    "\n",
    "- (abc): Capturing group, captures and remembers 'abc' for later reference.\n",
    "- (abc|def): Alternation, matches either 'abc' or 'def'.\n",
    "- (?:abc): Non-capturing group, groups the pattern without capturing it.\n",
    "- (ab)+: Capturing group with quantifier, matches 'ab' one or more times.\n",
    "- (?=abc): Positive lookahead, matches if 'abc' is ahead in the string.\n",
    "- (?!abc): Negative lookahead, matches if 'abc' is not ahead in the string.\n",
    "\n",
    "\n",
    "**Neither:** You don't always need to use brackets or parentheses in a regular expression. For example:\n",
    "- abc: Matches the sequence 'abc' exactly.\n",
    "- a|b: Alternation, matches either 'a' or 'b'.\n",
    "- \\d: Matches any digit, equivalent to [0-9].\n",
    "- \\w: Matches any word character, equivalent to [a-zA-Z0-9_].\n",
    "- \\s: Matches any whitespace character."
   ]
  },
  {
   "cell_type": "code",
   "execution_count": 2,
   "metadata": {
    "tags": []
   },
   "outputs": [],
   "source": [
    "import re"
   ]
  },
  {
   "cell_type": "markdown",
   "metadata": {},
   "source": [
    "---"
   ]
  },
  {
   "cell_type": "markdown",
   "metadata": {},
   "source": [
    "#### Problem 1\n",
    "\n",
    "Write regular expressions for the following patterns, each of which will be used with the re.search() function on some target string:\n",
    "1. A sequence for currency in dollars (> 0 and \\< 1 million, no leading zeros) with at least one space before and after. The actual number will be preceded by a dollar sign, e.g. \"$25\".\n",
    "2. A sequence for currency in dollars (> 0 and \\< 1 million, no leading zeros) and cents, with at least one space before and after, e.g. \"12.25\". Cents must have 2 decimal places and 0 cents must be written as \"00\".\n",
    "3. Modify the pattern for the sequence above to extract and print the dollars and cents values\n",
    "4. A word (lowercase letters only) that starts and ends with the same letter\n",
    "5. A sequence that allows for (1) or (2), i.e. dollars with or without cents\n",
    "6. A string that starts with letter, followed by at least one character that is not one of '.' (period) ',' (comma) or ';' (semicolon) and ending with any character that is not a digit."
   ]
  },
  {
   "cell_type": "code",
   "execution_count": 8,
   "metadata": {},
   "outputs": [
    {
     "name": "stdout",
     "output_type": "stream",
     "text": [
      "<re.Match object; span=(0, 6), match=' $100 '>\n",
      "None\n",
      "<re.Match object; span=(0, 9), match=' $100000 '>\n"
     ]
    }
   ],
   "source": [
    "# 0 to 1,000,000\n",
    "pattern = '^\\s\\$\\d{1,6}\\s'\n",
    "res = re.search(pattern, ' $100 ')\n",
    "print(res)\n",
    "res = re.search(pattern, ' $431')\n",
    "print(res)\n",
    "res = re.search(pattern, ' $100000 ')\n",
    "print(res)"
   ]
  },
  {
   "cell_type": "code",
   "execution_count": 10,
   "metadata": {},
   "outputs": [
    {
     "name": "stdout",
     "output_type": "stream",
     "text": [
      "<re.Match object; span=(0, 9), match=' $100.00 '>\n",
      "<re.Match object; span=(0, 9), match=' $100.69 '>\n"
     ]
    }
   ],
   "source": [
    "# A sequence for currency in dollars (> 0 and \\< 1 million, no leading zeros) and cents, with at least one space before and after, e.g. \"12.25\". Cents must have 2 decimal places and 0 cents must be written as \"00\".\n",
    "\n",
    "pattern_2 = '^\\s\\$\\d{1,6}\\.\\d\\d\\s'\n",
    "\n",
    "res = re.search(pattern_2, ' $100.00 ')\n",
    "print(res)\n",
    "\n",
    "res = re.search(pattern_2, ' $100.69 ')\n",
    "print(res)"
   ]
  },
  {
   "cell_type": "code",
   "execution_count": 11,
   "metadata": {},
   "outputs": [
    {
     "name": "stdout",
     "output_type": "stream",
     "text": [
      "Dollars: 100\n",
      "Cents: 69\n"
     ]
    }
   ],
   "source": [
    "#  Modify the pattern for the sequence above to extract and print the dollars and cents values\n",
    "\n",
    "pattern_3 = '^\\s\\$(\\d{1,6})\\.(\\d\\d)\\s'\n",
    "res = re.search(pattern_3, ' $100.69 ')\n",
    "\n",
    "if res:\n",
    "    inp = res.group(0)\n",
    "    dollars = res.group(1)\n",
    "    cents = res.group(2)\n",
    "    print('Dollars: ' + dollars)\n",
    "    print('Cents: ' + cents)\n",
    "else:\n",
    "    print('Match not found')"
   ]
  },
  {
   "cell_type": "code",
   "execution_count": 12,
   "metadata": {},
   "outputs": [
    {
     "name": "stdout",
     "output_type": "stream",
     "text": [
      "<re.Match object; span=(0, 4), match='roar'>\n"
     ]
    }
   ],
   "source": [
    "# A word (lowercase letters only) that starts and ends with the same letter\n",
    "# Use backreference to match the same letter at the beginning and the end\n",
    "pattern_4 = r'([a-z]).*\\1'\n",
    "\n",
    "res = re.search(pattern_4, 'roar')\n",
    "print(res)"
   ]
  },
  {
   "cell_type": "code",
   "execution_count": null,
   "metadata": {},
   "outputs": [],
   "source": [
    "# A sequence that allows for (1) or (2), i.e. dollars with or without cents\n",
    "\n",
    "pattern_5 = r''"
   ]
  },
  {
   "cell_type": "code",
   "execution_count": 14,
   "metadata": {},
   "outputs": [
    {
     "name": "stdout",
     "output_type": "stream",
     "text": [
      "<re.Match object; span=(0, 3), match='aaa'>\n"
     ]
    }
   ],
   "source": [
    "# A string that starts with letter, followed by at least one character that is not one of '.' (period) ',' (comma) or ';' (semicolon) and ending with any character that is not a digit.\n",
    "\n",
    "# + at least one character\n",
    "pattern_6 = r'^[a-zA-Z][^.,;]+[^0-9]'\n",
    "\n",
    "res = re.search(pattern_6, 'aaa')\n",
    "print(res)"
   ]
  },
  {
   "cell_type": "markdown",
   "metadata": {},
   "source": [
    "---"
   ]
  },
  {
   "cell_type": "markdown",
   "metadata": {
    "id": "0NVqJNywEsSr"
   },
   "source": [
    "#### Problem 2\n",
    "\n",
    "Write a function that takes a sentence as an input string parameter. The function should print True if the sentence starts with \"The\", contains \"mountains\" and ends with \"river.\", otherwise it should print False. <br/>Also, if the pattern matches, the function should split the sentence into two parts (using the regular expression split function), one each on either side of the word \"mountains\", and print the parts. "
   ]
  },
  {
   "cell_type": "code",
   "execution_count": 24,
   "metadata": {},
   "outputs": [
    {
     "name": "stdout",
     "output_type": "stream",
     "text": [
      "False\n"
     ]
    }
   ],
   "source": [
    "def prob_2(string):\n",
    "    pattern = r'^The.*mountains.*river\\.$'\n",
    "    res = re.search(pattern, string)\n",
    "    \n",
    "    if res:\n",
    "        parts = re.split(r'\\bmountains\\b', string)\n",
    "        print(parts)\n",
    "        print(\"True\")\n",
    "    else:\n",
    "        print(\"False\")\n",
    "\n",
    "prob_2('The mountains and the river')"
   ]
  },
  {
   "cell_type": "markdown",
   "metadata": {},
   "source": [
    "---"
   ]
  },
  {
   "cell_type": "markdown",
   "metadata": {},
   "source": [
    "#### Problem 3\n",
    "\n",
    "You are given a file named [ps4-5_in.txt](ps4-5_in.txt) with multiple records, each on a separate line. Each record has person name, profession, and school name, separated by a comma. You are required to extract only those records for which person name starts with 'a' and profession is student, and write the extracted records to a new output file called *ps5-3_out.txt*. You must use regular expressions to do the extraction for each record.\n",
    "\n",
    "Note: 'student scholar' is a different profession than 'student'\n"
   ]
  },
  {
   "cell_type": "code",
   "execution_count": 34,
   "metadata": {},
   "outputs": [
    {
     "ename": "FileNotFoundError",
     "evalue": "[Errno 2] No such file or directory: './scripts/ps4-5_in.txt'",
     "output_type": "error",
     "traceback": [
      "\u001b[0;31m---------------------------------------------------------------------------\u001b[0m",
      "\u001b[0;31mFileNotFoundError\u001b[0m                         Traceback (most recent call last)",
      "Cell \u001b[0;32mIn[34], line 13\u001b[0m\n\u001b[1;32m     10\u001b[0m             outf\u001b[39m.\u001b[39mwrite(line)\n\u001b[1;32m     11\u001b[0m     outf\u001b[39m.\u001b[39mclose()\n\u001b[0;32m---> 13\u001b[0m process_records()\n",
      "Cell \u001b[0;32mIn[34], line 4\u001b[0m, in \u001b[0;36mprocess_records\u001b[0;34m()\u001b[0m\n\u001b[1;32m      1\u001b[0m \u001b[39mdef\u001b[39;00m \u001b[39mprocess_records\u001b[39m():\n\u001b[1;32m      2\u001b[0m     outf \u001b[39m=\u001b[39m \u001b[39mopen\u001b[39m(\u001b[39m\"\u001b[39m\u001b[39m./scripts/ps4-5_out.txt\u001b[39m\u001b[39m\"\u001b[39m, \u001b[39m\"\u001b[39m\u001b[39mw\u001b[39m\u001b[39m\"\u001b[39m)\n\u001b[0;32m----> 4\u001b[0m     \u001b[39mfor\u001b[39;00m line \u001b[39min\u001b[39;00m \u001b[39mopen\u001b[39;49m(\u001b[39m\"\u001b[39;49m\u001b[39m./scripts/ps4-5_in.txt\u001b[39;49m\u001b[39m\"\u001b[39;49m):\n\u001b[1;32m      5\u001b[0m         parts \u001b[39m=\u001b[39m line\u001b[39m.\u001b[39msplit(\u001b[39m\"\u001b[39m\u001b[39m,\u001b[39m\u001b[39m\"\u001b[39m)\n\u001b[1;32m      6\u001b[0m         name \u001b[39m=\u001b[39m parts[\u001b[39m0\u001b[39m]\n",
      "File \u001b[0;32m~/Library/Python/3.11/lib/python/site-packages/IPython/core/interactiveshell.py:286\u001b[0m, in \u001b[0;36m_modified_open\u001b[0;34m(file, *args, **kwargs)\u001b[0m\n\u001b[1;32m    279\u001b[0m \u001b[39mif\u001b[39;00m file \u001b[39min\u001b[39;00m {\u001b[39m0\u001b[39m, \u001b[39m1\u001b[39m, \u001b[39m2\u001b[39m}:\n\u001b[1;32m    280\u001b[0m     \u001b[39mraise\u001b[39;00m \u001b[39mValueError\u001b[39;00m(\n\u001b[1;32m    281\u001b[0m         \u001b[39mf\u001b[39m\u001b[39m\"\u001b[39m\u001b[39mIPython won\u001b[39m\u001b[39m'\u001b[39m\u001b[39mt let you open fd=\u001b[39m\u001b[39m{\u001b[39;00mfile\u001b[39m}\u001b[39;00m\u001b[39m by default \u001b[39m\u001b[39m\"\u001b[39m\n\u001b[1;32m    282\u001b[0m         \u001b[39m\"\u001b[39m\u001b[39mas it is likely to crash IPython. If you know what you are doing, \u001b[39m\u001b[39m\"\u001b[39m\n\u001b[1;32m    283\u001b[0m         \u001b[39m\"\u001b[39m\u001b[39myou can use builtins\u001b[39m\u001b[39m'\u001b[39m\u001b[39m open.\u001b[39m\u001b[39m\"\u001b[39m\n\u001b[1;32m    284\u001b[0m     )\n\u001b[0;32m--> 286\u001b[0m \u001b[39mreturn\u001b[39;00m io_open(file, \u001b[39m*\u001b[39;49margs, \u001b[39m*\u001b[39;49m\u001b[39m*\u001b[39;49mkwargs)\n",
      "\u001b[0;31mFileNotFoundError\u001b[0m: [Errno 2] No such file or directory: './scripts/ps4-5_in.txt'"
     ]
    }
   ],
   "source": [
    "def process_records():\n",
    "    outf = open(\"./scripts/ps4-5_out.txt\", \"w\")\n",
    "    \n",
    "    for line in open(\"./scripts/ps4-5_in.txt\"):\n",
    "        parts = line.split(\",\")\n",
    "        name = parts[0]\n",
    "        profession = parts[1]\n",
    "        \n",
    "        if re.match('a', name.strip()) and re.match('student$', profession.strip()):\n",
    "            outf.write(line)\n",
    "    outf.close()\n",
    "    \n",
    "process_records()"
   ]
  },
  {
   "cell_type": "markdown",
   "metadata": {},
   "source": [
    "---"
   ]
  },
  {
   "cell_type": "markdown",
   "metadata": {
    "id": "TsYs_po9EsSs",
    "tags": []
   },
   "source": [
    "#### Problem 4\n",
    "\n",
    "In this problem, you will implement a user signup functionality with the following requirements: <br/>\n",
    "<ol>\n",
    "    <li>A username starting with either a lowercase letter or an underscore.</li>\n",
    "    <li>A password at least 6 characters long, containing at least one uppercase character.</li> \n",
    "    <li>An email address starting with a letter, and containing exactly one '@' immediately followed by a letter. Feel free to try more realistic requirements as well.</li>\n",
    "You must ask the user to input the details one by one until each one of them abides by the constraints (while loop!)."
   ]
  },
  {
   "cell_type": "code",
   "execution_count": 37,
   "metadata": {},
   "outputs": [
    {
     "ename": "error",
     "evalue": "nothing to repeat at position 0",
     "output_type": "error",
     "traceback": [
      "\u001b[0;31m---------------------------------------------------------------------------\u001b[0m",
      "\u001b[0;31merror\u001b[0m                                     Traceback (most recent call last)",
      "Cell \u001b[0;32mIn[37], line 18\u001b[0m\n\u001b[1;32m     15\u001b[0m         \u001b[39mprint\u001b[39m(pass_res)\n\u001b[1;32m     16\u001b[0m         \u001b[39mprint\u001b[39m(email_res)\n\u001b[0;32m---> 18\u001b[0m user_signup()\n",
      "Cell \u001b[0;32mIn[37], line 12\u001b[0m, in \u001b[0;36muser_signup\u001b[0;34m()\u001b[0m\n\u001b[1;32m     10\u001b[0m user_res \u001b[39m=\u001b[39m re\u001b[39m.\u001b[39msearch(user_pattern, username)\n\u001b[1;32m     11\u001b[0m email_res \u001b[39m=\u001b[39m re\u001b[39m.\u001b[39msearch(email_pattern, email)\n\u001b[0;32m---> 12\u001b[0m pass_res \u001b[39m=\u001b[39m re\u001b[39m.\u001b[39;49msearch(pass_pattern, password)\n\u001b[1;32m     14\u001b[0m \u001b[39mprint\u001b[39m(user_res)\n\u001b[1;32m     15\u001b[0m \u001b[39mprint\u001b[39m(pass_res)\n",
      "File \u001b[0;32m/opt/homebrew/Cellar/python@3.11/3.11.5/Frameworks/Python.framework/Versions/3.11/lib/python3.11/re/__init__.py:176\u001b[0m, in \u001b[0;36msearch\u001b[0;34m(pattern, string, flags)\u001b[0m\n\u001b[1;32m    173\u001b[0m \u001b[39mdef\u001b[39;00m \u001b[39msearch\u001b[39m(pattern, string, flags\u001b[39m=\u001b[39m\u001b[39m0\u001b[39m):\n\u001b[1;32m    174\u001b[0m \u001b[39m    \u001b[39m\u001b[39m\"\"\"Scan through string looking for a match to the pattern, returning\u001b[39;00m\n\u001b[1;32m    175\u001b[0m \u001b[39m    a Match object, or None if no match was found.\"\"\"\u001b[39;00m\n\u001b[0;32m--> 176\u001b[0m     \u001b[39mreturn\u001b[39;00m _compile(pattern, flags)\u001b[39m.\u001b[39msearch(string)\n",
      "File \u001b[0;32m/opt/homebrew/Cellar/python@3.11/3.11.5/Frameworks/Python.framework/Versions/3.11/lib/python3.11/re/__init__.py:294\u001b[0m, in \u001b[0;36m_compile\u001b[0;34m(pattern, flags)\u001b[0m\n\u001b[1;32m    288\u001b[0m     \u001b[39mimport\u001b[39;00m \u001b[39mwarnings\u001b[39;00m\n\u001b[1;32m    289\u001b[0m     warnings\u001b[39m.\u001b[39mwarn(\u001b[39m\"\u001b[39m\u001b[39mThe re.TEMPLATE/re.T flag is deprecated \u001b[39m\u001b[39m\"\u001b[39m\n\u001b[1;32m    290\u001b[0m               \u001b[39m\"\u001b[39m\u001b[39mas it is an undocumented flag \u001b[39m\u001b[39m\"\u001b[39m\n\u001b[1;32m    291\u001b[0m               \u001b[39m\"\u001b[39m\u001b[39mwithout an obvious purpose. \u001b[39m\u001b[39m\"\u001b[39m\n\u001b[1;32m    292\u001b[0m               \u001b[39m\"\u001b[39m\u001b[39mDon\u001b[39m\u001b[39m'\u001b[39m\u001b[39mt use it.\u001b[39m\u001b[39m\"\u001b[39m,\n\u001b[1;32m    293\u001b[0m               \u001b[39mDeprecationWarning\u001b[39;00m)\n\u001b[0;32m--> 294\u001b[0m p \u001b[39m=\u001b[39m _compiler\u001b[39m.\u001b[39;49mcompile(pattern, flags)\n\u001b[1;32m    295\u001b[0m \u001b[39mif\u001b[39;00m \u001b[39mnot\u001b[39;00m (flags \u001b[39m&\u001b[39m DEBUG):\n\u001b[1;32m    296\u001b[0m     \u001b[39mif\u001b[39;00m \u001b[39mlen\u001b[39m(_cache) \u001b[39m>\u001b[39m\u001b[39m=\u001b[39m _MAXCACHE:\n\u001b[1;32m    297\u001b[0m         \u001b[39m# Drop the oldest item\u001b[39;00m\n",
      "File \u001b[0;32m/opt/homebrew/Cellar/python@3.11/3.11.5/Frameworks/Python.framework/Versions/3.11/lib/python3.11/re/_compiler.py:743\u001b[0m, in \u001b[0;36mcompile\u001b[0;34m(p, flags)\u001b[0m\n\u001b[1;32m    741\u001b[0m \u001b[39mif\u001b[39;00m isstring(p):\n\u001b[1;32m    742\u001b[0m     pattern \u001b[39m=\u001b[39m p\n\u001b[0;32m--> 743\u001b[0m     p \u001b[39m=\u001b[39m _parser\u001b[39m.\u001b[39;49mparse(p, flags)\n\u001b[1;32m    744\u001b[0m \u001b[39melse\u001b[39;00m:\n\u001b[1;32m    745\u001b[0m     pattern \u001b[39m=\u001b[39m \u001b[39mNone\u001b[39;00m\n",
      "File \u001b[0;32m/opt/homebrew/Cellar/python@3.11/3.11.5/Frameworks/Python.framework/Versions/3.11/lib/python3.11/re/_parser.py:982\u001b[0m, in \u001b[0;36mparse\u001b[0;34m(str, flags, state)\u001b[0m\n\u001b[1;32m    979\u001b[0m state\u001b[39m.\u001b[39mflags \u001b[39m=\u001b[39m flags\n\u001b[1;32m    980\u001b[0m state\u001b[39m.\u001b[39mstr \u001b[39m=\u001b[39m \u001b[39mstr\u001b[39m\n\u001b[0;32m--> 982\u001b[0m p \u001b[39m=\u001b[39m _parse_sub(source, state, flags \u001b[39m&\u001b[39;49m SRE_FLAG_VERBOSE, \u001b[39m0\u001b[39;49m)\n\u001b[1;32m    983\u001b[0m p\u001b[39m.\u001b[39mstate\u001b[39m.\u001b[39mflags \u001b[39m=\u001b[39m fix_flags(\u001b[39mstr\u001b[39m, p\u001b[39m.\u001b[39mstate\u001b[39m.\u001b[39mflags)\n\u001b[1;32m    985\u001b[0m \u001b[39mif\u001b[39;00m source\u001b[39m.\u001b[39mnext \u001b[39mis\u001b[39;00m \u001b[39mnot\u001b[39;00m \u001b[39mNone\u001b[39;00m:\n",
      "File \u001b[0;32m/opt/homebrew/Cellar/python@3.11/3.11.5/Frameworks/Python.framework/Versions/3.11/lib/python3.11/re/_parser.py:457\u001b[0m, in \u001b[0;36m_parse_sub\u001b[0;34m(source, state, verbose, nested)\u001b[0m\n\u001b[1;32m    455\u001b[0m start \u001b[39m=\u001b[39m source\u001b[39m.\u001b[39mtell()\n\u001b[1;32m    456\u001b[0m \u001b[39mwhile\u001b[39;00m \u001b[39mTrue\u001b[39;00m:\n\u001b[0;32m--> 457\u001b[0m     itemsappend(_parse(source, state, verbose, nested \u001b[39m+\u001b[39;49m \u001b[39m1\u001b[39;49m,\n\u001b[1;32m    458\u001b[0m                        \u001b[39mnot\u001b[39;49;00m nested \u001b[39mand\u001b[39;49;00m \u001b[39mnot\u001b[39;49;00m items))\n\u001b[1;32m    459\u001b[0m     \u001b[39mif\u001b[39;00m \u001b[39mnot\u001b[39;00m sourcematch(\u001b[39m\"\u001b[39m\u001b[39m|\u001b[39m\u001b[39m\"\u001b[39m):\n\u001b[1;32m    460\u001b[0m         \u001b[39mbreak\u001b[39;00m\n",
      "File \u001b[0;32m/opt/homebrew/Cellar/python@3.11/3.11.5/Frameworks/Python.framework/Versions/3.11/lib/python3.11/re/_parser.py:684\u001b[0m, in \u001b[0;36m_parse\u001b[0;34m(source, state, verbose, nested, first)\u001b[0m\n\u001b[1;32m    682\u001b[0m     item \u001b[39m=\u001b[39m \u001b[39mNone\u001b[39;00m\n\u001b[1;32m    683\u001b[0m \u001b[39mif\u001b[39;00m \u001b[39mnot\u001b[39;00m item \u001b[39mor\u001b[39;00m item[\u001b[39m0\u001b[39m][\u001b[39m0\u001b[39m] \u001b[39mis\u001b[39;00m AT:\n\u001b[0;32m--> 684\u001b[0m     \u001b[39mraise\u001b[39;00m source\u001b[39m.\u001b[39merror(\u001b[39m\"\u001b[39m\u001b[39mnothing to repeat\u001b[39m\u001b[39m\"\u001b[39m,\n\u001b[1;32m    685\u001b[0m                        source\u001b[39m.\u001b[39mtell() \u001b[39m-\u001b[39m here \u001b[39m+\u001b[39m \u001b[39mlen\u001b[39m(this))\n\u001b[1;32m    686\u001b[0m \u001b[39mif\u001b[39;00m item[\u001b[39m0\u001b[39m][\u001b[39m0\u001b[39m] \u001b[39min\u001b[39;00m _REPEATCODES:\n\u001b[1;32m    687\u001b[0m     \u001b[39mraise\u001b[39;00m source\u001b[39m.\u001b[39merror(\u001b[39m\"\u001b[39m\u001b[39mmultiple repeat\u001b[39m\u001b[39m\"\u001b[39m,\n\u001b[1;32m    688\u001b[0m                        source\u001b[39m.\u001b[39mtell() \u001b[39m-\u001b[39m here \u001b[39m+\u001b[39m \u001b[39mlen\u001b[39m(this))\n",
      "\u001b[0;31merror\u001b[0m: nothing to repeat at position 0"
     ]
    }
   ],
   "source": [
    "def user_signup():\n",
    "    email = input(\"Email Address: \")\n",
    "    username = input(\"Username\")\n",
    "    password = input(\"Password: \")\n",
    "\n",
    "    user_pattern = r'^([a-z]|_)'\n",
    "    user_res = re.search(user_pattern, username)\n",
    "    \n",
    "    # while user_res doesn't throw an error\n",
    "    email_res = re.search(email_pattern, email)\n",
    "    email_pattern = r'^[A_Za-z]@{1}\\.com$'\n",
    "    \n",
    "    \n",
    "    pass_pattern = r'+[A-Z]{6,}'\n",
    "\n",
    "    \n",
    "    pass_res = re.search(pass_pattern, password)\n",
    "    \n",
    "    print(user_res)\n",
    "    print(pass_res)\n",
    "    print(email_res)\n",
    "\n",
    "user_signup()"
   ]
  },
  {
   "cell_type": "markdown",
   "metadata": {},
   "source": [
    "---"
   ]
  },
  {
   "cell_type": "markdown",
   "metadata": {
    "id": "SAmDYtVKsgF8"
   },
   "source": [
    "#### Problem 5\n",
    "\n",
    "In this problem, you will write a function to validate IP addresses. You will check and print if the IP address passed to your function is a valid IPv4 or IPv6 address. If it is not a valid IP address, print \"Invalid IP address\". <br/>\n",
    "Read more about IPv4 and IPv6 addresses <a href = \"https://www.ibm.com/support/knowledgecenter/en/STCMML8/com.ibm.storage.ts3500.doc/opg_3584_IPv4_IPv6_addresses.html\">here</a>.\n"
   ]
  },
  {
   "cell_type": "code",
   "execution_count": null,
   "metadata": {},
   "outputs": [],
   "source": [
    "def valid_IP():\n",
    "    addre = input(\"Enter IP address to validate: \")\n",
    "    \n",
    "    pattern= ''"
   ]
  }
 ],
 "metadata": {
  "kernelspec": {
   "display_name": "Python 3.11.5 64-bit",
   "language": "python",
   "name": "python3"
  },
  "language_info": {
   "codemirror_mode": {
    "name": "ipython",
    "version": 3
   },
   "file_extension": ".py",
   "mimetype": "text/x-python",
   "name": "python",
   "nbconvert_exporter": "python",
   "pygments_lexer": "ipython3",
   "version": "3.11.5"
  },
  "vscode": {
   "interpreter": {
    "hash": "b0fa6594d8f4cbf19f97940f81e996739fb7646882a419484c72d19e05852a7e"
   }
  }
 },
 "nbformat": 4,
 "nbformat_minor": 4
}
