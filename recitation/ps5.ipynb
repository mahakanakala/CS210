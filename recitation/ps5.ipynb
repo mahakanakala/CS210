{
 "cells": [
  {
   "cell_type": "markdown",
   "metadata": {},
   "source": [
    "### <font color='brown'>Problem Set 5: Regular Expressions</brown>"
   ]
  },
  {
   "cell_type": "markdown",
   "metadata": {},
   "source": [
    "**Square Brackets []:** Square brackets are used to create character classes. They specify a set of characters from which the regex engine can match any single character. For example:\n",
    "\n",
    "- [abc]: Matches either 'a', 'b', or 'c'.\n",
    "- [a-z]: Matches any lowercase letter from 'a' to 'z'.\n",
    "- [0-9]: Matches any digit from '0' to '9'.\n",
    "- [^abc]: Matches any character except 'a', 'b', or 'c'.\n",
    "- [a-zA-Z0-9]: Matches any alphanumeric character.\n",
    "- [aeiou]: Matches any vowel.\n",
    "\n",
    "\n",
    "**Parentheses ():** Parentheses are used to create capturing groups or to specify the scope of alternation (the | symbol).\n",
    "\n",
    "- (abc): Capturing group, captures and remembers 'abc' for later reference.\n",
    "- (abc|def): Alternation, matches either 'abc' or 'def'.\n",
    "- (?:abc): Non-capturing group, groups the pattern without capturing it.\n",
    "- (ab)+: Capturing group with quantifier, matches 'ab' one or more times.\n",
    "- (?=abc): Positive lookahead, matches if 'abc' is ahead in the string.\n",
    "- (?!abc): Negative lookahead, matches if 'abc' is not ahead in the string.\n",
    "\n",
    "\n",
    "**Neither:** You don't always need to use brackets or parentheses in a regular expression. For example:\n",
    "- abc: Matches the sequence 'abc' exactly.\n",
    "- a|b: Alternation, matches either 'a' or 'b'.\n",
    "- \\d: Matches any digit, equivalent to [0-9].\n",
    "- \\w: Matches any word character, equivalent to [a-zA-Z0-9_].\n",
    "- \\s: Matches any whitespace character."
   ]
  },
  {
   "cell_type": "code",
   "execution_count": 10,
   "metadata": {
    "tags": []
   },
   "outputs": [],
   "source": [
    "import re"
   ]
  },
  {
   "cell_type": "markdown",
   "metadata": {},
   "source": [
    "---"
   ]
  },
  {
   "cell_type": "markdown",
   "metadata": {},
   "source": [
    "#### Problem 1\n",
    "\n",
    "Write regular expressions for the following patterns, each of which will be used with the re.search() function on some target string:\n",
    "1. A sequence for currency in dollars (> 0 and \\< 1 million, no leading zeros) with at least one space before and after. The actual number will be preceded by a dollar sign, e.g. \"$25\".\n",
    "2. A sequence for currency in dollars (> 0 and \\< 1 million, no leading zeros) and cents, with at least one space before and after, e.g. \"12.25\". Cents must have 2 decimal places and 0 cents must be written as \"00\".\n",
    "3. Modify the pattern for the sequence above to extract and print the dollars and cents values\n",
    "4. A word (lowercase letters only) of length 4 or more that starts and ends with the same letter\n",
    "5. A sequence that allows for (1) or (2), i.e. dollars with or without cents\n",
    "6. A string that starts with letter, followed by at least one character that is not one of '.' (period) ',' (comma) or ';' (semicolon) and ending with any character that is not a digit."
   ]
  },
  {
   "cell_type": "code",
   "execution_count": 49,
   "metadata": {},
   "outputs": [
    {
     "name": "stdout",
     "output_type": "stream",
     "text": [
      "<re.Match object; span=(0, 4), match=' $3 '>\n",
      "<re.Match object; span=(0, 5), match=' $15 '>\n",
      "None\n",
      "None\n",
      "None\n",
      "<re.Match object; span=(0, 9), match=' $300000 '>\n",
      "None\n"
     ]
    }
   ],
   "source": [
    "# 1. A sequence for currency in dollars (> 0 and < 1 million, no leading zeros) with at least one space before and after. The actual number will be preceded by a dollar sign, e.g. \"$25\". 0-1000000\n",
    "\n",
    "dol = re.compile(r'^\\s+\\$[1-9]\\d{,5}\\s+')\n",
    "res = dol.search(' $3 ')\n",
    "print(res)\n",
    "res = dol.search(' $15 ')\n",
    "print(res)\n",
    "res = dol.search(' $0 ')\n",
    "print(res)\n",
    "res = dol.search(' 355 ')\n",
    "print(res)\n",
    "res = dol.search(' $0123 ')\n",
    "print(res)\n",
    "res = dol.search(' $300000 ')\n",
    "print(res)\n",
    "res = dol.search('$1000000')\n",
    "print(res)"
   ]
  },
  {
   "cell_type": "code",
   "execution_count": 50,
   "metadata": {},
   "outputs": [
    {
     "name": "stdout",
     "output_type": "stream",
     "text": [
      "None\n",
      "None\n",
      "<re.Match object; span=(0, 8), match=' $15.65 '>\n",
      "<re.Match object; span=(0, 9), match=' $355.06 '>\n",
      "<re.Match object; span=(0, 11), match=' $86723.00 '>\n",
      "None\n"
     ]
    }
   ],
   "source": [
    "# 2.  A sequence for currency in dollars (> 0 and \\< 1 million, no leading zeros) and cents, with at least one space before and after, e.g. \"12.25\". Cents must have 2 decimal places and 0 cents must be written as \"00\".\n",
    "\n",
    "dolcnt = re.compile('^\\s+\\$\\d{,5}\\.\\d\\d\\s+')\n",
    "# dolcnt = re.compile('^\\s+\\$\\d{,5}\\.\\d{2}s+')\n",
    "\n",
    "res = dolcnt.search(' $3 ')\n",
    "print(res)\n",
    "res = dolcnt.search(' $15 ')\n",
    "print(res)\n",
    "res = dolcnt.search(' $15.65 ')\n",
    "print(res)\n",
    "res = dolcnt.search(' $355.06 ')\n",
    "print(res)\n",
    "res = dolcnt.search(' $86723.00 ')\n",
    "print(res)\n",
    "res = dolcnt.search(' $86723.0 ')\n",
    "print(res)"
   ]
  },
  {
   "cell_type": "code",
   "execution_count": 54,
   "metadata": {},
   "outputs": [
    {
     "name": "stdout",
     "output_type": "stream",
     "text": [
      "Dollars: 355\n",
      "Cents: 09\n"
     ]
    }
   ],
   "source": [
    "# 3. Modify the pattern for the sequence above to extract and print the dollars and cents values\n",
    "# Group the dollars and cents in () to signify res.group()\n",
    "pattern_3 = r'^\\s+\\$([1-9]\\d{,5})\\.(\\d{2})\\s+'\n",
    "res = re.search(pattern_3, ' $355.09 ')\n",
    "\n",
    "if res:\n",
    "    inp = res.group(0)\n",
    "    dollars = res.group(1)\n",
    "    cents = res.group(2)\n",
    "    print('Dollars: ' + dollars)\n",
    "    print('Cents: ' + cents)\n",
    "else:\n",
    "    print('Match not found')"
   ]
  },
  {
   "cell_type": "markdown",
   "metadata": {},
   "source": [
    "# !!!\n",
    "Difference between\n",
    "- `res.groups()`\n",
    "- `res.group()`\n",
    "- `res.groups()[0]`\n",
    "\n",
    "Should use if else block because if there is no match, then the code will not run and throw an error"
   ]
  },
  {
   "cell_type": "code",
   "execution_count": 24,
   "metadata": {},
   "outputs": [
    {
     "name": "stdout",
     "output_type": "stream",
     "text": [
      "<re.Match object; span=(0, 18), match='    $2345.46      '>\n",
      "('2345', '46')\n",
      "Dollars: 2345\n",
      "Cents: 46\n",
      "dollars: 2345, cents: 46\n"
     ]
    }
   ],
   "source": [
    "dolcnt = re.compile(r'\\s+\\$([1-9]{,5})\\.(\\d{2})\\s+')\n",
    "#  = re.compile(r'\\s+\\$([1-9]{,5})\\.(\\d{2})\\s+')\n",
    "res = dolcnt.search(\"    $2345.46      \")\n",
    "print(res)\n",
    "\n",
    "money = res.groups(0)\n",
    "\n",
    "print(money)\n",
    "\n",
    "print(\"Dollars: \" + str(money[0]) + '\\nCents: ' + str(money[1]))\n",
    "\n",
    "print(f'dollars: {res.groups()[0]}, cents: {res.groups()[1]}')"
   ]
  },
  {
   "cell_type": "code",
   "execution_count": 8,
   "metadata": {},
   "outputs": [
    {
     "name": "stdout",
     "output_type": "stream",
     "text": [
      "<re.Match object; span=(0, 5), match='alpha'>\n",
      "<re.Match object; span=(0, 4), match='asia'>\n",
      "None\n",
      "None\n",
      "None\n"
     ]
    }
   ],
   "source": [
    "# 4. A word (lowercase letters only) that starts and ends with the same letter\n",
    "# Use backreference to match the same letter at the beginning and the end\n",
    "aword = re.compile(r'^([a-z])[a-z]{2,}\\1$')\n",
    "\n",
    "res = aword.search('alpha')\n",
    "print(res)\n",
    "res = aword.search('asia')\n",
    "print(res)\n",
    "res = aword.search('aja')\n",
    "print(res)\n",
    "res = aword.search('2ab2')\n",
    "print(res)\n",
    "res = aword.search('xalphay')\n",
    "print(res)"
   ]
  },
  {
   "cell_type": "code",
   "execution_count": 11,
   "metadata": {},
   "outputs": [
    {
     "ename": "error",
     "evalue": "unbalanced parenthesis at position 43",
     "output_type": "error",
     "traceback": [
      "\u001b[1;31m---------------------------------------------------------------------------\u001b[0m",
      "\u001b[1;31merror\u001b[0m                                     Traceback (most recent call last)",
      "Cell \u001b[1;32mIn[11], line 4\u001b[0m\n\u001b[0;32m      1\u001b[0m \u001b[38;5;66;03m# 5. A sequence that allows for (1) or (2), i.e. dollars with or without cents\u001b[39;00m\n\u001b[0;32m      2\u001b[0m \u001b[38;5;28;01mimport\u001b[39;00m \u001b[38;5;21;01mre\u001b[39;00m\n\u001b[1;32m----> 4\u001b[0m pattern_5 \u001b[38;5;241m=\u001b[39m re\u001b[38;5;241m.\u001b[39mcompile(\u001b[38;5;124mr\u001b[39m\u001b[38;5;124m'\u001b[39m\u001b[38;5;124m\\\u001b[39m\u001b[38;5;124ms+\u001b[39m\u001b[38;5;124m\\\u001b[39m\u001b[38;5;124m$[1-9]\u001b[39m\u001b[38;5;124m\\\u001b[39m\u001b[38;5;124md\u001b[39m\u001b[38;5;124m{\u001b[39m\u001b[38;5;124m,5}\u001b[39m\u001b[38;5;124m\\\u001b[39m\u001b[38;5;124ms+|\u001b[39m\u001b[38;5;124m\\\u001b[39m\u001b[38;5;124ms+\u001b[39m\u001b[38;5;124m\\\u001b[39m\u001b[38;5;124m$[1-9]\u001b[39m\u001b[38;5;124m\\\u001b[39m\u001b[38;5;124md\u001b[39m\u001b[38;5;124m{\u001b[39m\u001b[38;5;124m,5}\u001b[39m\u001b[38;5;124m\\\u001b[39m\u001b[38;5;124m.\u001b[39m\u001b[38;5;124m\\\u001b[39m\u001b[38;5;124md\u001b[39m\u001b[38;5;132;01m{2}\u001b[39;00m\u001b[38;5;124m)\u001b[39m\u001b[38;5;124m\\\u001b[39m\u001b[38;5;124ms+\u001b[39m\u001b[38;5;124m'\u001b[39m)\n\u001b[0;32m      6\u001b[0m res \u001b[38;5;241m=\u001b[39m pattern_5\u001b[38;5;241m.\u001b[39msearch(\u001b[38;5;124m'\u001b[39m\u001b[38;5;124m $3 \u001b[39m\u001b[38;5;124m'\u001b[39m)\n\u001b[0;32m      7\u001b[0m \u001b[38;5;28mprint\u001b[39m(res)\n",
      "File \u001b[1;32mc:\\Users\\kanak\\anaconda3\\Lib\\re\\__init__.py:227\u001b[0m, in \u001b[0;36mcompile\u001b[1;34m(pattern, flags)\u001b[0m\n\u001b[0;32m    225\u001b[0m \u001b[38;5;28;01mdef\u001b[39;00m \u001b[38;5;21mcompile\u001b[39m(pattern, flags\u001b[38;5;241m=\u001b[39m\u001b[38;5;241m0\u001b[39m):\n\u001b[0;32m    226\u001b[0m     \u001b[38;5;124m\"\u001b[39m\u001b[38;5;124mCompile a regular expression pattern, returning a Pattern object.\u001b[39m\u001b[38;5;124m\"\u001b[39m\n\u001b[1;32m--> 227\u001b[0m     \u001b[38;5;28;01mreturn\u001b[39;00m _compile(pattern, flags)\n",
      "File \u001b[1;32mc:\\Users\\kanak\\anaconda3\\Lib\\re\\__init__.py:294\u001b[0m, in \u001b[0;36m_compile\u001b[1;34m(pattern, flags)\u001b[0m\n\u001b[0;32m    288\u001b[0m     \u001b[38;5;28;01mimport\u001b[39;00m \u001b[38;5;21;01mwarnings\u001b[39;00m\n\u001b[0;32m    289\u001b[0m     warnings\u001b[38;5;241m.\u001b[39mwarn(\u001b[38;5;124m\"\u001b[39m\u001b[38;5;124mThe re.TEMPLATE/re.T flag is deprecated \u001b[39m\u001b[38;5;124m\"\u001b[39m\n\u001b[0;32m    290\u001b[0m               \u001b[38;5;124m\"\u001b[39m\u001b[38;5;124mas it is an undocumented flag \u001b[39m\u001b[38;5;124m\"\u001b[39m\n\u001b[0;32m    291\u001b[0m               \u001b[38;5;124m\"\u001b[39m\u001b[38;5;124mwithout an obvious purpose. \u001b[39m\u001b[38;5;124m\"\u001b[39m\n\u001b[0;32m    292\u001b[0m               \u001b[38;5;124m\"\u001b[39m\u001b[38;5;124mDon\u001b[39m\u001b[38;5;124m'\u001b[39m\u001b[38;5;124mt use it.\u001b[39m\u001b[38;5;124m\"\u001b[39m,\n\u001b[0;32m    293\u001b[0m               \u001b[38;5;167;01mDeprecationWarning\u001b[39;00m)\n\u001b[1;32m--> 294\u001b[0m p \u001b[38;5;241m=\u001b[39m _compiler\u001b[38;5;241m.\u001b[39mcompile(pattern, flags)\n\u001b[0;32m    295\u001b[0m \u001b[38;5;28;01mif\u001b[39;00m \u001b[38;5;129;01mnot\u001b[39;00m (flags \u001b[38;5;241m&\u001b[39m DEBUG):\n\u001b[0;32m    296\u001b[0m     \u001b[38;5;28;01mif\u001b[39;00m \u001b[38;5;28mlen\u001b[39m(_cache) \u001b[38;5;241m>\u001b[39m\u001b[38;5;241m=\u001b[39m _MAXCACHE:\n\u001b[0;32m    297\u001b[0m         \u001b[38;5;66;03m# Drop the oldest item\u001b[39;00m\n",
      "File \u001b[1;32mc:\\Users\\kanak\\anaconda3\\Lib\\re\\_compiler.py:745\u001b[0m, in \u001b[0;36mcompile\u001b[1;34m(p, flags)\u001b[0m\n\u001b[0;32m    743\u001b[0m \u001b[38;5;28;01mif\u001b[39;00m isstring(p):\n\u001b[0;32m    744\u001b[0m     pattern \u001b[38;5;241m=\u001b[39m p\n\u001b[1;32m--> 745\u001b[0m     p \u001b[38;5;241m=\u001b[39m _parser\u001b[38;5;241m.\u001b[39mparse(p, flags)\n\u001b[0;32m    746\u001b[0m \u001b[38;5;28;01melse\u001b[39;00m:\n\u001b[0;32m    747\u001b[0m     pattern \u001b[38;5;241m=\u001b[39m \u001b[38;5;28;01mNone\u001b[39;00m\n",
      "File \u001b[1;32mc:\\Users\\kanak\\anaconda3\\Lib\\re\\_parser.py:994\u001b[0m, in \u001b[0;36mparse\u001b[1;34m(str, flags, state)\u001b[0m\n\u001b[0;32m    992\u001b[0m \u001b[38;5;28;01mif\u001b[39;00m source\u001b[38;5;241m.\u001b[39mnext \u001b[38;5;129;01mis\u001b[39;00m \u001b[38;5;129;01mnot\u001b[39;00m \u001b[38;5;28;01mNone\u001b[39;00m:\n\u001b[0;32m    993\u001b[0m     \u001b[38;5;28;01massert\u001b[39;00m source\u001b[38;5;241m.\u001b[39mnext \u001b[38;5;241m==\u001b[39m \u001b[38;5;124m\"\u001b[39m\u001b[38;5;124m)\u001b[39m\u001b[38;5;124m\"\u001b[39m\n\u001b[1;32m--> 994\u001b[0m     \u001b[38;5;28;01mraise\u001b[39;00m source\u001b[38;5;241m.\u001b[39merror(\u001b[38;5;124m\"\u001b[39m\u001b[38;5;124munbalanced parenthesis\u001b[39m\u001b[38;5;124m\"\u001b[39m)\n\u001b[0;32m    996\u001b[0m \u001b[38;5;28;01mfor\u001b[39;00m g \u001b[38;5;129;01min\u001b[39;00m p\u001b[38;5;241m.\u001b[39mstate\u001b[38;5;241m.\u001b[39mgrouprefpos:\n\u001b[0;32m    997\u001b[0m     \u001b[38;5;28;01mif\u001b[39;00m g \u001b[38;5;241m>\u001b[39m\u001b[38;5;241m=\u001b[39m p\u001b[38;5;241m.\u001b[39mstate\u001b[38;5;241m.\u001b[39mgroups:\n",
      "\u001b[1;31merror\u001b[0m: unbalanced parenthesis at position 43"
     ]
    }
   ],
   "source": [
    "# 5. A sequence that allows for (1) or (2), i.e. dollars with or without cents\n",
    "import re\n",
    "\n",
    "pattern_5 = re.compile(r'\\s+\\$[1-9]\\d{,5}\\s+|\\s+\\$[1-9]\\d{,5}\\.\\d{2})\\s+')\n",
    "\n",
    "res = pattern_5.search(' $3 ')\n",
    "print(res)\n",
    "\n",
    "res = pattern_5.search(' $15.00 ')\n",
    "print(res)"
   ]
  },
  {
   "cell_type": "code",
   "execution_count": 14,
   "metadata": {},
   "outputs": [
    {
     "name": "stdout",
     "output_type": "stream",
     "text": [
      "<re.Match object; span=(0, 3), match='aaa'>\n"
     ]
    }
   ],
   "source": [
    "# A string that starts with letter, followed by at least one character that is not one of '.' (period) ',' (comma) or ';' (semicolon) and ending with any character that is not a digit.\n",
    "\n",
    "# + at least one character\n",
    "pattern_6 = r'^[a-zA-Z][^.,;]+[^0-9]'\n",
    "\n",
    "res = re.search(pattern_6, 'aaa')\n",
    "print(res)"
   ]
  },
  {
   "cell_type": "markdown",
   "metadata": {},
   "source": [
    "---"
   ]
  },
  {
   "cell_type": "markdown",
   "metadata": {
    "id": "0NVqJNywEsSr"
   },
   "source": [
    "#### Problem 2\n",
    "\n",
    "Write a function that takes a sentence as an input string parameter. The function should print True if the sentence starts with \"The\", contains \"mountains\" and ends with \"river.\", otherwise it should print False. <br/>Also, if the pattern matches, the function should split the sentence into two parts (using the regular expression split function), one each on either side of the word \"mountains\", and print the parts. "
   ]
  },
  {
   "cell_type": "code",
   "execution_count": 15,
   "metadata": {},
   "outputs": [
    {
     "name": "stdout",
     "output_type": "stream",
     "text": [
      "No match\n"
     ]
    }
   ],
   "source": [
    "def prob_2(string):\n",
    "    pattern = r'^The.*mountains.*river\\.$'\n",
    "    res = re.search(pattern, string)\n",
    "    \n",
    "    if res:\n",
    "        parts = re.split(r'\\bmountains\\b', string)\n",
    "        print(parts)\n",
    "        print(\"Match\")\n",
    "    else:\n",
    "        print(\"No match\")\n",
    "\n",
    "prob_2('The mountains and the river')"
   ]
  },
  {
   "cell_type": "code",
   "execution_count": 17,
   "metadata": {},
   "outputs": [
    {
     "name": "stdout",
     "output_type": "stream",
     "text": [
      "['The wild foxes live on the ', ' and drink water from the river.']\n",
      "Match\n"
     ]
    }
   ],
   "source": [
    "prob_2(\"The wild foxes live on the mountains and drink water from the river.\")"
   ]
  },
  {
   "cell_type": "code",
   "execution_count": 16,
   "metadata": {},
   "outputs": [
    {
     "name": "stdout",
     "output_type": "stream",
     "text": [
      "No match\n"
     ]
    }
   ],
   "source": [
    "prob_2(\"The wild foxes live on the plains and drink water from the river.\")"
   ]
  },
  {
   "cell_type": "markdown",
   "metadata": {},
   "source": [
    "---"
   ]
  },
  {
   "cell_type": "markdown",
   "metadata": {},
   "source": [
    "#### Problem 3\n",
    "\n",
    "You are given a file named [ps4-5_in.txt](ps4-5_in.txt) with multiple records, each on a separate line. Each record has person name, profession, and school name, separated by a comma. You are required to extract only those records for which person name starts with 'a' and profession is student, and write the extracted records to a new output file called *ps5-3_out.txt*. You must use regular expressions to do the extraction for each record.\n",
    "\n",
    "Note: 'student scholar' is a different profession than 'student'\n"
   ]
  },
  {
   "cell_type": "code",
   "execution_count": 5,
   "metadata": {},
   "outputs": [],
   "source": [
    "import re\n",
    "def process_records():\n",
    "    outf = open(\"./text_files/ps4-5_out.txt\", \"w\")\n",
    "    \n",
    "    for line in open(\"./text_files/ps4-5_ in.txt\", 'r'):\n",
    "        parts = line.split(\",\")\n",
    "        name = parts[0]\n",
    "        profession = parts[1]\n",
    "        \n",
    "        if re.match('^a', name.strip()) and re.match('student$', profession.strip()):\n",
    "            outf.write(line)\n",
    "    outf.close()\n",
    "    \n",
    "process_records()"
   ]
  },
  {
   "cell_type": "markdown",
   "metadata": {},
   "source": [
    "---"
   ]
  },
  {
   "cell_type": "markdown",
   "metadata": {
    "id": "TsYs_po9EsSs",
    "tags": []
   },
   "source": [
    "#### Problem 4\n",
    "\n",
    "In this problem, you will implement a user signup functionality with the following requirements: <br/>\n",
    "<ol>\n",
    "    <li>A username starting with either a lowercase letter or an underscore.</li>\n",
    "    <li>A password at least 6 characters long, containing at least one uppercase character.</li> \n",
    "    <li>An email address starting with a letter, and containing exactly one '@' immediately followed by a letter. Feel free to try more realistic requirements as well.</li>\n",
    "You must ask the user to input the details one by one until each one of them abides by the constraints (while loop!)."
   ]
  },
  {
   "cell_type": "code",
   "execution_count": 18,
   "metadata": {},
   "outputs": [],
   "source": [
    "def user_signup():\n",
    "    email = input(\"Email Address: \")\n",
    "    username = input(\"Username\")\n",
    "    password = input(\"Password: \")\n",
    "\n",
    "    while True: \n",
    "        user_pattern = r'^([a-z]|_)'\n",
    "        if re.search(user_pattern, username):\n",
    "            break\n",
    "        \n",
    "    while True:\n",
    "        pass_pattern = r'[A-Z]'\n",
    "        if len(password)>=6 and re.search(pass_pattern, password):\n",
    "            break\n",
    "\n",
    "    while True:\n",
    "    # while user_res doesn't throw an error\n",
    "        email_pattern = r'^[A-Za-z]@\\.com$'\n",
    "        email_res = re.search(email_pattern, email)\n",
    "    \n",
    "    print(user_res)\n",
    "    print(pass_res)\n",
    "    print(email_res)\n",
    "\n",
    "# user_signup()"
   ]
  },
  {
   "cell_type": "markdown",
   "metadata": {},
   "source": [
    "---"
   ]
  },
  {
   "cell_type": "markdown",
   "metadata": {
    "id": "SAmDYtVKsgF8"
   },
   "source": [
    "#### Problem 5\n",
    "\n",
    "In this problem, you will write a function to validate IP addresses. You will check and print if the IP address passed to your function is a valid IPv4 or IPv6 address. If it is not a valid IP address, print \"Invalid IP address\". <br/>\n",
    "Read more about IPv4 and IPv6 addresses <a href = \"https://www.ibm.com/support/knowledgecenter/en/STCMML8/com.ibm.storage.ts3500.doc/opg_3584_IPv4_IPv6_addresses.html\">here</a>.\n"
   ]
  },
  {
   "cell_type": "code",
   "execution_count": null,
   "metadata": {},
   "outputs": [],
   "source": [
    "def valid_IP():\n",
    "    addre = input(\"Enter IP address to validate: \")\n",
    "    \n",
    "    pattern= ''"
   ]
  }
 ],
 "metadata": {
  "kernelspec": {
   "display_name": "Python 3.11.5 64-bit",
   "language": "python",
   "name": "python3"
  },
  "language_info": {
   "codemirror_mode": {
    "name": "ipython",
    "version": 3
   },
   "file_extension": ".py",
   "mimetype": "text/x-python",
   "name": "python",
   "nbconvert_exporter": "python",
   "pygments_lexer": "ipython3",
   "version": "3.11.7"
  },
  "vscode": {
   "interpreter": {
    "hash": "b0fa6594d8f4cbf19f97940f81e996739fb7646882a419484c72d19e05852a7e"
   }
  }
 },
 "nbformat": 4,
 "nbformat_minor": 4
}
