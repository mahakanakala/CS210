{
 "cells": [
  {
   "cell_type": "markdown",
   "metadata": {},
   "source": [
    "### <font color='brown'>Problem Set 6: Regular Expressions</brown>"
   ]
  },
  {
   "cell_type": "code",
   "execution_count": 2,
   "metadata": {
    "tags": []
   },
   "outputs": [],
   "source": [
    "import re"
   ]
  },
  {
   "cell_type": "markdown",
   "metadata": {},
   "source": [
    "---"
   ]
  },
  {
   "cell_type": "markdown",
   "metadata": {},
   "source": [
    "#### Problem 1\n",
    "\n",
    "Write a re.sub statement for each of the following:\n",
    "1. Replace all question marks in a string with '?!'\n",
    "2. Replace all but the first and last character of a string with '###'\n",
    "3. Given a string with a single '|' separator between its two parts, replace it with a string that flips the parts and subsitutes a ';' (semicolon) for the '|'"
   ]
  },
  {
   "cell_type": "code",
   "execution_count": 8,
   "metadata": {},
   "outputs": [
    {
     "name": "stdout",
     "output_type": "stream",
     "text": [
      "Hello?! Do you play guitar?! Do you know Tarrega?!\n"
     ]
    }
   ],
   "source": [
    "# 1\n",
    "# When ? is used alone no need to escape the character\n",
    "string = \"Hello? Do you play guitar? Do you know Tarrega?\"\n",
    "res = re.sub(r'\\?', r'?!', string)\n",
    "\n",
    "print(res)"
   ]
  },
  {
   "cell_type": "code",
   "execution_count": null,
   "metadata": {},
   "outputs": [],
   "source": [
    "# 2. Replace all but the first and last character of a string with '###'\n",
    "string = \"\"\n",
    "res = re.sub(r'', r'', string)"
   ]
  },
  {
   "cell_type": "code",
   "execution_count": 11,
   "metadata": {},
   "outputs": [
    {
     "name": "stdout",
     "output_type": "stream",
     "text": [
      "part2;part1\n"
     ]
    }
   ],
   "source": [
    "# 3. Given a string with a single '|' separator between its two parts, replace it with a string that flips the parts and subsitutes a ';' (semicolon) for the '|'\n",
    "\n",
    "string = \"part1|part2\"\n",
    "res = re.sub(r'(.*)\\|(.*)', r'\\2;\\1', string)\n",
    "print(res)\n"
   ]
  },
  {
   "cell_type": "markdown",
   "metadata": {},
   "source": [
    "---"
   ]
  },
  {
   "cell_type": "markdown",
   "metadata": {
    "id": "cgizBg43IzpC",
    "tags": []
   },
   "source": [
    "#### Problem 2\n",
    "Given an input text that contains a list of student ids, dept codes, and course names, e.g.<br/>\n",
    "\"19100 COM Networks 19101 MAT Calculus 19102 MAT Algebra 19103 BIO Microbiology\"\n",
    "<ol>\n",
    "<li>Extract all the Student IDS (5 digit), Department codes (3 letter codes) and course names (more than 3 letters)<br/>\n",
    "Expected output: ['19100', '19101', '19102', '19103']\n",
    "['COM', 'MAT', 'MAT', 'BIO']\n",
    "['Networks', 'Calculus', 'Algebra', 'Microbiology']\n",
    "</li>\n",
    "<li>Extract tuples such that each tuple contains comma separated student information.<br/>\n",
    "Expected output: [('19100', 'COM', 'Networks'), ('19101', 'MAT', 'Calculus'), ('19102', 'MAT', 'Algebra'), ('19103', 'BIO', 'Microbiology')]</li>\n",
    "</ol>\n",
    "Hint: use re.findall()\n",
    "\n"
   ]
  },
  {
   "cell_type": "code",
   "execution_count": null,
   "metadata": {},
   "outputs": [],
   "source": []
  },
  {
   "cell_type": "markdown",
   "metadata": {},
   "source": [
    "---"
   ]
  },
  {
   "cell_type": "markdown",
   "metadata": {
    "id": "MBaXUNi1EsSt"
   },
   "source": [
    "#### Problem 3\n",
    "\n",
    "In this problem, you will do some HTML code parsing. Given an anchor tag (`<a>..</a>`), with a link in its href attribute and some link text, write a function to extract and print the domain name of the link and the link text. Consider the following examples to write your code.<br/>\n",
    "\n",
    "- `<a href=\"https://www.foxnews.com/politics/\">Fox News</a>`<br>domain: foxnews.com, linkname: Fox News<p>\n",
    "- `<a href=\"https://support.apple.com\">Support Page</a>`<br>domain: apple.com, linkname: Support Page<p>\n",
    "- `<a href=\"https://newbrunswick.rutgers.edu/research\">Rutgers NB Research</a>`<br>domain: rutgers.edu, linkname: Rutgers NB Research<p>\n",
    "- `<a href=\"http://example.something.me.com/some/examples\">My Examples</a>`<br>domain: me.com, linkname: My Examples<p>\n",
    "\n",
    "You may want to pre-compile a pattern written in multiple lines in VERBOSE mode to make it easier to comprehend it. Also, it may be a godo idea to use names \"domain\" and \"linkname\" for the corresponding captures."
   ]
  },
  {
   "cell_type": "markdown",
   "metadata": {},
   "source": [
    "---"
   ]
  },
  {
   "cell_type": "markdown",
   "metadata": {
    "id": "P9J4UPhKEsSu"
   },
   "source": [
    "#### Problem 4\n",
    "\n",
    "Given an HTML code snippet e.g. ```\"<html><body><h1><div><h2>Responsive Sidebar Example</h2><title><p>First paragraph.</p></ol><p>Second paragraph.</p></li><h3>Resize the browser window to see the effect.</h3></div></body></html>\"```. \n",
    "\n",
    "<ol>\n",
    "\n",
    "<li>Extract all the distinct opening and closing tags that are present.<br/> \n",
    "</li>\n",
    "<li>Extract all the distinct opening tags that do not have corresponding closing tags and all the distinct closing tags that do not have a corresponding opening tag.</ol>\n",
    "\n",
    "For the sample snippet above,<br/>\n",
    "The opening tags are: ```'<html>', '<body>', '<div>', '<h1>', '<h2>', '<title>', '<p>', '<h3>' ```<br/>\n",
    "The closing tags are: ```'</h2>', '</p>', '</ol>', '</li>', '</h3>', '</div>', '</body>', '</html>' ```<br/>\n",
    "Tags opened but not closed: ```'<title>', '<h1>'``` <br/>\n",
    "Tags closed but not opened: ```'</li>', '</ol>'```\n"
   ]
  }
 ],
 "metadata": {
  "kernelspec": {
   "display_name": "Python 3.11.5 64-bit",
   "language": "python",
   "name": "python3"
  },
  "language_info": {
   "codemirror_mode": {
    "name": "ipython",
    "version": 3
   },
   "file_extension": ".py",
   "mimetype": "text/x-python",
   "name": "python",
   "nbconvert_exporter": "python",
   "pygments_lexer": "ipython3",
   "version": "3.11.5"
  },
  "vscode": {
   "interpreter": {
    "hash": "b0fa6594d8f4cbf19f97940f81e996739fb7646882a419484c72d19e05852a7e"
   }
  }
 },
 "nbformat": 4,
 "nbformat_minor": 4
}
