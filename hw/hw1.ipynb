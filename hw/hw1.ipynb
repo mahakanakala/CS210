{
 "cells": [
  {
   "cell_type": "code",
   "execution_count": 5,
   "metadata": {},
   "outputs": [
    {
     "data": {
      "text/plain": [
       "{'Toy Story (1995)': [4.0, 4.0, 4.5, 2.5, 4.5, 3.5],\n",
       " 'Jumanji (1995)': [4.0, 4.0, 3.0, 3.0, 3.0, 3.5],\n",
       " 'Tom and Huck (1995)': [3.0, 1.0, 5.0, 3.0, 2.0, 3.0],\n",
       " 'Grumpier Old Men (1995)': [4.0, 5.0, 3.0, 3.0, 4.0, 5.0],\n",
       " 'Waiting to Exhale (1995)': [3.0, 3.0, 3.0, 3.0, 1.0, 2.0],\n",
       " 'Father of the Bride Part II (1995)': [5.0, 3.0, 5.0, 3.0, 4.0, 4.0],\n",
       " 'Heat (1995)': [4.0, 4.0, 5.0, 4.0, 4.0, 4.5],\n",
       " 'Sudden Death (1995)': [4.0, 3.0, 3.0, 2.0, 3.0, 5.0],\n",
       " 'GoldenEye (1995)': [3.0, 2.0, 3.0, 2.0, 5.0, 3.0]}"
      ]
     },
     "execution_count": 5,
     "metadata": {},
     "output_type": "execute_result"
    }
   ],
   "source": [
    "def read_ratings_data(f):\n",
    "    # parameter f: movie ratings file name f (e.g. \"movieRatingSample.txt\")\n",
    "    # return: dictionary that maps movie to ratings\n",
    "    # Current: Toy Story (1995)|4.0|1\n",
    "    # Output: { \"The Lion King (2019)\" : [6.0, 7.5, 5.1], \"Titanic (1997)\": [7] }\n",
    "    # Remove the \"|\" and add a \":\" after the movie name, remove the rating in between the | | make a list of the ids\n",
    "    # WRITE YOUR CODE BELOW\n",
    "    movie_ratings_dict = {}\n",
    "    with open(f, 'r') as file:\n",
    "        for line in file:\n",
    "            parts = line.strip().split(\"|\")\n",
    "            movie = parts[0]\n",
    "            rating = parts[1]\n",
    "            \n",
    "            if movie not in movie_ratings_dict:\n",
    "                movie_ratings_dict[movie] = []\n",
    "            movie_ratings_dict[movie].append(float(rating))\n",
    "    \n",
    "    return movie_ratings_dict\n",
    "\n",
    "read_ratings_data(\"../hw/data/moveRatingsSample.txt\")"
   ]
  },
  {
   "cell_type": "code",
   "execution_count": 6,
   "metadata": {},
   "outputs": [
    {
     "data": {
      "text/plain": [
       "{'Toy Story (1995)': 'Adventure',\n",
       " 'Jumanji (1995)': 'Adventure',\n",
       " 'Tom and Huck (1995)': 'Adventure',\n",
       " 'Grumpier Old Men (1995)': 'Comedy',\n",
       " 'Waiting to Exhale (1995)': 'Comedy',\n",
       " 'Father of the Bride Part II (1995)': 'Comedy',\n",
       " 'Heat (1995)': 'Action',\n",
       " 'Sudden Death (1995)': 'Action',\n",
       " 'GoldenEye (1995)': 'Action'}"
      ]
     },
     "execution_count": 6,
     "metadata": {},
     "output_type": "execute_result"
    }
   ],
   "source": [
    "def read_movie_genre(f):\n",
    "    # parameter f: movies genre file name f (e.g. \"genreMovieSample.txt\")\n",
    "    # return: dictionary that maps movie to genre\n",
    "    # Output: { \"Toy Story (1995)\" : \"Adventure\", \"Golden Eye (1995)\" : \"Action\" }\n",
    "    # WRITE YOUR CODE BELOW\n",
    "    movie_genre_dict = {}\n",
    "    with open(f, 'r') as file:\n",
    "        for line in f:\n",
    "            parts = line.strip().split(\"|\")\n",
    "            genre = parts[0]\n",
    "            movie = parts[2]\n",
    "            \n",
    "            if movie not in movie_genre_dict:\n",
    "                movie_genre_dict[movie] = genre\n",
    "        \n",
    "    return movie_genre_dict\n",
    "        \n",
    "read_movie_genre(\"../hw/data/genreMovieSample.txt\")"
   ]
  },
  {
   "cell_type": "code",
   "execution_count": 7,
   "metadata": {},
   "outputs": [
    {
     "data": {
      "text/plain": [
       "defaultdict(list,\n",
       "            {'Adventure': ['Toy Story (1995)',\n",
       "              'Jumanji (1995)',\n",
       "              'Tom and Huck (1995)'],\n",
       "             'Comedy': ['Grumpier Old Men (1995)',\n",
       "              'Waiting to Exhale (1995)',\n",
       "              'Father of the Bride Part II (1995)'],\n",
       "             'Action': ['Heat (1995)',\n",
       "              'Sudden Death (1995)',\n",
       "              'GoldenEye (1995)']})"
      ]
     },
     "execution_count": 7,
     "metadata": {},
     "output_type": "execute_result"
    }
   ],
   "source": [
    "from collections import defaultdict\n",
    "def create_genre_dict(d):\n",
    "    # parameter d: dictionary that maps movie to genre\n",
    "    # return: dictionary that maps genre to movies\n",
    "    # WRITE YOUR CODE BELOW\n",
    "    genre_movie_dict = defaultdict(list)\n",
    "    for movie, genre in d.items():\n",
    "        genre_movie_dict[genre].append(movie)\n",
    "    return genre_movie_dict\n",
    "\n",
    "create_genre_dict(d= {'Toy Story (1995)': 'Adventure',\n",
    " 'Jumanji (1995)': 'Adventure',\n",
    " 'Tom and Huck (1995)': 'Adventure',\n",
    " 'Grumpier Old Men (1995)': 'Comedy',\n",
    " 'Waiting to Exhale (1995)': 'Comedy',\n",
    " 'Father of the Bride Part II (1995)': 'Comedy',\n",
    " 'Heat (1995)': 'Action',\n",
    " 'Sudden Death (1995)': 'Action',\n",
    " 'GoldenEye (1995)': 'Action'})"
   ]
  },
  {
   "cell_type": "code",
   "execution_count": 8,
   "metadata": {},
   "outputs": [
    {
     "data": {
      "text/plain": [
       "{'Toy Story (1995)': 3.8333333333333335,\n",
       " 'Jumanji (1995)': 3.4166666666666665,\n",
       " 'Tom and Huck (1995)': 2.8333333333333335,\n",
       " 'Grumpier Old Men (1995)': 4.0,\n",
       " 'Waiting to Exhale (1995)': 2.5,\n",
       " 'Father of the Bride Part II (1995)': 4.0,\n",
       " 'Heat (1995)': 4.25,\n",
       " 'Sudden Death (1995)': 3.3333333333333335,\n",
       " 'GoldenEye (1995)': 3.0}"
      ]
     },
     "execution_count": 8,
     "metadata": {},
     "output_type": "execute_result"
    }
   ],
   "source": [
    "def calculate_average_rating(d):\n",
    "    # parameter d: dictionary that maps movie to ratings\n",
    "    # return: dictionary that maps movie to average rating\n",
    "    # WRITE YOUR CODE BELOW\n",
    "    movie_avg_rating_dict = {}\n",
    "    for movie, ratings in d.items():\n",
    "        average = sum(ratings)/len(ratings)\n",
    "        movie_avg_rating_dict[movie] = average\n",
    "    return movie_avg_rating_dict\n",
    "\n",
    "\n",
    "calculate_average_rating(d={'Toy Story (1995)': [4.0, 4.0, 4.5, 2.5, 4.5, 3.5],\n",
    " 'Jumanji (1995)': [4.0, 4.0, 3.0, 3.0, 3.0, 3.5],\n",
    " 'Tom and Huck (1995)': [3.0, 1.0, 5.0, 3.0, 2.0, 3.0],\n",
    " 'Grumpier Old Men (1995)': [4.0, 5.0, 3.0, 3.0, 4.0, 5.0],\n",
    " 'Waiting to Exhale (1995)': [3.0, 3.0, 3.0, 3.0, 1.0, 2.0],\n",
    " 'Father of the Bride Part II (1995)': [5.0, 3.0, 5.0, 3.0, 4.0, 4.0],\n",
    " 'Heat (1995)': [4.0, 4.0, 5.0, 4.0, 4.0, 4.5],\n",
    " 'Sudden Death (1995)': [4.0, 3.0, 3.0, 2.0, 3.0, 5.0],\n",
    " 'GoldenEye (1995)': [3.0, 2.0, 3.0, 2.0, 5.0, 3.0]})"
   ]
  },
  {
   "cell_type": "code",
   "execution_count": 9,
   "metadata": {},
   "outputs": [
    {
     "data": {
      "text/plain": [
       "{'Heat (1995)': 4.25,\n",
       " 'Grumpier Old Men (1995)': 4.0,\n",
       " 'Father of the Bride Part II (1995)': 4.0,\n",
       " 'Toy Story (1995)': 3.8333333333333335,\n",
       " 'Jumanji (1995)': 3.4166666666666665,\n",
       " 'Sudden Death (1995)': 3.3333333333333335,\n",
       " 'GoldenEye (1995)': 3.0,\n",
       " 'Tom and Huck (1995)': 2.8333333333333335,\n",
       " 'Waiting to Exhale (1995)': 2.5}"
      ]
     },
     "execution_count": 9,
     "metadata": {},
     "output_type": "execute_result"
    }
   ],
   "source": [
    "def get_popular_movies(d, n=10):\n",
    "    # parameter d: dictionary that maps movie to average rating\n",
    "    # parameter n: integer (for top n), default value 10\n",
    "    # return: dictionary that maps movie to average rating, \n",
    "    #         in ranked order from highest to lowest average rating\n",
    "    # WRITE YOUR CODE BELOW\n",
    "    top_n_movies_dict = {m: r for m, r in sorted(d.items(), key=lambda item: item[1], reverse=True)}\n",
    "\n",
    "    return top_n_movies_dict\n",
    "    \n",
    "get_popular_movies(d={'Toy Story (1995)': 3.8333333333333335,\n",
    " 'Jumanji (1995)': 3.4166666666666665,\n",
    " 'Tom and Huck (1995)': 2.8333333333333335,\n",
    " 'Grumpier Old Men (1995)': 4.0,\n",
    " 'Waiting to Exhale (1995)': 2.5,\n",
    " 'Father of the Bride Part II (1995)': 4.0,\n",
    " 'Heat (1995)': 4.25,\n",
    " 'Sudden Death (1995)': 3.3333333333333335,\n",
    " 'GoldenEye (1995)': 3.0}, n=10)"
   ]
  },
  {
   "cell_type": "code",
   "execution_count": 10,
   "metadata": {},
   "outputs": [
    {
     "data": {
      "text/plain": [
       "{'Father of the Bride Part II (1995)': 4.0,\n",
       " 'Grumpier Old Men (1995)': 4.0,\n",
       " 'Heat (1995)': 4.25,\n",
       " 'Toy Story (1995)': 3.8333333333333335}"
      ]
     },
     "execution_count": 10,
     "metadata": {},
     "output_type": "execute_result"
    }
   ],
   "source": [
    "def filter_movies(d, thres_rating=3):\n",
    "    # parameter d: dictionary that maps movie to average rating\n",
    "    # parameter thres_rating: threshold rating, default value 3\n",
    "    # return: dictionary that maps movie to average rating\n",
    "    # WRITE YOUR CODE BELOW\n",
    "    filter_movies_dict = {m: r for m, r in sorted(d.items()) if r >= thres_rating}\n",
    "    return filter_movies_dict\n",
    "\n",
    "filter_movies(d={'Toy Story (1995)': 3.8333333333333335,\n",
    " 'Jumanji (1995)': 3.4166666666666665,\n",
    " 'Tom and Huck (1995)': 2.8333333333333335,\n",
    " 'Grumpier Old Men (1995)': 4.0,\n",
    " 'Waiting to Exhale (1995)': 2.5,\n",
    " 'Father of the Bride Part II (1995)': 4.0,\n",
    " 'Heat (1995)': 4.25,\n",
    " 'Sudden Death (1995)': 3.3333333333333335,\n",
    " 'GoldenEye (1995)': 3.0}, thres_rating=3.5)"
   ]
  },
  {
   "cell_type": "code",
   "execution_count": 11,
   "metadata": {},
   "outputs": [
    {
     "data": {
      "text/plain": [
       "{'Heat (1995)': 4.25,\n",
       " 'Sudden Death (1995)': 3.3333333333333335,\n",
       " 'GoldenEye (1995)': 3.0}"
      ]
     },
     "execution_count": 11,
     "metadata": {},
     "output_type": "execute_result"
    }
   ],
   "source": [
    "def get_popular_in_genre(genre, genre_to_movies, movie_to_average_rating, n=5):\n",
    "    # parameter genre: genre name (e.g. \"Comedy\")\n",
    "    # parameter genre_to_movies: dictionary that maps genre to movies\n",
    "    # parameter movie_to_average_rating: dictionary  that maps movie to average rating\n",
    "    # parameter n: integer (for top n), default value 5\n",
    "    # return: dictionary that maps movie to average rating\n",
    "    # WRITE YOUR CODE BELOW\n",
    "    movies = genre_to_movies.get(genre, [])\n",
    "    movies.sort(key=lambda x: movie_to_average_rating.get(x, 0), reverse=True)\n",
    "    popular_movies_in_genre = {movie: movie_to_average_rating.get(movie, 0) for movie in movies[:n]}\n",
    "\n",
    "    return popular_movies_in_genre\n",
    "\n",
    "get_popular_in_genre(genre='Action', \n",
    "                     genre_to_movies= defaultdict(list,\n",
    "            {'Adventure': ['Toy Story (1995)',\n",
    "              'Jumanji (1995)',\n",
    "              'Tom and Huck (1995)'],\n",
    "             'Comedy': ['Grumpier Old Men (1995)',\n",
    "              'Waiting to Exhale (1995)',\n",
    "              'Father of the Bride Part II (1995)'],\n",
    "             'Action': ['Heat (1995)',\n",
    "              'Sudden Death (1995)',\n",
    "              'GoldenEye (1995)']}),\n",
    "                     movie_to_average_rating= {'Toy Story (1995)': 3.8333333333333335,\n",
    "                    'Jumanji (1995)': 3.4166666666666665,\n",
    "                    'Tom and Huck (1995)': 2.8333333333333335,\n",
    "                    'Grumpier Old Men (1995)': 4.0,\n",
    "                    'Waiting to Exhale (1995)': 2.5,\n",
    "                    'Father of the Bride Part II (1995)': 4.0,\n",
    "                    'Heat (1995)': 4.25,\n",
    "                    'Sudden Death (1995)': 3.3333333333333335,\n",
    "                    'GoldenEye (1995)': 3.0}, n=6\n",
    "                     )"
   ]
  },
  {
   "cell_type": "code",
   "execution_count": 12,
   "metadata": {},
   "outputs": [
    {
     "data": {
      "text/plain": [
       "3.5"
      ]
     },
     "execution_count": 12,
     "metadata": {},
     "output_type": "execute_result"
    }
   ],
   "source": [
    "def get_genre_rating(genre, genre_to_movies, movie_to_average_rating):\n",
    "    # parameter genre: genre name (e.g. \"Comedy\")\n",
    "    # parameter genre_to_movies: dictionary that maps genre to movies\n",
    "    # parameter movie_to_average_rating: dictionary  that maps movie to average rating\n",
    "    # return: average rating of movies in genre\n",
    "    # WRITE YOUR CODE BELOW\n",
    "    movies = genre_to_movies.get(genre, [])\n",
    "    ratings = [movie_to_average_rating.get(movie, 0) for movie in movies]\n",
    "    genre_ratings = sum(ratings) / len(ratings) if ratings else 0\n",
    "    return genre_ratings\n",
    "\n",
    "get_genre_rating(genre='Comedy', \n",
    "                     genre_to_movies= defaultdict(list,\n",
    "            {'Adventure': ['Toy Story (1995)',\n",
    "              'Jumanji (1995)',\n",
    "              'Tom and Huck (1995)'],\n",
    "             'Comedy': ['Grumpier Old Men (1995)',\n",
    "              'Waiting to Exhale (1995)',\n",
    "              'Father of the Bride Part II (1995)'],\n",
    "             'Action': ['Heat (1995)',\n",
    "              'Sudden Death (1995)',\n",
    "              'GoldenEye (1995)']}),\n",
    "                     movie_to_average_rating= {'Toy Story (1995)': 3.8333333333333335,\n",
    "                    'Jumanji (1995)': 3.4166666666666665,\n",
    "                    'Tom and Huck (1995)': 2.8333333333333335,\n",
    "                    'Grumpier Old Men (1995)': 4.0,\n",
    "                    'Waiting to Exhale (1995)': 2.5,\n",
    "                    'Father of the Bride Part II (1995)': 4.0,\n",
    "                    'Heat (1995)': 4.25,\n",
    "                    'Sudden Death (1995)': 3.3333333333333335,\n",
    "                    'GoldenEye (1995)': 3.0}\n",
    "                     )"
   ]
  },
  {
   "cell_type": "code",
   "execution_count": 21,
   "metadata": {},
   "outputs": [
    {
     "data": {
      "text/plain": [
       "{'Action': 3.527777777777778, 'Comedy': 3.5, 'Adventure': 3.361111111111111}"
      ]
     },
     "execution_count": 21,
     "metadata": {},
     "output_type": "execute_result"
    }
   ],
   "source": [
    "def genre_popularity(genre_to_movies, movie_to_average_rating, n=5):\n",
    "    # parameter genre_to_movies: dictionary that maps genre to movies\n",
    "    # parameter movie_to_average_rating: dictionary  that maps movie to average rating\n",
    "    # parameter n: integer (for top n), default value 5\n",
    "    # return: dictionary that maps genre to average rating\n",
    "    # WRITE YOUR CODE BELOW\n",
    "    avg_ratings = {genre: get_genre_rating(genre, genre_to_movies, movie_to_average_rating) for genre in genre_to_movies}\n",
    "    n_genre_popularity_dict = dict(sorted(avg_ratings.items(), key=lambda item: item[1], reverse=True)[:n])\n",
    "    return n_genre_popularity_dict\n",
    "\n",
    "genre_popularity(genre_to_movies=defaultdict(list,\n",
    "            {'Adventure': ['Toy Story (1995)',\n",
    "              'Jumanji (1995)',\n",
    "              'Tom and Huck (1995)'],\n",
    "             'Comedy': ['Grumpier Old Men (1995)',\n",
    "              'Waiting to Exhale (1995)',\n",
    "              'Father of the Bride Part II (1995)'],\n",
    "             'Action': ['Heat (1995)',\n",
    "              'Sudden Death (1995)',\n",
    "              'GoldenEye (1995)']}), \n",
    "                 movie_to_average_rating= {'Toy Story (1995)': 3.8333333333333335,\n",
    "                    'Jumanji (1995)': 3.4166666666666665,\n",
    "                    'Tom and Huck (1995)': 2.8333333333333335,\n",
    "                    'Grumpier Old Men (1995)': 4.0,\n",
    "                    'Waiting to Exhale (1995)': 2.5,\n",
    "                    'Father of the Bride Part II (1995)': 4.0,\n",
    "                    'Heat (1995)': 4.25,\n",
    "                    'Sudden Death (1995)': 3.3333333333333335,\n",
    "                    'GoldenEye (1995)': 3.0}, n=5)"
   ]
  },
  {
   "cell_type": "code",
   "execution_count": 16,
   "metadata": {},
   "outputs": [
    {
     "data": {
      "text/plain": [
       "defaultdict(list,\n",
       "            {'1': [('Toy Story (1995)', 4.0),\n",
       "              ('Grumpier Old Men (1995)', 4.0),\n",
       "              ('Heat (1995)', 4.0)],\n",
       "             '5': [('Toy Story (1995)', 4.0)],\n",
       "             '7': [('Toy Story (1995)', 4.5)],\n",
       "             '15': [('Toy Story (1995)', 2.5)],\n",
       "             '17': [('Toy Story (1995)', 4.5)],\n",
       "             '18': [('Toy Story (1995)', 3.5),\n",
       "              ('Jumanji (1995)', 3.0),\n",
       "              ('Heat (1995)', 4.0)],\n",
       "             '6': [('Jumanji (1995)', 4.0),\n",
       "              ('Tom and Huck (1995)', 3.0),\n",
       "              ('Grumpier Old Men (1995)', 5.0),\n",
       "              ('Waiting to Exhale (1995)', 3.0),\n",
       "              ('Father of the Bride Part II (1995)', 5.0),\n",
       "              ('Heat (1995)', 4.0),\n",
       "              ('GoldenEye (1995)', 3.0)],\n",
       "             '8': [('Jumanji (1995)', 4.0), ('GoldenEye (1995)', 2.0)],\n",
       "             '19': [('Jumanji (1995)', 3.0),\n",
       "              ('Grumpier Old Men (1995)', 3.0),\n",
       "              ('GoldenEye (1995)', 2.0)],\n",
       "             '20': [('Jumanji (1995)', 3.0), ('Tom and Huck (1995)', 1.0)],\n",
       "             '21': [('Jumanji (1995)', 3.5), ('GoldenEye (1995)', 5.0)],\n",
       "             '43': [('Tom and Huck (1995)', 5.0),\n",
       "              ('Grumpier Old Men (1995)', 5.0),\n",
       "              ('Father of the Bride Part II (1995)', 5.0)],\n",
       "             '274': [('Tom and Huck (1995)', 3.0)],\n",
       "             '372': [('Tom and Huck (1995)', 2.0)],\n",
       "             '414': [('Tom and Huck (1995)', 3.0)],\n",
       "             '32': [('Grumpier Old Men (1995)', 3.0)],\n",
       "             '42': [('Grumpier Old Men (1995)', 4.0)],\n",
       "             '14': [('Waiting to Exhale (1995)', 3.0)],\n",
       "             '84': [('Waiting to Exhale (1995)', 3.0)],\n",
       "             '162': [('Waiting to Exhale (1995)', 3.0)],\n",
       "             '262': [('Waiting to Exhale (1995)', 1.0)],\n",
       "             '411': [('Waiting to Exhale (1995)', 2.0)],\n",
       "             '31': [('Father of the Bride Part II (1995)', 3.0)],\n",
       "             '45': [('Father of the Bride Part II (1995)', 3.0)],\n",
       "             '58': [('Father of the Bride Part II (1995)', 4.0)],\n",
       "             '66': [('Father of the Bride Part II (1995)', 4.0)],\n",
       "             '11': [('Heat (1995)', 5.0), ('GoldenEye (1995)', 3.0)],\n",
       "             '23': [('Heat (1995)', 4.0)],\n",
       "             '24': [('Heat (1995)', 4.5)],\n",
       "             '151': [('Sudden Death (1995)', 4.0)],\n",
       "             '179': [('Sudden Death (1995)', 3.0)],\n",
       "             '217': [('Sudden Death (1995)', 3.0)],\n",
       "             '269': [('Sudden Death (1995)', 2.0)],\n",
       "             '270': [('Sudden Death (1995)', 3.0)],\n",
       "             '337': [('Sudden Death (1995)', 5.0)],\n",
       "             '26': [('GoldenEye (1995)', 3.0)]})"
      ]
     },
     "execution_count": 16,
     "metadata": {},
     "output_type": "execute_result"
    }
   ],
   "source": [
    "def read_user_ratings(f):\n",
    "    # parameter f: movie ratings file name (e.g. \"movieRatingSample.txt\")\n",
    "    # return: dictionary that maps user to list of (movie,rating)\n",
    "    # WRITE YOUR CODE BELOW\n",
    "    user_ratings_dict = defaultdict(list)\n",
    "    with open(f, 'r') as file:\n",
    "        for line in file:\n",
    "            movie, rating, user_id = line.strip().split('|')\n",
    "            user_ratings_dict[user_id].append((movie, float(rating)))\n",
    "            # print(type(user_id))\n",
    "    return user_ratings_dict\n",
    "\n",
    "read_user_ratings('./data/moveRatingsSample.txt')"
   ]
  },
  {
   "cell_type": "code",
   "execution_count": 17,
   "metadata": {},
   "outputs": [
    {
     "data": {
      "text/plain": [
       "'Adventure'"
      ]
     },
     "execution_count": 17,
     "metadata": {},
     "output_type": "execute_result"
    }
   ],
   "source": [
    "def get_user_genre(user_id, user_to_movies, movie_to_genre):\n",
    "    # parameter user_id: user id\n",
    "    # parameter user_to_movies: dictionary that maps user to movies and ratings\n",
    "    # parameter movie_to_genre: dictionary that maps movie to genre\n",
    "    # return: top genre that user likes\n",
    "    # WRITE YOUR CODE BELOW\n",
    "    ratings = user_to_movies.get(user_id, [])\n",
    "    genre_ratings = defaultdict(list)\n",
    "    for movie, rating in ratings:\n",
    "        genre = movie_to_genre.get(movie)\n",
    "        genre_ratings[genre].append(rating)\n",
    "    average_genre_ratings = {genre: sum(ratings) / len(ratings) for genre, ratings in genre_ratings.items()}\n",
    "    user_top_genre = max(average_genre_ratings, key=average_genre_ratings.get)\n",
    "    return user_top_genre\n",
    "\n",
    "get_user_genre(user_id=\"1\", user_to_movies=defaultdict(list,\n",
    "            {'1': [('Toy Story (1995)', 4.0),\n",
    "              ('Grumpier Old Men (1995)', 4.0),\n",
    "              ('Heat (1995)', 4.0)],\n",
    "             '5': [('Toy Story (1995)', 4.0)],\n",
    "             '7': [('Toy Story (1995)', 4.5)],\n",
    "             '15': [('Toy Story (1995)', 2.5)],\n",
    "             '17': [('Toy Story (1995)', 4.5)],\n",
    "             '18': [('Toy Story (1995)', 3.5),\n",
    "              ('Jumanji (1995)', 3.0),\n",
    "              ('Heat (1995)', 4.0)],\n",
    "             '6': [('Jumanji (1995)', 4.0),\n",
    "              ('Tom and Huck (1995)', 3.0),\n",
    "              ('Grumpier Old Men (1995)', 5.0),\n",
    "              ('Waiting to Exhale (1995)', 3.0),\n",
    "              ('Father of the Bride Part II (1995)', 5.0),\n",
    "              ('Heat (1995)', 4.0),\n",
    "              ('GoldenEye (1995)', 3.0)],\n",
    "             '8': [('Jumanji (1995)', 4.0), ('GoldenEye (1995)', 2.0)],\n",
    "             '19': [('Jumanji (1995)', 3.0),\n",
    "              ('Grumpier Old Men (1995)', 3.0),\n",
    "              ('GoldenEye (1995)', 2.0)],\n",
    "             '20': [('Jumanji (1995)', 3.0), ('Tom and Huck (1995)', 1.0)],\n",
    "             '21': [('Jumanji (1995)', 3.5), ('GoldenEye (1995)', 5.0)],\n",
    "             '43': [('Tom and Huck (1995)', 5.0),\n",
    "              ('Grumpier Old Men (1995)', 5.0),\n",
    "              ('Father of the Bride Part II (1995)', 5.0)],\n",
    "             '274': [('Tom and Huck (1995)', 3.0)],\n",
    "             '372': [('Tom and Huck (1995)', 2.0)],\n",
    "             '414': [('Tom and Huck (1995)', 3.0)],\n",
    "             '32': [('Grumpier Old Men (1995)', 3.0)],\n",
    "             '42': [('Grumpier Old Men (1995)', 4.0)],\n",
    "             '14': [('Waiting to Exhale (1995)', 3.0)],\n",
    "             '84': [('Waiting to Exhale (1995)', 3.0)],\n",
    "             '162': [('Waiting to Exhale (1995)', 3.0)],\n",
    "             '262': [('Waiting to Exhale (1995)', 1.0)],\n",
    "             '411': [('Waiting to Exhale (1995)', 2.0)],\n",
    "             '31': [('Father of the Bride Part II (1995)', 3.0)],\n",
    "             '45': [('Father of the Bride Part II (1995)', 3.0)],\n",
    "             '58': [('Father of the Bride Part II (1995)', 4.0)],\n",
    "             '66': [('Father of the Bride Part II (1995)', 4.0)],\n",
    "             '11': [('Heat (1995)', 5.0), ('GoldenEye (1995)', 3.0)],\n",
    "             '23': [('Heat (1995)', 4.0)],\n",
    "             '24': [('Heat (1995)', 4.5)],\n",
    "             '151': [('Sudden Death (1995)', 4.0)],\n",
    "             '179': [('Sudden Death (1995)', 3.0)],\n",
    "             '217': [('Sudden Death (1995)', 3.0)],\n",
    "             '269': [('Sudden Death (1995)', 2.0)],\n",
    "             '270': [('Sudden Death (1995)', 3.0)],\n",
    "             '337': [('Sudden Death (1995)', 5.0)],\n",
    "             '26': [('GoldenEye (1995)', 3.0)]}), movie_to_genre={'Toy Story (1995)': 'Adventure',\n",
    " 'Jumanji (1995)': 'Adventure',\n",
    " 'Tom and Huck (1995)': 'Adventure',\n",
    " 'Grumpier Old Men (1995)': 'Comedy',\n",
    " 'Waiting to Exhale (1995)': 'Comedy',\n",
    " 'Father of the Bride Part II (1995)': 'Comedy',\n",
    " 'Heat (1995)': 'Action',\n",
    " 'Sudden Death (1995)': 'Action',\n",
    " 'GoldenEye (1995)': 'Action'})"
   ]
  },
  {
   "cell_type": "code",
   "execution_count": 20,
   "metadata": {},
   "outputs": [
    {
     "data": {
      "text/plain": [
       "{'Jumanji (1995)': 3.4166666666666665,\n",
       " 'Tom and Huck (1995)': 2.8333333333333335}"
      ]
     },
     "execution_count": 20,
     "metadata": {},
     "output_type": "execute_result"
    }
   ],
   "source": [
    "def recommend_movies(user_id, user_to_movies, movie_to_genre, movie_to_average_rating):\n",
    "    # parameter user_id: user id\n",
    "    # parameter user_to_movies: dictionary that maps user to movies and ratings\n",
    "    # parameter movie_to_genre: dictionary that maps movie to genre\n",
    "    # parameter movie_to_average_rating: dictionary that maps movie to average rating\n",
    "    # return: dictionary that maps movie to average rating\n",
    "    # WRITE YOUR CODE BELOW\n",
    "    user_genre = get_user_genre(user_id, user_to_movies, movie_to_genre)\n",
    "    movies_in_genre = [movie for movie, genre in movie_to_genre.items() if genre == user_genre]\n",
    "    movies_in_genre.sort(key=lambda x: movie_to_average_rating.get(x, 0), reverse=True)\n",
    "    unrated_movies = [movie for movie in movies_in_genre if movie not in dict(user_to_movies.get(user_id, []))]\n",
    "    recommended_movies_dict = {movie: movie_to_average_rating.get(movie, 0) for movie in unrated_movies[:3]}\n",
    "    return recommended_movies_dict\n",
    "\n",
    "recommend_movies(user_id=\"1\", user_to_movies=defaultdict(list,\n",
    "            {'1': [('Toy Story (1995)', 4.0),\n",
    "              ('Grumpier Old Men (1995)', 4.0),\n",
    "              ('Heat (1995)', 4.0)],\n",
    "             '5': [('Toy Story (1995)', 4.0)],\n",
    "             '7': [('Toy Story (1995)', 4.5)],\n",
    "             '15': [('Toy Story (1995)', 2.5)],\n",
    "             '17': [('Toy Story (1995)', 4.5)],\n",
    "             '18': [('Toy Story (1995)', 3.5),\n",
    "              ('Jumanji (1995)', 3.0),\n",
    "              ('Heat (1995)', 4.0)],\n",
    "             '6': [('Jumanji (1995)', 4.0),\n",
    "              ('Tom and Huck (1995)', 3.0),\n",
    "              ('Grumpier Old Men (1995)', 5.0),\n",
    "              ('Waiting to Exhale (1995)', 3.0),\n",
    "              ('Father of the Bride Part II (1995)', 5.0),\n",
    "              ('Heat (1995)', 4.0),\n",
    "              ('GoldenEye (1995)', 3.0)],\n",
    "             '8': [('Jumanji (1995)', 4.0), ('GoldenEye (1995)', 2.0)],\n",
    "             '19': [('Jumanji (1995)', 3.0),\n",
    "              ('Grumpier Old Men (1995)', 3.0),\n",
    "              ('GoldenEye (1995)', 2.0)],\n",
    "             '20': [('Jumanji (1995)', 3.0), ('Tom and Huck (1995)', 1.0)],\n",
    "             '21': [('Jumanji (1995)', 3.5), ('GoldenEye (1995)', 5.0)],\n",
    "             '43': [('Tom and Huck (1995)', 5.0),\n",
    "              ('Grumpier Old Men (1995)', 5.0),\n",
    "              ('Father of the Bride Part II (1995)', 5.0)],\n",
    "             '274': [('Tom and Huck (1995)', 3.0)],\n",
    "             '372': [('Tom and Huck (1995)', 2.0)],\n",
    "             '414': [('Tom and Huck (1995)', 3.0)],\n",
    "             '32': [('Grumpier Old Men (1995)', 3.0)],\n",
    "             '42': [('Grumpier Old Men (1995)', 4.0)],\n",
    "             '14': [('Waiting to Exhale (1995)', 3.0)],\n",
    "             '84': [('Waiting to Exhale (1995)', 3.0)],\n",
    "             '162': [('Waiting to Exhale (1995)', 3.0)],\n",
    "             '262': [('Waiting to Exhale (1995)', 1.0)],\n",
    "             '411': [('Waiting to Exhale (1995)', 2.0)],\n",
    "             '31': [('Father of the Bride Part II (1995)', 3.0)],\n",
    "             '45': [('Father of the Bride Part II (1995)', 3.0)],\n",
    "             '58': [('Father of the Bride Part II (1995)', 4.0)],\n",
    "             '66': [('Father of the Bride Part II (1995)', 4.0)],\n",
    "             '11': [('Heat (1995)', 5.0), ('GoldenEye (1995)', 3.0)],\n",
    "             '23': [('Heat (1995)', 4.0)],\n",
    "             '24': [('Heat (1995)', 4.5)],\n",
    "             '151': [('Sudden Death (1995)', 4.0)],\n",
    "             '179': [('Sudden Death (1995)', 3.0)],\n",
    "             '217': [('Sudden Death (1995)', 3.0)],\n",
    "             '269': [('Sudden Death (1995)', 2.0)],\n",
    "             '270': [('Sudden Death (1995)', 3.0)],\n",
    "             '337': [('Sudden Death (1995)', 5.0)],\n",
    "             '26': [('GoldenEye (1995)', 3.0)]}), movie_to_genre={'Toy Story (1995)': 'Adventure',\n",
    " 'Jumanji (1995)': 'Adventure',\n",
    " 'Tom and Huck (1995)': 'Adventure',\n",
    " 'Grumpier Old Men (1995)': 'Comedy',\n",
    " 'Waiting to Exhale (1995)': 'Comedy',\n",
    " 'Father of the Bride Part II (1995)': 'Comedy',\n",
    " 'Heat (1995)': 'Action',\n",
    " 'Sudden Death (1995)': 'Action',\n",
    " 'GoldenEye (1995)': 'Action'}, movie_to_average_rating={'Toy Story (1995)': 3.8333333333333335,\n",
    " 'Jumanji (1995)': 3.4166666666666665,\n",
    " 'Tom and Huck (1995)': 2.8333333333333335,\n",
    " 'Grumpier Old Men (1995)': 4.0,\n",
    " 'Waiting to Exhale (1995)': 2.5,\n",
    " 'Father of the Bride Part II (1995)': 4.0,\n",
    " 'Heat (1995)': 4.25,\n",
    " 'Sudden Death (1995)': 3.3333333333333335,\n",
    " 'GoldenEye (1995)': 3.0})\n"
   ]
  }
 ],
 "metadata": {
  "kernelspec": {
   "display_name": "Python 3.11.5 64-bit",
   "language": "python",
   "name": "python3"
  },
  "language_info": {
   "codemirror_mode": {
    "name": "ipython",
    "version": 3
   },
   "file_extension": ".py",
   "mimetype": "text/x-python",
   "name": "python",
   "nbconvert_exporter": "python",
   "pygments_lexer": "ipython3",
   "version": "3.11.5"
  },
  "orig_nbformat": 4,
  "vscode": {
   "interpreter": {
    "hash": "b0fa6594d8f4cbf19f97940f81e996739fb7646882a419484c72d19e05852a7e"
   }
  }
 },
 "nbformat": 4,
 "nbformat_minor": 2
}
