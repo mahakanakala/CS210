{
 "cells": [
  {
   "cell_type": "code",
   "execution_count": 29,
   "metadata": {},
   "outputs": [],
   "source": [
    "import csv\n",
    "from collections import Counter"
   ]
  },
  {
   "cell_type": "code",
   "execution_count": 30,
   "metadata": {},
   "outputs": [],
   "source": [
    "# 1\n",
    "def calculate_fire_type_percentage(filename):\n",
    "    total_fire_pokemons = 0\n",
    "    fire_pokemons_above_level_40 = 0\n",
    "    \n",
    "    with open(filename, 'r') as file:\n",
    "        reader = csv.DictReader(file)\n",
    "        for row in reader:\n",
    "            if row['type'] == 'fire':\n",
    "                total_fire_pokemons += 1\n",
    "                if float(row['level']) >= 40:\n",
    "                    fire_pokemons_above_level_40 += 1\n",
    "    \n",
    "    percentage = (fire_pokemons_above_level_40 / total_fire_pokemons) * 100 if total_fire_pokemons > 0 else 0\n",
    "    return round(percentage)\n",
    "\n",
    "percentage = calculate_fire_type_percentage('../data/pokemonTrain.csv')\n",
    "\n",
    "with open('pokemon1.txt', 'w') as output_file:\n",
    "    output_file.write(f\"Percentage of fire type Pokemons at or above level 40 = {percentage}\")"
   ]
  },
  {
   "cell_type": "markdown",
   "metadata": {},
   "source": [
    "# 3\n",
    "[13 pts] Fill in the missing (NaN) values in the Attack (\"atk\"), Defense (\"def\") and Hit Points (\"hp\") columns as follows:\n",
    "- Set the pokemon level threshold to 40.\n",
    "- For a Pokemon having level above the threshold (i.e. > 40), fill in the missing value for atk/def/hp with the average values of atk/def/hp of Pokemons with level > 40. So, for instance, you would substitute the missing \"atk\" value for Magmar (level 44), with the average \"atk\" value for Pokemons with level > 40. Round the average to one decimal place.\n",
    "- For a Pokemon having level equal to or below the threshold (i.e. <= 40), fill in the missing value for atk/def/hp with the average values of atk/def/hp of Pokemons with level <= 40. Round the average to one decimal place.\n",
    "\n",
    "**After performing #2 and #3, write the modified data to another csv file named \"pokemonResult.csv\". This result file should have all of the rows from the input file - rows that were modified as well as rows that were not modified. If you do not write the modified data to another CSV file, or your output file name is not exactly as required, you will get 0 points.**"
   ]
  },
  {
   "cell_type": "code",
   "execution_count": 31,
   "metadata": {},
   "outputs": [],
   "source": [
    "# 2\n",
    "def get_most_common_type(weakness):\n",
    "    types = []\n",
    "    for w in weakness.split(','):\n",
    "        types.append(w.strip())\n",
    "    type_counts = Counter(types)\n",
    "    most_common_type = min(type_counts, key=lambda k: (-type_counts[k], k))\n",
    "    return most_common_type"
   ]
  },
  {
   "cell_type": "code",
   "execution_count": 32,
   "metadata": {},
   "outputs": [],
   "source": [
    "# 2\n",
    "def fill_missing_types(filename):\n",
    "    filled_data = []\n",
    "    with open(filename, 'r') as file:\n",
    "        reader = csv.DictReader(file)\n",
    "        for row in reader:\n",
    "            if row['type'] == 'NaN':\n",
    "                most_common_type = get_most_common_type(row['weakness'])\n",
    "                row['type'] = most_common_type\n",
    "            filled_data.append(row)\n",
    "    return filled_data"
   ]
  },
  {
   "cell_type": "code",
   "execution_count": 33,
   "metadata": {},
   "outputs": [],
   "source": [
    "def fill_missing_values(data):\n",
    "    atk_sum_over_40 = 0\n",
    "    def_sum_over_40 = 0\n",
    "    hp_sum_over_40 = 0\n",
    "    atk_count_over_40 = 0\n",
    "    def_count_over_40 = 0\n",
    "    hp_count_over_40 = 0\n",
    "    atk_sum_below_40 = 0\n",
    "    def_sum_below_40 = 0\n",
    "    hp_sum_below_40 = 0\n",
    "    atk_count_below_40 = 0\n",
    "    def_count_below_40 = 0\n",
    "    hp_count_below_40 = 0\n",
    "    \n",
    "    for row in data:\n",
    "        if row['atk'] != 'NaN':\n",
    "            if float(row['level']) > 40:\n",
    "                atk_sum_over_40 += float(row['atk'])\n",
    "                atk_count_over_40 += 1\n",
    "            else:\n",
    "                atk_sum_below_40 += float(row['atk'])\n",
    "                atk_count_below_40 += 1\n",
    "        \n",
    "        if row['def'] != 'NaN':\n",
    "            if float(row['level']) > 40:\n",
    "                def_sum_over_40 += float(row['def'])\n",
    "                def_count_over_40 += 1\n",
    "            else:\n",
    "                def_sum_below_40 += float(row['def'])\n",
    "                def_count_below_40 += 1\n",
    "        \n",
    "        if row['hp'] != 'NaN':\n",
    "            if float(row['level']) > 40:\n",
    "                hp_sum_over_40 += float(row['hp'])\n",
    "                hp_count_over_40 += 1\n",
    "            else:\n",
    "                hp_sum_below_40 += float(row['hp'])\n",
    "                hp_count_below_40 += 1\n",
    "    \n",
    "    avg_atk_over_40 = round(atk_sum_over_40 / atk_count_over_40, 1) if atk_count_over_40 > 0 else 0\n",
    "    avg_def_over_40 = round(def_sum_over_40 / def_count_over_40, 1) if def_count_over_40 > 0 else 0\n",
    "    avg_hp_over_40 = round(hp_sum_over_40 / hp_count_over_40, 1) if hp_count_over_40 > 0 else 0\n",
    "    avg_atk_below_40 = round(atk_sum_below_40 / atk_count_below_40, 1) if atk_count_below_40 > 0 else 0\n",
    "    avg_def_below_40 = round(def_sum_below_40 / def_count_below_40, 1) if def_count_below_40 > 0 else 0\n",
    "    avg_hp_below_40 = round(hp_sum_below_40 / hp_count_below_40, 1) if hp_count_below_40 > 0 else 0\n",
    "    \n",
    "    for row in data:\n",
    "        if row['atk'] == 'NaN':\n",
    "            if float(row['level']) > 40:\n",
    "                row['atk'] = str(avg_atk_over_40)\n",
    "            else:\n",
    "                row['atk'] = str(avg_atk_below_40)\n",
    "        \n",
    "        if row['def'] == 'NaN':\n",
    "            if float(row['level']) > 40:\n",
    "                row['def'] = str(avg_def_over_40)\n",
    "            else:\n",
    "                row['def'] = str(avg_def_below_40)\n",
    "        \n",
    "        if row['hp'] == 'NaN':\n",
    "            if float(row['level']) > 40:\n",
    "                row['hp'] = str(avg_hp_over_40)\n",
    "            else:\n",
    "                row['hp'] = str(avg_hp_below_40)\n",
    "    \n",
    "    return data"
   ]
  },
  {
   "cell_type": "code",
   "execution_count": 25,
   "metadata": {},
   "outputs": [],
   "source": [
    "def write_to_csv(data, filename):\n",
    "    with open(filename, 'w', newline='') as output_file:\n",
    "        fieldnames = data[0].keys()\n",
    "        writer = csv.DictWriter(output_file, fieldnames=fieldnames)\n",
    "        \n",
    "        writer.writeheader()\n",
    "        for row in data:\n",
    "            writer.writerow(row)"
   ]
  },
  {
   "cell_type": "code",
   "execution_count": 28,
   "metadata": {},
   "outputs": [],
   "source": [
    "filename = '../data/pokemonTrain.csv'\n",
    "    \n",
    "    # Fill missing types\n",
    "data = fill_missing_types(filename)\n",
    "    \n",
    "    # Fill missing values\n",
    "modified_data = fill_missing_values(data)\n",
    "    \n",
    "    # Write modified data to CSV\n",
    "write_to_csv(modified_data, '../data/pokemonResult.csv')"
   ]
  },
  {
   "cell_type": "markdown",
   "metadata": {},
   "source": [
    "# 4\n",
    "[10 pts] Create a dictionary that maps pokemon types to their personalities. This dictionary would map a string to a list of strings. For example:\n",
    "     {\"fire\": [\"docile\", \"modest\", ...], \"normal\": [\"mild\", \"relaxed\", ...],  ...}\n",
    "Your dictionary should have the keys ordered alphabetically, and also items ordered alphabetically in the values list, as shown in the example above.\n",
    "\n",
    "Print the dictionary in the following format:\n",
    "\n",
    "   Pokemon type to personality mapping:\n",
    "\n",
    "      normal: mild, relaxed, ...\n",
    "      fire: docile, modest, ...\n",
    "      ...\n",
    "Print the dictionary to a file named \"pokemon4.txt\"\n",
    "If you do not print to a file, or your output file name is not exactly as required, you will get 0 points."
   ]
  },
  {
   "cell_type": "code",
   "execution_count": 36,
   "metadata": {},
   "outputs": [
    {
     "data": {
      "text/plain": [
       "{'bug': {'careful'},\n",
       " 'electric': {'hardy'},\n",
       " 'fairy': {'impish', 'naughty', 'sassy'},\n",
       " 'fighting': {'adamant',\n",
       "  'calm',\n",
       "  'careful',\n",
       "  'lax',\n",
       "  'lonely',\n",
       "  'relaxed',\n",
       "  'serious'},\n",
       " 'fire': {'bold',\n",
       "  'brave',\n",
       "  'gentle',\n",
       "  'hardy',\n",
       "  'impish',\n",
       "  'lax',\n",
       "  'mild',\n",
       "  'modest',\n",
       "  'naive',\n",
       "  'naughty',\n",
       "  'quiet',\n",
       "  'rash',\n",
       "  'timid'},\n",
       " 'flying': {'hasty', 'impish', 'serious'},\n",
       " 'grass': {'adamant',\n",
       "  'bashful',\n",
       "  'bold',\n",
       "  'calm',\n",
       "  'docile',\n",
       "  'gentle',\n",
       "  'lonely',\n",
       "  'naive',\n",
       "  'quiet',\n",
       "  'sassy'},\n",
       " 'ground': {'bashful', 'gentle', 'hardy', 'quiet'},\n",
       " 'normal': {'brave', 'jolly', 'mild', 'naughty', 'quiet'},\n",
       " 'rock': {'bashful', 'docile', 'impish', 'mild', 'naughty'},\n",
       " 'water': {'bashful', 'bold', 'docile', 'hardy', 'impish', 'jolly', 'naughty'}}"
      ]
     },
     "execution_count": 36,
     "metadata": {},
     "output_type": "execute_result"
    }
   ],
   "source": [
    "def create_type_to_personality_mapping(filename):\n",
    "    personality_mapping = {}\n",
    "    \n",
    "    with open(filename, 'r') as file:\n",
    "        reader = csv.DictReader(file)\n",
    "        for row in reader:\n",
    "            if row['type'] not in personality_mapping:\n",
    "                personality_mapping[row['type']] = set()\n",
    "            personality_mapping[row['type']].add(row['personality'])\n",
    "    \n",
    "    sorted_mapping = dict(sorted(personality_mapping.items()))\n",
    "    \n",
    "    with open('pokemon4.txt', 'w') as file:\n",
    "        file.write(\"Pokemon type to personality mapping:\\n\\n\")\n",
    "        for pokemon_type, personalities in sorted_mapping.items():\n",
    "            file.write(f\"{pokemon_type}: {', '.join(sorted(personalities))}\\n\")\n",
    "    \n",
    "    return sorted_mapping\n",
    "\n",
    "create_type_to_personality_mapping(filename = '../data/pokemonResult.csv')"
   ]
  },
  {
   "cell_type": "markdown",
   "metadata": {},
   "source": [
    "# 5\n",
    "[5 pts] Find out the average Hit Points (\"hp\") for pokemons of stage 3.0.\n",
    "Your program should print the value as follows (replace ... with value):\n",
    "\n",
    "Average hit point for Pokemons of stage 3.0 = ...\n",
    "You should round off the value, like in #1 above.\n",
    "\n",
    "Print the value to a file named \"pokemon5.txt\"\n",
    "If you do not print to a file, or your output file name is not exactly as required, you will get 0 points."
   ]
  },
  {
   "cell_type": "code",
   "execution_count": 38,
   "metadata": {},
   "outputs": [
    {
     "data": {
      "text/plain": [
       "99"
      ]
     },
     "execution_count": 38,
     "metadata": {},
     "output_type": "execute_result"
    }
   ],
   "source": [
    "def calculate_average_hit_points(filename):\n",
    "    total_hit_points = 0\n",
    "    count_stage_3 = 0\n",
    "    \n",
    "    with open(filename, 'r') as file:\n",
    "        reader = csv.DictReader(file)\n",
    "        for row in reader:\n",
    "            if float(row['stage']) == 3.0:\n",
    "                count_stage_3 += 1\n",
    "                total_hit_points += float(row['hp'])\n",
    "    \n",
    "    average_hp = round(total_hit_points / count_stage_3) if count_stage_3 > 0 else 0\n",
    "    \n",
    "    with open('pokemon5.txt', 'w') as file:\n",
    "        file.write(f\"Average hit point for Pokemons of stage 3.0 = {average_hp}\")\n",
    "    \n",
    "    return average_hp\n",
    "calculate_average_hit_points('../data/pokemonResult.csv')"
   ]
  },
  {
   "cell_type": "markdown",
   "metadata": {},
   "source": [
    "---\n",
    "\n",
    "## Covid HW\n",
    "- [5 pts] In the age column, wherever there is a range of values, replace it by the rounded off average value. E.g., for 10-14 substitute 12. (Rounding should be done like in 1.1). You might want to use regular expressions here, but it is not required.\n",
    "- [6 pts] Change the date format for the date columns - date_onset_symptoms, date_admission_hospital and date_confirmation from dd.mm.yyyy to mm.dd.yyyy. Again, you can use regexps here, but it is not required.\n",
    "- [7 pts] Fill in the missing (NaN) \"latitude\" and \"longitude\" values by the average of the latitude and longitude values for the province where the case was recorded. Round the average to 2 decimal places.\n",
    "- [7 pts] Fill in the missing “city” values by the most occurring city value in that province. In case of a tie, use the city that appears first in alphabetical order.\n",
    "- [10 pts] Fill in the missing \"symptom\" values by the single most frequent symptom in the province where the case was recorded. In case of a tie, use the symptom that appears first in alphabetical order."
   ]
  },
  {
   "cell_type": "code",
   "execution_count": 39,
   "metadata": {},
   "outputs": [],
   "source": [
    "import re\n",
    "import csv"
   ]
  },
  {
   "cell_type": "code",
   "execution_count": 50,
   "metadata": {},
   "outputs": [],
   "source": [
    "def age_col(f):\n",
    "    with open(f, 'r') as file:\n",
    "        reader = csv.DictReader(file)\n",
    "        header = next(reader)\n",
    "        for row in reader:\n",
    "            if '-' in row['age']:\n",
    "                ages = row['age'].split('-')\n",
    "                avg_age = (int(ages[0]) + int(ages[1])) / 2\n",
    "                row['age'] = str(avg_age)\n",
    "    return\n",
    "\n",
    "age_col('../data/covidTrain.csv')"
   ]
  },
  {
   "cell_type": "code",
   "execution_count": null,
   "metadata": {},
   "outputs": [],
   "source": [
    "def date_col(f):\n",
    "    with open(f, 'r') as file:\n",
    "        reader = csv.DictReader(file)\n",
    "        header = next(reader)\n",
    "        for row in reader:\n",
    "            \n",
    "    pass"
   ]
  },
  {
   "cell_type": "code",
   "execution_count": null,
   "metadata": {},
   "outputs": [],
   "source": []
  },
  {
   "cell_type": "markdown",
   "metadata": {},
   "source": [
    "# Text Processing\n",
    "\n"
   ]
  }
 ],
 "metadata": {
  "kernelspec": {
   "display_name": "Python 3.11.5 64-bit",
   "language": "python",
   "name": "python3"
  },
  "language_info": {
   "codemirror_mode": {
    "name": "ipython",
    "version": 3
   },
   "file_extension": ".py",
   "mimetype": "text/x-python",
   "name": "python",
   "nbconvert_exporter": "python",
   "pygments_lexer": "ipython3",
   "version": "3.11.5"
  },
  "orig_nbformat": 4,
  "vscode": {
   "interpreter": {
    "hash": "b0fa6594d8f4cbf19f97940f81e996739fb7646882a419484c72d19e05852a7e"
   }
  }
 },
 "nbformat": 4,
 "nbformat_minor": 2
}
