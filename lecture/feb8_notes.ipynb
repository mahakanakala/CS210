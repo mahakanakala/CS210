{
 "cells": [
  {
   "cell_type": "markdown",
   "metadata": {},
   "source": [
    "## CS 210 Spring 2024 - Feb 8\n",
    "### File I/O, Regular expressions"
   ]
  },
  {
   "cell_type": "markdown",
   "metadata": {},
   "source": [
    "---"
   ]
  },
  {
   "cell_type": "markdown",
   "metadata": {
    "tags": []
   },
   "source": [
    "### <font color=\"brown\">File I/O<font>"
   ]
  },
  {
   "cell_type": "markdown",
   "metadata": {},
   "source": [
    "#### <font color=\"brown\">Reading From a File</font>"
   ]
  },
  {
   "cell_type": "markdown",
   "metadata": {},
   "source": [
    "**Open file and iterate through the lines**"
   ]
  },
  {
   "cell_type": "code",
   "execution_count": 42,
   "metadata": {
    "tags": []
   },
   "outputs": [
    {
     "name": "stdout",
     "output_type": "stream",
     "text": [
      "{'2018': 'The Shape of Water', '2010': 'The Hurt Locker', '2017': 'Moonlight', '2019': 'Green Book', '2014': '12 Years a Slave', '2016': 'Spotlight', '2015': 'Birdman', '2022': 'CODA'}\n"
     ]
    }
   ],
   "source": [
    "oscars = {}\n",
    "for line in open(\"oscars.txt\"):   # read one line at a time\n",
    "    movie, year = line.split(':')\n",
    "    oscars[year.strip()] = movie.strip()\n",
    "print(oscars)"
   ]
  },
  {
   "cell_type": "markdown",
   "metadata": {},
   "source": [
    "**Sort films by year**"
   ]
  },
  {
   "cell_type": "code",
   "execution_count": 43,
   "metadata": {
    "tags": []
   },
   "outputs": [
    {
     "name": "stdout",
     "output_type": "stream",
     "text": [
      "[('2010', 'The Hurt Locker'), ('2014', '12 Years a Slave'), ('2015', 'Birdman'), ('2016', 'Spotlight'), ('2017', 'Moonlight'), ('2018', 'The Shape of Water'), ('2019', 'Green Book'), ('2022', 'CODA')]\n"
     ]
    }
   ],
   "source": [
    "oscar_years = sorted(oscars.items(),  # dictionary items are returned as tuples\n",
    "          key=lambda movie: movie[0])\n",
    "print(oscar_years)"
   ]
  },
  {
   "cell_type": "markdown",
   "metadata": {},
   "source": [
    "#### <font color=\"brown\">Writing to a File</font>"
   ]
  },
  {
   "cell_type": "markdown",
   "metadata": {},
   "source": [
    "**Open file in \"w\" (write) mode, and write to it**"
   ]
  },
  {
   "cell_type": "code",
   "execution_count": 40,
   "metadata": {
    "tags": []
   },
   "outputs": [],
   "source": [
    "grades = {'Jenna': 80, 'Dylan': 75, 'Anis': 65}\n",
    "scores_file = open(\"scores_file.txt\",\"w\")   # open a file in \"write\" mode\n",
    "for key,value in grades.items():\n",
    "    scores_file.write(key + ':' + str(value) + '\\n')  # call write method on file\n",
    "scores_file.close()  # make sure to close the file"
   ]
  },
  {
   "cell_type": "markdown",
   "metadata": {},
   "source": [
    "---"
   ]
  },
  {
   "cell_type": "markdown",
   "metadata": {},
   "source": [
    "#### Exercise: Parsing a population file with '|' field separator"
   ]
  },
  {
   "cell_type": "code",
   "execution_count": 44,
   "metadata": {
    "tags": []
   },
   "outputs": [],
   "source": [
    "# read populations from file into a dictionary\n",
    "# country name is key, population is value\n",
    "# each line of file is <country>|<population>\n",
    "# population may have commas, need to remove\n",
    "\n",
    "def getPopulations(file):\n",
    "    pops = {}\n",
    "    for line in open(file):\n",
    "        country, pop = line.split('|')\n",
    "        population = int(pop.replace(',',''))  \n",
    "        pops[country] = population\n",
    "    return pops"
   ]
  },
  {
   "cell_type": "code",
   "execution_count": 45,
   "metadata": {
    "tags": []
   },
   "outputs": [],
   "source": [
    "populations = getPopulations('population.txt')"
   ]
  },
  {
   "cell_type": "code",
   "execution_count": 46,
   "metadata": {
    "tags": []
   },
   "outputs": [
    {
     "data": {
      "text/plain": [
       "1347350000"
      ]
     },
     "execution_count": 46,
     "metadata": {},
     "output_type": "execute_result"
    }
   ],
   "source": [
    "populations['China']"
   ]
  },
  {
   "cell_type": "code",
   "execution_count": 47,
   "metadata": {
    "tags": []
   },
   "outputs": [
    {
     "data": {
      "text/plain": [
       "26620809"
      ]
     },
     "execution_count": 47,
     "metadata": {},
     "output_type": "execute_result"
    }
   ],
   "source": [
    "populations['Nepal']"
   ]
  },
  {
   "cell_type": "markdown",
   "metadata": {},
   "source": [
    "**Use list comprehension to get countries with population over 1 million**"
   ]
  },
  {
   "cell_type": "code",
   "execution_count": 48,
   "metadata": {
    "tags": []
   },
   "outputs": [
    {
     "name": "stdout",
     "output_type": "stream",
     "text": [
      "['China', 'India', 'United States', 'Indonesia', 'Brazil', 'Pakistan', 'Nigeria', 'Bangladesh', 'Russia', 'Japan', 'Mexico']\n"
     ]
    }
   ],
   "source": [
    "large_pops = [c for c,p in populations.items() if p > 100000000 ]\n",
    "print(large_pops)"
   ]
  },
  {
   "cell_type": "markdown",
   "metadata": {},
   "source": [
    "---"
   ]
  },
  {
   "cell_type": "markdown",
   "metadata": {},
   "source": [
    "#### Exercise: Counting words in a document using Counter"
   ]
  },
  {
   "cell_type": "code",
   "execution_count": 49,
   "metadata": {
    "tags": []
   },
   "outputs": [],
   "source": [
    "from collections import Counter\n",
    "\n",
    "word_counts = Counter()\n",
    "for line in open('metamorphosis.txt'):\n",
    "    tokens = line.split()  # separate into non-whitespace sequences\n",
    "    for token in tokens:\n",
    "        word_counts.update([token.lower().strip(',.')])  # strip ',' and '.' from word"
   ]
  },
  {
   "cell_type": "code",
   "execution_count": 50,
   "metadata": {
    "tags": []
   },
   "outputs": [
    {
     "name": "stdout",
     "output_type": "stream",
     "text": [
      "Counter({'he': 10, 'to': 6, 'the': 4, 'that': 4, 'was': 4, 'his': 4, 'a': 3, 'and': 3, 'look': 2, 'at': 2, 'dull': 2, 'feel': 2, 'right': 2, 'have': 2, 'gregor': 1, 'then': 1, 'turned': 1, 'out': 1, 'window': 1, 'weather': 1, 'drops': 1, 'of': 1, 'rain': 1, 'could': 1, 'be': 1, 'heard': 1, 'hitting': 1, 'pane': 1, 'which': 1, 'made': 1, 'him': 1, 'quite': 1, 'sad': 1, 'how': 1, 'about': 1, 'if': 1, 'i': 1, 'sleep': 1, 'little': 1, 'bit': 1, 'longer': 1, 'forget': 1, 'all': 1, 'this': 1, 'nonsense': 1, 'thought': 1, 'but': 1, 'something': 1, 'unable': 1, 'do': 1, 'because': 1, 'used': 1, 'sleeping': 1, 'on': 1, 'in': 1, 'present': 1, 'state': 1, \"couldn't\": 1, 'get': 1, 'into': 1, 'position': 1, 'however': 1, 'hard': 1, 'threw': 1, 'himself': 1, 'onto': 1, 'always': 1, 'rolled': 1, 'back': 1, 'where': 1, 'must': 1, 'tried': 1, 'it': 1, 'hundred': 1, 'times': 1, 'shut': 1, 'eyes': 1, 'so': 1, \"wouldn't\": 1, 'floundering': 1, 'legs': 1, 'only': 1, 'stopped': 1, 'when': 1, 'began': 1, 'mild': 1, 'pain': 1, 'there': 1, 'had': 1, 'never': 1, 'felt': 1, 'before': 1})\n"
     ]
    }
   ],
   "source": [
    "print(word_counts)"
   ]
  },
  {
   "cell_type": "markdown",
   "metadata": {},
   "source": [
    "**Find top 5 most common words**"
   ]
  },
  {
   "cell_type": "code",
   "execution_count": 51,
   "metadata": {
    "tags": []
   },
   "outputs": [
    {
     "name": "stdout",
     "output_type": "stream",
     "text": [
      "he 10\n",
      "to 6\n",
      "the 4\n",
      "that 4\n",
      "was 4\n"
     ]
    }
   ],
   "source": [
    "for word, count in word_counts.most_common(5):\n",
    "    print(word, count)"
   ]
  },
  {
   "cell_type": "markdown",
   "metadata": {},
   "source": [
    "**Find words of length 4 or more that occur at least twice**"
   ]
  },
  {
   "cell_type": "code",
   "execution_count": 52,
   "metadata": {
    "tags": []
   },
   "outputs": [
    {
     "data": {
      "text/plain": [
       "[('that', 4), ('look', 2), ('dull', 2), ('feel', 2), ('right', 2), ('have', 2)]"
      ]
     },
     "execution_count": 52,
     "metadata": {},
     "output_type": "execute_result"
    }
   ],
   "source": [
    "commons = [(w,c) for w,c in word_counts.most_common() if len(w) > 3 and c > 1]\n",
    "commons"
   ]
  },
  {
   "cell_type": "markdown",
   "metadata": {},
   "source": [
    "**Find up to 5 words of length 4 or more that occur at least twice**"
   ]
  },
  {
   "cell_type": "code",
   "execution_count": 53,
   "metadata": {
    "tags": []
   },
   "outputs": [
    {
     "data": {
      "text/plain": [
       "[('that', 4), ('look', 2), ('dull', 2), ('feel', 2), ('right', 2)]"
      ]
     },
     "execution_count": 53,
     "metadata": {},
     "output_type": "execute_result"
    }
   ],
   "source": [
    "commons = [(w,c) for w,c in word_counts.most_common() if len(w) > 3 and c > 1][:5]\n",
    "commons"
   ]
  },
  {
   "cell_type": "markdown",
   "metadata": {},
   "source": [
    "---"
   ]
  },
  {
   "cell_type": "markdown",
   "metadata": {},
   "source": [
    "### <font color=\"brown\">Regular Expressions</font>\n",
    "\n",
    "Tutorials can be found at the following sites\n",
    "\n",
    "1. https://www.w3schools.com/python/python_regex.asp\n",
    "2. https://developers.google.com/edu/python/regular-expressions#basic-patterns\n",
    "3. https://docs.python.org/3/howto/regex.html?highlight=regular%20expressions\n",
    "\n",
    "And the site https://regex101.com/ has a regular expression engine you can use to try things out.\n"
   ]
  },
  {
   "cell_type": "markdown",
   "metadata": {},
   "source": [
    "#### <font color=\"brown\">Import the re module</font>"
   ]
  },
  {
   "cell_type": "code",
   "execution_count": 2,
   "metadata": {
    "tags": []
   },
   "outputs": [],
   "source": [
    "import re"
   ]
  },
  {
   "cell_type": "markdown",
   "metadata": {},
   "source": [
    "---"
   ]
  },
  {
   "cell_type": "markdown",
   "metadata": {},
   "source": [
    "#### <font color=\"brown\">Search for a pattern in a string using re.search function</font>"
   ]
  },
  {
   "cell_type": "code",
   "execution_count": 18,
   "metadata": {
    "tags": []
   },
   "outputs": [
    {
     "data": {
      "text/plain": [
       "<re.Match object; span=(1, 2), match='a'>"
      ]
     },
     "execution_count": 18,
     "metadata": {},
     "output_type": "execute_result"
    }
   ],
   "source": [
    "res = re.search('a','cat')  # search for pattern 'a' in target 'cat'\n",
    "res"
   ]
  },
  {
   "cell_type": "markdown",
   "metadata": {},
   "source": [
    "**search returns a Match object: span(1,2) is the span from start index to end index (exclusive)<br>\n",
    "of target string \"cat\" where the match is found, and match gives the actual match**"
   ]
  },
  {
   "cell_type": "code",
   "execution_count": 19,
   "metadata": {
    "tags": []
   },
   "outputs": [
    {
     "name": "stdout",
     "output_type": "stream",
     "text": [
      "None\n"
     ]
    }
   ],
   "source": [
    "res = re.search('a','dog')\n",
    "print(res)"
   ]
  },
  {
   "cell_type": "markdown",
   "metadata": {},
   "source": [
    "**If you simply echo res, nothing will be echoed since res is null, see below**"
   ]
  },
  {
   "cell_type": "code",
   "execution_count": 20,
   "metadata": {
    "tags": []
   },
   "outputs": [],
   "source": [
    "res"
   ]
  },
  {
   "cell_type": "markdown",
   "metadata": {},
   "source": [
    "**So it's good policy to print the return from search, in case the return was None**"
   ]
  },
  {
   "cell_type": "code",
   "execution_count": 21,
   "metadata": {
    "tags": []
   },
   "outputs": [
    {
     "name": "stdout",
     "output_type": "stream",
     "text": [
      "not matched\n"
     ]
    }
   ],
   "source": [
    "print ('matched') if re.search('a','dog') else print('not matched')"
   ]
  },
  {
   "cell_type": "markdown",
   "metadata": {},
   "source": [
    "**search returns the first occurrence of a match, in case there are multiple matches**"
   ]
  },
  {
   "cell_type": "code",
   "execution_count": 25,
   "metadata": {
    "tags": []
   },
   "outputs": [
    {
     "name": "stdout",
     "output_type": "stream",
     "text": [
      "<re.Match object; span=(1, 3), match='ar'>\n"
     ]
    }
   ],
   "source": [
    "res = re.search('ar','barbaric')  \n",
    "print(res)  "
   ]
  },
  {
   "cell_type": "code",
   "execution_count": 27,
   "metadata": {
    "tags": []
   },
   "outputs": [],
   "source": [
    "# since failure is possible when searching, use condition\n",
    "def searchit(pattern,astr): \n",
    "    return 'Matched' if re.search(pattern,astr) else 'No match' \n",
    "\n",
    "# if re.search(pattern,astr) is same as if re.search(pattern,astr) != None"
   ]
  },
  {
   "cell_type": "code",
   "execution_count": 28,
   "metadata": {
    "tags": []
   },
   "outputs": [
    {
     "name": "stdout",
     "output_type": "stream",
     "text": [
      "Matched\n",
      "No match\n",
      "Matched\n"
     ]
    }
   ],
   "source": [
    "print(searchit('a','cat'))\n",
    "print(searchit('a','dog'))\n",
    "print(searchit('ar','barbaric'))"
   ]
  },
  {
   "cell_type": "markdown",
   "metadata": {},
   "source": [
    "**<font color=\"red\">Matching literal strings is faster with string method</font>**"
   ]
  },
  {
   "cell_type": "code",
   "execution_count": 29,
   "metadata": {
    "tags": []
   },
   "outputs": [
    {
     "name": "stdout",
     "output_type": "stream",
     "text": [
      "Matched\n",
      "No match\n",
      "Matched\n"
     ]
    }
   ],
   "source": [
    "def findit(litstr,target):\n",
    "    return 'No match' if target.find(litstr) == -1 else 'Matched'\n",
    "    \n",
    "print(searchit('a','cat'))\n",
    "print(searchit('a','dog'))\n",
    "print(searchit('ar','barbaric'))"
   ]
  },
  {
   "cell_type": "markdown",
   "metadata": {},
   "source": [
    "---"
   ]
  },
  {
   "cell_type": "markdown",
   "metadata": {},
   "source": [
    "#### <font color=\"brown\">Writing regexp patterns with metacharacters</font>"
   ]
  },
  {
   "cell_type": "markdown",
   "metadata": {},
   "source": [
    "**Metacharacter [ ] is used for a class of characters<br>\n",
    "Metacharacter * means 0 or more of preceding character/class<br>\n",
    "Metacharacter + means 1 or more of preceding character/class**"
   ]
  },
  {
   "cell_type": "markdown",
   "metadata": {},
   "source": [
    "**Example 1**<br>\n",
    "Search for any sequence of characters that starts with 'a', ends with 't', and has zero or more 'c's in between"
   ]
  },
  {
   "cell_type": "code",
   "execution_count": 3,
   "metadata": {
    "tags": []
   },
   "outputs": [
    {
     "name": "stdout",
     "output_type": "stream",
     "text": [
      "match\n",
      "no match\n",
      "match\n",
      "no match\n"
     ]
    }
   ],
   "source": [
    "while True:\n",
    "    astr = input(\"string? ('quit' to stop) \")\n",
    "    if astr == 'quit':\n",
    "        break\n",
    "    res = re.search('ac*t',astr)  # uses metacharacter *\n",
    "    print('match') if res else print('no match')"
   ]
  },
  {
   "cell_type": "markdown",
   "metadata": {},
   "source": [
    "**Example 2**<br>\n",
    "Search for any sequence of characters that starts with 'a', ends with 't', and has AT LEAST one 'c' in between"
   ]
  },
  {
   "cell_type": "code",
   "execution_count": 31,
   "metadata": {
    "tags": []
   },
   "outputs": [
    {
     "name": "stdout",
     "output_type": "stream",
     "text": [
      "string? ('quit' to stop)  at\n"
     ]
    },
    {
     "name": "stdout",
     "output_type": "stream",
     "text": [
      "no match\n"
     ]
    },
    {
     "name": "stdout",
     "output_type": "stream",
     "text": [
      "string? ('quit' to stop)  act\n"
     ]
    },
    {
     "name": "stdout",
     "output_type": "stream",
     "text": [
      "match\n"
     ]
    },
    {
     "name": "stdout",
     "output_type": "stream",
     "text": [
      "string? ('quit' to stop)  tact\n"
     ]
    },
    {
     "name": "stdout",
     "output_type": "stream",
     "text": [
      "match\n"
     ]
    },
    {
     "name": "stdout",
     "output_type": "stream",
     "text": [
      "string? ('quit' to stop)  tacit\n"
     ]
    },
    {
     "name": "stdout",
     "output_type": "stream",
     "text": [
      "no match\n"
     ]
    },
    {
     "name": "stdout",
     "output_type": "stream",
     "text": [
      "string? ('quit' to stop)  quit\n"
     ]
    }
   ],
   "source": [
    "while True:\n",
    "    astr = input(\"string? ('quit' to stop) \")\n",
    "    if astr == 'quit':\n",
    "        break\n",
    "    res = re.search('ac+t',astr)  # uses metacharacter +\n",
    "    print('match') if res else print('no match')"
   ]
  },
  {
   "cell_type": "markdown",
   "metadata": {},
   "source": [
    "**Example 3**<br>\n",
    "Search for any sequence that starts with a, ends with t, and has 0 or more digits in between"
   ]
  },
  {
   "cell_type": "code",
   "execution_count": 32,
   "metadata": {
    "tags": []
   },
   "outputs": [
    {
     "name": "stdout",
     "output_type": "stream",
     "text": [
      "string? ('quit' to stop)  at\n"
     ]
    },
    {
     "name": "stdout",
     "output_type": "stream",
     "text": [
      "match\n"
     ]
    },
    {
     "name": "stdout",
     "output_type": "stream",
     "text": [
      "string? ('quit' to stop)  art\n"
     ]
    },
    {
     "name": "stdout",
     "output_type": "stream",
     "text": [
      "no match\n"
     ]
    },
    {
     "name": "stdout",
     "output_type": "stream",
     "text": [
      "string? ('quit' to stop)  ca2t\n"
     ]
    },
    {
     "name": "stdout",
     "output_type": "stream",
     "text": [
      "match\n"
     ]
    },
    {
     "name": "stdout",
     "output_type": "stream",
     "text": [
      "string? ('quit' to stop)  xya90ter\n"
     ]
    },
    {
     "name": "stdout",
     "output_type": "stream",
     "text": [
      "match\n"
     ]
    },
    {
     "name": "stdout",
     "output_type": "stream",
     "text": [
      "string? ('quit' to stop)  quit\n"
     ]
    }
   ],
   "source": [
    "while True:\n",
    "    astr = input(\"string? ('quit' to stop) \")\n",
    "    if astr == 'quit':\n",
    "        break\n",
    "    res = re.search('a[0-9]*t',astr)  # uses metacharacters [] and *\n",
    "    print('match') if res else print('no match')"
   ]
  },
  {
   "cell_type": "markdown",
   "metadata": {},
   "source": [
    "**Example 4**<br>\n",
    "Search for any sequence that starts with a, ends with t, and has any number of letters or digits (or none) in between"
   ]
  },
  {
   "cell_type": "code",
   "execution_count": 33,
   "metadata": {
    "tags": []
   },
   "outputs": [
    {
     "name": "stdout",
     "output_type": "stream",
     "text": [
      "string? ('quit' to stop)  at\n"
     ]
    },
    {
     "name": "stdout",
     "output_type": "stream",
     "text": [
      "match\n"
     ]
    },
    {
     "name": "stdout",
     "output_type": "stream",
     "text": [
      "string? ('quit' to stop)  cA23ter\n"
     ]
    },
    {
     "name": "stdout",
     "output_type": "stream",
     "text": [
      "no match\n"
     ]
    },
    {
     "name": "stdout",
     "output_type": "stream",
     "text": [
      "string? ('quit' to stop)  ca23ter\n"
     ]
    },
    {
     "name": "stdout",
     "output_type": "stream",
     "text": [
      "match\n"
     ]
    },
    {
     "name": "stdout",
     "output_type": "stream",
     "text": [
      "string? ('quit' to stop)  quit\n"
     ]
    }
   ],
   "source": [
    "while True:\n",
    "    astr = input(\"string? ('quit' to stop) \")\n",
    "    if astr == 'quit':\n",
    "        break\n",
    "    res = re.search('a[a-zA-Z0-\\9]*t',astr)  # uses metacharacters [] and *\n",
    "    print('match') if res else print('no match')"
   ]
  },
  {
   "cell_type": "markdown",
   "metadata": {},
   "source": [
    "**Example 5**<br>\n",
    "Search for any sequence that starts with a, ends with t, and has AT LEAST one letter and one digit between, in that order<br>\n",
    "i.e. between a and t, all letters must precede all digits"
   ]
  },
  {
   "cell_type": "code",
   "execution_count": 34,
   "metadata": {
    "tags": []
   },
   "outputs": [
    {
     "name": "stdout",
     "output_type": "stream",
     "text": [
      "string? ('quit' to stop)  at\n"
     ]
    },
    {
     "name": "stdout",
     "output_type": "stream",
     "text": [
      "no match\n"
     ]
    },
    {
     "name": "stdout",
     "output_type": "stream",
     "text": [
      "string? ('quit' to stop)  cater\n"
     ]
    },
    {
     "name": "stdout",
     "output_type": "stream",
     "text": [
      "no match\n"
     ]
    },
    {
     "name": "stdout",
     "output_type": "stream",
     "text": [
      "string? ('quit' to stop)  caBb3txy\n"
     ]
    },
    {
     "name": "stdout",
     "output_type": "stream",
     "text": [
      "match\n"
     ]
    },
    {
     "name": "stdout",
     "output_type": "stream",
     "text": [
      "string? ('quit' to stop)  ca3btxy\n"
     ]
    },
    {
     "name": "stdout",
     "output_type": "stream",
     "text": [
      "no match\n"
     ]
    },
    {
     "name": "stdout",
     "output_type": "stream",
     "text": [
      "string? ('quit' to stop)  quit\n"
     ]
    }
   ],
   "source": [
    "while True:\n",
    "    astr = input(\"string? ('quit' to stop) \")\n",
    "    if astr == 'quit':\n",
    "        break\n",
    "    res = re.search('a[a-zA-Z]+[0-9]+t',astr)  # uses metacharacters [] and +\n",
    "    print('match') if res else print('no match')"
   ]
  },
  {
   "cell_type": "markdown",
   "metadata": {},
   "source": [
    "---"
   ]
  },
  {
   "cell_type": "markdown",
   "metadata": {},
   "source": [
    "**Metacharacter . matches any character**"
   ]
  },
  {
   "cell_type": "markdown",
   "metadata": {},
   "source": [
    "**Example**<br>\n",
    "Search for any sequence that starts with a, ends with t, and has any character any number of times (including zero) between"
   ]
  },
  {
   "cell_type": "code",
   "execution_count": 35,
   "metadata": {
    "tags": []
   },
   "outputs": [
    {
     "name": "stdout",
     "output_type": "stream",
     "text": [
      "string? ('quit' to stop)  at\n"
     ]
    },
    {
     "name": "stdout",
     "output_type": "stream",
     "text": [
      "match\n"
     ]
    },
    {
     "name": "stdout",
     "output_type": "stream",
     "text": [
      "string? ('quit' to stop)  a.t\n"
     ]
    },
    {
     "name": "stdout",
     "output_type": "stream",
     "text": [
      "match\n"
     ]
    },
    {
     "name": "stdout",
     "output_type": "stream",
     "text": [
      "string? ('quit' to stop)  tartan\n"
     ]
    },
    {
     "name": "stdout",
     "output_type": "stream",
     "text": [
      "match\n"
     ]
    },
    {
     "name": "stdout",
     "output_type": "stream",
     "text": [
      "string? ('quit' to stop)  roast\n"
     ]
    },
    {
     "name": "stdout",
     "output_type": "stream",
     "text": [
      "match\n"
     ]
    },
    {
     "name": "stdout",
     "output_type": "stream",
     "text": [
      "string? ('quit' to stop)  race\n"
     ]
    },
    {
     "name": "stdout",
     "output_type": "stream",
     "text": [
      "no match\n"
     ]
    },
    {
     "name": "stdout",
     "output_type": "stream",
     "text": [
      "string? ('quit' to stop)  ta?!34tte\n"
     ]
    },
    {
     "name": "stdout",
     "output_type": "stream",
     "text": [
      "match\n"
     ]
    },
    {
     "name": "stdout",
     "output_type": "stream",
     "text": [
      "string? ('quit' to stop)  quit\n"
     ]
    }
   ],
   "source": [
    "while True:\n",
    "    astr = input(\"string? ('quit' to stop) \")\n",
    "    if astr == 'quit':\n",
    "        break\n",
    "    res = re.search('a.*t',astr)  # uses metacharacters . and *\n",
    "    print('match') if res else print('no match')"
   ]
  },
  {
   "cell_type": "markdown",
   "metadata": {},
   "source": [
    "---"
   ]
  },
  {
   "cell_type": "markdown",
   "metadata": {},
   "source": [
    "**Metacharacter ? matches one or zero occurrence of *preceding* character**"
   ]
  },
  {
   "cell_type": "markdown",
   "metadata": {},
   "source": [
    "**Example**<br>\n",
    "Search for the sequence 'act' or 'at' in any string"
   ]
  },
  {
   "cell_type": "code",
   "execution_count": 36,
   "metadata": {
    "tags": []
   },
   "outputs": [
    {
     "name": "stdout",
     "output_type": "stream",
     "text": [
      "<re.Match object; span=(0, 2), match='at'>\n",
      "<re.Match object; span=(0, 3), match='act'>\n",
      "<re.Match object; span=(2, 5), match='act'>\n",
      "None\n"
     ]
    }
   ],
   "source": [
    "res = re.search('ac?t','at')\n",
    "print(res)\n",
    "res = re.search('ac?t','act')\n",
    "print(res)\n",
    "res = re.search('ac?t','tractor')\n",
    "print(res)\n",
    "res = re.search('ac?t','art')\n",
    "print(res)"
   ]
  },
  {
   "cell_type": "markdown",
   "metadata": {},
   "source": [
    "---"
   ]
  },
  {
   "cell_type": "markdown",
   "metadata": {},
   "source": [
    "**Metacharacter ^ matches start of target string when used outside of a [ ] class<br>\n",
    "Metacharacter $ matches end of target string**"
   ]
  },
  {
   "cell_type": "markdown",
   "metadata": {},
   "source": [
    "**Example 1**<br>\n",
    "Match all target strings that start with p"
   ]
  },
  {
   "cell_type": "code",
   "execution_count": 37,
   "metadata": {
    "tags": []
   },
   "outputs": [
    {
     "name": "stdout",
     "output_type": "stream",
     "text": [
      "string? ('quit' to stop)  p\n"
     ]
    },
    {
     "name": "stdout",
     "output_type": "stream",
     "text": [
      "match\n"
     ]
    },
    {
     "name": "stdout",
     "output_type": "stream",
     "text": [
      "string? ('quit' to stop)  part\n"
     ]
    },
    {
     "name": "stdout",
     "output_type": "stream",
     "text": [
      "match\n"
     ]
    },
    {
     "name": "stdout",
     "output_type": "stream",
     "text": [
      "string? ('quit' to stop)  apart\n"
     ]
    },
    {
     "name": "stdout",
     "output_type": "stream",
     "text": [
      "no match\n"
     ]
    },
    {
     "name": "stdout",
     "output_type": "stream",
     "text": [
      "string? ('quit' to stop)  quit\n"
     ]
    }
   ],
   "source": [
    "while True:\n",
    "    astr = input(\"string? ('quit' to stop) \")\n",
    "    if astr == 'quit':\n",
    "        break\n",
    "    res = re.search('^p',astr)  # uses metacharacter ^\n",
    "    print('match') if res else print('no match')"
   ]
  },
  {
   "cell_type": "markdown",
   "metadata": {},
   "source": [
    "**Example 2**<br>\n",
    "Match all target strings that end with p"
   ]
  },
  {
   "cell_type": "code",
   "execution_count": 38,
   "metadata": {
    "tags": []
   },
   "outputs": [
    {
     "name": "stdout",
     "output_type": "stream",
     "text": [
      "string? ('quit' to stop)  p\n"
     ]
    },
    {
     "name": "stdout",
     "output_type": "stream",
     "text": [
      "match\n"
     ]
    },
    {
     "name": "stdout",
     "output_type": "stream",
     "text": [
      "string? ('quit' to stop)  amp\n"
     ]
    },
    {
     "name": "stdout",
     "output_type": "stream",
     "text": [
      "match\n"
     ]
    },
    {
     "name": "stdout",
     "output_type": "stream",
     "text": [
      "string? ('quit' to stop)  quit\n"
     ]
    }
   ],
   "source": [
    "while True:\n",
    "    astr = input(\"string? ('quit' to stop) \")\n",
    "    if astr == 'quit':\n",
    "        break\n",
    "    res = re.search('p$',astr)  # uses metacharacter $\n",
    "    print('match') if res else print('no match')"
   ]
  },
  {
   "cell_type": "markdown",
   "metadata": {},
   "source": [
    "**Example 3**<br>\n",
    "Match all target strings that start with ar, end with t, and have at least one lowercase letter between"
   ]
  },
  {
   "cell_type": "code",
   "execution_count": 39,
   "metadata": {
    "tags": []
   },
   "outputs": [
    {
     "name": "stdout",
     "output_type": "stream",
     "text": [
      "string? ('quit' to stop)  at\n"
     ]
    },
    {
     "name": "stdout",
     "output_type": "stream",
     "text": [
      "no match\n"
     ]
    },
    {
     "name": "stdout",
     "output_type": "stream",
     "text": [
      "string? ('quit' to stop)  art\n"
     ]
    },
    {
     "name": "stdout",
     "output_type": "stream",
     "text": [
      "no match\n"
     ]
    },
    {
     "name": "stdout",
     "output_type": "stream",
     "text": [
      "string? ('quit' to stop)  arrest\n"
     ]
    },
    {
     "name": "stdout",
     "output_type": "stream",
     "text": [
      "match\n"
     ]
    },
    {
     "name": "stdout",
     "output_type": "stream",
     "text": [
      "string? ('quit' to stop)  aresty\n"
     ]
    },
    {
     "name": "stdout",
     "output_type": "stream",
     "text": [
      "no match\n"
     ]
    },
    {
     "name": "stdout",
     "output_type": "stream",
     "text": [
      "string? ('quit' to stop)  quit\n"
     ]
    }
   ],
   "source": [
    "while True:\n",
    "    astr = input(\"string? ('quit' to stop) \")\n",
    "    if astr == 'quit':\n",
    "        break\n",
    "    res = re.search('^ar[a-z]+t$',astr)  # uses metacharacters ^, [ ], +, and $\n",
    "    print('match') if res else print('no match')"
   ]
  },
  {
   "cell_type": "code",
   "execution_count": 18,
   "metadata": {},
   "outputs": [
    {
     "ename": "FileNotFoundError",
     "evalue": "[Errno 2] No such file or directory: 'genreMovieSample.txt'",
     "output_type": "error",
     "traceback": [
      "\u001b[0;31m---------------------------------------------------------------------------\u001b[0m",
      "\u001b[0;31mFileNotFoundError\u001b[0m                         Traceback (most recent call last)",
      "Cell \u001b[0;32mIn[18], line 1\u001b[0m\n\u001b[0;32m----> 1\u001b[0m f \u001b[39m=\u001b[39m \u001b[39mopen\u001b[39;49m(\u001b[39m\"\u001b[39;49m\u001b[39mgenreMovieSample.txt\u001b[39;49m\u001b[39m\"\u001b[39;49m, \u001b[39m\"\u001b[39;49m\u001b[39mr\u001b[39;49m\u001b[39m\"\u001b[39;49m)\n\u001b[1;32m      3\u001b[0m \u001b[39mfor\u001b[39;00m line \u001b[39min\u001b[39;00m f:\n\u001b[1;32m      4\u001b[0m     parts \u001b[39m=\u001b[39m line\u001b[39m.\u001b[39mstrip()\u001b[39m.\u001b[39msplit(\u001b[39m\"\u001b[39m\u001b[39m|\u001b[39m\u001b[39m\"\u001b[39m)\n",
      "File \u001b[0;32m~/Library/Python/3.11/lib/python/site-packages/IPython/core/interactiveshell.py:286\u001b[0m, in \u001b[0;36m_modified_open\u001b[0;34m(file, *args, **kwargs)\u001b[0m\n\u001b[1;32m    279\u001b[0m \u001b[39mif\u001b[39;00m file \u001b[39min\u001b[39;00m {\u001b[39m0\u001b[39m, \u001b[39m1\u001b[39m, \u001b[39m2\u001b[39m}:\n\u001b[1;32m    280\u001b[0m     \u001b[39mraise\u001b[39;00m \u001b[39mValueError\u001b[39;00m(\n\u001b[1;32m    281\u001b[0m         \u001b[39mf\u001b[39m\u001b[39m\"\u001b[39m\u001b[39mIPython won\u001b[39m\u001b[39m'\u001b[39m\u001b[39mt let you open fd=\u001b[39m\u001b[39m{\u001b[39;00mfile\u001b[39m}\u001b[39;00m\u001b[39m by default \u001b[39m\u001b[39m\"\u001b[39m\n\u001b[1;32m    282\u001b[0m         \u001b[39m\"\u001b[39m\u001b[39mas it is likely to crash IPython. If you know what you are doing, \u001b[39m\u001b[39m\"\u001b[39m\n\u001b[1;32m    283\u001b[0m         \u001b[39m\"\u001b[39m\u001b[39myou can use builtins\u001b[39m\u001b[39m'\u001b[39m\u001b[39m open.\u001b[39m\u001b[39m\"\u001b[39m\n\u001b[1;32m    284\u001b[0m     )\n\u001b[0;32m--> 286\u001b[0m \u001b[39mreturn\u001b[39;00m io_open(file, \u001b[39m*\u001b[39;49margs, \u001b[39m*\u001b[39;49m\u001b[39m*\u001b[39;49mkwargs)\n",
      "\u001b[0;31mFileNotFoundError\u001b[0m: [Errno 2] No such file or directory: 'genreMovieSample.txt'"
     ]
    }
   ],
   "source": [
    "f = open(\"genreMovieSample.txt\", \"r\")\n",
    "\n",
    "for line in f:\n",
    "    parts = line.strip().split(\"|\")\n",
    "    print(parts)"
   ]
  }
 ],
 "metadata": {
  "kernelspec": {
   "display_name": "Python 3.11.5 64-bit",
   "language": "python",
   "name": "python3"
  },
  "language_info": {
   "codemirror_mode": {
    "name": "ipython",
    "version": 3
   },
   "file_extension": ".py",
   "mimetype": "text/x-python",
   "name": "python",
   "nbconvert_exporter": "python",
   "pygments_lexer": "ipython3",
   "version": "3.11.5"
  },
  "vscode": {
   "interpreter": {
    "hash": "b0fa6594d8f4cbf19f97940f81e996739fb7646882a419484c72d19e05852a7e"
   }
  }
 },
 "nbformat": 4,
 "nbformat_minor": 4
}
