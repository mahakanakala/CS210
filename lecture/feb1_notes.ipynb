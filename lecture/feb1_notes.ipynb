{
 "cells": [
  {
   "cell_type": "markdown",
   "metadata": {},
   "source": [
    "## CS 210 Spring 2024 - Feb 1\n",
    "### String as iterable, List Comprehension, Sorting, Lambdas"
   ]
  },
  {
   "cell_type": "markdown",
   "metadata": {},
   "source": [
    "---"
   ]
  },
  {
   "cell_type": "markdown",
   "metadata": {},
   "source": [
    "### <font color=\"brown\">Strings as sequence (iterable) type</brown>"
   ]
  },
  {
   "cell_type": "markdown",
   "metadata": {},
   "source": [
    "#### Strings are sequence types, just like lists and tuples"
   ]
  },
  {
   "cell_type": "code",
   "execution_count": 1,
   "metadata": {},
   "outputs": [
    {
     "name": "stdout",
     "output_type": "stream",
     "text": [
      "Data Science\n",
      "Science\n",
      "Data\n",
      "12\n",
      "Science\n"
     ]
    }
   ],
   "source": [
    "ds = 'Data Science'\n",
    "print(ds)\n",
    "print(ds[5:])  \n",
    "print(ds[:4])\n",
    "print(len(ds))\n",
    "print(ds[ds.find('S'):])  # find(S) will return 5, so ds[5:]"
   ]
  },
  {
   "cell_type": "code",
   "execution_count": 2,
   "metadata": {},
   "outputs": [],
   "source": [
    "# tell if a string is a palindrome - Version 1\n",
    "def isPalindrome(inp_str):\n",
    "    while True:\n",
    "        n = len(inp_str)\n",
    "        if n == 0 or n == 1:   # string of length 0 or 1 are automatic palindromes\n",
    "            return True\n",
    "        if inp_str[0].lower() != inp_str[-1].lower():   # compare first and last characters, case insensitive\n",
    "            return False\n",
    "        inp_str = inp_str[1:-1]  # extract substring slice from 2nd to 2nd-to-last characters"
   ]
  },
  {
   "cell_type": "code",
   "execution_count": 3,
   "metadata": {},
   "outputs": [
    {
     "name": "stdout",
     "output_type": "stream",
     "text": [
      "True\n",
      "True\n",
      "False\n",
      "True\n",
      "True\n",
      "False\n"
     ]
    }
   ],
   "source": [
    "print(isPalindrome(\"\"))\n",
    "print(isPalindrome(\"A\"))\n",
    "print(isPalindrome(\"Abc\"))\n",
    "print(isPalindrome(\"Abba\"))\n",
    "print(isPalindrome(\"raceCar\"))\n",
    "print(isPalindrome(\"abcd\"))"
   ]
  },
  {
   "cell_type": "code",
   "execution_count": 4,
   "metadata": {},
   "outputs": [],
   "source": [
    "'''\n",
    "Tell if a string is a palindrome - Version 2\n",
    "using unpacking with * operator (similar to unpacking a list)\n",
    "'''\n",
    "def isPalindrome2(inp_str):\n",
    "    inp_str = inp_str.lower()  # may as well lowercase the whole string upfront\n",
    "    while True:\n",
    "        n = len(inp_str)\n",
    "        if n == 0 or n == 1:\n",
    "            return True\n",
    "        f,*inp_str,l = inp_str   # unpack into first char, middle substring, last char\n",
    "        if f != l:\n",
    "            return False"
   ]
  },
  {
   "cell_type": "code",
   "execution_count": 5,
   "metadata": {},
   "outputs": [
    {
     "name": "stdout",
     "output_type": "stream",
     "text": [
      "True\n",
      "True\n",
      "False\n",
      "True\n",
      "True\n",
      "False\n"
     ]
    }
   ],
   "source": [
    "print(isPalindrome2(\"\"))\n",
    "print(isPalindrome2(\"A\"))\n",
    "print(isPalindrome2(\"Abc\"))\n",
    "print(isPalindrome2(\"Abba\"))\n",
    "print(isPalindrome2(\"raceCar\"))\n",
    "print(isPalindrome2(\"abcd\"))"
   ]
  },
  {
   "cell_type": "code",
   "execution_count": 6,
   "metadata": {},
   "outputs": [],
   "source": [
    "'''\n",
    "Tell is a string is a palindrome - Version 3\n",
    "using slicing to reverse\n",
    "'''\n",
    "def isPalindrome3(inp_str):\n",
    "    return inp_str.lower() == inp_str.lower()[::-1]"
   ]
  },
  {
   "cell_type": "code",
   "execution_count": 7,
   "metadata": {},
   "outputs": [
    {
     "name": "stdout",
     "output_type": "stream",
     "text": [
      "True\n",
      "True\n",
      "False\n",
      "True\n",
      "True\n",
      "False\n"
     ]
    }
   ],
   "source": [
    "print(isPalindrome3(\"\"))\n",
    "print(isPalindrome3(\"A\"))\n",
    "print(isPalindrome3(\"Abc\"))\n",
    "print(isPalindrome3(\"Abba\"))\n",
    "print(isPalindrome3(\"raceCar\"))\n",
    "print(isPalindrome3(\"abcd\"))"
   ]
  },
  {
   "cell_type": "code",
   "execution_count": 34,
   "metadata": {
    "tags": []
   },
   "outputs": [
    {
     "ename": "AttributeError",
     "evalue": "'str' object has no attribute 'reverse'",
     "output_type": "error",
     "traceback": [
      "\u001b[0;31m---------------------------------------------------------------------------\u001b[0m",
      "\u001b[0;31mAttributeError\u001b[0m                            Traceback (most recent call last)",
      "Cell \u001b[0;32mIn[34], line 1\u001b[0m\n\u001b[0;32m----> 1\u001b[0m \u001b[38;5;124;43m\"\u001b[39;49m\u001b[38;5;124;43mracecar\u001b[39;49m\u001b[38;5;124;43m\"\u001b[39;49m\u001b[38;5;241;43m.\u001b[39;49m\u001b[43mreverse\u001b[49m()\n",
      "\u001b[0;31mAttributeError\u001b[0m: 'str' object has no attribute 'reverse'"
     ]
    }
   ],
   "source": [
    "\"racecar\".reverse()"
   ]
  },
  {
   "cell_type": "code",
   "execution_count": 38,
   "metadata": {
    "tags": []
   },
   "outputs": [
    {
     "data": {
      "text/plain": [
       "['5', '4', '3', '2', '1']"
      ]
     },
     "execution_count": 38,
     "metadata": {},
     "output_type": "execute_result"
    }
   ],
   "source": [
    "# But list has a reverse method\n",
    "lst = list(\"12345\")\n",
    "lst.reverse()\n",
    "lst"
   ]
  },
  {
   "cell_type": "markdown",
   "metadata": {},
   "source": [
    "---"
   ]
  },
  {
   "cell_type": "markdown",
   "metadata": {},
   "source": [
    "### <font color=\"brown\">List Comprehension</font>\n",
    "\n",
    "#### Building a list out of an iterable, within the list [ ] syntax\n",
    "#### General syntax is: [expression for item in iterable]"
   ]
  },
  {
   "cell_type": "code",
   "execution_count": 8,
   "metadata": {
    "tags": []
   },
   "outputs": [
    {
     "name": "stdout",
     "output_type": "stream",
     "text": [
      "[0, 1, 2, 3, 4, 5, 6, 7, 8, 9, 10]\n"
     ]
    }
   ],
   "source": [
    "# build a list of numbers from 1 to 10\n",
    "nums = [x for x in range(11)]\n",
    "print(nums)"
   ]
  },
  {
   "cell_type": "code",
   "execution_count": 9,
   "metadata": {
    "tags": []
   },
   "outputs": [
    {
     "name": "stdout",
     "output_type": "stream",
     "text": [
      "[0, 2, 4, 6, 8, 10, 12, 14, 16, 18, 20]\n"
     ]
    }
   ],
   "source": [
    "# build a list of even numbers from 1 to 20\n",
    "evens = [x for x in range(21) if x % 2 == 0]\n",
    "print(evens)"
   ]
  },
  {
   "cell_type": "code",
   "execution_count": 10,
   "metadata": {
    "tags": []
   },
   "outputs": [
    {
     "name": "stdout",
     "output_type": "stream",
     "text": [
      "[(1, 1), (2, 4), (3, 9), (4, 16), (5, 25)]\n"
     ]
    }
   ],
   "source": [
    "# build a list of tuples (x,y) where x=1..5 and y = x^2\n",
    "squares = [(x,x*x) for x in range (1,6)]\n",
    "print(squares)"
   ]
  },
  {
   "cell_type": "code",
   "execution_count": 11,
   "metadata": {
    "tags": []
   },
   "outputs": [
    {
     "name": "stdout",
     "output_type": "stream",
     "text": [
      "['i', 'e', 'o', 'a', 'o', 'u', 'e', 'e', 'e', 'o', 'u', 'e', 'a', 'I', 'o', 'e', 'o', 'u', 'a', 'e', 'a', 'o', 'o', 'a', 'i', 'e', 'i']\n"
     ]
    }
   ],
   "source": [
    "# extract all vowels from a string\n",
    "txt = 'Friends, Romans, countrymen, lend me your ears; I come to bury Caesar, not to praise him.'\n",
    "vowels = [v for v in txt if v.lower() in 'aeiou']\n",
    "print(vowels)"
   ]
  },
  {
   "cell_type": "code",
   "execution_count": 12,
   "metadata": {
    "tags": []
   },
   "outputs": [
    {
     "name": "stdout",
     "output_type": "stream",
     "text": [
      "['Friends,', 'Romans,', 'countrymen,', 'lend', 'me', 'your', 'ears;', 'I', 'come', 'to', 'bury', 'Caesar,', 'not', 'to', 'praise', 'him.']\n"
     ]
    }
   ],
   "source": [
    "# extract all vowels from a string, only if they are not standalone - part 1\n",
    "txt = 'Friends, Romans, countrymen, lend me your ears; I come to bury Caesar, not to praise him.'\n",
    "lst = txt.split()  # extremely useful method!\n",
    "print(lst)"
   ]
  },
  {
   "cell_type": "code",
   "execution_count": 13,
   "metadata": {
    "tags": []
   },
   "outputs": [
    {
     "name": "stdout",
     "output_type": "stream",
     "text": [
      "['i', 'e', 'o', 'a', 'o', 'u', 'e', 'e', 'e', 'o', 'u', 'e', 'a', 'o', 'e', 'o', 'u', 'a', 'e', 'a', 'o', 'o', 'a', 'i', 'e', 'i']\n"
     ]
    }
   ],
   "source": [
    "# extract all vowels from a string, only if they are not standalone - part 2\n",
    "vowels = [v for word in lst for v in word if len(word) > 1 and v.lower() in 'aeiou']  # skips the 'I'\n",
    "print(vowels)"
   ]
  },
  {
   "cell_type": "code",
   "execution_count": 14,
   "metadata": {
    "tags": []
   },
   "outputs": [
    {
     "name": "stdout",
     "output_type": "stream",
     "text": [
      "['198:210', '640:250']\n"
     ]
    }
   ],
   "source": [
    "# extract all 200 level classes from a list of course numbers\n",
    "courses = ['198:111','198:210','640:250','750:313']\n",
    "sub200 = [cl for cl in courses if cl[cl.find(':')+1] == '2']\n",
    "print(sub200)"
   ]
  },
  {
   "cell_type": "code",
   "execution_count": 15,
   "metadata": {
    "tags": []
   },
   "outputs": [
    {
     "name": "stdout",
     "output_type": "stream",
     "text": [
      "[1992, 1996, 2000, 2004, 2008, 2012, 2016, 2020]\n"
     ]
    }
   ],
   "source": [
    "# list of leap years from 1990 to 2020, NOT using list comprehension\n",
    "leaps = []\n",
    "for yr in range(1990,2021):\n",
    "    if (yr % 4 == 0 and yr % 100 != 0) or (yr % 400 == 0):\n",
    "        leaps.append(yr)\n",
    "print(leaps)"
   ]
  },
  {
   "cell_type": "code",
   "execution_count": 16,
   "metadata": {
    "tags": []
   },
   "outputs": [
    {
     "name": "stdout",
     "output_type": "stream",
     "text": [
      "[1992, 1996, 2000, 2004, 2008, 2012, 2016, 2020]\n"
     ]
    }
   ],
   "source": [
    "# using list comprehension\n",
    "leapyrs = [yr for yr in range(1990,2021) \n",
    "                    if (yr % 4 == 0 and yr % 100 != 0) or (yr % 400 == 0)]\n",
    "print(leapyrs)"
   ]
  },
  {
   "cell_type": "code",
   "execution_count": 17,
   "metadata": {
    "tags": []
   },
   "outputs": [],
   "source": [
    "# given lists of integers x and y, generate all pairs of values in x and y\n",
    "# except if they are equal\n",
    "def get_pairs(x,y):\n",
    "    return [(xv,yv) for xv in x\n",
    "                       for yv in y\n",
    "                           if xv != yv]"
   ]
  },
  {
   "cell_type": "code",
   "execution_count": 18,
   "metadata": {
    "tags": []
   },
   "outputs": [
    {
     "name": "stdout",
     "output_type": "stream",
     "text": [
      "[(1, 3), (2, 3)]\n",
      "[(2, 3), (2, 1), (2, 6), (1, 3), (1, 6), (5, 3), (5, 1), (5, 6), (4, 3), (4, 1), (4, 6)]\n"
     ]
    }
   ],
   "source": [
    "print(get_pairs([1,2,3],[3]))\n",
    "print(get_pairs([2,1,5,4],[3,1,6]))"
   ]
  },
  {
   "cell_type": "code",
   "execution_count": 19,
   "metadata": {
    "tags": []
   },
   "outputs": [
    {
     "name": "stdout",
     "output_type": "stream",
     "text": [
      "[(0, 1), (0, 2), (0, 3), (0, 4), (1, 2), (1, 3), (1, 4), (2, 3), (2, 4), (3, 4)]\n"
     ]
    }
   ],
   "source": [
    "# generating pairs x,y where 0 <= x < 5, and x < y < 5\n",
    "increasing_pairs = [(x,y) for x in range(5) \n",
    "                            for y in range(x+1,5)]\n",
    "print(increasing_pairs)"
   ]
  },
  {
   "cell_type": "markdown",
   "metadata": {},
   "source": [
    "---"
   ]
  },
  {
   "cell_type": "markdown",
   "metadata": {},
   "source": [
    "#### List of lists using list comprehension"
   ]
  },
  {
   "cell_type": "code",
   "execution_count": 20,
   "metadata": {
    "tags": []
   },
   "outputs": [
    {
     "name": "stdout",
     "output_type": "stream",
     "text": [
      "[[1, 2, 3], [1, 2, 3], [1, 2, 3]]\n"
     ]
    }
   ],
   "source": [
    "# generate the list [[1,2,3],[1,2,3],[1,2,3]]\n",
    "list_of_lists = [[j for j in range(1,4)] for _ in range(1,4)]\n",
    "print(list_of_lists)"
   ]
  },
  {
   "cell_type": "code",
   "execution_count": 21,
   "metadata": {
    "tags": []
   },
   "outputs": [
    {
     "name": "stdout",
     "output_type": "stream",
     "text": [
      "[[1, 2, 3], [4, 5, 6], [7, 8, 9]]\n"
     ]
    }
   ],
   "source": [
    "# generate the list [[1,2,3],[4,5,6],[7,8,9]]\n",
    "list_of_lists = [[j+(i-1)*3 for j in range(1,4)] for i in range(1,4)]\n",
    "print(list_of_lists)"
   ]
  },
  {
   "cell_type": "code",
   "execution_count": 22,
   "metadata": {
    "tags": []
   },
   "outputs": [
    {
     "name": "stdout",
     "output_type": "stream",
     "text": [
      "[[1], [1, 2], [1, 2, 3]]\n"
     ]
    }
   ],
   "source": [
    "# lists of varying lengths\n",
    "varying_lengths = [[j for j in range(1,i)] for i in range(2,5)]\n",
    "print(varying_lengths)"
   ]
  },
  {
   "cell_type": "markdown",
   "metadata": {},
   "source": [
    "---"
   ]
  },
  {
   "cell_type": "markdown",
   "metadata": {},
   "source": [
    "### <font color=\"brown\">Sorting</font>"
   ]
  },
  {
   "cell_type": "markdown",
   "metadata": {},
   "source": [
    "#### Sorting a list using sort method"
   ]
  },
  {
   "cell_type": "code",
   "execution_count": 23,
   "metadata": {
    "tags": []
   },
   "outputs": [
    {
     "name": "stdout",
     "output_type": "stream",
     "text": [
      "[1, 1, 2, 3, 3, 4, 5, 9]\n"
     ]
    }
   ],
   "source": [
    "lst1 = [3,2,4,1,5,9,3,1]\n",
    "lst1.sort()\n",
    "print(lst1)"
   ]
  },
  {
   "cell_type": "code",
   "execution_count": 24,
   "metadata": {
    "tags": []
   },
   "outputs": [
    {
     "name": "stdout",
     "output_type": "stream",
     "text": [
      "[9, 5, 4, 3, 3, 2, 1, 1]\n"
     ]
    }
   ],
   "source": [
    "lst1.sort(reverse=True)\n",
    "print(lst1)"
   ]
  },
  {
   "cell_type": "code",
   "execution_count": 25,
   "metadata": {
    "tags": []
   },
   "outputs": [
    {
     "name": "stdout",
     "output_type": "stream",
     "text": [
      "[1, -1, -2, 3, 3, 4, -5, 9]\n"
     ]
    }
   ],
   "source": [
    "lst2 = [3,-2,4,1,-5,9,3,-1]\n",
    "lst2.sort(key=abs)  # key says how to use each value when sorting\n",
    "print(lst2)"
   ]
  },
  {
   "cell_type": "markdown",
   "metadata": {},
   "source": [
    "#### Preserving original list using 'sorted' function instead of sort method"
   ]
  },
  {
   "cell_type": "code",
   "execution_count": 26,
   "metadata": {
    "tags": []
   },
   "outputs": [
    {
     "name": "stdout",
     "output_type": "stream",
     "text": [
      "[3, -2, 4, 1, -5, 9, 3, -1]\n",
      "[9, -5, 4, 3, 3, -2, 1, -1]\n"
     ]
    }
   ],
   "source": [
    "# reverse sort list, don't modify it, get sorted list as new result\n",
    "lst2 = [3,-2,4,1,-5,9,3,-1]\n",
    "lst2sort = sorted(lst2, key=abs, reverse=True)  # sorted function instead of list sort method\n",
    "print(lst2)\n",
    "print(lst2sort)"
   ]
  },
  {
   "cell_type": "markdown",
   "metadata": {},
   "source": [
    "---"
   ]
  },
  {
   "cell_type": "markdown",
   "metadata": {},
   "source": [
    "### <font color=\"brown\">Lambdas</font>"
   ]
  },
  {
   "cell_type": "markdown",
   "metadata": {},
   "source": [
    "#### Lambda is a highly simplified function that can only have a single statement"
   ]
  },
  {
   "cell_type": "code",
   "execution_count": 27,
   "metadata": {
    "tags": []
   },
   "outputs": [
    {
     "data": {
      "text/plain": [
       "5"
      ]
     },
     "execution_count": 27,
     "metadata": {},
     "output_type": "execute_result"
    }
   ],
   "source": [
    "# two params in, result out - no explicit return\n",
    "lam = lambda a,b: a+b\n",
    "lam(2,3)"
   ]
  },
  {
   "cell_type": "code",
   "execution_count": 28,
   "metadata": {
    "tags": []
   },
   "outputs": [
    {
     "data": {
      "text/plain": [
       "5"
      ]
     },
     "execution_count": 28,
     "metadata": {},
     "output_type": "execute_result"
    }
   ],
   "source": [
    "# can roll up lambda definition and call in one statement\n",
    "(lambda a,b: a+b)(2,3)"
   ]
  },
  {
   "cell_type": "code",
   "execution_count": 29,
   "metadata": {
    "tags": []
   },
   "outputs": [
    {
     "data": {
      "text/plain": [
       "1.5"
      ]
     },
     "execution_count": 29,
     "metadata": {},
     "output_type": "execute_result"
    }
   ],
   "source": [
    "lam1 = lambda tup: tup[0]/tup[1]\n",
    "lam1((3,2))"
   ]
  },
  {
   "cell_type": "markdown",
   "metadata": {},
   "source": [
    "**Can set default values for lambda parameters**"
   ]
  },
  {
   "cell_type": "code",
   "execution_count": 30,
   "metadata": {
    "tags": []
   },
   "outputs": [
    {
     "name": "stdout",
     "output_type": "stream",
     "text": [
      "7\n",
      "12\n"
     ]
    }
   ],
   "source": [
    "lam2 = lambda x,y,z=0: x+y+z   \n",
    "print(lam2(3,4))\n",
    "print(lam2(3,4,5))"
   ]
  },
  {
   "cell_type": "markdown",
   "metadata": {},
   "source": [
    "**Lambdas are often used in sorting**"
   ]
  },
  {
   "cell_type": "code",
   "execution_count": 31,
   "metadata": {
    "tags": []
   },
   "outputs": [
    {
     "name": "stdout",
     "output_type": "stream",
     "text": [
      "[1, -1, -2, 3, 3, 4, -5, 9]\n"
     ]
    }
   ],
   "source": [
    "lst2 = [3,-2,4,1,-5,9,3,-1]\n",
    "lst2.sort(key=lambda x: abs(x)) \n",
    "print(lst2)"
   ]
  },
  {
   "cell_type": "code",
   "execution_count": 32,
   "metadata": {
    "tags": []
   },
   "outputs": [
    {
     "data": {
      "text/plain": [
       "['cs210', 'cs344', 'math250', 'phy313']"
      ]
     },
     "execution_count": 32,
     "metadata": {},
     "output_type": "execute_result"
    }
   ],
   "source": [
    "# sort course list in lexicographic order\n",
    "courses = ['math250','cs210','cs344','phy313']\n",
    "sorted(courses)  # since we are using the sorted function, original courses list is not modified"
   ]
  },
  {
   "cell_type": "code",
   "execution_count": 33,
   "metadata": {
    "tags": []
   },
   "outputs": [
    {
     "data": {
      "text/plain": [
       "['cs210', 'math250', 'phy313', 'cs344']"
      ]
     },
     "execution_count": 33,
     "metadata": {},
     "output_type": "execute_result"
    }
   ],
   "source": [
    "# sort course list numerically by course numbers\n",
    "sorted(courses,key=lambda x: x[-3:])"
   ]
  }
 ],
 "metadata": {
  "kernelspec": {
   "display_name": "Python 3.11.5 64-bit",
   "language": "python",
   "name": "python3"
  },
  "language_info": {
   "codemirror_mode": {
    "name": "ipython",
    "version": 3
   },
   "file_extension": ".py",
   "mimetype": "text/x-python",
   "name": "python",
   "nbconvert_exporter": "python",
   "pygments_lexer": "ipython3",
   "version": "3.11.5"
  },
  "vscode": {
   "interpreter": {
    "hash": "b0fa6594d8f4cbf19f97940f81e996739fb7646882a419484c72d19e05852a7e"
   }
  }
 },
 "nbformat": 4,
 "nbformat_minor": 4
}
