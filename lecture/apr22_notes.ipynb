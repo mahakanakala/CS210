{
 "cells": [
  {
   "cell_type": "markdown",
   "metadata": {},
   "source": [
    "## CS 210 Spring 2024 - Apr 22\n",
    "### Relational Databases Continued"
   ]
  },
  {
   "cell_type": "markdown",
   "metadata": {},
   "source": [
    "---"
   ]
  },
  {
   "cell_type": "markdown",
   "metadata": {},
   "source": [
    "### <font color=\"brown\">College Database</font>"
   ]
  },
  {
   "cell_type": "markdown",
   "metadata": {},
   "source": [
    "---"
   ]
  },
  {
   "cell_type": "markdown",
   "metadata": {
    "tags": []
   },
   "source": [
    "In case you lost track of the college database state at the end of the previous (Apr 18) class, you can get to it by loading\n",
    "the <tt>college.sql</tt> file:\n",
    "\n",
    "<pre>\n",
    "venugopa@data8:~/cs210_s24/lectures$ mysql venugopa_college < college.sql\n",
    "</pre>\n",
    "\n",
    "Note: the college.sql file must be in the folder where you are executing the command."
   ]
  },
  {
   "cell_type": "markdown",
   "metadata": {},
   "source": [
    "---"
   ]
  },
  {
   "cell_type": "code",
   "execution_count": 31,
   "metadata": {
    "tags": []
   },
   "outputs": [],
   "source": [
    "# import connector modules\n",
    "from mysql.connector import connect, Error"
   ]
  },
  {
   "cell_type": "code",
   "execution_count": 34,
   "metadata": {
    "tags": []
   },
   "outputs": [],
   "source": [
    "# connect to nobels database\n",
    "try:\n",
    "    mydb = connect(unix_socket='/run/mysqld/mysqld.sock', database=\"venugopa_college\")\n",
    "    cursor = mydb.cursor()\n",
    "except Error as e:\n",
    "    print(e)"
   ]
  },
  {
   "cell_type": "markdown",
   "metadata": {},
   "source": [
    "---"
   ]
  },
  {
   "cell_type": "markdown",
   "metadata": {},
   "source": [
    "#### <font color=\"brown\">Nested Select</font>"
   ]
  },
  {
   "cell_type": "markdown",
   "metadata": {},
   "source": [
    "##### **1. Find all students who are older than Chen**\n",
    "<pre>\n",
    "  select Name from Student \n",
    "  where Age > \n",
    "  (select Age from Student where Name = 'Chen')\n",
    "</pre>"
   ]
  },
  {
   "cell_type": "code",
   "execution_count": 17,
   "metadata": {
    "tags": []
   },
   "outputs": [
    {
     "name": "stdout",
     "output_type": "stream",
     "text": [
      "('Eastwood',)\n",
      "('Bakalova',)\n"
     ]
    }
   ],
   "source": [
    "query = \"\"\"select Name from Student \n",
    "           where Age > \n",
    "           (select Age from Student where Name='Chen')\"\"\" \n",
    "doquery(query)"
   ]
  },
  {
   "cell_type": "markdown",
   "metadata": {},
   "source": [
    "---"
   ]
  },
  {
   "cell_type": "markdown",
   "metadata": {},
   "source": [
    "#### <font color=\"brown\">Set Operations</font>"
   ]
  },
  {
   "cell_type": "markdown",
   "metadata": {},
   "source": [
    "##### **1. Find names of students who are either sophomores or honor students**\n",
    "<pre>\n",
    "   (select Name from Student where Year='SO') \n",
    "      union\n",
    "   (select Name from Student S, HonorStudent H where H.sid=S.id)\n",
    "</pre>\n",
    "Parentheses around each of the select statements are optional"
   ]
  },
  {
   "cell_type": "code",
   "execution_count": 18,
   "metadata": {
    "tags": []
   },
   "outputs": [
    {
     "name": "stdout",
     "output_type": "stream",
     "text": [
      "('Patel',)\n",
      "('Perez',)\n",
      "('Chen',)\n"
     ]
    }
   ],
   "source": [
    "query = \"\"\"(select Name from Student where Year='SO') \n",
    "          union\n",
    "           (select Name from Student S, HonorStudent H where H.sid=S.id)\"\"\"\n",
    "doquery(query)"
   ]
  },
  {
   "cell_type": "markdown",
   "metadata": {},
   "source": [
    "---"
   ]
  },
  {
   "cell_type": "markdown",
   "metadata": {},
   "source": [
    "##### **2. Find names of senior honor students**\n",
    "\n",
    "The following won't work, because there is no set intersect feature:\n",
    "<pre>\n",
    "   (select Name from Student where Year='SR') \n",
    "      intersect\n",
    "   (select Name from Student S, HonorStudent H where H.sid=S.id)\n",
    "</pre>\n",
    "But we can do it a couple of other ways:\n",
    "- **Using join**\n",
    "\n",
    "<pre>\n",
    "   select Name from Student S, HonorStudent H where Year='SR' and S.id=H.sid\n",
    "</pre>\n",
    "\n",
    "- **Using set membership**\n",
    "\n",
    "<pre>\n",
    "   select Name from Student where Year='SR' and Id in (select SId from HonorStudent);  \n",
    "</pre>\n",
    "-  Parentheses around the second select are required in the set membership version.   "
   ]
  },
  {
   "cell_type": "code",
   "execution_count": 19,
   "metadata": {
    "tags": []
   },
   "outputs": [
    {
     "name": "stdout",
     "output_type": "stream",
     "text": [
      "('Chen',)\n"
     ]
    }
   ],
   "source": [
    "query = \"select Name from Student where Year='SR' and Id in (select SId from HonorStudent)\"\n",
    "doquery(query)"
   ]
  },
  {
   "cell_type": "markdown",
   "metadata": {},
   "source": [
    "---"
   ]
  },
  {
   "cell_type": "markdown",
   "metadata": {},
   "source": [
    "##### **3. Find names of seniors who are not honor students**\n",
    "\n",
    "**The following won't work, because there is no set difference feature:**\n",
    "<pre>\n",
    "   (select Name from Student where Year='SR') \n",
    "      difference\n",
    "   (select Name from Student S, HonorStudent H where H.sid=S.id)\n",
    "</pre>\n",
    "But we can do it using set membership:\n",
    "<pre>\n",
    "   select Name from Student S where Year='SR' and Name not in \n",
    "     (select Name from Student S, HonorStudent H where S.id=H.sid)\n",
    "</pre>"
   ]
  },
  {
   "cell_type": "code",
   "execution_count": 20,
   "metadata": {
    "tags": []
   },
   "outputs": [
    {
     "name": "stdout",
     "output_type": "stream",
     "text": [
      "('Harris',)\n"
     ]
    }
   ],
   "source": [
    "query=\"\"\"select Name from Student S \n",
    "         where Year='SR' \n",
    "         and Name not in \n",
    "             (select Name from Student S, HonorStudent H where S.id=H.sid)\"\"\"\n",
    "doquery(query)"
   ]
  },
  {
   "cell_type": "markdown",
   "metadata": {},
   "source": [
    "---"
   ]
  },
  {
   "cell_type": "markdown",
   "metadata": {},
   "source": [
    "##### **4. Find ids of all students who are taking all CS classes**\n",
    "\n",
    "The strategy is to find all CS classes, then subtract from it all CS classes taken by a student. If there is anything left after subtraction, it means the student is at least one CS class short. In the result, only include students for which the subtraction is an empty set: \"exists\" tests if a set is non-empty\n",
    "\n",
    "<pre>\n",
    "   select distinct E.sid from Enrollment E \n",
    "   where not exists \n",
    "     (select CName from Class where CName like 'CS%' \n",
    "      and CName not in \n",
    "        (select F.CName from Enrollment F where F.sid=E.sid))\n",
    "</pre>"
   ]
  },
  {
   "cell_type": "code",
   "execution_count": 21,
   "metadata": {
    "tags": []
   },
   "outputs": [
    {
     "name": "stdout",
     "output_type": "stream",
     "text": [
      "(150,)\n"
     ]
    }
   ],
   "source": [
    "query=\"\"\"select distinct E.sid from Enrollment E \n",
    "   where not exists \n",
    "     (select CName from Class where CName like 'CS%' \n",
    "      and CName not in \n",
    "        (select F.CName from Enrollment F where F.sid=E.sid))\"\"\"\n",
    "doquery(query)"
   ]
  },
  {
   "cell_type": "markdown",
   "metadata": {},
   "source": [
    "---"
   ]
  },
  {
   "cell_type": "markdown",
   "metadata": {},
   "source": [
    "##### **5. Redo above to get names of students, instead of ids**"
   ]
  },
  {
   "cell_type": "markdown",
   "metadata": {},
   "source": [
    "<pre>\n",
    "   select distinct S.Name from Student S, Enrollment E \n",
    "   where S.id = E.sid and not exists \n",
    "     (select CName from Class where CName like 'CS%' \n",
    "      and CName not in \n",
    "        (select F.CName from Enrollment F where F.sid=E.sid))\n",
    "</pre>"
   ]
  },
  {
   "cell_type": "code",
   "execution_count": 22,
   "metadata": {
    "tags": []
   },
   "outputs": [
    {
     "name": "stdout",
     "output_type": "stream",
     "text": [
      "('Patel',)\n"
     ]
    }
   ],
   "source": [
    "query=\"\"\"select distinct Name from Student S, Enrollment E \n",
    "   where S.id=E.sid and not exists \n",
    "     (select CName from Class where CName like 'CS%' \n",
    "      and CName not in \n",
    "        (select F.CName from Enrollment F where F.sid=E.sid))\"\"\"\n",
    "doquery(query)"
   ]
  },
  {
   "cell_type": "markdown",
   "metadata": {},
   "source": [
    "---"
   ]
  },
  {
   "cell_type": "markdown",
   "metadata": {},
   "source": [
    "#### <font color=\"brown\">Order By</font>"
   ]
  },
  {
   "cell_type": "markdown",
   "metadata": {},
   "source": [
    "##### **1. List students by age**\n",
    "<pre>\n",
    "   select Name,Age from Student order by Age\n",
    "</pre>\n",
    "You can say 'order by Age asc' but the ascending order is the default, so can be omitted"
   ]
  },
  {
   "cell_type": "code",
   "execution_count": 23,
   "metadata": {
    "tags": []
   },
   "outputs": [
    {
     "name": "stdout",
     "output_type": "stream",
     "text": [
      "('Madsen', 18)\n",
      "('Patel', 19)\n",
      "('Perez', 21)\n",
      "('Harris', 21)\n",
      "('Chen', 22)\n",
      "('Bakalova', 24)\n",
      "('Eastwood', 26)\n"
     ]
    }
   ],
   "source": [
    "query='select Name,Age from Student order by Age'\n",
    "doquery(query)"
   ]
  },
  {
   "cell_type": "markdown",
   "metadata": {},
   "source": [
    "---"
   ]
  },
  {
   "cell_type": "markdown",
   "metadata": {},
   "source": [
    "##### **2. List CS class enrollments in alphabetical order of class names, and descending order of student positions within each class** "
   ]
  },
  {
   "cell_type": "markdown",
   "metadata": {},
   "source": [
    "<pre>\n",
    "select * from Enrollment \n",
    "where CName like 'CS%'\n",
    "order by CName, Pos desc\n",
    "</pre>"
   ]
  },
  {
   "cell_type": "code",
   "execution_count": 24,
   "metadata": {
    "tags": []
   },
   "outputs": [
    {
     "name": "stdout",
     "output_type": "stream",
     "text": [
      "(300, 'CS 210', 6)\n",
      "(100, 'CS 210', 3)\n",
      "(150, 'CS 210', 2)\n",
      "(250, 'CS 213', 26)\n",
      "(150, 'CS 213', 5)\n",
      "(200, 'CS 323', 2)\n",
      "(150, 'CS 323', 1)\n"
     ]
    }
   ],
   "source": [
    "query=\"\"\"select * from Enrollment\n",
    "         where CName like 'CS%' \n",
    "         order by CName, Pos desc\"\"\"\n",
    "doquery(query)"
   ]
  },
  {
   "cell_type": "markdown",
   "metadata": {},
   "source": [
    "---"
   ]
  },
  {
   "cell_type": "markdown",
   "metadata": {},
   "source": [
    "#### <font color=\"brown\">Aggregation/Reduction</font>"
   ]
  },
  {
   "cell_type": "markdown",
   "metadata": {},
   "source": [
    "##### **1. Find the average student age by year**\n",
    "<pre>\n",
    "  select Year, avg(age) \n",
    "  from Student \n",
    "  group by Year\n",
    "</pre>"
   ]
  },
  {
   "cell_type": "code",
   "execution_count": 25,
   "metadata": {
    "tags": []
   },
   "outputs": [
    {
     "name": "stdout",
     "output_type": "stream",
     "text": [
      "FR  18.0\n",
      "SO  19.0\n",
      "JR  21.0\n",
      "SR  21.5\n",
      "GR  25.0\n"
     ]
    }
   ],
   "source": [
    "query='select Year, avg(age) from Student group by Year'\n",
    "cursor.execute(query)\n",
    "res = cursor.fetchall()\n",
    "for row in res:\n",
    "    print(f'{row[0]}  {row[1]:.1f}')"
   ]
  },
  {
   "cell_type": "markdown",
   "metadata": {},
   "source": [
    "---"
   ]
  },
  {
   "cell_type": "markdown",
   "metadata": {},
   "source": [
    "##### **2. Get the enrollment counts for classes, from highest to lowest enrollment counts**\n",
    "<pre>\n",
    "  select CName, count(*) \n",
    "  from Enrollment \n",
    "  group by CName\n",
    "  order by count(*) desc\n",
    "</pre>"
   ]
  },
  {
   "cell_type": "code",
   "execution_count": 26,
   "metadata": {
    "tags": []
   },
   "outputs": [
    {
     "name": "stdout",
     "output_type": "stream",
     "text": [
      "('CS 210', 3)\n",
      "('CS 213', 2)\n",
      "('Math 311', 2)\n",
      "('CS 323', 2)\n",
      "('Eng 256', 1)\n",
      "('Eng 316', 1)\n",
      "('Phy 605', 1)\n",
      "('Chem 422', 1)\n",
      "('Econ 586', 1)\n",
      "('Hist 102', 1)\n",
      "('Econ 607', 1)\n",
      "('Hist 401', 1)\n"
     ]
    }
   ],
   "source": [
    "query='select CName, count(*) from Enrollment group by CName order by count(*) desc'\n",
    "doquery(query)"
   ]
  },
  {
   "cell_type": "markdown",
   "metadata": {},
   "source": [
    "---"
   ]
  },
  {
   "cell_type": "markdown",
   "metadata": {},
   "source": [
    "##### **3. Get the enrollment counts for classes that have at least 2 students**\n",
    "<pre>\n",
    "  select CName, count(*) \n",
    "  from Enrollment \n",
    "  group by CName \n",
    "  having count(*) > 1\n",
    "</pre>"
   ]
  },
  {
   "cell_type": "code",
   "execution_count": 27,
   "metadata": {
    "tags": []
   },
   "outputs": [
    {
     "name": "stdout",
     "output_type": "stream",
     "text": [
      "('CS 210', 3)\n",
      "('CS 213', 2)\n",
      "('CS 323', 2)\n",
      "('Math 311', 2)\n"
     ]
    }
   ],
   "source": [
    "query='select CName, count(*) from Enrollment group by CName having count(*) > 1'\n",
    "doquery(query)"
   ]
  },
  {
   "cell_type": "markdown",
   "metadata": {},
   "source": [
    "---"
   ]
  },
  {
   "cell_type": "markdown",
   "metadata": {},
   "source": [
    "##### **4. Find the name and id of the youngest student**\n",
    "<pre>\n",
    "  select Name,Id from Student \n",
    "  where Age in \n",
    "  (select min(Age) from Student)\n",
    "</pre>"
   ]
  },
  {
   "cell_type": "code",
   "execution_count": 28,
   "metadata": {
    "tags": []
   },
   "outputs": [
    {
     "name": "stdout",
     "output_type": "stream",
     "text": [
      "('Madsen', 300)\n"
     ]
    }
   ],
   "source": [
    "query=\"\"\"select Name,Id from Student \n",
    "  where Age in \n",
    "  (select min(Age) from Student)\"\"\"\n",
    "doquery(query)"
   ]
  },
  {
   "cell_type": "markdown",
   "metadata": {},
   "source": [
    "Alternatively, you can do this:\n",
    "<pre>\n",
    "  select Name,Id from Student \n",
    "  where Age &lt;= all\n",
    "  (select Age from Student)\n",
    "</pre>"
   ]
  },
  {
   "cell_type": "markdown",
   "metadata": {},
   "source": [
    "**<font color=\"red\">Beware, using &lt; instead of &lt;= will not work!</font>**\n",
    "<pre>\n",
    "mysql> select Name,Id from Student \n",
    "       where Age &lt; all\n",
    "      (select Age from Student)\n",
    "      \n",
    "Empty set (0.00 sec      \n",
    "</pre>\n",
    "**By definition the minimum age must match at least one of the ages, which is impossible with '<'**"
   ]
  },
  {
   "cell_type": "markdown",
   "metadata": {},
   "source": [
    "---"
   ]
  },
  {
   "cell_type": "markdown",
   "metadata": {},
   "source": [
    "##### **5. Find the CS class with the least enrollment**\n",
    "<pre>\n",
    "  select CName from Enrollment \n",
    "  where CName like 'CS%' \n",
    "  group by CName\n",
    "  having count(*) &lt;= all\n",
    "    (select count(*) from Enrollment\n",
    "     where CName like 'CS%'\n",
    "     group by CName)\n",
    "</pre>"
   ]
  },
  {
   "cell_type": "code",
   "execution_count": 29,
   "metadata": {
    "tags": []
   },
   "outputs": [
    {
     "name": "stdout",
     "output_type": "stream",
     "text": [
      "('CS 213',)\n",
      "('CS 323',)\n"
     ]
    }
   ],
   "source": [
    "query=\"\"\"select CName from Enrollment \n",
    "  where CName like 'CS%' \n",
    "  group by CName\n",
    "  having count(*) <= all\n",
    "    (select count(*) from Enrollment\n",
    "     where CName like 'CS%'\n",
    "     group by CName)\"\"\"\n",
    "doquery(query)"
   ]
  },
  {
   "cell_type": "code",
   "execution_count": 30,
   "metadata": {
    "tags": []
   },
   "outputs": [],
   "source": [
    "cursor.close()\n",
    "mydb.close()"
   ]
  }
 ],
 "metadata": {
  "kernelspec": {
   "display_name": "Python 3 (ipykernel)",
   "language": "python",
   "name": "python3"
  },
  "language_info": {
   "codemirror_mode": {
    "name": "ipython",
    "version": 3
   },
   "file_extension": ".py",
   "mimetype": "text/x-python",
   "name": "python",
   "nbconvert_exporter": "python",
   "pygments_lexer": "ipython3",
   "version": "3.11.3"
  }
 },
 "nbformat": 4,
 "nbformat_minor": 4
}
