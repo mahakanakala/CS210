{
 "cells": [
  {
   "cell_type": "markdown",
   "metadata": {},
   "source": [
    "## CS 210 Spring 2024 - Feb 12\n",
    "### Regular expressions"
   ]
  },
  {
   "cell_type": "code",
   "execution_count": 8,
   "metadata": {
    "tags": []
   },
   "outputs": [],
   "source": [
    "import re"
   ]
  },
  {
   "cell_type": "markdown",
   "metadata": {},
   "source": [
    "---"
   ]
  },
  {
   "cell_type": "markdown",
   "metadata": {},
   "source": [
    "**Metacharacter ^ negates when used as *first* character inside a class [ ]**"
   ]
  },
  {
   "cell_type": "markdown",
   "metadata": {},
   "source": [
    "**Example 1**<br>\n",
    "Match all target strings that start with ar, end with t, and do NOT have any digits in between\n",
    "\n",
    "`re.search(\"regex\", string_to_search)`\n",
    "- ^ ensures that the string starts with the following characters\n",
    "- [] a set of characters\n",
    "- $ This ensures that the pattern only matches if \"t\" is the last character in the string.\n",
    "- * quantifier means it matches 0 or more occurrences of any character that is not a digit."
   ]
  },
  {
   "cell_type": "code",
   "execution_count": 9,
   "metadata": {
    "tags": []
   },
   "outputs": [
    {
     "ename": "KeyboardInterrupt",
     "evalue": "Interrupted by user",
     "output_type": "error",
     "traceback": [
      "\u001b[0;31m---------------------------------------------------------------------------\u001b[0m",
      "\u001b[0;31mKeyboardInterrupt\u001b[0m                         Traceback (most recent call last)",
      "Cell \u001b[0;32mIn[9], line 2\u001b[0m\n\u001b[1;32m      1\u001b[0m \u001b[39mwhile\u001b[39;00m \u001b[39mTrue\u001b[39;00m:\n\u001b[0;32m----> 2\u001b[0m     astr \u001b[39m=\u001b[39m \u001b[39minput\u001b[39;49m(\u001b[39m\"\u001b[39;49m\u001b[39mstring? (\u001b[39;49m\u001b[39m'\u001b[39;49m\u001b[39mquit\u001b[39;49m\u001b[39m'\u001b[39;49m\u001b[39m to stop) \u001b[39;49m\u001b[39m\"\u001b[39;49m)\n\u001b[1;32m      3\u001b[0m     \u001b[39mif\u001b[39;00m astr \u001b[39m==\u001b[39m \u001b[39m'\u001b[39m\u001b[39mquit\u001b[39m\u001b[39m'\u001b[39m:\n\u001b[1;32m      4\u001b[0m         \u001b[39mbreak\u001b[39;00m\n",
      "File \u001b[0;32m~/Library/Python/3.11/lib/python/site-packages/ipykernel/kernelbase.py:1202\u001b[0m, in \u001b[0;36mKernel.raw_input\u001b[0;34m(self, prompt)\u001b[0m\n\u001b[1;32m   1200\u001b[0m     msg \u001b[39m=\u001b[39m \u001b[39m\"\u001b[39m\u001b[39mraw_input was called, but this frontend does not support input requests.\u001b[39m\u001b[39m\"\u001b[39m\n\u001b[1;32m   1201\u001b[0m     \u001b[39mraise\u001b[39;00m StdinNotImplementedError(msg)\n\u001b[0;32m-> 1202\u001b[0m \u001b[39mreturn\u001b[39;00m \u001b[39mself\u001b[39;49m\u001b[39m.\u001b[39;49m_input_request(\n\u001b[1;32m   1203\u001b[0m     \u001b[39mstr\u001b[39;49m(prompt),\n\u001b[1;32m   1204\u001b[0m     \u001b[39mself\u001b[39;49m\u001b[39m.\u001b[39;49m_parent_ident[\u001b[39m\"\u001b[39;49m\u001b[39mshell\u001b[39;49m\u001b[39m\"\u001b[39;49m],\n\u001b[1;32m   1205\u001b[0m     \u001b[39mself\u001b[39;49m\u001b[39m.\u001b[39;49mget_parent(\u001b[39m\"\u001b[39;49m\u001b[39mshell\u001b[39;49m\u001b[39m\"\u001b[39;49m),\n\u001b[1;32m   1206\u001b[0m     password\u001b[39m=\u001b[39;49m\u001b[39mFalse\u001b[39;49;00m,\n\u001b[1;32m   1207\u001b[0m )\n",
      "File \u001b[0;32m~/Library/Python/3.11/lib/python/site-packages/ipykernel/kernelbase.py:1245\u001b[0m, in \u001b[0;36mKernel._input_request\u001b[0;34m(self, prompt, ident, parent, password)\u001b[0m\n\u001b[1;32m   1242\u001b[0m \u001b[39mexcept\u001b[39;00m \u001b[39mKeyboardInterrupt\u001b[39;00m:\n\u001b[1;32m   1243\u001b[0m     \u001b[39m# re-raise KeyboardInterrupt, to truncate traceback\u001b[39;00m\n\u001b[1;32m   1244\u001b[0m     msg \u001b[39m=\u001b[39m \u001b[39m\"\u001b[39m\u001b[39mInterrupted by user\u001b[39m\u001b[39m\"\u001b[39m\n\u001b[0;32m-> 1245\u001b[0m     \u001b[39mraise\u001b[39;00m \u001b[39mKeyboardInterrupt\u001b[39;00m(msg) \u001b[39mfrom\u001b[39;00m \u001b[39mNone\u001b[39;00m\n\u001b[1;32m   1246\u001b[0m \u001b[39mexcept\u001b[39;00m \u001b[39mException\u001b[39;00m:\n\u001b[1;32m   1247\u001b[0m     \u001b[39mself\u001b[39m\u001b[39m.\u001b[39mlog\u001b[39m.\u001b[39mwarning(\u001b[39m\"\u001b[39m\u001b[39mInvalid Message:\u001b[39m\u001b[39m\"\u001b[39m, exc_info\u001b[39m=\u001b[39m\u001b[39mTrue\u001b[39;00m)\n",
      "\u001b[0;31mKeyboardInterrupt\u001b[0m: Interrupted by user"
     ]
    }
   ],
   "source": [
    "while True:\n",
    "    astr = input(\"string? ('quit' to stop) \")\n",
    "    if astr == 'quit':\n",
    "        break\n",
    "    res = re.search('^ar[^0-9]*t$',astr)  # uses metacharacters ^, [ ], *, and $\n",
    "    print('match') if res else print('no match')"
   ]
  },
  {
   "cell_type": "markdown",
   "metadata": {},
   "source": [
    "**Example 2**<br>\n",
    "Match all target strings that do not have any digits or upper case letters"
   ]
  },
  {
   "cell_type": "code",
   "execution_count": null,
   "metadata": {
    "tags": []
   },
   "outputs": [
    {
     "name": "stdout",
     "output_type": "stream",
     "text": [
      "None\n",
      "<re.Match object; span=(0, 6), match='abcxyz'>\n"
     ]
    }
   ],
   "source": [
    "res = re.search('^[^0-9A-Z]*$','abcXyz')   \n",
    "print(res) \n",
    "res = re.search('^[^0-9A-Z]*$','abcxyz')\n",
    "print(res)"
   ]
  },
  {
   "cell_type": "markdown",
   "metadata": {},
   "source": [
    "---"
   ]
  },
  {
   "cell_type": "markdown",
   "metadata": {},
   "source": [
    "**Metacharacter | is used for alternative match, usually used with metacharacters ( )**"
   ]
  },
  {
   "cell_type": "markdown",
   "metadata": {},
   "source": [
    "**Example 1**<br>\n",
    "Search for any sequence that starts with a, ends with t, and has exactly one letter and exactly one digit in between, in EITHER order\n",
    "- letter case isn't specified so include both a-z and A-Z"
   ]
  },
  {
   "cell_type": "code",
   "execution_count": null,
   "metadata": {
    "tags": []
   },
   "outputs": [
    {
     "name": "stdout",
     "output_type": "stream",
     "text": [
      "match\n",
      "match\n",
      "match\n",
      "no match\n"
     ]
    }
   ],
   "source": [
    "# First attempt\n",
    "while True:\n",
    "    astr = input(\"string? ('quit' to stop) \")\n",
    "    if astr == 'quit':\n",
    "        break\n",
    "    res = re.search('a[a-zA-Z0-9][a-zA-Z0-9]t$',astr)  # uses metacharacters []\n",
    "    print('match') if res else print('no match')"
   ]
  },
  {
   "cell_type": "markdown",
   "metadata": {},
   "source": [
    "**Above does not work because it lets through consecutive letters, or consecutive digits. For instance, it matches a99t (should not be allowed, 2 consecutive digits between a and t) and aaat (should not be allowed, 2 consecutive letters between a and t)**"
   ]
  },
  {
   "cell_type": "code",
   "execution_count": null,
   "metadata": {
    "tags": []
   },
   "outputs": [
    {
     "name": "stdout",
     "output_type": "stream",
     "text": [
      "String?  aa9t\n"
     ]
    },
    {
     "name": "stdout",
     "output_type": "stream",
     "text": [
      "match\n"
     ]
    },
    {
     "name": "stdout",
     "output_type": "stream",
     "text": [
      "String?  ma9atpq\n"
     ]
    },
    {
     "name": "stdout",
     "output_type": "stream",
     "text": [
      "match\n"
     ]
    },
    {
     "name": "stdout",
     "output_type": "stream",
     "text": [
      "String?  naaat\n"
     ]
    },
    {
     "name": "stdout",
     "output_type": "stream",
     "text": [
      "no match\n"
     ]
    },
    {
     "name": "stdout",
     "output_type": "stream",
     "text": [
      "String?  a99t\n"
     ]
    },
    {
     "name": "stdout",
     "output_type": "stream",
     "text": [
      "no match\n"
     ]
    },
    {
     "name": "stdout",
     "output_type": "stream",
     "text": [
      "String?  quit\n"
     ]
    }
   ],
   "source": [
    "# Second attempt\n",
    "while True:\n",
    "    astr = input('String? ')\n",
    "    if astr == 'quit':\n",
    "        break\n",
    "    res = re.search('a([a-zA-Z][0-9]|[0-9][a-zA-Z])t',astr)  # uses metacharacters [], (), |\n",
    "    print('match') if res else print('no match')"
   ]
  },
  {
   "cell_type": "markdown",
   "metadata": {},
   "source": [
    "**Example 2**<br>\n",
    "Search for the sequence 'airport' or 'airplane'\n",
    "- | signifies or"
   ]
  },
  {
   "cell_type": "code",
   "execution_count": 14,
   "metadata": {
    "tags": []
   },
   "outputs": [
    {
     "name": "stdout",
     "output_type": "stream",
     "text": [
      "None\n",
      "<re.Match object; span=(7, 14), match='airport'>\n",
      "<re.Match object; span=(0, 8), match='airplane'>\n",
      "None\n"
     ]
    }
   ],
   "source": [
    "res = re.search('air(port|plane)','the air is cool')\n",
    "print(res)\n",
    "res = re.search('air(port|plane)','newark airport security')\n",
    "print(res)\n",
    "res = re.search('air(port|plane)','airplane')\n",
    "print(res)\n",
    "res = re.search('air(port|plane)','port')\n",
    "print(res)"
   ]
  },
  {
   "cell_type": "markdown",
   "metadata": {},
   "source": [
    "**Example 3**<br>\n",
    "Search for the sequence 'air, or 'airport' or 'airplane'"
   ]
  },
  {
   "cell_type": "code",
   "execution_count": null,
   "metadata": {
    "tags": []
   },
   "outputs": [
    {
     "name": "stdout",
     "output_type": "stream",
     "text": [
      "<re.Match object; span=(4, 7), match='air'>\n"
     ]
    }
   ],
   "source": [
    "res = re.search('air(port|plane)|air','the air is cool')\n",
    "print(res)"
   ]
  },
  {
   "cell_type": "markdown",
   "metadata": {},
   "source": [
    "---"
   ]
  },
  {
   "cell_type": "markdown",
   "metadata": {},
   "source": [
    "**Metacharacter pair { } used for specific number of instances of previous character**"
   ]
  },
  {
   "cell_type": "markdown",
   "metadata": {},
   "source": [
    "**Example 1**<br>\n",
    "Search for any sequence that has exactly 3 consecutive uppercase letters "
   ]
  },
  {
   "cell_type": "code",
   "execution_count": null,
   "metadata": {
    "tags": []
   },
   "outputs": [
    {
     "name": "stdout",
     "output_type": "stream",
     "text": [
      "<re.Match object; span=(0, 3), match='ABC'>\n",
      "<re.Match object; span=(2, 5), match='ABC'>\n",
      "None\n"
     ]
    }
   ],
   "source": [
    "print(re.search('[A-Z]{3}','ABC'))\n",
    "print(re.search('[A-Z]{3}','xyABCdef'))\n",
    "print(re.search('[A-Z]{3}','xyABdef'))"
   ]
  },
  {
   "cell_type": "markdown",
   "metadata": {},
   "source": [
    "**Example 2**<br>\n",
    "Search for any sequence that has between 2 and 4 consecutive uppercase letters \n",
    "- {a,b}: specifiy the number of occurrences "
   ]
  },
  {
   "cell_type": "code",
   "execution_count": 15,
   "metadata": {
    "tags": []
   },
   "outputs": [
    {
     "name": "stdout",
     "output_type": "stream",
     "text": [
      "None\n",
      "<re.Match object; span=(0, 2), match='AB'>\n",
      "<re.Match object; span=(2, 5), match='ABC'>\n",
      "<re.Match object; span=(2, 6), match='ABCD'>\n",
      "<re.Match object; span=(2, 6), match='ABCD'>\n",
      "<re.Match object; span=(2, 6), match='ABCD'>\n"
     ]
    }
   ],
   "source": [
    "print(re.search('[A-Z]{2,4}','A'))\n",
    "print(re.search('[A-Z]{2,4}','AB'))\n",
    "print(re.search('[A-Z]{2,4}','xyABCdef'))\n",
    "print(re.search('[A-Z]{2,4}','xyABCDef'))\n",
    "print(re.search('[A-Z]{2,4}','xyABCDZef'))\n",
    "print(re.search('[A-Z]{2,4}','xyABCDEef'))"
   ]
  },
  {
   "cell_type": "markdown",
   "metadata": {},
   "source": [
    "**Example 3**<br>\n",
    "Search for any sequence that has at least 2 consecutive uppercase letters \n",
    "- {n,}: at least "
   ]
  },
  {
   "cell_type": "code",
   "execution_count": 21,
   "metadata": {
    "tags": []
   },
   "outputs": [
    {
     "name": "stdout",
     "output_type": "stream",
     "text": [
      "<re.Match object; span=(2, 5), match='CAR'>\n",
      "None\n"
     ]
    }
   ],
   "source": [
    "print(re.search('[A-Z]{2,}','12CAR34'))\n",
    "print(re.search('[A-Z]{2,}','12C34'))"
   ]
  },
  {
   "cell_type": "markdown",
   "metadata": {},
   "source": [
    "**Example 4**<br>\n",
    "Match any string that starts with at most 2 consecutive uppercase letters, followed by a digit\n",
    "- {,n}: at most"
   ]
  },
  {
   "cell_type": "code",
   "execution_count": 20,
   "metadata": {
    "tags": []
   },
   "outputs": [
    {
     "name": "stdout",
     "output_type": "stream",
     "text": [
      "<re.Match object; span=(0, 1), match='1'>\n",
      "<re.Match object; span=(0, 2), match='X1'>\n",
      "None\n",
      "<re.Match object; span=(0, 3), match='TE1'>\n",
      "None\n"
     ]
    }
   ],
   "source": [
    "print(re.search('^[A-Z]{,2}[0-9]','1234'))\n",
    "print(re.search('^[A-Z]{,2}[0-9]','X1234'))\n",
    "print(re.search('^[A-Z]{,2}[0-9]','CAR1234'))\n",
    "print(re.search('^[A-Z]{,2}[0-9]', 'TE1'))\n",
    "print(re.search('^[A-Z]{,2}[0-9]', 'TEE1'))"
   ]
  },
  {
   "cell_type": "markdown",
   "metadata": {},
   "source": [
    "Of course, you can alternatively use {0,n} for at most n"
   ]
  },
  {
   "cell_type": "markdown",
   "metadata": {},
   "source": [
    "---"
   ]
  },
  {
   "cell_type": "markdown",
   "metadata": {},
   "source": [
    "**Inside a class [ ], all metacharacters lose their meaning, including ^ if it's not first character**\n",
    "- all the charachters inside [] become literals and not the regex operators\n",
    "- ^ as the first charcter inside a [] means negation"
   ]
  },
  {
   "cell_type": "code",
   "execution_count": null,
   "metadata": {
    "tags": []
   },
   "outputs": [
    {
     "name": "stdout",
     "output_type": "stream",
     "text": [
      "<re.Match object; span=(0, 2), match='at'>\n",
      "<re.Match object; span=(0, 4), match='a$.t'>\n",
      "<re.Match object; span=(0, 5), match='a.^^t'>\n",
      "<re.Match object; span=(2, 8), match='a?$..t'>\n",
      "None\n"
     ]
    }
   ],
   "source": [
    "print(re.search('a[$.^?]*t','at'))\n",
    "print(re.search('a[$.^?]*t','a$.t'))\n",
    "print(re.search('a[$.^?]*t','a.^^t'))\n",
    "print(re.search('a[$.^?]*t','aba?$..txy'))\n",
    "print(re.search('a[$.^?]*t','aBCt'))"
   ]
  },
  {
   "cell_type": "markdown",
   "metadata": {},
   "source": [
    "---"
   ]
  },
  {
   "cell_type": "markdown",
   "metadata": {},
   "source": [
    "**To \"defang\" (known as \"escape\") a metacharacter (lose its special meaning), use metacharacter '\\\\' in front of it**"
   ]
  },
  {
   "cell_type": "markdown",
   "metadata": {},
   "source": [
    "**Example 1**<br>\n",
    "Pattern is at least one 'a', then 'b'\n",
    "- + atleast one character before it is in the string"
   ]
  },
  {
   "cell_type": "code",
   "execution_count": null,
   "metadata": {
    "tags": []
   },
   "outputs": [
    {
     "name": "stdout",
     "output_type": "stream",
     "text": [
      "<re.Match object; span=(0, 2), match='ab'>\n",
      "<re.Match object; span=(0, 3), match='aab'>\n",
      "None\n"
     ]
    }
   ],
   "source": [
    "# metacharacter '+' is used for at least one\n",
    "print(re.search('a+b','ab'))     \n",
    "print(re.search('a+b','aab'))  \n",
    "print(re.search('a+b','a+b'))"
   ]
  },
  {
   "cell_type": "markdown",
   "metadata": {},
   "source": [
    "**Example 2**<br>\n",
    "Pattern is the literal 'a+b'"
   ]
  },
  {
   "cell_type": "code",
   "execution_count": null,
   "metadata": {
    "tags": []
   },
   "outputs": [
    {
     "name": "stdout",
     "output_type": "stream",
     "text": [
      "<re.Match object; span=(0, 3), match='a+b'>\n"
     ]
    }
   ],
   "source": [
    "print(re.search('a\\+b','a+b'))   # defang the metacharacter '+' with '\\' before it"
   ]
  },
  {
   "cell_type": "markdown",
   "metadata": {},
   "source": [
    "**Example 3**<br>\n",
    "Pattern is 'a', followed by at least one '+', then 'b' "
   ]
  },
  {
   "cell_type": "code",
   "execution_count": null,
   "metadata": {
    "tags": []
   },
   "outputs": [
    {
     "name": "stdout",
     "output_type": "stream",
     "text": [
      "<re.Match object; span=(2, 5), match='a+b'>\n",
      "<re.Match object; span=(0, 4), match='a++b'>\n",
      "None\n"
     ]
    }
   ],
   "source": [
    "# metacharacter '+' is defanged for the literal '+', then used again as metacharacter\n",
    "print(re.search('a\\++b','xya+bpq'))  \n",
    "print(re.search('a\\++b','a++b')) \n",
    "print(re.search('a\\++b','a+cb')) "
   ]
  },
  {
   "cell_type": "markdown",
   "metadata": {},
   "source": [
    "---"
   ]
  },
  {
   "cell_type": "markdown",
   "metadata": {},
   "source": [
    "**<font color=\"red\">Use '\\\\\\\\' to escape '\\\\' itself</font>**"
   ]
  },
  {
   "cell_type": "markdown",
   "metadata": {},
   "source": [
    "**Example**\n",
    "Want to match the sequence 'a\\y' or 'ay', i.e. one or zero occurence of '\\\\' between 'a' and 'y'"
   ]
  },
  {
   "cell_type": "code",
   "execution_count": null,
   "metadata": {
    "tags": []
   },
   "outputs": [
    {
     "name": "stdout",
     "output_type": "stream",
     "text": [
      "None\n"
     ]
    }
   ],
   "source": [
    "# try the metacharacter '?' after '\\' for 0 or 1 occurrence of '\\'\n",
    "print(re.search('a\\?y','ay'))  "
   ]
  },
  {
   "cell_type": "markdown",
   "metadata": {},
   "source": [
    "**Above doesn't work because the '\\\\' works to escape the following metacharacter ?, which is then taken literally, see below**"
   ]
  },
  {
   "cell_type": "code",
   "execution_count": null,
   "metadata": {
    "tags": []
   },
   "outputs": [
    {
     "name": "stdout",
     "output_type": "stream",
     "text": [
      "<re.Match object; span=(0, 3), match='a?y'>\n"
     ]
    }
   ],
   "source": [
    "print(re.search('a\\?y','a?y')) "
   ]
  },
  {
   "cell_type": "code",
   "execution_count": null,
   "metadata": {
    "tags": []
   },
   "outputs": [
    {
     "name": "stdout",
     "output_type": "stream",
     "text": [
      "None\n"
     ]
    }
   ],
   "source": [
    "# how about trying to escape the '\\' with a '\\' before it?\n",
    "print(re.search('a\\\\?y','ay')) "
   ]
  },
  {
   "cell_type": "markdown",
   "metadata": {},
   "source": [
    "**This doesn't doesn't work because Python parses the whole thing before the search function gets its arguments and interprets the '\\\\\\\\' as the first '\\\\' escaping the second '\\\\'. So Python converts the pattern string to 'a\\\\?y' which is then sent through to the search function**"
   ]
  },
  {
   "cell_type": "code",
   "execution_count": null,
   "metadata": {
    "tags": []
   },
   "outputs": [
    {
     "name": "stdout",
     "output_type": "stream",
     "text": [
      "<re.Match object; span=(0, 3), match='a?y'>\n"
     ]
    }
   ],
   "source": [
    "print(re.search('a\\\\?y','a?y'))  # same result as two cells above with the pattern 'a\\?'"
   ]
  },
  {
   "cell_type": "markdown",
   "metadata": {},
   "source": [
    "**So you will need to do a\\\\\\\\\\\\\\\\?y to have Python translate it to 'a\\\\\\\\?y'!**"
   ]
  },
  {
   "cell_type": "code",
   "execution_count": null,
   "metadata": {
    "tags": []
   },
   "outputs": [
    {
     "name": "stdout",
     "output_type": "stream",
     "text": [
      "<re.Match object; span=(0, 2), match='ay'>\n"
     ]
    }
   ],
   "source": [
    "print(re.search('a\\\\\\\\?y','ay')) "
   ]
  },
  {
   "cell_type": "code",
   "execution_count": null,
   "metadata": {
    "tags": []
   },
   "outputs": [
    {
     "name": "stdout",
     "output_type": "stream",
     "text": [
      "<re.Match object; span=(0, 3), match='a\\\\y'>\n"
     ]
    }
   ],
   "source": [
    "print(re.search('a\\\\\\\\?y','a\\y'))"
   ]
  },
  {
   "cell_type": "markdown",
   "metadata": {},
   "source": [
    "**This gets tedious. An easy workaround is to tag the pattern as a RAW string, with an 'r' in front of it, so Python leaves it alone and sends it as is to the search function**"
   ]
  },
  {
   "cell_type": "code",
   "execution_count": null,
   "metadata": {
    "tags": []
   },
   "outputs": [
    {
     "name": "stdout",
     "output_type": "stream",
     "text": [
      "<re.Match object; span=(0, 3), match='a\\\\y'>\n"
     ]
    }
   ],
   "source": [
    "# Use r in front of target string as well\n",
    "print(re.search(r'a\\\\?y','a\\y'))"
   ]
  },
  {
   "cell_type": "code",
   "execution_count": null,
   "metadata": {
    "tags": []
   },
   "outputs": [
    {
     "name": "stdout",
     "output_type": "stream",
     "text": [
      "<re.Match object; span=(0, 3), match='a?y'>\n",
      "None\n"
     ]
    }
   ],
   "source": [
    "# with r in front of regexp string, single '\\' still retains its special meaning\n",
    "print(re.search(r'a\\?y','a?y'))\n",
    "print(re.search(r'a\\?y','a??y'))"
   ]
  },
  {
   "cell_type": "markdown",
   "metadata": {},
   "source": [
    "#### <font color=\"red\">Always use r'...' for the regular expression if it has an escape '\\\\' character</font>"
   ]
  },
  {
   "cell_type": "markdown",
   "metadata": {},
   "source": [
    "---"
   ]
  },
  {
   "cell_type": "markdown",
   "metadata": {},
   "source": [
    "#### <font color=\"brown\">Python Special Characters</font>"
   ]
  },
  {
   "cell_type": "markdown",
   "metadata": {},
   "source": [
    "**Before you declare victory, there is one final obstacle. And that has to do with Python special characters, which are written with a '\\\\' in front of them. For instance, '\\\\n' is newline, '\\\\t' is tab, etc.**<br>\n",
    "See the complete list here: https://chercher.tech/python-programming/python-special-characters"
   ]
  },
  {
   "cell_type": "code",
   "execution_count": null,
   "metadata": {
    "tags": []
   },
   "outputs": [
    {
     "name": "stdout",
     "output_type": "stream",
     "text": [
      "<re.Match object; span=(0, 3), match='a\\\\y'>\n"
     ]
    }
   ],
   "source": [
    "print(re.search(r'a\\\\?y','a\\y'))"
   ]
  },
  {
   "cell_type": "code",
   "execution_count": null,
   "metadata": {
    "tags": []
   },
   "outputs": [
    {
     "name": "stdout",
     "output_type": "stream",
     "text": [
      "None\n"
     ]
    }
   ],
   "source": [
    "print(re.search(r'a\\\\?t','a\\t'))"
   ]
  },
  {
   "cell_type": "markdown",
   "metadata": {},
   "source": [
    "**Above doesn't work because in the target string we have '\\\\t' which Python is going to interpret as the tab character. So we will need to escape the '\\\\' in the target string as well**"
   ]
  },
  {
   "cell_type": "code",
   "execution_count": null,
   "metadata": {
    "tags": []
   },
   "outputs": [
    {
     "name": "stdout",
     "output_type": "stream",
     "text": [
      "<re.Match object; span=(0, 3), match='a\\\\t'>\n"
     ]
    }
   ],
   "source": [
    "print(re.search(r'a\\\\?t','a\\\\t'))"
   ]
  },
  {
   "cell_type": "markdown",
   "metadata": {},
   "source": [
    "**Easy workaround is to write the target as r'...' as well**"
   ]
  },
  {
   "cell_type": "code",
   "execution_count": null,
   "metadata": {
    "tags": []
   },
   "outputs": [
    {
     "name": "stdout",
     "output_type": "stream",
     "text": [
      "<re.Match object; span=(0, 3), match='a\\\\t'>\n"
     ]
    }
   ],
   "source": [
    "print(re.search(r'a\\\\?t',r'a\\t'))"
   ]
  },
  {
   "cell_type": "code",
   "execution_count": null,
   "metadata": {
    "tags": []
   },
   "outputs": [
    {
     "name": "stdout",
     "output_type": "stream",
     "text": [
      "<re.Match object; span=(0, 2), match='at'>\n"
     ]
    }
   ],
   "source": [
    "print(re.search(r'a\\\\?t',r'at'))"
   ]
  },
  {
   "cell_type": "markdown",
   "metadata": {},
   "source": [
    "---"
   ]
  },
  {
   "cell_type": "markdown",
   "metadata": {},
   "source": [
    "#### <font color=\"brown\">Greedy and non-greedy matching</font>"
   ]
  },
  {
   "cell_type": "code",
   "execution_count": null,
   "metadata": {
    "tags": []
   },
   "outputs": [
    {
     "name": "stdout",
     "output_type": "stream",
     "text": [
      "<re.Match object; span=(0, 40), match='<p class=\"para\">This is a paragraph.</p>'>\n"
     ]
    }
   ],
   "source": [
    "# greedy matching\n",
    "# * matches longest possible sequence \n",
    "res = re.search('<.*>', '<p class=\"para\">This is a paragraph.</p>')\n",
    "print(res)"
   ]
  },
  {
   "cell_type": "code",
   "execution_count": null,
   "metadata": {
    "tags": []
   },
   "outputs": [
    {
     "name": "stdout",
     "output_type": "stream",
     "text": [
      "<re.Match object; span=(0, 40), match='<p class=\"para\">This is a paragraph.</p>'>\n"
     ]
    }
   ],
   "source": [
    "# greedy matching\n",
    "# same with + \n",
    "res = re.search('<.+>', '<p class=\"para\">This is a paragraph.</p>')\n",
    "print(res)"
   ]
  },
  {
   "cell_type": "code",
   "execution_count": null,
   "metadata": {},
   "outputs": [
    {
     "name": "stdout",
     "output_type": "stream",
     "text": [
      "<re.Match object; span=(0, 16), match='<p class=\"para\">'>\n"
     ]
    }
   ],
   "source": [
    "# non-greedy matching with ?\n",
    "res = re.search('<.*?>', '<p class=\"para\">This is a paragraph.</p>')\n",
    "print(res)"
   ]
  },
  {
   "cell_type": "markdown",
   "metadata": {},
   "source": [
    "**In the above, the search stops as soon as the first '>' is seen**"
   ]
  },
  {
   "cell_type": "code",
   "execution_count": null,
   "metadata": {},
   "outputs": [
    {
     "name": "stdout",
     "output_type": "stream",
     "text": [
      "<re.Match object; span=(0, 16), match='<p class=\"para\">'>\n"
     ]
    }
   ],
   "source": [
    "# or, we can use negation to prevent < or > characters in between\n",
    "print(re.search(r'<[^<>]*>','<p class=\"para\">This is a paragraph.</p>'))"
   ]
  },
  {
   "cell_type": "markdown",
   "metadata": {},
   "source": [
    "<font color=\"red\">Note that the usage of ? following a sequence such as * or +, is different from<br>\n",
    "the usage of ? following a single character (for one or zero occurence of that character)</font>"
   ]
  }
 ],
 "metadata": {
  "kernelspec": {
   "display_name": "Python 3.11.5 64-bit",
   "language": "python",
   "name": "python3"
  },
  "language_info": {
   "codemirror_mode": {
    "name": "ipython",
    "version": 3
   },
   "file_extension": ".py",
   "mimetype": "text/x-python",
   "name": "python",
   "nbconvert_exporter": "python",
   "pygments_lexer": "ipython3",
   "version": "3.11.5"
  },
  "vscode": {
   "interpreter": {
    "hash": "b0fa6594d8f4cbf19f97940f81e996739fb7646882a419484c72d19e05852a7e"
   }
  }
 },
 "nbformat": 4,
 "nbformat_minor": 4
}
