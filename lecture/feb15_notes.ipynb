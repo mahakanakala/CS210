{
 "cells": [
  {
   "cell_type": "markdown",
   "metadata": {},
   "source": [
    "## CS 210 Spring 2024 - Feb 15\n",
    "### Regular expressions Continued"
   ]
  },
  {
   "cell_type": "markdown",
   "metadata": {},
   "source": [
    "---"
   ]
  },
  {
   "cell_type": "code",
   "execution_count": 1,
   "metadata": {
    "tags": []
   },
   "outputs": [],
   "source": [
    "import re"
   ]
  },
  {
   "cell_type": "markdown",
   "metadata": {},
   "source": [
    "#### <font color=\"brown\">Special regular expression sequences to match predefined sets of characters</font>\n",
    "1. Whitespace: \\\\s, \\\\S  (same as [ \\\\t\\\\n] and [^ \\\\t\\n\\\\])\n",
    "2. Word (alphanumeric, plus underscore) characters: \\\\w, \\\\W (same as [a-zA-Z0-9_] and [^a-zA-Z0-9_])\n",
    "3. Digits: \\\\d, \\\\D (same as [0-9] and [^0-9])\n",
    "4. Word Boundary: \\\\b"
   ]
  },
  {
   "cell_type": "markdown",
   "metadata": {},
   "source": [
    "---"
   ]
  },
  {
   "cell_type": "markdown",
   "metadata": {},
   "source": [
    "**Whitespace**\n",
    "- \\\\s : matches any whitespace character (including tab and newline)\n",
    "- \\\\S : matches any non-whitespace character "
   ]
  },
  {
   "cell_type": "code",
   "execution_count": 8,
   "metadata": {
    "tags": []
   },
   "outputs": [],
   "source": [
    "# at least two of '.','?',or '!', followed by at least one whitespace\n",
    "def matchit(astr):\n",
    "    res = re.search(r'[.?!]{2,}\\s+',astr) \n",
    "    print(res) if res else print('no match')"
   ]
  },
  {
   "cell_type": "code",
   "execution_count": 9,
   "metadata": {
    "tags": []
   },
   "outputs": [
    {
     "name": "stdout",
     "output_type": "stream",
     "text": [
      "no match\n"
     ]
    }
   ],
   "source": [
    "matchit('...What the?')  "
   ]
  },
  {
   "cell_type": "code",
   "execution_count": 10,
   "metadata": {
    "tags": []
   },
   "outputs": [
    {
     "name": "stdout",
     "output_type": "stream",
     "text": [
      "<re.Match object; span=(0, 4), match='... '>\n"
     ]
    }
   ],
   "source": [
    "matchit('... What the?') "
   ]
  },
  {
   "cell_type": "markdown",
   "metadata": {},
   "source": [
    "**In the above, the space after ... is matched by \\\\s+**"
   ]
  },
  {
   "cell_type": "code",
   "execution_count": 11,
   "metadata": {
    "tags": []
   },
   "outputs": [
    {
     "name": "stdout",
     "output_type": "stream",
     "text": [
      "<re.Match object; span=(0, 5), match='...  '>\n"
     ]
    }
   ],
   "source": [
    "matchit('...  What the?') "
   ]
  },
  {
   "cell_type": "code",
   "execution_count": 12,
   "metadata": {
    "tags": []
   },
   "outputs": [
    {
     "name": "stdout",
     "output_type": "stream",
     "text": [
      "<re.Match object; span=(8, 12), match='?!! '>\n"
     ]
    }
   ],
   "source": [
    "matchit('What the?!! Next...')"
   ]
  },
  {
   "cell_type": "code",
   "execution_count": 13,
   "metadata": {
    "tags": []
   },
   "outputs": [
    {
     "name": "stdout",
     "output_type": "stream",
     "text": [
      "<re.Match object; span=(4, 10), match='quick '>\n"
     ]
    }
   ],
   "source": [
    "# at least 4 non-whitespace characters followed by at least one whitespace\n",
    "res = re.search(r'\\S{4,}\\s+','The quick brown fox...')\n",
    "print(res)"
   ]
  },
  {
   "cell_type": "code",
   "execution_count": 14,
   "metadata": {
    "tags": []
   },
   "outputs": [
    {
     "name": "stdout",
     "output_type": "stream",
     "text": [
      "<re.Match object; span=(0, 4), match='... '>\n"
     ]
    }
   ],
   "source": [
    "# can specify whitspace alternatively by using [] class with space, tab, and newline\n",
    "astr = '... What the?'\n",
    "res = re.search(r'[.?!]{2,}[ \\t\\n]+',astr)  \n",
    "print(res)"
   ]
  },
  {
   "cell_type": "markdown",
   "metadata": {},
   "source": [
    "---"
   ]
  },
  {
   "cell_type": "markdown",
   "metadata": {},
   "source": [
    "**\"Word\": characters (alphanumeric)**\n",
    "\n",
    "- \\\\w : matches any alphanumeric character => [a-zA-Z0-9_]  (includes underscore)\n",
    "- \\\\W : matches any non-alphanumeric character => [^a-zA-Z0-9_]  "
   ]
  },
  {
   "cell_type": "code",
   "execution_count": 15,
   "metadata": {
    "tags": []
   },
   "outputs": [
    {
     "name": "stdout",
     "output_type": "stream",
     "text": [
      "None\n"
     ]
    }
   ],
   "source": [
    "# want at least 4 word characters followed by at least one whitespace\n",
    "res = re.search(r'\\w{4,}\\s+',\"Hey! What's up?\")\n",
    "print(res)"
   ]
  },
  {
   "cell_type": "code",
   "execution_count": 16,
   "metadata": {
    "tags": []
   },
   "outputs": [
    {
     "name": "stdout",
     "output_type": "stream",
     "text": [
      "<re.Match object; span=(15, 20), match='with '>\n"
     ]
    }
   ],
   "source": [
    "# want at least 4 word characters followed by at least one whitespace\n",
    "res = re.search(r'\\w{4,}\\s+',\"Hey! What's up with you?\")\n",
    "print(res)"
   ]
  },
  {
   "cell_type": "markdown",
   "metadata": {},
   "source": [
    "---"
   ]
  },
  {
   "cell_type": "markdown",
   "metadata": {},
   "source": [
    "**Digits**\n",
    "\n",
    "- \\\\d : matches any digit character => [0-9]\n",
    "- \\\\D : matches any non-digit character => [^0-9]"
   ]
  },
  {
   "cell_type": "markdown",
   "metadata": {},
   "source": [
    "##### Exercise:\n",
    "Write a regular expression to determine if a given string is an acceptable phone number.<br>\n",
    "Following are the acceptable phone number formats (d stands for digit):\n",
    "- ddddddddd\n",
    "- ddd-ddd-dddd\n",
    "- (ddd)ddddddd\n",
    "- (ddd)ddd-dddd"
   ]
  },
  {
   "cell_type": "markdown",
   "metadata": {},
   "source": [
    "**First, let's handle the last two variants that have ()**"
   ]
  },
  {
   "cell_type": "code",
   "execution_count": 17,
   "metadata": {
    "tags": []
   },
   "outputs": [
    {
     "name": "stdout",
     "output_type": "stream",
     "text": [
      "phone number? ('quit' to stop)  (848)445-2590\n"
     ]
    },
    {
     "name": "stdout",
     "output_type": "stream",
     "text": [
      "match\n"
     ]
    },
    {
     "name": "stdout",
     "output_type": "stream",
     "text": [
      "phone number? ('quit' to stop)  (848)4452590\n"
     ]
    },
    {
     "name": "stdout",
     "output_type": "stream",
     "text": [
      "match\n"
     ]
    },
    {
     "name": "stdout",
     "output_type": "stream",
     "text": [
      "phone number? ('quit' to stop)  8484452590\n"
     ]
    },
    {
     "name": "stdout",
     "output_type": "stream",
     "text": [
      "no match\n"
     ]
    },
    {
     "name": "stdout",
     "output_type": "stream",
     "text": [
      "phone number? ('quit' to stop)  12345\n"
     ]
    },
    {
     "name": "stdout",
     "output_type": "stream",
     "text": [
      "no match\n"
     ]
    },
    {
     "name": "stdout",
     "output_type": "stream",
     "text": [
      "phone number? ('quit' to stop)  (1234)56-7891\n"
     ]
    },
    {
     "name": "stdout",
     "output_type": "stream",
     "text": [
      "no match\n"
     ]
    },
    {
     "name": "stdout",
     "output_type": "stream",
     "text": [
      "phone number? ('quit' to stop)  quit\n"
     ]
    }
   ],
   "source": [
    "while True:\n",
    "    astr = input(\"phone number? ('quit' to stop) \")\n",
    "    if astr == 'quit':\n",
    "        break\n",
    "    res = re.search(r'^\\(\\d{3}\\)\\d{3}-?\\d{4}$',astr)  # escape '(' and ')' because they are metachars\n",
    "    print('match') if res else print('no match')"
   ]
  },
  {
   "cell_type": "markdown",
   "metadata": {},
   "source": [
    "**If you're reading the HTML version of the notes, here are the inputs to the cell above**\n",
    "- (848)445-2590\n",
    "- (848)4452590\n",
    "- 8484452590\n",
    "- 12345\n",
    "- (1234)56-7891"
   ]
  },
  {
   "cell_type": "markdown",
   "metadata": {},
   "source": [
    "**Next, let's strengthen the above with the ability to handle leading/trailing whitespaces**"
   ]
  },
  {
   "cell_type": "code",
   "execution_count": 18,
   "metadata": {
    "tags": []
   },
   "outputs": [
    {
     "name": "stdout",
     "output_type": "stream",
     "text": [
      "phone number? ('quit' to stop)     (848)445-2590 \n"
     ]
    },
    {
     "name": "stdout",
     "output_type": "stream",
     "text": [
      "match\n"
     ]
    },
    {
     "name": "stdout",
     "output_type": "stream",
     "text": [
      "phone number? ('quit' to stop)  quit\n"
     ]
    }
   ],
   "source": [
    "while True:\n",
    "    astr = input(\"phone number? ('quit' to stop) \")\n",
    "    if astr == 'quit':\n",
    "        break\n",
    "    res = re.search(r'^\\s*\\(\\d{3}\\)\\d{3}-?\\d{4}\\s*$',astr)  # \\s* after ^ and before $\n",
    "    print('match') if res else print('no match')"
   ]
  },
  {
   "cell_type": "markdown",
   "metadata": {},
   "source": [
    "**If you're reading the HTML version of the notes, the input to cell #18 above was:**\n",
    "- (848)445-2590"
   ]
  },
  {
   "cell_type": "markdown",
   "metadata": {},
   "source": [
    "**For the non '( )' variants, we can't have a single pattern using -? for each of the - positions because it will match even if only one dash is present, and the other is not**"
   ]
  },
  {
   "cell_type": "code",
   "execution_count": 19,
   "metadata": {
    "tags": []
   },
   "outputs": [
    {
     "name": "stdout",
     "output_type": "stream",
     "text": [
      "<re.Match object; span=(0, 14), match='  848-445-2790'>\n"
     ]
    }
   ],
   "source": [
    "# so, for instance, it will work for this string\n",
    "res = re.search(r'^\\s*\\d{3}-?\\d{3}-?\\d{4}\\s*$','  848-445-2790')\n",
    "print(res)"
   ]
  },
  {
   "cell_type": "code",
   "execution_count": 20,
   "metadata": {
    "tags": []
   },
   "outputs": [
    {
     "name": "stdout",
     "output_type": "stream",
     "text": [
      "<re.Match object; span=(0, 13), match='  848-4452790'>\n"
     ]
    }
   ],
   "source": [
    "# but also for this string, which is not an acceptable variant\n",
    "res = re.search(r'^\\s*\\d{3}-?\\d{3}-?\\d{4}\\s*$','  848-4452790')\n",
    "print(res)"
   ]
  },
  {
   "cell_type": "markdown",
   "metadata": {},
   "source": [
    "**So let's do one pattern to catch both dashes**"
   ]
  },
  {
   "cell_type": "code",
   "execution_count": 21,
   "metadata": {
    "tags": []
   },
   "outputs": [
    {
     "name": "stdout",
     "output_type": "stream",
     "text": [
      "<re.Match object; span=(0, 17), match='  848-445-2790   '>\n"
     ]
    }
   ],
   "source": [
    "# both dashes\n",
    "print(re.search(r'^\\s*\\d{3}-\\d{3}-\\d{4}\\s*$','  848-445-2790   '))"
   ]
  },
  {
   "cell_type": "markdown",
   "metadata": {},
   "source": [
    "**And another pattern to catch a straight sequence of 10 digits**"
   ]
  },
  {
   "cell_type": "code",
   "execution_count": 22,
   "metadata": {
    "tags": []
   },
   "outputs": [
    {
     "name": "stdout",
     "output_type": "stream",
     "text": [
      "<re.Match object; span=(0, 15), match='  8484452790   '>\n"
     ]
    }
   ],
   "source": [
    "# 10 digits in sequence\n",
    "print(re.search(r'^\\s*\\d{10}\\s*$','  8484452790   '))"
   ]
  },
  {
   "cell_type": "markdown",
   "metadata": {},
   "source": [
    "**Final solution, single regexp to catch all variants**"
   ]
  },
  {
   "cell_type": "code",
   "execution_count": 23,
   "metadata": {
    "tags": []
   },
   "outputs": [
    {
     "name": "stdout",
     "output_type": "stream",
     "text": [
      "phone number? ('quit' to stop)  (732)123-4567\n"
     ]
    },
    {
     "name": "stdout",
     "output_type": "stream",
     "text": [
      "match\n"
     ]
    },
    {
     "name": "stdout",
     "output_type": "stream",
     "text": [
      "phone number? ('quit' to stop)  7321234567\n"
     ]
    },
    {
     "name": "stdout",
     "output_type": "stream",
     "text": [
      "match\n"
     ]
    },
    {
     "name": "stdout",
     "output_type": "stream",
     "text": [
      "phone number? ('quit' to stop)  732-123-4567\n"
     ]
    },
    {
     "name": "stdout",
     "output_type": "stream",
     "text": [
      "match\n"
     ]
    },
    {
     "name": "stdout",
     "output_type": "stream",
     "text": [
      "phone number? ('quit' to stop)  (732)1234567\n"
     ]
    },
    {
     "name": "stdout",
     "output_type": "stream",
     "text": [
      "match\n"
     ]
    },
    {
     "name": "stdout",
     "output_type": "stream",
     "text": [
      "phone number? ('quit' to stop)  732-1234567\n"
     ]
    },
    {
     "name": "stdout",
     "output_type": "stream",
     "text": [
      "no match\n"
     ]
    },
    {
     "name": "stdout",
     "output_type": "stream",
     "text": [
      "phone number? ('quit' to stop)  quit\n"
     ]
    }
   ],
   "source": [
    "# next, let's strengthen the above with the ability to handle leading/trailing whitespaces\n",
    "while True:\n",
    "    astr = input(\"phone number? ('quit' to stop) \")\n",
    "    if astr == 'quit':\n",
    "        break\n",
    "    res = re.search(r'\\s*(\\(\\d{3}\\)\\d{3}-?\\d{4}|\\d{3}-\\d{3}-\\d{4}|\\d{10})\\s*$',astr) \n",
    "    print('match') if res else print('no match')"
   ]
  },
  {
   "cell_type": "markdown",
   "metadata": {},
   "source": [
    "**If you're reading the HTML version of the notes, here are the inputs to the cell above**\n",
    "- (848)445-2590\n",
    "- 8484452590\n",
    "- 732-123-4567\n",
    "- (732)1234567\n",
    "- 732-1234567"
   ]
  },
  {
   "cell_type": "markdown",
   "metadata": {},
   "source": [
    "---"
   ]
  },
  {
   "cell_type": "markdown",
   "metadata": {},
   "source": [
    "**Word boundary**\n",
    "- \\\\b : matches only at word boundary (doesn't actually match any character, just sets the rule).\n",
    "(Rememver, a word is a sequence of alphanumeric characters plus underscore.)<br> "
   ]
  },
  {
   "cell_type": "code",
   "execution_count": 24,
   "metadata": {
    "tags": []
   },
   "outputs": [
    {
     "name": "stdout",
     "output_type": "stream",
     "text": [
      "None\n",
      "<re.Match object; span=(17, 21), match='part'>\n",
      "None\n",
      "<re.Match object; span=(16, 20), match='part'>\n"
     ]
    }
   ],
   "source": [
    "# check if a string contains the word 'part'\n",
    "res = re.search(r'\\b[pP]art\\b',\"I'm going to a party tomorrow\")\n",
    "print(res)\n",
    "res = re.search(r'\\b[pP]art\\b',\"This is the best part of the movie.\")\n",
    "print(res)\n",
    "res = re.search(r'\\b[pP]art\\b',\"This is a big apartment.\")\n",
    "print(res)\n",
    "res = re.search(r'\\b[p|P]art\\b','Til death do us part') # end of string is also word boundary\n",
    "print(res)"
   ]
  },
  {
   "cell_type": "code",
   "execution_count": 25,
   "metadata": {
    "tags": []
   },
   "outputs": [
    {
     "name": "stdout",
     "output_type": "stream",
     "text": [
      "None\n"
     ]
    }
   ],
   "source": [
    "res = re.search(r'\\b[eE]pisode\\b',\"Episode3 has a high rating.\") \n",
    "print(res)"
   ]
  },
  {
   "cell_type": "markdown",
   "metadata": {},
   "source": [
    "**In the above, since word includes digits, the '3' is not a word boundary**"
   ]
  },
  {
   "cell_type": "markdown",
   "metadata": {},
   "source": [
    "---"
   ]
  },
  {
   "cell_type": "markdown",
   "metadata": {},
   "source": [
    "#### <font color=\"brown\">Using the match function</font>\n",
    "**The match function always starts matching from the beginning of string**"
   ]
  },
  {
   "cell_type": "code",
   "execution_count": 26,
   "metadata": {
    "tags": []
   },
   "outputs": [
    {
     "name": "stdout",
     "output_type": "stream",
     "text": [
      "<re.Match object; span=(1, 3), match='ar'>\n",
      "None\n"
     ]
    }
   ],
   "source": [
    "print(re.search('ar','barbaric')) # 'ar' is in 'barbaric'\n",
    "print(re.match('ar','barbaric')) # but 'barbaric' doesn't begin with 'ar'"
   ]
  },
  {
   "cell_type": "code",
   "execution_count": 27,
   "metadata": {
    "tags": []
   },
   "outputs": [
    {
     "name": "stdout",
     "output_type": "stream",
     "text": [
      "<re.Match object; span=(0, 6), match='arrest'>\n",
      "<re.Match object; span=(0, 6), match='arrest'>\n"
     ]
    }
   ],
   "source": [
    "# match all strings that start with ar, end with t, \n",
    "# and have at least one lowercase letter between\n",
    "\n",
    "res = re.search('^ar[a-z]+t$', 'arrest')  # version 1, using search\n",
    "print(res)\n",
    "res = re.match('ar[a-z]+t$', 'arrest')  # version 2, using match   \n",
    "print(res)"
   ]
  },
  {
   "cell_type": "markdown",
   "metadata": {},
   "source": [
    "**Note that if you want to match an entire string with the match function, you will still need to use $ at the end**"
   ]
  },
  {
   "cell_type": "markdown",
   "metadata": {},
   "source": [
    "---"
   ]
  },
  {
   "cell_type": "markdown",
   "metadata": {},
   "source": [
    "#### <font color=\"brown\">Using the match object returned by search/match</font>\n",
    "**Applying the methods group(), span(), start(), end()**"
   ]
  },
  {
   "cell_type": "code",
   "execution_count": 28,
   "metadata": {
    "tags": []
   },
   "outputs": [],
   "source": [
    "res = re.search('at', 'catch')  # returned Match object is stored in res "
   ]
  },
  {
   "cell_type": "markdown",
   "metadata": {},
   "source": [
    "**group() returns the matched result string**"
   ]
  },
  {
   "cell_type": "code",
   "execution_count": 29,
   "metadata": {
    "tags": []
   },
   "outputs": [
    {
     "name": "stdout",
     "output_type": "stream",
     "text": [
      "at\n"
     ]
    }
   ],
   "source": [
    "print(res.group())"
   ]
  },
  {
   "cell_type": "markdown",
   "metadata": {},
   "source": [
    "**span() returns the range tuple (start,end) indices of matching part of original string**"
   ]
  },
  {
   "cell_type": "code",
   "execution_count": 30,
   "metadata": {
    "tags": []
   },
   "outputs": [
    {
     "name": "stdout",
     "output_type": "stream",
     "text": [
      "(1, 3)\n"
     ]
    }
   ],
   "source": [
    "print(res.span())"
   ]
  },
  {
   "cell_type": "markdown",
   "metadata": {},
   "source": [
    "**start() and end() return starting and ending indices of matching part of original string**"
   ]
  },
  {
   "cell_type": "code",
   "execution_count": 31,
   "metadata": {
    "tags": []
   },
   "outputs": [
    {
     "name": "stdout",
     "output_type": "stream",
     "text": [
      "1\n",
      "3\n"
     ]
    }
   ],
   "source": [
    "print(res.start()) \n",
    "print(res.end()) "
   ]
  },
  {
   "cell_type": "markdown",
   "metadata": {},
   "source": [
    "**of course, you can get these same values from the tuple returned by span()**"
   ]
  },
  {
   "cell_type": "code",
   "execution_count": 32,
   "metadata": {
    "tags": []
   },
   "outputs": [
    {
     "name": "stdout",
     "output_type": "stream",
     "text": [
      "1 , 3\n"
     ]
    }
   ],
   "source": [
    "start,end = res.span()\n",
    "print(start,',',end)"
   ]
  },
  {
   "cell_type": "markdown",
   "metadata": {},
   "source": [
    "**By definition, re.match() will always return a span that starts at 0 (if a match is found)**"
   ]
  },
  {
   "cell_type": "code",
   "execution_count": 33,
   "metadata": {
    "tags": []
   },
   "outputs": [
    {
     "name": "stdout",
     "output_type": "stream",
     "text": [
      "<span>\n",
      "(0, 6)\n",
      "0\n",
      "6\n"
     ]
    }
   ],
   "source": [
    "res = re.match(r'<.*?>','<span>This is within a span tag in html</span>')  # non-greedy\n",
    "print(res.group())\n",
    "print(res.span())\n",
    "print(res.start())\n",
    "print(res.end())"
   ]
  },
  {
   "cell_type": "code",
   "execution_count": 34,
   "metadata": {
    "tags": []
   },
   "outputs": [
    {
     "name": "stdout",
     "output_type": "stream",
     "text": [
      "<span>This is within a span tag in html</span>\n",
      "(0, 46)\n",
      "0\n",
      "46\n"
     ]
    }
   ],
   "source": [
    "res = re.match(r'<.*>','<span>This is within a span tag in html</span>')  # greedy\n",
    "print(res.group())\n",
    "print(res.span())\n",
    "print(res.start())\n",
    "print(res.end())"
   ]
  },
  {
   "cell_type": "markdown",
   "metadata": {},
   "source": [
    "**Be careful to check for existence of returned match object before applying methods!**"
   ]
  },
  {
   "cell_type": "code",
   "execution_count": 35,
   "metadata": {
    "tags": []
   },
   "outputs": [
    {
     "ename": "AttributeError",
     "evalue": "'NoneType' object has no attribute 'group'",
     "output_type": "error",
     "traceback": [
      "\u001b[0;31m---------------------------------------------------------------------------\u001b[0m",
      "\u001b[0;31mAttributeError\u001b[0m                            Traceback (most recent call last)",
      "Cell \u001b[0;32mIn[35], line 2\u001b[0m\n\u001b[1;32m      1\u001b[0m res \u001b[38;5;241m=\u001b[39m re\u001b[38;5;241m.\u001b[39mmatch(\u001b[38;5;124m'\u001b[39m\u001b[38;5;124mbar\u001b[39m\u001b[38;5;124m'\u001b[39m,\u001b[38;5;124m'\u001b[39m\u001b[38;5;124msandbar\u001b[39m\u001b[38;5;124m'\u001b[39m)\n\u001b[0;32m----> 2\u001b[0m \u001b[38;5;28mprint\u001b[39m(\u001b[43mres\u001b[49m\u001b[38;5;241;43m.\u001b[39;49m\u001b[43mgroup\u001b[49m())\n",
      "\u001b[0;31mAttributeError\u001b[0m: 'NoneType' object has no attribute 'group'"
     ]
    }
   ],
   "source": [
    "res = re.match('bar','sandbar')\n",
    "print(res.group())"
   ]
  },
  {
   "cell_type": "code",
   "execution_count": 36,
   "metadata": {
    "tags": []
   },
   "outputs": [
    {
     "name": "stdout",
     "output_type": "stream",
     "text": [
      "No match\n"
     ]
    }
   ],
   "source": [
    "# defend!\n",
    "res = re.match('bar','sandbar')\n",
    "print(res.group()) if res else print('No match')"
   ]
  },
  {
   "cell_type": "markdown",
   "metadata": {},
   "source": [
    "**Typical usage is to store in Match object, check if it exists (not None), and then get matched string with group**"
   ]
  },
  {
   "cell_type": "code",
   "execution_count": 37,
   "metadata": {
    "tags": []
   },
   "outputs": [
    {
     "name": "stdout",
     "output_type": "stream",
     "text": [
      "Match: arasit\n",
      "Match: artist\n",
      "No match\n"
     ]
    }
   ],
   "source": [
    "# find out if a string contains any sequence that starts with ar, ends with t, \n",
    "# and has at least one lowercase letter between\n",
    "def substr(astr):\n",
    "    res = re.search('ar[a-z]+t',astr)  \n",
    "    print('Match:',res.group()) if res else print('No match')\n",
    "        \n",
    "substr('parasite')\n",
    "substr('artist')\n",
    "substr('part')"
   ]
  },
  {
   "cell_type": "markdown",
   "metadata": {},
   "source": [
    "---"
   ]
  },
  {
   "cell_type": "markdown",
   "metadata": {},
   "source": [
    "#### <font color=\"brown\">Splitting a string with re.split function</font>"
   ]
  },
  {
   "cell_type": "code",
   "execution_count": 69,
   "metadata": {
    "tags": []
   },
   "outputs": [
    {
     "data": {
      "text/plain": [
       "['ab', 'cd']"
      ]
     },
     "execution_count": 69,
     "metadata": {},
     "output_type": "execute_result"
    }
   ],
   "source": [
    "astr = 'ab;cd'\n",
    "re.split(';',astr)"
   ]
  },
  {
   "cell_type": "code",
   "execution_count": 70,
   "metadata": {
    "tags": []
   },
   "outputs": [
    {
     "data": {
      "text/plain": [
       "['ab', 'cd']"
      ]
     },
     "execution_count": 70,
     "metadata": {},
     "output_type": "execute_result"
    }
   ],
   "source": [
    "astr.split(';')  # string split method"
   ]
  },
  {
   "cell_type": "code",
   "execution_count": 71,
   "metadata": {
    "tags": []
   },
   "outputs": [
    {
     "data": {
      "text/plain": [
       "['Really', ' I mean, really', '', '']"
      ]
     },
     "execution_count": 71,
     "metadata": {},
     "output_type": "execute_result"
    }
   ],
   "source": [
    "astr = 'Really? I mean, really?!'\n",
    "re.split('[?!]',str)"
   ]
  },
  {
   "cell_type": "markdown",
   "metadata": {},
   "source": [
    "**Given a class of characters, regexp split will split separately on each of the characters in the  class.<br>\n",
    "Also, notice the empty string returned between consecutive split characters,<br>\n",
    "and between consecutive split character and end of string**"
   ]
  },
  {
   "cell_type": "markdown",
   "metadata": {},
   "source": [
    "**In the following example, we have a sequence of characters, not a class, so the entire sequence is used to split**"
   ]
  },
  {
   "cell_type": "code",
   "execution_count": 77,
   "metadata": {
    "tags": []
   },
   "outputs": [
    {
     "data": {
      "text/plain": [
       "['Really? I mean, really', '']"
      ]
     },
     "execution_count": 77,
     "metadata": {},
     "output_type": "execute_result"
    }
   ],
   "source": [
    "re.split('\\?!',astr) # notice that we need to escape the '?' to get the literal ?"
   ]
  },
  {
   "cell_type": "markdown",
   "metadata": {},
   "source": [
    "**Notice the empty string as second value in the result list, beWe can get the same effect with the string split method**"
   ]
  },
  {
   "cell_type": "markdown",
   "metadata": {},
   "source": [
    "**We can get the same effect with the string split method**"
   ]
  },
  {
   "cell_type": "code",
   "execution_count": 78,
   "metadata": {
    "tags": []
   },
   "outputs": [
    {
     "data": {
      "text/plain": [
       "['Really? I mean, really', '']"
      ]
     },
     "execution_count": 78,
     "metadata": {},
     "output_type": "execute_result"
    }
   ],
   "source": [
    "astr.split('?!')  "
   ]
  },
  {
   "cell_type": "code",
   "execution_count": 42,
   "metadata": {
    "tags": []
   },
   "outputs": [
    {
     "name": "stdout",
     "output_type": "stream",
     "text": [
      "['This', 'is', 'a', 'bunch', 'of', 'words', '']\n"
     ]
    }
   ],
   "source": [
    "# split into words, using \\W (non-word character) as delimiter\n",
    "res = re.split('\\W+','This   is  a bunch of words!')\n",
    "print(res)"
   ]
  },
  {
   "cell_type": "markdown",
   "metadata": {},
   "source": [
    "---"
   ]
  },
  {
   "cell_type": "markdown",
   "metadata": {},
   "source": [
    "#### <font color=\"brown\">Substituting in a string with sub function</font>"
   ]
  },
  {
   "cell_type": "code",
   "execution_count": 43,
   "metadata": {
    "tags": []
   },
   "outputs": [
    {
     "data": {
      "text/plain": [
       "'Account number ##########'"
      ]
     },
     "execution_count": 43,
     "metadata": {},
     "output_type": "execute_result"
    }
   ],
   "source": [
    "# substitute all digits in 'Account number 1223456789' with '#'\n",
    "re.sub('\\d','#','Account number 1223456789')"
   ]
  },
  {
   "cell_type": "code",
   "execution_count": 44,
   "metadata": {
    "tags": []
   },
   "outputs": [
    {
     "data": {
      "text/plain": [
       "'Account number 1223456###'"
      ]
     },
     "execution_count": 44,
     "metadata": {},
     "output_type": "execute_result"
    }
   ],
   "source": [
    "# substitute last 3 digits with '#'\n",
    "re.sub('\\d{3}$','###','Account number 1223456789')"
   ]
  },
  {
   "cell_type": "code",
   "execution_count": 45,
   "metadata": {
    "tags": []
   },
   "outputs": [
    {
     "name": "stdout",
     "output_type": "stream",
     "text": [
      "Before comment..., and after comment\n"
     ]
    }
   ],
   "source": [
    "# removing comments from html\n",
    "# <!-- this is a comment -->\n",
    "\n",
    "htmlstr = 'Before comment...<!-- This is a comment -->, and after comment'\n",
    "res = re.sub('<!--.*-->','', htmlstr)  # replace comment with nothing\n",
    "print(res)"
   ]
  },
  {
   "cell_type": "code",
   "execution_count": 46,
   "metadata": {
    "tags": []
   },
   "outputs": [
    {
     "name": "stdout",
     "output_type": "stream",
     "text": [
      "Before first...  ... after second\n"
     ]
    }
   ],
   "source": [
    "# warning, the regexp is greedy!\n",
    "htmlstr = 'Before first... <!-- comment1 -->between first and second <!-- comment2--> ... after second'\n",
    "res = re.sub('<!--.*-->','', htmlstr)  # replace comment with nothing\n",
    "print(res)"
   ]
  },
  {
   "cell_type": "markdown",
   "metadata": {},
   "source": [
    "**Since the regexp above does a greedy match, everything from the first '<' to the last '>' is matched,<br>\n",
    "including the string between the two comment sections**"
   ]
  },
  {
   "cell_type": "code",
   "execution_count": 47,
   "metadata": {
    "tags": []
   },
   "outputs": [
    {
     "name": "stdout",
     "output_type": "stream",
     "text": [
      "Before first... between first and second  ... after second\n"
     ]
    }
   ],
   "source": [
    "# make it non-greedy\n",
    "htmlstr = 'Before first... <!-- comment1 -->between first and second <!-- comment2--> ... after second'\n",
    "res = re.sub('<!--.*?-->','', htmlstr)\n",
    "print(res)"
   ]
  },
  {
   "cell_type": "code",
   "execution_count": 48,
   "metadata": {
    "tags": []
   },
   "outputs": [
    {
     "name": "stdout",
     "output_type": "stream",
     "text": [
      "<!-- first \n",
      "comment -->Not a comment\n"
     ]
    }
   ],
   "source": [
    "# does not work with a multiline string\n",
    "htmlstr2 = \"\"\"<!-- first \n",
    "comment -->Not a comment<!-- comment2 -->\"\"\"\n",
    "res = re.sub('<!--.*?-->','', htmlstr2)\n",
    "print(res)"
   ]
  },
  {
   "cell_type": "markdown",
   "metadata": {},
   "source": [
    "**The '.' metacharacter does not match a newline**"
   ]
  },
  {
   "cell_type": "code",
   "execution_count": 49,
   "metadata": {
    "tags": []
   },
   "outputs": [
    {
     "name": "stdout",
     "output_type": "stream",
     "text": [
      "Not a comment\n"
     ]
    }
   ],
   "source": [
    "# change to either . or newline\n",
    "res = re.sub(r'<!--(.|\\n)*?-->','', htmlstr2)\n",
    "print(res)"
   ]
  },
  {
   "cell_type": "markdown",
   "metadata": {},
   "source": [
    "---"
   ]
  },
  {
   "cell_type": "markdown",
   "metadata": {},
   "source": [
    "#### <font color=\"brown\">Grouping/Capturing</font>"
   ]
  },
  {
   "cell_type": "code",
   "execution_count": 50,
   "metadata": {
    "tags": []
   },
   "outputs": [],
   "source": [
    "# want to extract (\"capture\") area code and local part from phone number\n",
    "# assume format (ddd)ddd-dddd\n",
    "\n",
    "res = re.match(r'\\((\\d{3})\\)(\\d{3}-\\d{4})', '(848)445-2790')"
   ]
  },
  {
   "cell_type": "markdown",
   "metadata": {},
   "source": [
    "**Notice the grouping/capturing with parentheses around the area code part, as in (\\d{3})\n",
    "and likewise for the entire non-area code part**"
   ]
  },
  {
   "cell_type": "code",
   "execution_count": 52,
   "metadata": {
    "tags": []
   },
   "outputs": [
    {
     "name": "stdout",
     "output_type": "stream",
     "text": [
      "(848)445-2790\n",
      "('848', '445-2790')\n",
      "(848)445-2790\n",
      "848\n",
      "445-2790\n"
     ]
    }
   ],
   "source": [
    "print(res.group())  # for the whole thing\n",
    "print(res.groups()) # for all parts captured with ( )\n",
    "print(res.group(0)) # entire thing, same as group()\n",
    "print(res.group(1)) # first grouping with ( )\n",
    "print(res.group(2)) # second grouping with ( )"
   ]
  },
  {
   "cell_type": "code",
   "execution_count": 53,
   "metadata": {
    "tags": []
   },
   "outputs": [],
   "source": [
    "# equally, you can use search instead of match, just make sure to use ^ for start of string\n",
    "res = re.search(r'^\\((\\d{3})\\)(\\d{3}-\\d{4})', '(848)445-2790')"
   ]
  },
  {
   "cell_type": "code",
   "execution_count": 54,
   "metadata": {
    "tags": []
   },
   "outputs": [
    {
     "name": "stdout",
     "output_type": "stream",
     "text": [
      "(848)445-2790\n",
      "('848', '445-2790')\n",
      "(848)445-2790\n",
      "848\n",
      "445-2790\n"
     ]
    }
   ],
   "source": [
    "print(res.group())  # for the whole thing\n",
    "print(res.groups()) # for all parts grouped with ( )\n",
    "print(res.group(0)) # entire thing\n",
    "print(res.group(1)) # first grouping with ( )\n",
    "print(res.group(2)) # second grouping with ( )"
   ]
  },
  {
   "cell_type": "code",
   "execution_count": 55,
   "metadata": {
    "tags": []
   },
   "outputs": [
    {
     "name": "stdout",
     "output_type": "stream",
     "text": [
      "848\n",
      "445-2790\n"
     ]
    }
   ],
   "source": [
    "# alternatively, you can index into the groups() tuple\n",
    "print(res.groups()[0])\n",
    "print(res.groups()[1])"
   ]
  },
  {
   "cell_type": "code",
   "execution_count": 56,
   "metadata": {
    "tags": []
   },
   "outputs": [
    {
     "name": "stdout",
     "output_type": "stream",
     "text": [
      "848\n",
      "445-2790\n"
     ]
    }
   ],
   "source": [
    "# iterate through all the groups\n",
    "res = re.match(r'\\((\\d{3})\\)(\\d{3}-\\d{4})', '(848)445-2790')\n",
    "if res:\n",
    "    for gr in res.groups():\n",
    "        print(gr)"
   ]
  },
  {
   "cell_type": "markdown",
   "metadata": {},
   "source": [
    "**Numbering and back-referencing capture groups**"
   ]
  },
  {
   "cell_type": "code",
   "execution_count": 57,
   "metadata": {
    "tags": []
   },
   "outputs": [
    {
     "name": "stdout",
     "output_type": "stream",
     "text": [
      "<re.Match object; span=(5, 19), match='air or hot air'>\n"
     ]
    }
   ],
   "source": [
    "# captures can be numbered, and backreferenced using numbers\n",
    "res = re.search(r'(air).*\\1','cool air or hot air')   # \\1 refers to the first captured group\n",
    "print(res)"
   ]
  },
  {
   "cell_type": "code",
   "execution_count": 58,
   "metadata": {
    "tags": []
   },
   "outputs": [
    {
     "name": "stdout",
     "output_type": "stream",
     "text": [
      "None\n"
     ]
    }
   ],
   "source": [
    "res = re.search(r'(air).*\\1','cool air or hot')\n",
    "print(res)"
   ]
  },
  {
   "cell_type": "markdown",
   "metadata": {},
   "source": [
    "**When using back references, make sure to use raw string for the regexp, otherwise it won't work, see below**"
   ]
  },
  {
   "cell_type": "code",
   "execution_count": 59,
   "metadata": {
    "tags": []
   },
   "outputs": [
    {
     "name": "stdout",
     "output_type": "stream",
     "text": [
      "None\n"
     ]
    }
   ],
   "source": [
    "# same as 2 cells above, but without using raw string\n",
    "res = re.search('(air).*\\1','cool air or hot air')\n",
    "print(res)"
   ]
  },
  {
   "cell_type": "code",
   "execution_count": 60,
   "metadata": {
    "tags": []
   },
   "outputs": [
    {
     "name": "stdout",
     "output_type": "stream",
     "text": [
      "<re.Match object; span=(5, 13), match='air or \\x01'>\n"
     ]
    }
   ],
   "source": [
    "res = re.search('(air).*\\1','cool air or \\1hot air')\n",
    "print(res)"
   ]
  }
 ],
 "metadata": {
  "kernelspec": {
   "display_name": "Python 3.11.5 64-bit",
   "language": "python",
   "name": "python3"
  },
  "language_info": {
   "codemirror_mode": {
    "name": "ipython",
    "version": 3
   },
   "file_extension": ".py",
   "mimetype": "text/x-python",
   "name": "python",
   "nbconvert_exporter": "python",
   "pygments_lexer": "ipython3",
   "version": "3.11.5"
  },
  "vscode": {
   "interpreter": {
    "hash": "b0fa6594d8f4cbf19f97940f81e996739fb7646882a419484c72d19e05852a7e"
   }
  }
 },
 "nbformat": 4,
 "nbformat_minor": 4
}
