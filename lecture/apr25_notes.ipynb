{
 "cells": [
  {
   "cell_type": "markdown",
   "metadata": {},
   "source": [
    "## CS 210 Spring 2024 - Apr 25\n",
    "### Relational Databases Continued"
   ]
  },
  {
   "cell_type": "markdown",
   "metadata": {},
   "source": [
    "---"
   ]
  },
  {
   "cell_type": "markdown",
   "metadata": {},
   "source": [
    "### <font color=\"brown\">Movies Database</font>"
   ]
  },
  {
   "cell_type": "markdown",
   "metadata": {},
   "source": [
    "The movies data used in this exercise has been sourced from: https://data.world/jamesgaskin/movies/workspace/file?filename=view\n",
    "\n",
    "This dataset (see **movies_full.csv**) has a bunch of columns, of which we are going to only use title (Column 2), release_date (Column 6), and genre (Column 7). These columns are extracted into a tab-delimited text file, **movies.txt**. There are 615 movies instances in all.\n",
    "\n",
    "For our movies database, we're going to create a **movies** table, a **user** table, and a **rating** table."
   ]
  },
  {
   "cell_type": "markdown",
   "metadata": {},
   "source": [
    "---"
   ]
  },
  {
   "cell_type": "markdown",
   "metadata": {
    "tags": []
   },
   "source": [
    "#### <font color=\"brown\">Create a Movies Database</font>"
   ]
  },
  {
   "cell_type": "markdown",
   "metadata": {},
   "source": [
    "##### **1. Create a database named <tt>movies</tt>, and use it**"
   ]
  },
  {
   "cell_type": "markdown",
   "metadata": {},
   "source": [
    "<pre>\n",
    "venugopa@data8:~$ mysql\n",
    "Welcome to the MariaDB monitor.  Commands end with ; or \\g.\n",
    "...\n",
    "\n",
    "MariaDB [(none)]> create database venugopa_movies;\n",
    "Query OK, 1 row affected (0.001 sec)\n",
    "\n",
    "MariaDB [(none)]> use venugopa_movies;\n",
    "Database changed\n",
    "</pre>"
   ]
  },
  {
   "cell_type": "markdown",
   "metadata": {},
   "source": [
    "##### **2. Create the 'movie' table**"
   ]
  },
  {
   "cell_type": "markdown",
   "metadata": {},
   "source": [
    "<pre>\n",
    "MariaDB [venugopa_movies]> create table movie (\n",
    "    -> id int auto_increment primary key,\n",
    "    -> title varchar(100) not null,\n",
    "    -> release_date date not null,\n",
    "    -> genre varchar(20) not null);\n",
    "</pre>\n",
    "\n",
    "- The <tt>date</tt> type is for year,month,date but not time: https://dev.mysql.com/doc/refman/8.0/en/datetime.html\n",
    "\n",
    "**We could make this table more robust by defining the (title,release_date) combination to be unique:**\n",
    "<pre>\n",
    "MariaDB [venugopa_movies]> alter table movie add unique(title,release_date);\n",
    "\n",
    "MariaDB [venugopa_movies]> show create table movie\\G;\n",
    "*************************** 1. row ***************************\n",
    "       Table: movie\n",
    "Create Table: CREATE TABLE `movie` (\n",
    "  `id` int(11) NOT NULL AUTO_INCREMENT,\n",
    "  `title` varchar(100) NOT NULL,\n",
    "  `release_date` date NOT NULL,\n",
    "  `genre` varchar(20) NOT NULL,\n",
    "  PRIMARY KEY (`id`),\n",
    "  UNIQUE KEY `title` (`title`,`release_date`)\n",
    ") ENGINE=InnoDB DEFAULT CHARSET=utf8mb4 COLLATE=utf8mb4_general_ci\n",
    "1 row in set (0.00 sec)\n",
    "</pre>\n",
    "\n",
    "**You can add the same title multiple times, but the (title,release_date) may not be repeated:**\n",
    "<pre>\n",
    "MariaDB [venugopa_movies]> insert into movie (title,release_date,genre) values ('a_movie','2009-12-10','Action');\n",
    "MariaDB [venugopa_movies]> insert into movie (title,release_date,genre) values ('a_movie','2010-12-10','Adventure');\n",
    "MariaDB [venugopa_movies]> select * from movie;\n",
    "+----+---------+--------------+-----------+\n",
    "| id | title   | release_date | genre     |\n",
    "+----+---------+--------------+-----------+\n",
    "|  1 | a_movie | 2009-12-10   | Action    |\n",
    "|  2 | a_movie | 2010-12-10   | Adventure |\n",
    "+----+---------+--------------+-----------+\n",
    "<font color=\"red\">\n",
    "MariaDB [venugopa_movies]> insert into movie (title,release_date,genre) values ('a_movie','2009-12-10','Drama');\n",
    "ERROR 1062 (23000): Duplicate entry 'a_movie-2009-12-10' for key 'title'\n",
    "</font>\n",
    "</pre>\n",
    "**Let's drop the movies table and recreate it so that we are can start with id=1 for insertions**\n",
    "<pre>\n",
    "MariaDB [venugopa_movies]> drop table movie;\n",
    "MariaDB [venugopa_movies]> create table movie (\n",
    "    -> id int auto_increment primary key,\n",
    "    -> title varchar(100) not null,\n",
    "    -> release_date date not null,\n",
    "    -> genre varchar(20) not null);\n",
    "    -> unique (title,release_date));\n",
    "</pre>"
   ]
  },
  {
   "cell_type": "markdown",
   "metadata": {},
   "source": [
    "##### **3. Create the 'user' table**"
   ]
  },
  {
   "cell_type": "code",
   "execution_count": 1,
   "metadata": {
    "tags": []
   },
   "outputs": [],
   "source": [
    "states = [\"Alabama\",\n",
    "        \"Alaska\",\n",
    "        \"Arizona\",\n",
    "        \"Arkansas\",\n",
    "        \"California\",\n",
    "        \"Colorado\",\n",
    "        \"Connecticut\",\n",
    "        \"Delaware\",\n",
    "        \"Florida\",\n",
    "        \"Georgia\",\n",
    "        \"Hawaii\",\n",
    "        \"Idaho\",\n",
    "        \"Illinois\",\n",
    "        \"Indiana\",\n",
    "        \"Iowa\",\n",
    "        \"Kansas\",\n",
    "        \"Kentucky\",\n",
    "        \"Louisiana\",\n",
    "        \"Maine\",\n",
    "        \"Maryland\",\n",
    "        \"Massachusetts\",\n",
    "        \"Michigan\",\n",
    "        \"Minnesota\",\n",
    "        \"Mississippi\",\n",
    "        \"Missouri\",\n",
    "        \"Montana\",\n",
    "        \"Nebraska\",\n",
    "        \"Nevada\",\n",
    "        \"New Hampshire\",\n",
    "        \"New Jersey\",\n",
    "        \"New Mexico\",\n",
    "        \"New York\",\n",
    "        \"North Carolina\",\n",
    "        \"North Dakota\",\n",
    "        \"Ohio\",\n",
    "        \"Oklahoma\",\n",
    "        \"Oregon\",\n",
    "        \"Pennsylvania\",\n",
    "        \"Rhode Island\",\n",
    "        \"South Carolina\",\n",
    "        \"South Dakota\",\n",
    "        \"Tennessee\",\n",
    "        \"Texas\",\n",
    "        \"Utah\",\n",
    "        \"Vermont\",\n",
    "        \"Virginia\",\n",
    "        \"Washington\",\n",
    "        \"West Virginia\",\n",
    "        \"Wisconsin\",\n",
    "        \"Wyoming\"]"
   ]
  },
  {
   "cell_type": "code",
   "execution_count": 2,
   "metadata": {
    "tags": []
   },
   "outputs": [
    {
     "data": {
      "text/plain": [
       "50"
      ]
     },
     "execution_count": 2,
     "metadata": {},
     "output_type": "execute_result"
    }
   ],
   "source": [
    "len(states)"
   ]
  },
  {
   "cell_type": "code",
   "execution_count": 3,
   "metadata": {
    "tags": []
   },
   "outputs": [
    {
     "data": {
      "text/plain": [
       "14"
      ]
     },
     "execution_count": 3,
     "metadata": {},
     "output_type": "execute_result"
    }
   ],
   "source": [
    "max([len(s) for s in states])  # this informs the length of the state column in user table"
   ]
  },
  {
   "cell_type": "markdown",
   "metadata": {},
   "source": [
    "<pre>\n",
    "MariaDB [venugopa_movies]> create table user (\n",
    "    -> id int auto_increment primary key,\n",
    "    -> uname char(8) unique not null,\n",
    "    -> age tinyint not null,\n",
    "    -> state varchar(14) not null);\n",
    "</pre>\n",
    "- The <tt>uname</tt> column values are specified to be unique"
   ]
  },
  {
   "cell_type": "markdown",
   "metadata": {},
   "source": [
    "##### **4. Create the 'rating' table**"
   ]
  },
  {
   "cell_type": "markdown",
   "metadata": {},
   "source": [
    "<pre>\n",
    "MariaDB [venugopa_movies]> create table rating (\n",
    "    -> userid int not null,\n",
    "    -> foreign key (userid) references user(id),\n",
    "    -> movieid int not null,\n",
    "    -> foreign key (movieid) references movie(id),\n",
    "    -> unique (userid,movieid),\n",
    "    -> rating tinyint not null check (rating >=0 and rating <= 10));         \n",
    "</pre>\n",
    "- The combination of <tt>userid</tt> and <tt>movieid</tt> values is unique, so a user can only rate a movie once.\n",
    "- <tt>check</tt> constraints the values of a column:\n",
    "https://dev.mysql.com/doc/refman/8.0/en/create-table-check-constraints.html\n",
    "\n",
    "<pre>\n",
    "MariaDB [venugopa_movies]> show create table rating\\G;\n",
    "*************************** 1. row ***************************\n",
    "       Table: rating\n",
    "Create Table: CREATE TABLE `rating` (\n",
    "  `userid` int(11) NOT NULL,\n",
    "  `movieid` int(11) NOT NULL,\n",
    "  `rating` tinyint(4) NOT NULL CHECK (`rating` >= 0 and `rating` <= 10),\n",
    "  UNIQUE KEY `userid` (`userid`,`movieid`),\n",
    "  KEY `movieid` (`movieid`),\n",
    "  CONSTRAINT `rating_ibfk_1` FOREIGN KEY (`userid`) REFERENCES `user` (`id`),\n",
    "  CONSTRAINT `rating_ibfk_2` FOREIGN KEY (`movieid`) REFERENCES `movie` (`id`)\n",
    ") ENGINE=InnoDB DEFAULT CHARSET=utf8mb4 COLLATE=utf8mb4_general_ci\n",
    "\n",
    "<font color=\"red\">\n",
    "MariaDB [venugopa_movies]> insert into rating values (1,1,15);\n",
    "ERROR 4025 (23000): CONSTRAINT `rating.rating` failed for `venugopa_movies`.`rating`\n",
    "</font>\n",
    "</pre>"
   ]
  },
  {
   "cell_type": "markdown",
   "metadata": {},
   "source": [
    "---"
   ]
  },
  {
   "cell_type": "markdown",
   "metadata": {},
   "source": [
    "#### <font color=\"brown\">Connect to movies database</font>"
   ]
  },
  {
   "cell_type": "code",
   "execution_count": 4,
   "metadata": {
    "tags": []
   },
   "outputs": [],
   "source": [
    "# import connector modules\n",
    "from mysql.connector import connect, Error"
   ]
  },
  {
   "cell_type": "code",
   "execution_count": 6,
   "metadata": {
    "tags": []
   },
   "outputs": [],
   "source": [
    "# connect to nobels database\n",
    "try:\n",
    "    mydb = connect(unix_socket='/run/mysqld/mysqld.sock', database=\"venugopa_movies\")\n",
    "    cursor = mydb.cursor()\n",
    "except Error as e:\n",
    "    print(e)"
   ]
  },
  {
   "cell_type": "markdown",
   "metadata": {},
   "source": [
    "---"
   ]
  },
  {
   "cell_type": "markdown",
   "metadata": {},
   "source": [
    "#### <font color=\"brown\">Populate the tables</font>"
   ]
  },
  {
   "cell_type": "markdown",
   "metadata": {},
   "source": [
    "##### **1. Insert into movie table from movies.txt**"
   ]
  },
  {
   "cell_type": "code",
   "execution_count": 8,
   "metadata": {
    "tags": []
   },
   "outputs": [],
   "source": [
    "add_movie = \"insert into movie (title,release_date,genre) values (%s,%s,%s)\""
   ]
  },
  {
   "cell_type": "code",
   "execution_count": 9,
   "metadata": {
    "tags": []
   },
   "outputs": [],
   "source": [
    "# read text file and strip the double quotes (if any) from the title\n",
    "# also, convert date from month/date/year to year/month/date for db date type\n",
    "import csv\n",
    "with open(\"movies.txt\") as infile:\n",
    "    reader = csv.reader(infile,delimiter='\\t')\n",
    "    for row in reader:\n",
    "        title = row[0].strip('\"')  # a few of the movie titles have double quotes around them\n",
    "        date_parts = row[1].split('/')\n",
    "        release_date = date_parts[2] + '/' + date_parts[0] + '/' + date_parts[1] # need year/month/day\n",
    "        genre = row[2]\n",
    "        cursor.execute(add_movie,(title,release_date,genre))\n",
    "        mydb.commit()"
   ]
  },
  {
   "cell_type": "markdown",
   "metadata": {},
   "source": [
    "##### **The movies_db.txt file has 615 records**"
   ]
  },
  {
   "cell_type": "code",
   "execution_count": 12,
   "metadata": {
    "tags": []
   },
   "outputs": [],
   "source": [
    "def doquery(query):\n",
    "    cursor.execute(query)\n",
    "    res = cursor.fetchall()\n",
    "    for row in res:\n",
    "        print(row)"
   ]
  },
  {
   "cell_type": "code",
   "execution_count": 14,
   "metadata": {
    "tags": []
   },
   "outputs": [
    {
     "name": "stdout",
     "output_type": "stream",
     "text": [
      "(615,)\n"
     ]
    }
   ],
   "source": [
    "doquery('select count(*) from movie')"
   ]
  },
  {
   "cell_type": "code",
   "execution_count": 15,
   "metadata": {
    "tags": []
   },
   "outputs": [
    {
     "name": "stdout",
     "output_type": "stream",
     "text": [
      "(1, \"Look Who's Talking\", datetime.date(1989, 10, 12), 'Romance')\n",
      "(2, 'Driving Miss Daisy', datetime.date(1989, 12, 13), 'Comedy')\n",
      "(3, 'Turner & Hooch', datetime.date(1989, 7, 28), 'Crime')\n",
      "(4, 'Born on the Fourth of July', datetime.date(1989, 12, 20), 'War')\n",
      "(5, 'Field of Dreams', datetime.date(1989, 4, 21), 'Drama')\n"
     ]
    }
   ],
   "source": [
    "doquery('select * from movie limit 5')"
   ]
  },
  {
   "cell_type": "code",
   "execution_count": 16,
   "metadata": {
    "tags": []
   },
   "outputs": [
    {
     "name": "stdout",
     "output_type": "stream",
     "text": [
      "(1, \"Look Who's Talking\", '1989/10/12', 'Romance')\n",
      "(2, 'Driving Miss Daisy', '1989/12/13', 'Comedy')\n",
      "(3, 'Turner & Hooch', '1989/7/28', 'Crime')\n",
      "(4, 'Born on the Fourth of July', '1989/12/20', 'War')\n",
      "(5, 'Field of Dreams', '1989/4/21', 'Drama')\n"
     ]
    }
   ],
   "source": [
    "# getting year, month, and day fields from release date\n",
    "# look up datetime module and datetime.date class in Python reference\n",
    "cursor.execute('select * from movie limit 5')\n",
    "res = cursor.fetchall()\n",
    "for row in res:\n",
    "    (id,title,rdate,genre) = row\n",
    "    rdate = str(rdate.year) + '/' + str(rdate.month) + '/' + str(rdate.day)\n",
    "    print((id,title,rdate,genre))"
   ]
  },
  {
   "cell_type": "markdown",
   "metadata": {},
   "source": [
    "---"
   ]
  },
  {
   "cell_type": "markdown",
   "metadata": {},
   "source": [
    "##### **2. Insert into user table**\n",
    "\n",
    "&lt;uname> &lt;age> &lt;state>\n",
    "\n",
    "- The uname column is a randomly generated username with 5 letters and 3 digits\n",
    "- Age is randomly generated, between 18 and 70\n",
    "- State is one of the US states, randomly chosen"
   ]
  },
  {
   "cell_type": "code",
   "execution_count": 17,
   "metadata": {
    "tags": []
   },
   "outputs": [],
   "source": [
    "import string, random, numpy as np\n",
    "letters = [l for l in string.ascii_letters]  # all lowercase letters, followed by all uppercase letters"
   ]
  },
  {
   "cell_type": "code",
   "execution_count": 18,
   "metadata": {
    "tags": []
   },
   "outputs": [
    {
     "data": {
      "text/plain": [
       "['a',\n",
       " 'b',\n",
       " 'c',\n",
       " 'd',\n",
       " 'e',\n",
       " 'f',\n",
       " 'g',\n",
       " 'h',\n",
       " 'i',\n",
       " 'j',\n",
       " 'k',\n",
       " 'l',\n",
       " 'm',\n",
       " 'n',\n",
       " 'o',\n",
       " 'p',\n",
       " 'q',\n",
       " 'r',\n",
       " 's',\n",
       " 't',\n",
       " 'u',\n",
       " 'v',\n",
       " 'w',\n",
       " 'x',\n",
       " 'y',\n",
       " 'z',\n",
       " 'A',\n",
       " 'B',\n",
       " 'C',\n",
       " 'D',\n",
       " 'E',\n",
       " 'F',\n",
       " 'G',\n",
       " 'H',\n",
       " 'I',\n",
       " 'J',\n",
       " 'K',\n",
       " 'L',\n",
       " 'M',\n",
       " 'N',\n",
       " 'O',\n",
       " 'P',\n",
       " 'Q',\n",
       " 'R',\n",
       " 'S',\n",
       " 'T',\n",
       " 'U',\n",
       " 'V',\n",
       " 'W',\n",
       " 'X',\n",
       " 'Y',\n",
       " 'Z']"
      ]
     },
     "execution_count": 18,
     "metadata": {},
     "output_type": "execute_result"
    }
   ],
   "source": [
    "letters"
   ]
  },
  {
   "cell_type": "code",
   "execution_count": 19,
   "metadata": {
    "tags": []
   },
   "outputs": [],
   "source": [
    "# generate username, age, and state\n",
    "def make_user():\n",
    "    part1 = ''.join(np.random.choice(letters,5,replace=False).tolist())\n",
    "    part2 = np.random.randint(0,10,3).tolist()\n",
    "    part2 = ''.join([str(d) for d in part2])\n",
    "    uname = part1+part2\n",
    "    age = random.randint(18,71)\n",
    "    state = random.choice(states)\n",
    "    return (uname,age,state)"
   ]
  },
  {
   "cell_type": "code",
   "execution_count": 21,
   "metadata": {
    "tags": []
   },
   "outputs": [
    {
     "data": {
      "text/plain": [
       "('FYwZA627', 41, 'Oregon')"
      ]
     },
     "execution_count": 21,
     "metadata": {},
     "output_type": "execute_result"
    }
   ],
   "source": [
    "make_user()"
   ]
  },
  {
   "cell_type": "code",
   "execution_count": 22,
   "metadata": {
    "tags": []
   },
   "outputs": [],
   "source": [
    "add_user = \"insert into user (uname,age,state) values (%s,%s,%s)\""
   ]
  },
  {
   "cell_type": "code",
   "execution_count": 23,
   "metadata": {
    "tags": []
   },
   "outputs": [],
   "source": [
    "# insert 2000 rows in user table with unique uname\n",
    "uset = set()  # make sure there are no duplicate usernames\n",
    "i = 0\n",
    "while i < 2000:\n",
    "    user = make_user()\n",
    "    if not user[0] in uset:\n",
    "        uset.add(user)\n",
    "        cursor.execute(add_user,user)\n",
    "        mydb.commit()\n",
    "        i += 1"
   ]
  },
  {
   "cell_type": "code",
   "execution_count": 24,
   "metadata": {
    "tags": []
   },
   "outputs": [
    {
     "name": "stdout",
     "output_type": "stream",
     "text": [
      "(2000,)\n"
     ]
    }
   ],
   "source": [
    "doquery('select count(*) from user')"
   ]
  },
  {
   "cell_type": "code",
   "execution_count": 25,
   "metadata": {
    "tags": []
   },
   "outputs": [
    {
     "name": "stdout",
     "output_type": "stream",
     "text": [
      "(1, 'nXrTd861', 23, 'Vermont')\n",
      "(2, 'AzMOD643', 48, 'Maine')\n",
      "(3, 'DYwcx803', 60, 'Connecticut')\n",
      "(4, 'aHbYo770', 69, 'Colorado')\n",
      "(5, 'tXflw292', 24, 'Nebraska')\n"
     ]
    }
   ],
   "source": [
    "doquery('select * from user limit 5')"
   ]
  },
  {
   "cell_type": "markdown",
   "metadata": {},
   "source": [
    "**Note, your result will be different since user names are randomized**"
   ]
  },
  {
   "cell_type": "markdown",
   "metadata": {},
   "source": [
    "---"
   ]
  },
  {
   "cell_type": "markdown",
   "metadata": {},
   "source": [
    "##### **3. Insert into rating table**\n",
    "\n",
    "Randomly generate a userid (between 1 and 2000, for id values in user table), a movieid (between 1 and 615, for id values in movie table), and a rating (integer between 1 and 10). \n"
   ]
  },
  {
   "cell_type": "code",
   "execution_count": 26,
   "metadata": {
    "tags": []
   },
   "outputs": [],
   "source": [
    "add_rating = \"insert into rating (userid,movieid,rating) values (%s,%s,%s)\""
   ]
  },
  {
   "cell_type": "markdown",
   "metadata": {},
   "source": [
    "**Insert 100000 ratings. This will take a little time, so make sure the following cell finishes executing before you check the database**"
   ]
  },
  {
   "cell_type": "code",
   "execution_count": 27,
   "metadata": {
    "tags": []
   },
   "outputs": [],
   "source": [
    "# insert 100000 ratings \n",
    "\n",
    "import random\n",
    "\n",
    "ratings = {}  # empty dictionary for mapping (userid,movieid) -> rating \n",
    "i = 0\n",
    "while i < 100000:\n",
    "    userid = random.randint(1,2000)\n",
    "    movieid = random.randint(1,615)\n",
    "    if (userid,movieid) in ratings: # user has already rated this movie\n",
    "        continue\n",
    "    rating = random.randint(1,10)\n",
    "    ratings[(userid,movieid)] = rating\n",
    "    cursor.execute(add_rating,(userid,movieid,rating))\n",
    "    mydb.commit()\n",
    "    i += 1"
   ]
  },
  {
   "cell_type": "code",
   "execution_count": 28,
   "metadata": {
    "tags": []
   },
   "outputs": [
    {
     "name": "stdout",
     "output_type": "stream",
     "text": [
      "(100000,)\n"
     ]
    }
   ],
   "source": [
    "doquery('select count(*) from rating')"
   ]
  },
  {
   "cell_type": "code",
   "execution_count": 29,
   "metadata": {
    "tags": []
   },
   "outputs": [
    {
     "name": "stdout",
     "output_type": "stream",
     "text": [
      "(1, 24, 2)\n",
      "(1, 32, 8)\n",
      "(1, 48, 6)\n",
      "(1, 49, 7)\n",
      "(1, 54, 6)\n"
     ]
    }
   ],
   "source": [
    "doquery('select * from rating limit 5')"
   ]
  },
  {
   "cell_type": "markdown",
   "metadata": {},
   "source": [
    "**Note, your result will be different since ratings are randomized**"
   ]
  },
  {
   "cell_type": "code",
   "execution_count": 30,
   "metadata": {
    "tags": []
   },
   "outputs": [],
   "source": [
    "cursor.close()\n",
    "mydb.close()"
   ]
  },
  {
   "cell_type": "markdown",
   "metadata": {},
   "source": [
    "---"
   ]
  },
  {
   "cell_type": "markdown",
   "metadata": {},
   "source": [
    "#### <font color=\"brown\">Queries</font>"
   ]
  },
  {
   "cell_type": "markdown",
   "metadata": {},
   "source": [
    "##### **The schema**"
   ]
  },
  {
   "cell_type": "markdown",
   "metadata": {},
   "source": [
    "<pre>\n",
    "mysql> desc movie;\n",
    "+--------------+--------------+------+-----+---------+----------------+\n",
    "| Field        | Type         | Null | Key | Default | Extra          |\n",
    "+--------------+--------------+------+-----+---------+----------------+\n",
    "| id           | int          | NO   | PRI | NULL    | auto_increment |\n",
    "| title        | varchar(100) | NO   | MUL | NULL    |                |\n",
    "| release_date | date         | NO   |     | NULL    |                |\n",
    "| genre        | varchar(20)  | NO   |     | NULL    |                |\n",
    "+--------------+--------------+------+-----+---------+----------------+\n",
    "4 rows in set (0.00 sec)\n",
    "\n",
    "mysql> desc user;\n",
    "+-------+-------------+------+-----+---------+----------------+\n",
    "| Field | Type        | Null | Key | Default | Extra          |\n",
    "+-------+-------------+------+-----+---------+----------------+\n",
    "| id    | int         | NO   | PRI | NULL    | auto_increment |\n",
    "| uname | char(8)     | NO   | UNI | NULL    |                |\n",
    "| age   | tinyint     | NO   |     | NULL    |                |\n",
    "| state | varchar(14) | NO   |     | NULL    |                |\n",
    "+-------+-------------+------+-----+---------+----------------+\n",
    "4 rows in set (0.00 sec)\n",
    "\n",
    "mysql> desc rating;\n",
    "+---------+---------+------+-----+---------+-------+\n",
    "| Field   | Type    | Null | Key | Default | Extra |\n",
    "+---------+---------+------+-----+---------+-------+\n",
    "| userid  | int     | NO   | PRI | NULL    |       |\n",
    "| movieid | int     | NO   | PRI | NULL    |       |\n",
    "| rating  | tinyint | NO   |     | NULL    |       |\n",
    "+---------+---------+------+-----+---------+-------+\n",
    "3 rows in set (0.00 sec)\n",
    "\n",
    "</pre>\n",
    "**Your results will be different for queries that involve usernames or ratings since these were randomly generated. <p>\n",
    "**If you want to match results with the ones shown here, you must use the notes_movies.sql database in shared/lectures**"
   ]
  },
  {
   "cell_type": "markdown",
   "metadata": {},
   "source": [
    "**<font color=\"brown\">1. Find movie titles that begin with 'The', limit to 10</font>**"
   ]
  },
  {
   "cell_type": "markdown",
   "metadata": {},
   "source": [
    "<pre>\n",
    "MariaDB [venugopa_movies]> select title from movie where title like 'The%' limit 10;\n",
    "\n",
    "+--------------------------+\n",
    "| title                    |\n",
    "+--------------------------+\n",
    "| The 40 Year Old Virgin   |\n",
    "| The Addams Family        |\n",
    "| The Amazing Spider-Man   |\n",
    "| The Amazing Spider-Man 2 |\n",
    "| The Avengers             |\n",
    "| The Birdcage             |\n",
    "| The Blair Witch Project  |\n",
    "| The Blind Side           |\n",
    "| The Bodyguard            |\n",
    "| The Boss Baby            |\n",
    "+--------------------------+\n",
    "</pre>"
   ]
  },
  {
   "cell_type": "markdown",
   "metadata": {},
   "source": [
    "---"
   ]
  },
  {
   "cell_type": "markdown",
   "metadata": {},
   "source": [
    "**<font color=\"brown\">2. How many movies were released in 2015?**"
   ]
  },
  {
   "cell_type": "markdown",
   "metadata": {},
   "source": [
    "<pre>\n",
    "MariaDB [venugopa_movies]> select count(*) from movie where release_date like '2015%';\n",
    "\n",
    "+----------+\n",
    "| count(*) |\n",
    "+----------+\n",
    "|       20 |\n",
    "+----------+\n",
    "</pre>\n",
    "Alternatively:\n",
    "<pre>\n",
    "MariaDB [venugopa_movies]> select count(*) from movie where year(release_date) = 2015;\n",
    "\n",
    "+----------+\n",
    "| count(*) |\n",
    "+----------+\n",
    "|       20 |\n",
    "+----------+\n",
    "</pre>\n",
    "https://dev.mysql.com/doc/refman/8.0/en/date-and-time-functions.html"
   ]
  },
  {
   "cell_type": "markdown",
   "metadata": {},
   "source": [
    "---"
   ]
  },
  {
   "cell_type": "markdown",
   "metadata": {},
   "source": [
    "**<font color=\"brown\">3. How many movies were released in the years 2001 to 2005?**"
   ]
  },
  {
   "cell_type": "markdown",
   "metadata": {},
   "source": [
    "<pre>\n",
    "MariaDB [venugopa_movies]> select count(*) from movie where year(release_date) between 2001 and 2005;\n",
    "\n",
    "+----------+\n",
    "| count(*) |\n",
    "+----------+\n",
    "|      100 |\n",
    "+----------+\n",
    "</pre>"
   ]
  },
  {
   "cell_type": "markdown",
   "metadata": {},
   "source": [
    "---"
   ]
  },
  {
   "cell_type": "markdown",
   "metadata": {},
   "source": [
    "**<font color=\"brown\">4. What are all the movie genres?**"
   ]
  },
  {
   "cell_type": "markdown",
   "metadata": {},
   "source": [
    "<pre>\n",
    "MariaDB [venugopa_movies]> select distinct(genre) from movie;\n",
    "\n",
    "+-----------------+\n",
    "| genre           |\n",
    "+-----------------+\n",
    "| Romance         |\n",
    "| Comedy          |\n",
    "| Crime           |\n",
    "| War             |\n",
    "| Drama           |\n",
    "| Family          |\n",
    "| Action          |\n",
    "| Animation       |\n",
    "| Science Fiction |\n",
    "| Adventure       |\n",
    "| Thriller        |\n",
    "| Western         |\n",
    "| Horror          |\n",
    "| Mystery         |\n",
    "| History         |\n",
    "| Fantasy         |\n",
    "+-----------------+\n",
    "</pre>"
   ]
  },
  {
   "cell_type": "markdown",
   "metadata": {},
   "source": [
    "---"
   ]
  },
  {
   "cell_type": "markdown",
   "metadata": {},
   "source": [
    "**<font color=\"brown\">5. Which 3 genres had the most releases in 2010?**"
   ]
  },
  {
   "cell_type": "markdown",
   "metadata": {},
   "source": [
    "<pre>\n",
    "MariaDB [venugopa_movies]> select genre, count(*) as 'number of releases' \n",
    "    ->        from movie \n",
    "    ->        where year(release_date) = 2010 \n",
    "    ->        group by genre \n",
    "    ->        order by count(*) desc limit 3;\n",
    "       \n",
    "+-----------+--------------------+\n",
    "| genre     | number of releases |\n",
    "+-----------+--------------------+\n",
    "| Animation |                  6 |\n",
    "| Action    |                  3 |\n",
    "| Drama     |                  2 |\n",
    "+-----------+--------------------+\n",
    "</pre>\n",
    "\n",
    "Tie for the third entry is broken arbitrarily"
   ]
  },
  {
   "cell_type": "markdown",
   "metadata": {},
   "source": [
    "---"
   ]
  },
  {
   "cell_type": "markdown",
   "metadata": {},
   "source": [
    "**<font color=\"brown\">6. List all genres that had at least 3 releases in 2010**"
   ]
  },
  {
   "cell_type": "markdown",
   "metadata": {},
   "source": [
    "<pre>\n",
    "MariaDB [venugopa_movies]> select genre, count(*) as 'number of releases' \n",
    "    ->          from movie \n",
    "    ->          where year(release_date) = 2010 \n",
    "    ->          group by genre \n",
    "    ->          having count(*) > 2;\n",
    "         \n",
    "+-----------+-----+\n",
    "| genre     | num |\n",
    "+-----------+-----+\n",
    "| Action    |   3 |\n",
    "| Animation |   6 |\n",
    "+-----------+-----+\n",
    "</pre>\n"
   ]
  },
  {
   "cell_type": "markdown",
   "metadata": {},
   "source": [
    "---"
   ]
  },
  {
   "cell_type": "markdown",
   "metadata": {},
   "source": [
    "**<font color=\"brown\">7. What were the 5 highest rated movies of 2017, and what were their average rating?**"
   ]
  },
  {
   "cell_type": "markdown",
   "metadata": {},
   "source": [
    "<pre>\n",
    "MariaDB [venugopa_movies]> select title, round(avg(rating),1) as average_rating \n",
    "    ->          from rating, movie \n",
    "    ->          where movieid=id and year(release_date) = 2017 \n",
    "    ->          group by movieid \n",
    "    ->          order by average_rating desc \n",
    "    ->          limit 5;\n",
    "         \n",
    "+------------------------+----------------+\n",
    "| title                  | average_rating |\n",
    "+------------------------+----------------+\n",
    "| Beauty and the Beast   |            5.8 |\n",
    "| Dunkirk                |            5.8 |\n",
    "| The LEGO Batman Movie  |            5.7 |\n",
    "| It                     |            5.6 |\n",
    "| Spider-Man: Homecoming |            5.6 |\n",
    "+------------------------+----------------+\n",
    "</pre>\n",
    "See https://dev.mysql.com/doc/refman/8.0/en/aggregate-functions.html for various aggregate functions (aside from avg)<br>\n",
    "See https://dev.mysql.com/doc/refman/8.0/en/mathematical-functions.html for various mathematical functions (aside from round)"
   ]
  },
  {
   "cell_type": "markdown",
   "metadata": {},
   "source": [
    "---"
   ]
  },
  {
   "cell_type": "markdown",
   "metadata": {},
   "source": [
    "**<font color=\"brown\">8. Which users have an average rating of at least 8.0 for movies in the years 2010-2015, and what is their average rating</font>**"
   ]
  },
  {
   "cell_type": "markdown",
   "metadata": {},
   "source": [
    "<pre>\n",
    "MariaDB [venugopa_movies]> select uname, round(avg(rating),1) as average_rating \n",
    "    ->          from rating, user, movie \n",
    "    ->          where year(release_date) between 2010 and 2015 and\n",
    "    ->                userid=user.id and \n",
    "    ->                movieid=movie.id\n",
    "    ->          group by uname \n",
    "    ->          having average_rating >= 8.0;\n",
    "         \n",
    "+----------+----------------+\n",
    "| uname    | average_rating |\n",
    "+----------+----------------+\n",
    "| bdZWY381 |            8.2 |\n",
    "| DQtdi052 |            8.0 |\n",
    "| ePuFV640 |            8.0 |\n",
    "| haBkx803 |            8.1 |\n",
    "| QSJUb581 |            8.2 |\n",
    "| TdMcx810 |            8.0 |\n",
    "| tvdUE823 |            8.3 |\n",
    "| vEraH377 |            8.1 |\n",
    "| VLUPZ650 |            8.3 |\n",
    "| vqXGj062 |            8.0 |\n",
    "| yVIBT711 |            8.4 |\n",
    "+----------+----------------+\n",
    "</pre>\n",
    "\n",
    "**Just out of curiosity, what ratings did yVIBT711 give to these movies?**\n",
    "\n",
    "<pre>\n",
    "MariaDB [venugopa_movies]> select title,rating \n",
    "    ->          from movie,rating,user \n",
    "    ->          where uname='yVIBT711' and \n",
    "    ->                year(release_date) between 2010 and 2015 and\n",
    "    ->                userid=user.id and \n",
    "    ->                movieid=movie.id;\n",
    "\n",
    "+-------------------------------------------+--------+\n",
    "| title                                     | rating |\n",
    "+-------------------------------------------+--------+\n",
    "| The Twilight Saga: Eclipse                |      6 |\n",
    "| The Twilight Saga: Breaking Dawn - Part 2 |     10 |\n",
    "| Madagascar 3: Europe's Most Wanted        |     10 |\n",
    "| The Croods                                |      5 |\n",
    "| Godzilla                                  |     10 |\n",
    "| Interstellar                              |      9 |\n",
    "| The Amazing Spider-Man 2                  |      9 |\n",
    "+-------------------------------------------+--------+\n",
    "</pre>"
   ]
  },
  {
   "cell_type": "markdown",
   "metadata": {},
   "source": [
    "---"
   ]
  },
  {
   "cell_type": "markdown",
   "metadata": {},
   "source": [
    "**<font color=\"brown\">9. Which movies (list title and average rating) released in the same year as 'Wonder Woman' have an average rating greater than it?</font>**\n",
    "\n",
    "<pre>\n",
    "MariaDB [venugopa_movies]> select title, avg(rating) as average_rating from movie,user,rating\n",
    "    -> where year(release_date) in (select year(release_date) from movie where title='Wonder Woman')\n",
    "    -> and userid=user.id and movieid=movie.id \n",
    "    -> group by title\n",
    "    -> having average_rating > \n",
    "    -> (select avg(rating) from movie,user,rating where movie.title='Wonder Woman' and userid=user.id \n",
    "    -> and movieid=movie.id)\n",
    "    -> order by average_rating desc;\n",
    "                      \n",
    "+--------------------------------------------------+----------------+\n",
    "| title                                            | average_rating |\n",
    "+--------------------------------------------------+----------------+\n",
    "| Beauty and the Beast                             |         5.8391 |\n",
    "| Dunkirk                                          |         5.8046 |\n",
    "| The LEGO Batman Movie                            |         5.6605 |\n",
    "| It                                               |         5.6218 |\n",
    "| Thor: Ragnarok                                   |         5.5789 |\n",
    "| Spider-Man: Homecoming                           |         5.5705 |\n",
    "| Guardians of the Galaxy Vol. 2                   |         5.5263 |\n",
    "| Logan                                            |         5.5176 |\n",
    "| Jumanji: Welcome to the Jungle                   |         5.5083 |\n",
    "| Coco                                             |         5.5034 |\n",
    "| Justice League                                   |         5.4937 |\n",
    "| The Greatest Showman                             |         5.4867 |\n",
    "| Kong: Skull Island                               |         5.4224 |\n",
    "| Get Out                                          |         5.3899 |\n",
    "| The Fate of the Furious                          |         5.3580 |\n",
    "| Despicable Me 3                                  |         5.2746 |\n",
    "| The Boss Baby                                    |         5.2389 |\n",
    "| Pirates of the Caribbean: Dead Men Tell No Tales |         5.2357 |\n",
    "+--------------------------------------------------+----------------+                \n",
    "</pre>"
   ]
  },
  {
   "cell_type": "markdown",
   "metadata": {},
   "source": [
    "Check the average rating for Wonder Woman:\n",
    "\n",
    "<pre>\n",
    "MariaDB [venugopa_movies]> select avg(rating) \n",
    "    ->     from movie, user, rating\n",
    "    ->     where movie.title = 'Wonder Woman' and\n",
    "    ->     userid = user.id and\n",
    "    ->     movieid = movie.id;\n",
    "    \n",
    "+-------------+\n",
    "| avg(rating) |\n",
    "+-------------+\n",
    "|      5.1572 |\n",
    "+-------------+   \n",
    "</pre>"
   ]
  },
  {
   "cell_type": "code",
   "execution_count": null,
   "metadata": {},
   "outputs": [],
   "source": []
  }
 ],
 "metadata": {
  "kernelspec": {
   "display_name": "Python 3 (ipykernel)",
   "language": "python",
   "name": "python3"
  },
  "language_info": {
   "codemirror_mode": {
    "name": "ipython",
    "version": 3
   },
   "file_extension": ".py",
   "mimetype": "text/x-python",
   "name": "python",
   "nbconvert_exporter": "python",
   "pygments_lexer": "ipython3",
   "version": "3.11.3"
  }
 },
 "nbformat": 4,
 "nbformat_minor": 4
}
