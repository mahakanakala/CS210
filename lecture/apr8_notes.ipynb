{
 "cells": [
  {
   "cell_type": "markdown",
   "metadata": {},
   "source": [
    "## CS 210 Spring 2024 - Apr 8\n",
    "### Relational Databases"
   ]
  },
  {
   "cell_type": "markdown",
   "metadata": {},
   "source": [
    "---"
   ]
  },
  {
   "cell_type": "markdown",
   "metadata": {},
   "source": [
    "### <font color=\"brown\">Nobel Prize Winners Database</font>"
   ]
  },
  {
   "cell_type": "markdown",
   "metadata": {},
   "source": [
    "#### We are going to build a database for the noble prize winners data that we saw previously in our discussion on JSON (Week 7)"
   ]
  },
  {
   "cell_type": "markdown",
   "metadata": {},
   "source": [
    "---"
   ]
  },
  {
   "cell_type": "code",
   "execution_count": 1,
   "metadata": {},
   "outputs": [],
   "source": [
    "import json, requests\n",
    "\n",
    "nobel_url = 'http://api.nobelprize.org/v1/prize.json'\n",
    "resp = requests.get(nobel_url)\n",
    "nobels = json.loads(resp.text)"
   ]
  },
  {
   "cell_type": "code",
   "execution_count": 2,
   "metadata": {},
   "outputs": [
    {
     "data": {
      "text/plain": [
       "{'year': '2023',\n",
       " 'category': 'chemistry',\n",
       " 'laureates': [{'id': '1029',\n",
       "   'firstname': 'Moungi',\n",
       "   'surname': 'Bawendi',\n",
       "   'motivation': '\"for the discovery and synthesis of quantum dots\"',\n",
       "   'share': '3'},\n",
       "  {'id': '1030',\n",
       "   'firstname': 'Louis',\n",
       "   'surname': 'Brus',\n",
       "   'motivation': '\"for the discovery and synthesis of quantum dots\"',\n",
       "   'share': '3'},\n",
       "  {'id': '1031',\n",
       "   'firstname': 'Aleksey',\n",
       "   'surname': 'Yekimov',\n",
       "   'motivation': '\"for the discovery and synthesis of quantum dots\"',\n",
       "   'share': '3'}]}"
      ]
     },
     "execution_count": 2,
     "metadata": {},
     "output_type": "execute_result"
    }
   ],
   "source": [
    "nobels['prizes'][0]"
   ]
  },
  {
   "cell_type": "markdown",
   "metadata": {},
   "source": [
    "**3 people shared the prize for Chemistry in 2023. share=3 means they all got an equal share**"
   ]
  },
  {
   "cell_type": "code",
   "execution_count": 3,
   "metadata": {},
   "outputs": [
    {
     "data": {
      "text/plain": [
       "{'year': '2023',\n",
       " 'category': 'economics',\n",
       " 'laureates': [{'id': '1034',\n",
       "   'firstname': 'Claudia',\n",
       "   'surname': 'Goldin',\n",
       "   'motivation': '\"for having advanced our understanding of women’s labour market outcomes\"',\n",
       "   'share': '1'}]}"
      ]
     },
     "execution_count": 3,
     "metadata": {},
     "output_type": "execute_result"
    }
   ],
   "source": [
    "nobels['prizes'][1]"
   ]
  },
  {
   "cell_type": "markdown",
   "metadata": {},
   "source": [
    "**Each entry in the list of values for nobels['prizes'] is a dictionary of year+category+list of laureates**"
   ]
  },
  {
   "cell_type": "markdown",
   "metadata": {},
   "source": [
    "##### <font color=\"brown\">The data we want is year, category, first Name, surname, motivation, and share for each Nobel prize winner (laureate)</font>"
   ]
  },
  {
   "cell_type": "code",
   "execution_count": 4,
   "metadata": {
    "tags": []
   },
   "outputs": [
    {
     "data": {
      "text/plain": [
       "{'year': '1972',\n",
       " 'category': 'peace',\n",
       " 'overallMotivation': '\"No Nobel Prize was awarded this year. The prize money for 1972 was allocated to the Main Fund.\"'}"
      ]
     },
     "execution_count": 4,
     "metadata": {},
     "output_type": "execute_result"
    }
   ],
   "source": [
    "for i,prize in enumerate(nobels['prizes']):\n",
    "    if not 'laureates' in prize:\n",
    "        break\n",
    "nobels['prizes'][i]"
   ]
  },
  {
   "cell_type": "code",
   "execution_count": 5,
   "metadata": {
    "tags": []
   },
   "outputs": [
    {
     "name": "stdout",
     "output_type": "stream",
     "text": [
      "2022 peace\n",
      "{'id': '1019', 'motivation': '\"The Peace Prize laureates represent civil society in their home countries. They have for many years promoted the right to criticise power and protect the fundamental rights of citizens. They have made an outstanding effort to document war crimes, human right abuses and the abuse of power. Together they demonstrate the significance of civil society for peace and democracy.\"', 'share': '3', 'firstname': 'Memorial'}\n"
     ]
    }
   ],
   "source": [
    "for prize in nobels['prizes']:\n",
    "    if not 'laureates' in prize:\n",
    "        continue\n",
    "    done=False\n",
    "    for winner in prize['laureates']:\n",
    "        if not 'surname' in winner:\n",
    "            print(prize['year'], prize['category'])\n",
    "            print(winner)\n",
    "            done=True\n",
    "            break\n",
    "    if done:\n",
    "        break"
   ]
  },
  {
   "cell_type": "markdown",
   "metadata": {},
   "source": [
    "**There is at least one year in which the nobel prize was not awarded, and at least one year in which there is a winner without surname. For the latter, the firstname appears to be the name of an organization.**"
   ]
  },
  {
   "cell_type": "markdown",
   "metadata": {},
   "source": [
    "---"
   ]
  },
  {
   "cell_type": "markdown",
   "metadata": {
    "tags": []
   },
   "source": [
    "#### <font color=\"brown\">Preparing to store in database</font>"
   ]
  },
  {
   "cell_type": "markdown",
   "metadata": {},
   "source": [
    "##### In order to set aside most appropriate amount of space for storage in the database, we need to know maximum lengths for the motivation, first name, and last name strings. "
   ]
  },
  {
   "cell_type": "code",
   "execution_count": 6,
   "metadata": {},
   "outputs": [
    {
     "name": "stdout",
     "output_type": "stream",
     "text": [
      "No laureates in the years: ['1972', '1967', '1966', '1956', '1955', '1948', '1943', '1943', '1942', '1942', '1942', '1942', '1942', '1941', '1941', '1941', '1941', '1941', '1940', '1940', '1940', '1940', '1940', '1939', '1935', '1934', '1933', '1932', '1931', '1928', '1925', '1924', '1924', '1923', '1921', '1919', '1918', '1918', '1918', '1917', '1917', '1916', '1916', '1916', '1916', '1915', '1915', '1914', '1914']\n",
      "\n",
      "Max lengths\n",
      "Category: 10\n",
      "Motivation: 374\n",
      "First name: 59\n",
      "Surname: 26\n"
     ]
    }
   ],
   "source": [
    "# max lengths of motivation, first name, and last name\n",
    "category_maxlen=0\n",
    "motiv_maxlen=0\n",
    "fname_maxlen=0\n",
    "lname_maxlen=0\n",
    "no_laureates = []\n",
    "for prize in nobels['prizes']:\n",
    "    if not 'laureates' in prize:\n",
    "        no_laureates.append(prize['year'])\n",
    "        continue\n",
    "    cat = prize['category']\n",
    "    category_maxlen = max(category_maxlen, len(cat))\n",
    "    for winner in prize['laureates']:\n",
    "        motiv = winner.get('motivation').strip('\"')\n",
    "        motiv_maxlen = max(motiv_maxlen, len(motiv))\n",
    "        fname = winner.get('firstname')\n",
    "        fname_maxlen = max(fname_maxlen, len(fname))\n",
    "        lname = winner.get('surname','')\n",
    "        lname_maxlen = max(lname_maxlen, len(lname))\n",
    "\n",
    "print(f'No laureates in the years: {no_laureates}\\n')\n",
    "print('Max lengths')\n",
    "print(f'Category: {category_maxlen}')\n",
    "print(f'Motivation: {motiv_maxlen}')\n",
    "print(f'First name: {fname_maxlen}')\n",
    "print(f'Surname: {lname_maxlen}')"
   ]
  },
  {
   "cell_type": "markdown",
   "metadata": {},
   "source": [
    "---"
   ]
  },
  {
   "cell_type": "markdown",
   "metadata": {},
   "source": [
    "#### <font color=\"brown\">Creating a nobels database</font>"
   ]
  },
  {
   "cell_type": "markdown",
   "metadata": {},
   "source": [
    "##### <font color=\"brown\">1. Create a database named nobels</font>\n",
    "\n",
    "##### Execute the following commands in the Terminal window to create the 'nobels' database. \n",
    "\n",
    "##### Note that every database you create must be prefixed with your netid_, so my databases are venugopa_\\<dbname>"
   ]
  },
  {
   "cell_type": "markdown",
   "metadata": {
    "tags": []
   },
   "source": [
    "- Log into mysql\n",
    "    \n",
    "    (MariaDB is compatible with MySQL)\n",
    "    \n",
    "    <pre>\n",
    "    venugopa@data8:~/cs210_s24/lectures$ mysql\n",
    "    Welcome to the MariaDB monitor.  Commands end with ; or \\g.\n",
    "    Your MariaDB connection id is 53\n",
    "    Server version: 10.6.16-MariaDB-0ubuntu0.22.04.1 Ubuntu 22.04\n",
    "\n",
    "    Copyright (c) 2000, 2018, Oracle, MariaDB Corporation Ab and others.\n",
    "\n",
    "    Type 'help;' or '\\h' for help. Type '\\c' to clear the current input statement.\n",
    "\n",
    "    MariaDB [(none)]>\n",
    "    </pre>\n",
    "    \n",
    "    Logging in will put you in a MySQL client session where you can execute MySQL commands.\n",
    "\n",
    "- Create the database with the <tt>create database</tt> statement<br>\n",
    "https://dev.mysql.com/doc/refman/8.0/en/create-database.html<br>\n",
    "Remember, you need to prefix the database name with **netid_**\n",
    "\n",
    "    <pre>\n",
    "    MariaDB [(none)]> create database venugopa_nobels;\n",
    "    Query OK, 1 row affected (0.004 sec)\n",
    "    </pre>\n",
    "    \n",
    "- You can verify that the database has been created by using the show databases command\n",
    "    \n",
    "    <pre>\n",
    "    MariaDB [(none)]> show databases;\n",
    "    +--------------------+\n",
    "    | Database           |\n",
    "    +--------------------+\n",
    "    | information_schema |\n",
    "    | venugopa_nobels    |\n",
    "    +--------------------+\n",
    "    2 rows in set (0.002 sec)\n",
    "    \n",
    "    MariaDB [(none)]>\n",
    "    </pre>"
   ]
  },
  {
   "cell_type": "markdown",
   "metadata": {},
   "source": [
    "---"
   ]
  },
  {
   "cell_type": "markdown",
   "metadata": {},
   "source": [
    "##### <font color=\"brown\">2. Create a winners table in the database</font>"
   ]
  },
  {
   "cell_type": "markdown",
   "metadata": {},
   "source": [
    "##### **i) Define a couple of columns to start with - execute the following in the MySQL client window:**"
   ]
  },
  {
   "cell_type": "markdown",
   "metadata": {},
   "source": [
    "- Choose the nobels database\n",
    "\n",
    "<pre>\n",
    "    MariaDB [(none)]> use venugopa_nobels\n",
    "    Database changed\n",
    "    MariaDB [venugopa_nobels]>\n",
    "    \n",
    "</pre>\n",
    "\n",
    "- Now that you are using the <tt>nobels</tt> database, you can see what tables there are if any:\n",
    "\n",
    "<pre>\n",
    "    MariaDB [venugopa_nobels]> show tables;\n",
    "    Empty set (0.002 sec)   \n",
    "</pre>\n",
    "\n",
    "- There are no tables, since we didn't make any yet. Go ahead and create a table called <tt>winners</tt><br>\n",
    "    https://dev.mysql.com/doc/refman/8.0/en/create-table.html\n",
    "    \n",
    "<pre>\n",
    "   MariaDB [venugopa_nobels]> create table winners (year year not null, category char(10) not null);\n",
    "   Query OK, 0 rows affected (0.013 sec)\n",
    "</pre>\n",
    "\n",
    "- Column <tt>year</tt> has datatype **<tt>year</tt>**<br>\n",
    "https://dev.mysql.com/doc/refman/8.0/en/year.html\n",
    "\n",
    "- Column <tt>category</tt> has datatype **<tt>char(10)</tt>** meaning space worth 10 characters.<br> \n",
    "The actual number of characters stored in this space may be less than 10, but 10 characters of space is always set aside.<br>\n",
    "https://dev.mysql.com/doc/refman/8.0/en/char.html\n",
    "\n",
    "- When you set a column to be **not null**, it means when you add a row, that column *must* have a value, otherwise the database system will reject the add.<br>\n",
    "\n",
    "- You can verify that the table has been created by using the **<tt>show tables</tt>** statement\n",
    "\n",
    "<pre>\n",
    "    MariaDB [venugopa_nobels]> show tables;\n",
    "    +---------------------------+\n",
    "    | Tables_in_venugopa_nobels |\n",
    "    +---------------------------+\n",
    "    | winners                   |\n",
    "    +---------------------------+\n",
    "    1 row in set (0.002 sec)\n",
    "    \n",
    "</pre>\n",
    "\n",
    "- You can see the table schema (structure) with the **<tt>desc</tt>** statement:\n",
    "\n",
    "<pre>\n",
    "MariaDB [venugopa_nobels]> desc winners;\n",
    "+----------+----------+------+-----+---------+-------+\n",
    "| Field    | Type     | Null | Key | Default | Extra |\n",
    "+----------+----------+------+-----+---------+-------+\n",
    "| year     | year(4)  | NO   |     | NULL    |       |\n",
    "| category | char(10) | NO   |     | NULL    |       |\n",
    "+----------+----------+------+-----+---------+-------+\n",
    "2 rows in set (0.005 sec)\n",
    "</pre>\n",
    "\n",
    "- Alternatively, you can use the **<tt>show columns from<tt>** statement<br>\n",
    "   https://dev.mysql.com/doc/refman/8.0/en/show-columns.html\n",
    "    \n",
    "<pre>\n",
    "MariaDB [venugopa_nobels]> show columns from winners;\n",
    "+----------+----------+------+-----+---------+-------+\n",
    "| Field    | Type     | Null | Key | Default | Extra |\n",
    "+----------+----------+------+-----+---------+-------+\n",
    "| year     | year(4)  | NO   |     | NULL    |       |\n",
    "| category | char(10) | NO   |     | NULL    |       |\n",
    "+----------+----------+------+-----+---------+-------+\n",
    "2 rows in set (0.002 sec)\n",
    "</pre>\n",
    "    \n",
    "- The default value being NULL can be ignored since the Null column says you must supply a value. <br>\n",
    "However, if you had chosen to NOT say *not null*, it means a null (no value) is allowed. In which case, you may specifiy a default, which would be the assumed value if none is supplied - see the **lname** column below."
   ]
  },
  {
   "cell_type": "markdown",
   "metadata": {},
   "source": [
    "##### **ii) Add in the rest of the columns**"
   ]
  },
  {
   "cell_type": "markdown",
   "metadata": {},
   "source": [
    "- Recall the max lengths we found earlier for various attributes:\n",
    "\n",
    "<pre>\n",
    "Category: 10\n",
    "Motivation: 374\n",
    "First name: 59\n",
    "Surname: 26\n",
    "</pre>\n",
    "\n",
    "- We are going to be somewhat conservative, and use extra space toward motivation, first name, and surname, in case future additions are longer.\n",
    "\n",
    "<pre>\n",
    "MariaDB [venugopa_nobels]> alter table winners add column fname varchar(80) not null;\n",
    "MariaDB [venugopa_nobels]> alter table winners add column lname varchar(40);\n",
    "MariaDB [venugopa_nobels]> alter table winners add column motivation varchar(500) not null;\n",
    "MariaDB [venugopa_nobels]> alter table winners add column share tinyint not null;\n",
    "</pre>"
   ]
  },
  {
   "cell_type": "markdown",
   "metadata": {
    "tags": []
   },
   "source": [
    "- The **<tt>alter table</tt>** statement can be used to add or modify columns <br>\n",
    "https://dev.mysql.com/doc/refman/8.0/en/alter-table.html\n",
    "\n",
    "- You don't *have* to do it this way (create with a few columns, then add in all the rest), but it is sometimes easier to break it up like this than have a super long <tt>create table</tt> statement\n",
    "\n",
    "- The **<tt>fname</tt>**, **<tt>lname</tt>**, and **<tt>motivation</tt>** columns are all of type **<tt>varchar</tt>**. Basically <tt>varchar</tt> is for variable characters, meaning the space specified is the maximum required, but unlike **<tt>char</tt>** the actual storage will not necessarily equal the maximum specified. Instead, it will be the actual number of characters, plus a very small amount of constant extra space to tell how many actual characters there are:<br>\n",
    "https://dev.mysql.com/doc/refman/8.0/en/storage-requirements.html#data-types-storage-reqs-strings\n",
    "\n",
    "- The **<tt>share</tt>** column is of type **</tt>tinyint</tt>**, which is the least amount of integer space you can set aside for a column<br>\n",
    "https://dev.mysql.com/doc/refman/8.0/en/storage-requirements.html#data-types-storage-reqs-numeric"
   ]
  },
  {
   "cell_type": "markdown",
   "metadata": {},
   "source": [
    "<pre>\n",
    "MariaDB [venugopa_nobels]> desc winners;\n",
    "+------------+--------------+------+-----+---------+-------+\n",
    "| Field      | Type         | Null | Key | Default | Extra |\n",
    "+------------+--------------+------+-----+---------+-------+\n",
    "| year       | year(4)      | NO   |     | NULL    |       |\n",
    "| category   | char(10)     | NO   |     | NULL    |       |\n",
    "| fname      | varchar(80)  | NO   |     | NULL    |       |\n",
    "| lname      | varchar(40)  | YES  |     | NULL    |       |\n",
    "| motivation | varchar(500) | NO   |     | NULL    |       |\n",
    "| share      | tinyint(4)   | NO   |     | NULL    |       |\n",
    "+------------+--------------+------+-----+---------+-------+\n",
    "6 rows in set (0.004 sec)\n",
    "</pre>"
   ]
  },
  {
   "cell_type": "markdown",
   "metadata": {},
   "source": [
    "**Key** can be any column or combinaton of columns that has unique values.<br> \n",
    "In this table, no column has unique values.<br>\n",
    "We could do a combination of year and category as unique, since no two rows can have the same combination of year and category, but we will leave it be for now."
   ]
  },
  {
   "cell_type": "markdown",
   "metadata": {},
   "source": [
    "---"
   ]
  },
  {
   "cell_type": "markdown",
   "metadata": {},
   "source": [
    "#### <font color=\"brown\">Loading data into winners table</font>\n",
    "\n",
    "- The JSON data can be added to the **winners** table via Python, but we will get to the Python-based database access later. For now, we will load data from a pre-done database file, **nobelsv1.sql**\n",
    "\n",
    "- In Terminal, exit the mysql session: \n",
    "\n",
    "<pre>\n",
    "    MariaDB [venugopa_nobels]> exit\n",
    "    Bye\n",
    "    venugopa@data8:~/cs210_s24/lectures$\n",
    "</pre>\n",
    "\n",
    "- Then, issue the following command:\n",
    "\n",
    "<pre>\n",
    "    venugopa@data8:~/cs210_s24/lectures$ mysql venugopa_nobels < nobelsv1.sql\n",
    "</pre>\n",
    "\n",
    "**Note: the nobelsv1.sql file must be in the folder where you are executing the command.**"
   ]
  },
  {
   "cell_type": "markdown",
   "metadata": {},
   "source": [
    "---"
   ]
  },
  {
   "cell_type": "markdown",
   "metadata": {},
   "source": [
    "#### <font color=\"brown\">Querying the winners Table</font>"
   ]
  },
  {
   "cell_type": "markdown",
   "metadata": {
    "tags": []
   },
   "source": [
    "##### **Queries are done using the <tt>select</tt> statement**\n",
    "https://dev.mysql.com/doc/refman/8.0/en/select.html\n",
    "\n",
    "##### **The result of any query is a table**"
   ]
  },
  {
   "cell_type": "markdown",
   "metadata": {},
   "source": [
    "---"
   ]
  },
  {
   "cell_type": "markdown",
   "metadata": {
    "tags": []
   },
   "source": [
    "- Log into MySQL again, directly into the nobels database:\n",
    "\n",
    "<pre>\n",
    "venugopa@data8:~/cs210_s24/lectures$ mysql venugopa_nobels\n",
    "...\n",
    "MariaDB [venugopa_nobels]>\n",
    "</pre>"
   ]
  },
  {
   "cell_type": "markdown",
   "metadata": {},
   "source": [
    "---"
   ]
  },
  {
   "cell_type": "markdown",
   "metadata": {},
   "source": [
    "##### **1. How many entries are in the table?**"
   ]
  },
  {
   "cell_type": "markdown",
   "metadata": {},
   "source": [
    "<pre>\n",
    "MariaDB [venugopa_nobels]> select count(*) from winners;\n",
    "+----------+\n",
    "| count(*) |\n",
    "+----------+\n",
    "|     1000 |\n",
    "+----------+\n",
    "</pre>"
   ]
  },
  {
   "cell_type": "markdown",
   "metadata": {},
   "source": [
    "##### **2. Show the first 5 rows in the table**"
   ]
  },
  {
   "cell_type": "markdown",
   "metadata": {},
   "source": [
    "<pre>\n",
    "MariaDB [venugopa_nobels]> select * from winners limit 5;\n",
    "+------+------------+---------+---------+---------------------------------------------------------------------------+-------+\n",
    "| year | category   | fname   | lname   | motivation                                                                | share |\n",
    "+------+------------+---------+---------+---------------------------------------------------------------------------+-------+\n",
    "| 2023 | Chemistry  | Moungi  | Bawendi | for the discovery and synthesis of quantum dots                           |     3 |\n",
    "| 2023 | Chemistry  | Louis   | Brus    | for the discovery and synthesis of quantum dots                           |     3 |\n",
    "| 2023 | Chemistry  | Aleksey | Yekimov | for the discovery and synthesis of quantum dots                           |     3 |\n",
    "| 2023 | Economics  | Claudia | Goldin  | for having advanced our understanding of women’s labour market outcomes   |     1 |\n",
    "| 2023 | Literature | Jon     | Fosse   | for his innovative plays and prose which give voice to the unsayable      |     1 |\n",
    "+------+------------+---------+---------+---------------------------------------------------------------------------+-------+\n",
    "5 rows in set (0.001 sec)\n",
    "</pre>\n",
    "\n",
    "**<tt>select \\*</tt>** selects all columns.<p>\n",
    "\n",
    "The output can be hard to read if any of the columns is extra long. <br>\n",
    "An alternative is to use this variant, with a '\\G' at the end of the query:\n",
    "    \n",
    "<pre>\n",
    "MariaDB [venugopa_nobels]> select * from winners limit 5\\G;\n",
    "*************************** 1. row ***************************\n",
    "      year: 2023\n",
    "  category: Chemistry\n",
    "     fname: Moungi\n",
    "     lname: Bawendi\n",
    "motivation: for the discovery and synthesis of quantum dots\n",
    "     share: 3\n",
    "*************************** 2. row ***************************\n",
    "      year: 2023\n",
    "  category: Chemistry\n",
    "     fname: Louis\n",
    "     lname: Brus\n",
    "motivation: for the discovery and synthesis of quantum dots\n",
    "     share: 3\n",
    "*************************** 3. row ***************************\n",
    "      year: 2023\n",
    "  category: Chemistry\n",
    "     fname: Aleksey\n",
    "     lname: Yekimov\n",
    "motivation: for the discovery and synthesis of quantum dots\n",
    "     share: 3\n",
    "*************************** 4. row ***************************\n",
    "      year: 2023\n",
    "  category: Economics\n",
    "     fname: Claudia\n",
    "     lname: Goldin\n",
    "motivation: for having advanced our understanding of women’s labour market outcomes\n",
    "     share: 1\n",
    "*************************** 5. row ***************************\n",
    "      year: 2023\n",
    "  category: Literature\n",
    "     fname: Jon\n",
    "     lname: Fosse\n",
    "motivation: for his innovative plays and prose which give voice to the unsayable\n",
    "     share: 1\n",
    "5 rows in set (0.001 sec)\n",
    "\n",
    "ERROR: No query specified\n",
    "</pre>\n"
   ]
  },
  {
   "cell_type": "markdown",
   "metadata": {},
   "source": [
    "**Show the last five rows, use limit with offset**"
   ]
  },
  {
   "cell_type": "markdown",
   "metadata": {},
   "source": [
    "<pre>\n",
    "MariaDB [venugopa_nobels]> select * from winners limit 5 offset 995\\G;\n",
    "*************************** 1. row ***************************\n",
    "      year: 1901\n",
    "  category: Literature\n",
    "     fname: Sully\n",
    "     lname: Prudhomme\n",
    "motivation: in special recognition of his poetic composition, which gives evidence of lofty idealism, artistic perfection and a rare combination of the qualities of both heart and intellect\n",
    "     share: 1\n",
    "*************************** 2. row ***************************\n",
    "      year: 1901\n",
    "  category: Peace\n",
    "     fname: Henry\n",
    "     lname: Dunant\n",
    "motivation: for his humanitarian efforts to help wounded soldiers and create international understanding\n",
    "     share: 2\n",
    "*************************** 3. row ***************************\n",
    "      year: 1901\n",
    "  category: Peace\n",
    "     fname: Frédéric\n",
    "     lname: Passy\n",
    "motivation: for his lifelong work for international peace conferences, diplomacy and arbitration\n",
    "     share: 2\n",
    "*************************** 4. row ***************************\n",
    "      year: 1901\n",
    "  category: Physics\n",
    "     fname: Wilhelm Conrad\n",
    "     lname: Röntgen\n",
    "motivation: in recognition of the extraordinary services he has rendered by the discovery of the remarkable rays subsequently named after him\n",
    "     share: 1\n",
    "*************************** 5. row ***************************\n",
    "      year: 1901\n",
    "  category: Medicine\n",
    "     fname: Emil\n",
    "     lname: von Behring\n",
    "motivation: for his work on serum therapy, especially its application against diphtheria, by which he has opened a new road in the domain of medical science and thereby placed in the hands of the physician a victorious weapon against illness and deaths\n",
    "     share: 1\n",
    "5 rows in set (0.002 sec)\n",
    "\n",
    "ERROR: No query specified\n",
    "</pre>"
   ]
  },
  {
   "cell_type": "markdown",
   "metadata": {},
   "source": [
    "##### **3. What are all the years for which nobel winners are listed?**"
   ]
  },
  {
   "cell_type": "markdown",
   "metadata": {},
   "source": [
    "<pre>\n",
    "MariaDB [venugopa_nobels]> select distinct(year) from winners;\n",
    "+------+\n",
    "| year |\n",
    "+------+\n",
    "| 2023 |\n",
    "| 2022 |\n",
    "| 2021 |\n",
    "| 2020 |\n",
    "| 2019 |\n",
    "| 2018 |\n",
    "  ...\n",
    "  ...\n",
    "| 1903 |\n",
    "| 1902 |\n",
    "| 1901 |\n",
    "+------+\n",
    "</pre>"
   ]
  },
  {
   "cell_type": "markdown",
   "metadata": {},
   "source": [
    "##### **4. For how many years are winners listed?**"
   ]
  },
  {
   "cell_type": "markdown",
   "metadata": {},
   "source": [
    "<pre>\n",
    "MariaDB [venugopa_nobels]> select count(distinct(year)) from winners;\n",
    "+-----------------------+\n",
    "| count(distinct(year)) |\n",
    "+-----------------------+\n",
    "|                   120 |\n",
    "+-----------------------+\n",
    "1 row in set (0.001 sec)\n",
    "</pre>"
   ]
  },
  {
   "cell_type": "markdown",
   "metadata": {},
   "source": [
    "##### **5. Who are all the winners in 2020, and in which category?**"
   ]
  },
  {
   "cell_type": "markdown",
   "metadata": {},
   "source": [
    "<pre>\n",
    "MariaDB [venugopa_nobels]> select category, fname, lname from winners where year=2020;\n",
    "+------------+----------------------+-------------+\n",
    "| category   | fname                | lname       |\n",
    "+------------+----------------------+-------------+\n",
    "| Chemistry  | Emmanuelle           | Charpentier |\n",
    "| Chemistry  | Jennifer A.          | Doudna      |\n",
    "| Economics  | Paul                 | Milgrom     |\n",
    "| Economics  | Robert               | Wilson      |\n",
    "| Literature | Louise               | Glück       |\n",
    "| Peace      | World Food Programme |             |\n",
    "| Physics    | Roger                | Penrose     |\n",
    "| Physics    | Reinhard             | Genzel      |\n",
    "| Physics    | Andrea               | Ghez        |\n",
    "| Medicine   | Harvey               | Alter       |\n",
    "| Medicine   | Michael              | Houghton    |\n",
    "| Medicine   | Charles              | Rice        |\n",
    "+------------+----------------------+-------------+\n",
    "12 rows in set (0.00 sec)\n",
    "</pre>\n",
    "- Any number of columns can be specified in the **select** statement, separated by commas\n",
    "- The **where** clause sets up a condition"
   ]
  },
  {
   "cell_type": "markdown",
   "metadata": {},
   "source": [
    "##### **6. Who were the winners of the Literature prize in the years 2011 thru 2021?**"
   ]
  },
  {
   "cell_type": "markdown",
   "metadata": {},
   "source": [
    "<pre>\n",
    "MariaDB [venugopa_nobels]> select fname, lname, year from winners where category='Literature' and year between 2010 and 2020;\n",
    "+----------+--------------+------+\n",
    "| fname    | lname        | year |\n",
    "+----------+--------------+------+\n",
    "| Louise   | Glück        | 2020 |\n",
    "| Peter    | Handke       | 2019 |\n",
    "| Olga     | Tokarczuk    | 2018 |\n",
    "| Kazuo    | Ishiguro     | 2017 |\n",
    "| Bob      | Dylan        | 2016 |\n",
    "| Svetlana | Alexievich   | 2015 |\n",
    "| Patrick  | Modiano      | 2014 |\n",
    "| Alice    | Munro        | 2013 |\n",
    "| Mo       | Yan          | 2012 |\n",
    "| Tomas    | Tranströmer  | 2011 |\n",
    "| Mario    | Vargas Llosa | 2010 |\n",
    "+----------+--------------+------+\n",
    "11 rows in set (0.002 sec)\n",
    "</pre>\n",
    "- For numeric types, you can use the **between** keyword to select range"
   ]
  },
  {
   "cell_type": "markdown",
   "metadata": {},
   "source": [
    "##### **7. List all details of all the prizes that Marie Curie won**"
   ]
  },
  {
   "cell_type": "markdown",
   "metadata": {},
   "source": [
    "<pre>\n",
    "MariaDB [venugopa_nobels]> select * from winners where lname='Curie' and fname='Marie'\\G;\n",
    "*************************** 1. row ***************************\n",
    "      year: 1911\n",
    "  category: Chemistry\n",
    "     fname: Marie\n",
    "     lname: Curie\n",
    "motivation: in recognition of her services to the advancement of chemistry by the discovery of the elements radium and polonium, by the isolation of radium and the study of the nature and compounds of this remarkable element\n",
    "     share: 1\n",
    "*************************** 2. row ***************************\n",
    "      year: 1903\n",
    "  category: Physics\n",
    "     fname: Marie\n",
    "     lname: Curie\n",
    "motivation: in recognition of the extraordinary services they have rendered by their joint researches on the radiation phenomena discovered by Professor Henri Becquerel\n",
    "     share: 4\n",
    "2 rows in set (0.001 sec)\n",
    "</pre>"
   ]
  },
  {
   "cell_type": "markdown",
   "metadata": {},
   "source": [
    "##### **8. List all details of all the prizes Bardeen won**"
   ]
  },
  {
   "cell_type": "markdown",
   "metadata": {},
   "source": [
    "<pre>\n",
    "MariaDB [venugopa_nobels]> select * from winners where lname='Bardeen'\\G;\n",
    "*************************** 1. row ***************************\n",
    "      year: 1972\n",
    "  category: Physics\n",
    "     fname: John\n",
    "     lname: Bardeen\n",
    "motivation: for their jointly developed theory of superconductivity, usually called the BCS-theory\n",
    "     share: 3\n",
    "*************************** 2. row ***************************\n",
    "      year: 1956\n",
    "  category: Physics\n",
    "     fname: John\n",
    "     lname: Bardeen\n",
    "motivation: for their researches on semiconductors and their discovery of the transistor effect\n",
    "     share: 3\n",
    "2 rows in set (0.001 sec)\n",
    "</pre>"
   ]
  }
 ],
 "metadata": {
  "kernelspec": {
   "display_name": "Python 3 (ipykernel)",
   "language": "python",
   "name": "python3"
  },
  "language_info": {
   "codemirror_mode": {
    "name": "ipython",
    "version": 3
   },
   "file_extension": ".py",
   "mimetype": "text/x-python",
   "name": "python",
   "nbconvert_exporter": "python",
   "pygments_lexer": "ipython3",
   "version": "3.11.7"
  }
 },
 "nbformat": 4,
 "nbformat_minor": 4
}
