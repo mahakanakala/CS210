{
 "cells": [
  {
   "cell_type": "markdown",
   "metadata": {},
   "source": [
    "### <font color=\"brown\">Relational Databases Continued</font>"
   ]
  },
  {
   "cell_type": "markdown",
   "metadata": {},
   "source": [
    "---"
   ]
  },
  {
   "cell_type": "markdown",
   "metadata": {},
   "source": [
    "#### Nobel Prize Winners Database Version 2"
   ]
  },
  {
   "cell_type": "markdown",
   "metadata": {},
   "source": [
    "---"
   ]
  },
  {
   "cell_type": "markdown",
   "metadata": {
    "tags": []
   },
   "source": [
    "In case you lost track of the database state at the end of the previous (Apr 11) class, you can get to it by loading\n",
    "the <tt>nobelsv2.sql</tt> file:\n",
    "\n",
    "<pre>\n",
    "venugopa@data8:~/cs210_s24/lectures$ mysql venugopa_nobels < nobelsv2.sql\n",
    "</pre>\n",
    "\n",
    "Note: the nobelsv2.sql file must be in the folder where you are executing the command."
   ]
  },
  {
   "cell_type": "markdown",
   "metadata": {},
   "source": [
    "---"
   ]
  },
  {
   "cell_type": "code",
   "execution_count": 16,
   "metadata": {
    "tags": []
   },
   "outputs": [],
   "source": [
    "# import connector modules\n",
    "from mysql.connector import connect, Error"
   ]
  },
  {
   "cell_type": "code",
   "execution_count": 44,
   "metadata": {
    "tags": []
   },
   "outputs": [],
   "source": [
    "# connect to nobels database\n",
    "try:\n",
    "    mydb = connect(unix_socket='/run/mysqld/mysqld.sock', database=\"venugopa_nobels\")\n",
    "    cursor = mydb.cursor()\n",
    "except Error as e:\n",
    "    print(e)"
   ]
  },
  {
   "cell_type": "markdown",
   "metadata": {},
   "source": [
    "**Insert multiple rows in laureate table**"
   ]
  },
  {
   "cell_type": "code",
   "execution_count": 18,
   "metadata": {
    "tags": []
   },
   "outputs": [],
   "source": [
    "# set up sql template to add laureate\n",
    "add_laureate = \"insert into laureate values (%s, %s, %s, %s, %s)\""
   ]
  },
  {
   "cell_type": "code",
   "execution_count": 19,
   "metadata": {
    "tags": []
   },
   "outputs": [
    {
     "name": "stdout",
     "output_type": "stream",
     "text": [
      "3 record(s) inserted\n"
     ]
    }
   ],
   "source": [
    "# let's add all 2021 Economics laureates in one shot\n",
    "# year_cat_id=2 is same for all of them, but share and motiv_id vary\n",
    "laureates = [('David','Card',2,2,2), ('Joshua','Angrist',4,2,3), ('Guido','Imbens',4,2,3)]\n",
    "cursor.executemany(add_laureate, laureates)\n",
    "print(cursor.rowcount,'record(s) inserted')\n",
    "mydb.commit()  # update the database"
   ]
  },
  {
   "cell_type": "code",
   "execution_count": 20,
   "metadata": {
    "tags": []
   },
   "outputs": [
    {
     "name": "stdout",
     "output_type": "stream",
     "text": [
      "('Benjamin', 'List', 2, 1, 1)\n",
      "('David', 'MacMillan', 2, 1, 1)\n",
      "('David', 'Card', 2, 2, 2)\n",
      "('Joshua', 'Angrist', 4, 2, 3)\n",
      "('Guido', 'Imbens', 4, 2, 3)\n"
     ]
    }
   ],
   "source": [
    "# check the laureate table\n",
    "query = 'select * from laureate' \n",
    "cursor.execute(query)\n",
    "res = cursor.fetchall()\n",
    "for row in res:\n",
    "    print(row)"
   ]
  },
  {
   "cell_type": "markdown",
   "metadata": {},
   "source": [
    "---"
   ]
  },
  {
   "cell_type": "markdown",
   "metadata": {},
   "source": [
    "##### <font color=\"brown\">We're going to switch over to terminal to delete, from yearcat, all rows except the first two (for Chemistry and Economics). </font>\n",
    "##### <font color=\"brown\"> Before we do that, we should close the cursor and the connection.</font>"
   ]
  },
  {
   "cell_type": "code",
   "execution_count": 21,
   "metadata": {
    "tags": []
   },
   "outputs": [
    {
     "data": {
      "text/plain": [
       "True"
      ]
     },
     "execution_count": 21,
     "metadata": {},
     "output_type": "execute_result"
    }
   ],
   "source": [
    "cursor.close()"
   ]
  },
  {
   "cell_type": "code",
   "execution_count": 22,
   "metadata": {
    "tags": []
   },
   "outputs": [],
   "source": [
    "mydb.close()"
   ]
  },
  {
   "cell_type": "markdown",
   "metadata": {},
   "source": [
    "<b>In Terminal:\n",
    "<pre>\n",
    "venugopa@data8:~/cs210_s24/lectures$ mysql venugopa_nobels\n",
    "...\n",
    "\n",
    "MariaDB [venugopa_nobels]> select * from yearcat;\n",
    "+----+------+------------+\n",
    "| id | year | category   |\n",
    "+----+------+------------+\n",
    "|  1 | 2021 | Chemistry  |\n",
    "|  2 | 2021 | Economics  |\n",
    "|  3 | 2021 | Literature |\n",
    "|  4 | 2021 | Physics    |\n",
    "|  5 | 2021 | Peace      |\n",
    "|  6 | 2021 | Medicine   |\n",
    "+----+------+------------+\n",
    "6 rows in set (0.00 sec)\n",
    "\n",
    "MariaDB [venugopa_nobels]> delete from yearcat where id > 2;\n",
    "Query OK, 3 rows affected (0.00 sec)\n",
    "\n",
    "MariaDB [venugopa_nobels]> select * from yearcat;\n",
    "+----+------+-----------+\n",
    "| id | year | category  |\n",
    "+----+------+-----------+\n",
    "|  1 | 2021 | Chemistry |\n",
    "|  2 | 2021 | Economics |\n",
    "+----+------+-----------+\n",
    "2 rows in set (0.00 sec)\n",
    "\n",
    "MariaDB [venugopa_nobels]> select * from winners where year=2021 and category='Physics';\n",
    "+------+----------+---------+------------+---------------------------------------------------------------------------------------------------------------------+-------+\n",
    "| year | category | fname   | lname      | motivation                                                                                                          | share |\n",
    "+------+----------+---------+------------+---------------------------------------------------------------------------------------------------------------------+-------+\n",
    "| 2021 | Physics  | Syukuro | Manabe     | for the physical modelling of Earth’s climate, quantifying variability and reliably predicting global warming       |     4 |\n",
    "| 2021 | Physics  | Klaus   | Hasselmann | for the physical modelling of Earth’s climate, quantifying variability and reliably predicting global warming       |     4 |\n",
    "| 2021 | Physics  | Giorgio | Parisi     | for the discovery of the interplay of disorder and fluctuations in physical systems from atomic to planetary scales |     2 |\n",
    "+------+----------+---------+------------+---------------------------------------------------------------------------------------------------------------------+-------+\n",
    "\n",
    "MariaDB [venugopa_nobels]> exit\n",
    "Bye\n",
    "\n",
    "venugopa@data8:~/cs210_s24/lectures$\n",
    "</pre>"
   ]
  },
  {
   "cell_type": "markdown",
   "metadata": {},
   "source": [
    "---"
   ]
  },
  {
   "cell_type": "markdown",
   "metadata": {},
   "source": [
    "#### Back to Python programming"
   ]
  },
  {
   "cell_type": "markdown",
   "metadata": {},
   "source": [
    "##### <font color=\"brown\">Make sure to redo the mydb connection and set up cursor, like we did initially. Just jump to and re-execute that cell, then jump back here.</font>"
   ]
  },
  {
   "cell_type": "markdown",
   "metadata": {},
   "source": [
    "---"
   ]
  },
  {
   "cell_type": "markdown",
   "metadata": {},
   "source": [
    "#### <font color=\"brown\">Adding to all three tables (yearcat, contribution, and laureate), retaining id from yearcat and contribution for add to laureate</font>"
   ]
  },
  {
   "cell_type": "markdown",
   "metadata": {},
   "source": [
    "##### <font color=\"brown\">Add Physics laureates for 2021</font>"
   ]
  },
  {
   "cell_type": "markdown",
   "metadata": {},
   "source": [
    "**Set up sql templates and values**"
   ]
  },
  {
   "cell_type": "code",
   "execution_count": 24,
   "metadata": {
    "tags": []
   },
   "outputs": [],
   "source": [
    "# set up sql template and values for yearcat table\n",
    "add_yearcat = 'insert into yearcat (year,category) values (%s,%s)'\n",
    "\n",
    "# set up sql template and values for contribution table\n",
    "add_contribution = \"insert into contribution (motivation) values (%s)\"\n",
    "\n",
    "str1 = 'for the physical modelling of Earth’s climate, ' \n",
    "str2 = 'quantifying variability and reliably predicting global warming'\n",
    "share4_contrib = str1 + str2        \n",
    "\n",
    "str1 = 'for the discovery of the interplay of disorder and fluctuations '\n",
    "str2 = 'in physical systems from atomic to planetary scales'\n",
    "share2_contrib = str1 + str2"
   ]
  },
  {
   "cell_type": "markdown",
   "metadata": {},
   "source": [
    "##### **Add to yearcat and get last added id using cursor.lastrowid. Similarly for contribution. Then add laureates.**\n",
    "https://dev.mysql.com/doc/connector-python/en/connector-python-api-mysqlcursor-lastrowid.html"
   ]
  },
  {
   "cell_type": "code",
   "execution_count": 25,
   "metadata": {
    "tags": []
   },
   "outputs": [
    {
     "name": "stdout",
     "output_type": "stream",
     "text": [
      "7\n"
     ]
    }
   ],
   "source": [
    "# add yearcat, and get last added id\n",
    "cursor.execute(add_yearcat, (2021,'Physics'))\n",
    "mydb.commit()  # update the database\n",
    "yc_id = cursor.lastrowid\n",
    "print(yc_id)"
   ]
  },
  {
   "cell_type": "markdown",
   "metadata": {},
   "source": [
    "**The id is 7 because the max id of all rows that had been previously added was 6 (Medicine). Subsequently, we deleted the ids 3, 4,5,6 but that does not change the fact that max id ever added was 6. So a new add gets id=6+1=7.**"
   ]
  },
  {
   "cell_type": "code",
   "execution_count": 26,
   "metadata": {
    "tags": []
   },
   "outputs": [
    {
     "name": "stdout",
     "output_type": "stream",
     "text": [
      "4\n"
     ]
    }
   ],
   "source": [
    "# add share4 contributon and get last added id\n",
    "cursor.execute(add_contribution, (share4_contrib,))  # Note the tuple syntax!! Only one value to be added\n",
    "mydb.commit()  # update the database\n",
    "contrib_id = cursor.lastrowid\n",
    "print(contrib_id)"
   ]
  },
  {
   "cell_type": "code",
   "execution_count": 27,
   "metadata": {
    "tags": []
   },
   "outputs": [],
   "source": [
    "# now add the two laureates at a share of 4 apiece\n",
    "laureates = [('Syukuro','Manabe',4,yc_id,contrib_id), ('Klaus','Hasselmann',4,yc_id,contrib_id)]\n",
    "cursor.executemany(add_laureate,laureates)\n",
    "mydb.commit()"
   ]
  },
  {
   "cell_type": "code",
   "execution_count": 28,
   "metadata": {
    "tags": []
   },
   "outputs": [],
   "source": [
    "# add share2 contributon and get last added id\n",
    "cursor.execute(add_contribution, (share2_contrib,))  \n",
    "mydb.commit()  # update the database\n",
    "contrib_id = cursor.lastrowid"
   ]
  },
  {
   "cell_type": "code",
   "execution_count": 29,
   "metadata": {
    "tags": []
   },
   "outputs": [
    {
     "name": "stdout",
     "output_type": "stream",
     "text": [
      "1 record(s) inserted\n"
     ]
    }
   ],
   "source": [
    "# add the third laureate, with a share of 2\n",
    "cursor.execute(add_laureate,('Giorgio','Parisi',2,yc_id,contrib_id))\n",
    "print(cursor.rowcount,'record(s) inserted')\n",
    "mydb.commit()"
   ]
  },
  {
   "cell_type": "code",
   "execution_count": 30,
   "metadata": {
    "tags": []
   },
   "outputs": [
    {
     "name": "stdout",
     "output_type": "stream",
     "text": [
      "('Benjamin', 'List', 2, 1, 1)\n",
      "('David', 'MacMillan', 2, 1, 1)\n",
      "('David', 'Card', 2, 2, 2)\n",
      "('Joshua', 'Angrist', 4, 2, 3)\n",
      "('Guido', 'Imbens', 4, 2, 3)\n",
      "('Syukuro', 'Manabe', 4, 7, 4)\n",
      "('Klaus', 'Hasselmann', 4, 7, 4)\n",
      "('Giorgio', 'Parisi', 2, 7, 5)\n"
     ]
    }
   ],
   "source": [
    "# get contents of laureate table\n",
    "query = 'select * from laureate'\n",
    "cursor.execute(query)\n",
    "res = cursor.fetchall()\n",
    "for row in res:\n",
    "    print(row)"
   ]
  },
  {
   "cell_type": "code",
   "execution_count": 31,
   "metadata": {
    "tags": []
   },
   "outputs": [
    {
     "data": {
      "text/plain": [
       "True"
      ]
     },
     "execution_count": 31,
     "metadata": {},
     "output_type": "execute_result"
    }
   ],
   "source": [
    "cursor.close()"
   ]
  },
  {
   "cell_type": "code",
   "execution_count": 32,
   "metadata": {
    "tags": []
   },
   "outputs": [],
   "source": [
    "mydb.close()"
   ]
  },
  {
   "cell_type": "markdown",
   "metadata": {},
   "source": [
    "---"
   ]
  },
  {
   "cell_type": "markdown",
   "metadata": {},
   "source": [
    "#### <font color=\"brown\">Populating the database with all the data from the nobel prize winners dataset</font>"
   ]
  },
  {
   "cell_type": "markdown",
   "metadata": {
    "tags": []
   },
   "source": [
    "##### We start from scratch and populate the <tt>yearcat</tt>, <tt>contribution</tt>, and <tt>laureate</tt> tables with the entire nobels JSON dataset"
   ]
  },
  {
   "cell_type": "markdown",
   "metadata": {},
   "source": [
    "##### <font color=\"brown\">First, open a mysql client session in Terminal, and delete all rows from these tables</font>"
   ]
  },
  {
   "cell_type": "markdown",
   "metadata": {},
   "source": [
    "<pre>\n",
    "venugopa@data8:~/cs210_s24/lectures$ mysql venugopa_nobels\n",
    "...\n",
    "MariaDB [venugopa_nobels]> delete from yearcat;\n",
    "ERROR 1451 (23000): Cannot delete or update a parent row: a foreign key constraint fails (`venugopa_nobels`.`laureate`, CONSTRAINT `laureate_ibfk_1` FOREIGN KEY (`year_cat_id`) REFERENCES `yearcat` (`id`))\n",
    "</pre>\n",
    "Rows from the <tt>yearcat</tt> table cannot be deleted since they have a key that is referenced in another table.<br>\n",
    "(Likewise for the <tt>contribution</tt> table.)\n",
    "\n",
    "So we will need to delete from the <tt>laureate</tt> table first, and then delete from the other two tables.\n",
    "<pre>\n",
    "MariaDB [venugopa_nobels]> delete from laureate;\n",
    "Query OK, 8 rows affected (0.004 sec)\n",
    "\n",
    "MariaDB [venugopa_nobels]> delete from yearcat;\n",
    "Query OK, 3 rows affected (0.004 sec)\n",
    "\n",
    "MariaDB [venugopa_nobels]> delete from contribution;\n",
    "Query OK, 5 rows affected (0.003 sec)\n",
    "\n",
    "MariaDB [venugopa_nobels]> select * from yearcat;\n",
    "Empty set (0.000 sec)\n",
    "\n",
    "MariaDB [venugopa_nobels]> select * from contribution;\n",
    "Empty set (0.000 sec)\n",
    "\n",
    "MariaDB [venugopa_nobels]> select * from laureate;\n",
    "Empty set (0.000 sec)\n",
    "</pre>"
   ]
  },
  {
   "cell_type": "markdown",
   "metadata": {},
   "source": [
    "##### <font color=\"brown\">Then, switch to Python, read the JSON dataset, and insert into the tables</font>"
   ]
  },
  {
   "cell_type": "code",
   "execution_count": 36,
   "metadata": {
    "tags": []
   },
   "outputs": [],
   "source": [
    "import json, requests\n",
    "\n",
    "nobel_url = 'http://api.nobelprize.org/v1/prize.json'\n",
    "resp = requests.get(nobel_url)\n",
    "nobels = json.loads(resp.text)"
   ]
  },
  {
   "cell_type": "code",
   "execution_count": 39,
   "metadata": {
    "tags": []
   },
   "outputs": [
    {
     "name": "stdout",
     "output_type": "stream",
     "text": [
      "{'year': '2023', 'category': 'chemistry', 'laureates': [{'id': '1029', 'firstname': 'Moungi', 'surname': 'Bawendi', 'motivation': '\"for the discovery and synthesis of quantum dots\"', 'share': '3'}, {'id': '1030', 'firstname': 'Louis', 'surname': 'Brus', 'motivation': '\"for the discovery and synthesis of quantum dots\"', 'share': '3'}, {'id': '1031', 'firstname': 'Aleksey', 'surname': 'Yekimov', 'motivation': '\"for the discovery and synthesis of quantum dots\"', 'share': '3'}]}\n",
      "{'year': '2023', 'category': 'economics', 'laureates': [{'id': '1034', 'firstname': 'Claudia', 'surname': 'Goldin', 'motivation': '\"for having advanced our understanding of women’s labour market outcomes\"', 'share': '1'}]}\n",
      "{'year': '2023', 'category': 'literature', 'laureates': [{'id': '1032', 'firstname': 'Jon', 'surname': 'Fosse', 'motivation': '\"for his innovative plays and prose which give voice to the unsayable\"', 'share': '1'}]}\n"
     ]
    }
   ],
   "source": [
    "for i,prize in enumerate(nobels['prizes']):\n",
    "    if i > 2:\n",
    "        break\n",
    "    print(prize)"
   ]
  },
  {
   "cell_type": "markdown",
   "metadata": {},
   "source": [
    "##### Cycle through the laureates list: \n",
    "- When we get to the first instance of a year/category, we insert it into the yearcat table. \n",
    "- At the same time, we also insert the corresponding motivation in the contribution table. \n",
    "- Using the lastrowid for both, we insert the associated laureate. \n",
    "- Then, as long as both year/category and motivation are the same, we keep adding laureates with the same yearcat id and the same motivation id. \n",
    "- If the motivation changes, but year/category is the same, we insert a new contribution, get lastrowid for that table, and then keep adding laureates"
   ]
  },
  {
   "cell_type": "markdown",
   "metadata": {},
   "source": [
    "**Make sure to connect to the database and get a cursor before proceeding!**"
   ]
  },
  {
   "cell_type": "code",
   "execution_count": 37,
   "metadata": {
    "tags": []
   },
   "outputs": [],
   "source": [
    "# query templates for adding to the tables\n",
    "add_yearcat = \"insert into yearcat (year,category) values (%s,%s)\"\n",
    "add_contribution = \"insert into contribution (motivation) values (%s)\"\n",
    "add_laureate = \"insert into laureate values (%s, %s, %s, %s, %s)\""
   ]
  },
  {
   "cell_type": "code",
   "execution_count": 46,
   "metadata": {
    "tags": []
   },
   "outputs": [],
   "source": [
    "prev_year = 0\n",
    "prev_cat = ''\n",
    "prev_motiv = ''\n",
    "for prize in nobels['prizes']:\n",
    "    if not 'laureates' in prize:\n",
    "        continue\n",
    "    year = int(prize['year'])\n",
    "    cat = prize['category'].capitalize()\n",
    "    yc_val = (year, cat)\n",
    "    if year != prev_year or cat != prev_cat:  # switch\n",
    "        cursor.execute(add_yearcat, yc_val)\n",
    "        yc_id = cursor.lastrowid\n",
    "        prev_year = year\n",
    "        prev_cat = cat\n",
    "    for winner in prize['laureates']:\n",
    "        motiv = winner.get('motivation').strip('\"')\n",
    "        if motiv != prev_motiv:\n",
    "            cursor.execute(add_contribution, (motiv,))\n",
    "            contrib_id = cursor.lastrowid\n",
    "            prev_motiv = motiv\n",
    "        fname = winner.get('firstname')\n",
    "        share = winner.get('share')\n",
    "        try:\n",
    "            lname = winner.get('surname')\n",
    "        except KeyError:\n",
    "            lname=None\n",
    "        \n",
    "        cursor.execute(add_laureate,(fname,lname,share,yc_id,contrib_id))\n",
    "        mydb.commit()     "
   ]
  },
  {
   "cell_type": "markdown",
   "metadata": {},
   "source": [
    "---"
   ]
  },
  {
   "cell_type": "markdown",
   "metadata": {},
   "source": [
    "**When we created the <tt>laureate</tt> table, we wrote in 'not null' for the <tt>lname</tt> column. That was a mistake since some prizes don't have a lastname. So we need to change the schema of the <tt>laureate</tt> table with an updated version of <tt>lname</tt> to allow null values**"
   ]
  },
  {
   "cell_type": "markdown",
   "metadata": {},
   "source": [
    "We will do the alteration in Terminal, but we need to first close the connection to the db from the Python program, otherwise there will be a conflict."
   ]
  },
  {
   "cell_type": "code",
   "execution_count": 43,
   "metadata": {
    "tags": []
   },
   "outputs": [],
   "source": [
    "cursor.close()\n",
    "mydb.close()"
   ]
  },
  {
   "cell_type": "markdown",
   "metadata": {},
   "source": [
    "<pre>\n",
    "MariaDB [venugopa_nobels]> alter table laureate modify column lname varchar(40);\n",
    "Query OK, 0 rows affected (0.028 sec)\n",
    "Records: 0  Duplicates: 0  Warnings: 0\n",
    "\n",
    "MariaDB [venugopa_nobels]> desc laureate;\n",
    "+-------------+-------------+------+-----+---------+-------+\n",
    "| Field       | Type        | Null | Key | Default | Extra |\n",
    "+-------------+-------------+------+-----+---------+-------+\n",
    "| fname       | varchar(80) | NO   |     | NULL    |       |\n",
    "| lname       | varchar(40) | YES  |     | NULL    |       |\n",
    "| share       | tinyint(4)  | NO   |     | NULL    |       |\n",
    "| year_cat_id | smallint(6) | NO   | MUL | NULL    |       |\n",
    "| motiv_id    | smallint(6) | NO   | MUL | NULL    |       |\n",
    "+-------------+-------------+------+-----+---------+-------+\n",
    "5 rows in set (0.002 sec)\n",
    "\n",
    "MariaDB [venugopa_nobels]> \n",
    "</pre>"
   ]
  },
  {
   "cell_type": "markdown",
   "metadata": {},
   "source": [
    "**When we ran cell 46, a bunch of rows were inserted (committed) into <tt>laureate</tt> we hit a winner that had a missing lastname. You can tell how many rows were inserted if you examind the lname column in the <tt>winners</tt> table** "
   ]
  },
  {
   "cell_type": "markdown",
   "metadata": {},
   "source": [
    "<pre>\n",
    "MariaDB [venugopa_nobels]> select lname from winners limit 22;\n",
    "+--------------+\n",
    "| lname        |\n",
    "+--------------+\n",
    "| Bawendi      |\n",
    "| Brus         |\n",
    "| Yekimov      |\n",
    "| Goldin       |\n",
    "| Fosse        |\n",
    "| Mohammadi    |\n",
    "| Agostini     |\n",
    "| Krausz       |\n",
    "| L’Huillier   |\n",
    "| Karikó       |\n",
    "| Weissman     |\n",
    "| Bertozzi     |\n",
    "| Meldal       |\n",
    "| Sharpless    |\n",
    "| Bernanke     |\n",
    "| Diamond      |\n",
    "| Dybvig       |\n",
    "| Ernaux       |\n",
    "| Bialiatski   |\n",
    "|              |\n",
    "|              |\n",
    "| Aspect       |\n",
    "+--------------+\n",
    "</pre>\n",
    "The 20th row has a null value (shown as a blank), so 19 rows were inserted into <tt>laureates</tt>"
   ]
  },
  {
   "cell_type": "markdown",
   "metadata": {},
   "source": [
    "**So let's clear out all the tables (except <tt>winners</tt>) before we redo the inserts**"
   ]
  },
  {
   "cell_type": "markdown",
   "metadata": {},
   "source": [
    "<pre>\n",
    "MariaDB [venugopa_nobels]> delete from laureate;\n",
    "Query OK, 1019 rows affected (0.011 sec)\n",
    "\n",
    "MariaDB [venugopa_nobels]> delete from yearcat;\n",
    "Query OK, 631 rows affected (0.006 sec)\n",
    "\n",
    "MariaDB [venugopa_nobels]> delete from contribution;\n",
    "Query OK, 700 rows affected (0.006 sec)\n",
    "</pre>"
   ]
  },
  {
   "cell_type": "markdown",
   "metadata": {},
   "source": [
    "**Reconnect to the db and get cursor, then run cell 46, and return here**"
   ]
  },
  {
   "cell_type": "markdown",
   "metadata": {},
   "source": [
    "<pre>\n",
    "MariaDB [venugopa_nobels]> select count(*) from laureate;\n",
    "+----------+\n",
    "| count(*) |\n",
    "+----------+\n",
    "|     1000 |\n",
    "+----------+\n",
    "1 row in set (0.002 sec)\n",
    "</pre>"
   ]
  },
  {
   "cell_type": "markdown",
   "metadata": {},
   "source": [
    "---"
   ]
  },
  {
   "cell_type": "markdown",
   "metadata": {},
   "source": [
    "#### <font color=\"brown\">Transaction, Atomicity, and Rollback<font>"
   ]
  },
  {
   "cell_type": "markdown",
   "metadata": {},
   "source": [
    "**What if there is a problem in adding to contribution table after adding to yearcat, or in adding to laureate after adding to contribution (and possibly to yearcat)?**\n",
    "\n",
    "- We need to take into account these possible issues and not add the data if there is a problem. \n",
    "\n",
    "- In order to do this, we will need to do what's called a **rollback** which basically cancels any other changes you may have made in the same breath (adding to any of the other tables). \n",
    "\n",
    "- The reason is if there is an update to more than one table for any laureate entry, either all updates happen, or none happen - this group of adds is called a **transaction** which is *atomic* (all or nothing). A transaction could also be multiple updates to a single table.\n",
    "\n",
    "- There is a property called autocommit that can be set to True (if you want to automatically commit after a statement instead of having to explicity call commit()) or False (otherwise). The Python MySQL connector sets it to False by default\n",
    "https://dev.mysql.com/doc/connector-python/en/connector-python-api-mysqlconnection-autocommit.html\n",
    "\n",
    "- This is useful for transactions, because you only want to commit after *all* component updates have been executed without error: the autocommit property is false, and an explicit commit is issued at the end of the transaction.  "
   ]
  },
  {
   "cell_type": "markdown",
   "metadata": {},
   "source": [
    "**Following is the code rewritten with error checking and rollback.**\n",
    "\n",
    "- First, clear all tables (except <tt>winners</tt>)\n",
    "<pre>\n",
    "MariaDB [venugopa_nobels]> delete from laureate;\n",
    "Query OK, 1000 rows affected (0.013 sec)\n",
    "\n",
    "MariaDB [venugopa_nobels]> delete from yearcat;\n",
    "Query OK, 621 rows affected (0.007 sec)\n",
    "\n",
    "MariaDB [venugopa_nobels]> delete from contribution;\n",
    "Query OK, 690 rows affected (0.008 sec)\n",
    "</pre>\n",
    "- Then execute the following cell\n",
    "\n"
   ]
  },
  {
   "cell_type": "code",
   "execution_count": 47,
   "metadata": {
    "tags": []
   },
   "outputs": [],
   "source": [
    "# code includes rollback\n",
    "import sys\n",
    "\n",
    "prev_year = 0\n",
    "prev_cat = ''\n",
    "prev_motiv = ''\n",
    "for prize in nobels['prizes']:\n",
    "    if not 'laureates' in prize:\n",
    "        continue\n",
    "    year = int(prize['year'])\n",
    "    cat = prize['category'].capitalize()\n",
    "    yc_val = (year, cat)\n",
    "    if year != prev_year or cat != prev_cat:  # switch\n",
    "        try:\n",
    "            cursor.execute(add_yearcat, yc_val)\n",
    "            yc_id = cursor.lastrowid\n",
    "            prev_year = year\n",
    "            prev_cat = cat\n",
    "        except:  # don't need to rollback here since nothing has been added\n",
    "            print(sys.exc_info()[0])\n",
    "            print(f'Could not add {year}/{cat}')\n",
    "            continue\n",
    "    \n",
    "    for winner in prize['laureates']:\n",
    "        # motivation\n",
    "        try:\n",
    "            motiv = winner.get('motivation').strip('\"')\n",
    "            if motiv != prev_motiv:\n",
    "                cursor.execute(add_contribution, (motiv,))\n",
    "                contrib_id = cursor.lastrowid\n",
    "                prev_motiv = motiv\n",
    "        except:\n",
    "            # contribution failed, rollback in case year/cat was added\n",
    "            mydb.rollback()   # no effect or undo year/cat if added since last commit\n",
    "            print(f'Could not add motivation: \"{motiv} in {year}/{cat}\"')\n",
    "            break\n",
    "            \n",
    "        # laureate\n",
    "        try:\n",
    "            fname = winner.get('firstname')\n",
    "            share = winner.get('share')\n",
    "            try:\n",
    "                lname = winner.get('surname')\n",
    "            except KeyError:\n",
    "                lname=None\n",
    "            cursor.execute(add_laureate,(fname,lname,share,yc_id,contrib_id))\n",
    "            mydb.commit()    \n",
    "        except:\n",
    "            # laureate failed\n",
    "            mydb.rollback()   # no effect, or undo contribution, or undo contrib and year/cat\n",
    "            print(f'Could not add laureate {fname} {lname} in {year}/{cat}')\n",
    "            break  \n",
    "          "
   ]
  },
  {
   "cell_type": "code",
   "execution_count": 48,
   "metadata": {
    "tags": []
   },
   "outputs": [
    {
     "name": "stdout",
     "output_type": "stream",
     "text": [
      "(1000,)\n"
     ]
    }
   ],
   "source": [
    "# check the count in laureate\n",
    "cursor.execute('select count(*) from laureate')\n",
    "res = cursor.fetchall()\n",
    "for row in res:\n",
    "    print(row)"
   ]
  },
  {
   "cell_type": "markdown",
   "metadata": {},
   "source": [
    "#### You can do transaction with commit and rollback in the MySQL client terminal:\n",
    "https://dev.mysql.com/doc/refman/8.0/en/innodb-autocommit-commit-rollback.html\n",
    "\n",
    "Unlike the Python connector, a connection through the client interface will start with autocommit set to 1 (True) by default. So if you want to process a transaction, you will need to set autocommit to 0 (false) first.\n",
    "\n",
    "See also: https://dev.mysql.com/doc/refman/8.0/en/commit.html"
   ]
  },
  {
   "cell_type": "markdown",
   "metadata": {},
   "source": [
    "---"
   ]
  },
  {
   "cell_type": "markdown",
   "metadata": {},
   "source": [
    "#### <font color=\"brown\">Queries on the nobels database</font>"
   ]
  },
  {
   "cell_type": "markdown",
   "metadata": {},
   "source": [
    "##### **The table schemas**\n",
    "\n",
    "<pre>\n",
    "mysql> desc yearcat;\n",
    "+----------+----------+------+-----+---------+----------------+\n",
    "| Field    | Type     | Null | Key | Default | Extra          |\n",
    "+----------+----------+------+-----+---------+----------------+\n",
    "| id       | smallint | NO   | PRI | NULL    | auto_increment |\n",
    "| year     | year     | NO   |     | NULL    |                |\n",
    "| category | char(10) | NO   |     | NULL    |                |\n",
    "+----------+----------+------+-----+---------+----------------+\n",
    "3 rows in set (0.00 sec)\n",
    "\n",
    "mysql> desc contribution;\n",
    "+------------+--------------+------+-----+---------+----------------+\n",
    "| Field      | Type         | Null | Key | Default | Extra          |\n",
    "+------------+--------------+------+-----+---------+----------------+\n",
    "| id         | smallint     | NO   | PRI | NULL    | auto_increment |\n",
    "| motivation | varchar(500) | NO   |     | NULL    |                |\n",
    "+------------+--------------+------+-----+---------+----------------+\n",
    "2 rows in set (0.00 sec)\n",
    "\n",
    "mysql> desc laureate;\n",
    "+-------------+-------------+------+-----+---------+-------+\n",
    "| Field       | Type        | Null | Key | Default | Extra |\n",
    "+-------------+-------------+------+-----+---------+-------+\n",
    "| fname       | varchar(80) | NO   |     | NULL    |       |\n",
    "| lname       | varchar(40) | YES  |     | NULL    |       |\n",
    "| share       | tinyint     | NO   |     | NULL    |       |\n",
    "| year_cat_id | smallint    | NO   | MUL | NULL    |       |\n",
    "| motiv_id    | smallint    | NO   | MUL | NULL    |       |\n",
    "+-------------+-------------+------+-----+---------+-------+\n",
    "5 rows in set (0.00 sec)\n",
    "</pre>"
   ]
  },
  {
   "cell_type": "markdown",
   "metadata": {},
   "source": [
    "---"
   ]
  },
  {
   "cell_type": "markdown",
   "metadata": {
    "tags": []
   },
   "source": [
    "##### <font color=\"brown\">1. Who were the laureates in 2010, and for what category? (Inner Join)</font>\n",
    "\n",
    "<pre>\n",
    "MariaDB [venugopa_nobels]> select fname,lname,category from laureate,yearcat where yearcat.year=2010 and laureate.year_cat_id=yearcat.id;\n",
    "       \n",
    "+----------------+--------------+------------+\n",
    "| fname          | lname        | category   |\n",
    "+----------------+--------------+------------+\n",
    "| Richard F.     | Heck         | Chemistry  |\n",
    "| Ei-ichi        | Negishi      | Chemistry  |\n",
    "| Akira          | Suzuki       | Chemistry  |\n",
    "| Peter A.       | Diamond      | Economics  |\n",
    "| Dale T.        | Mortensen    | Economics  |\n",
    "| Christopher A. | Pissarides   | Economics  |\n",
    "| Mario          | Vargas Llosa | Literature |\n",
    "| Xiaobo         | Liu          | Peace      |\n",
    "| Andre          | Geim         | Physics    |\n",
    "| Konstantin     | Novoselov    | Physics    |\n",
    "| Robert G.      | Edwards      | Medicine   |\n",
    "+----------------+--------------+------------+       \n",
    "</pre>\n",
    "\n",
    "- We are executing what's called an **inner join** on the tables laureate and yearcat, because we are matching the year_cat_id value in the laureate table with the id value in the yearcat table - only the respective rows from these two tables for which these ids match will be selected for the result.\n",
    "\n",
    "- Since year_cat_id, year, and id are unique column names across the pair of tables, you can omit the qualifers and write a simplified version like this:\n",
    "\n",
    "<pre>\n",
    "MariaDB [venugopa_nobels]> select fname,lname,category from laureate,yearcat where yearcat.year=2010 and year_cat_id=id;\n",
    "</pre>\n",
    "\n",
    "- Another alternative is to explicity spell out the inner join using the JOIN and ON keywords:\n",
    "\n",
    "<pre>\n",
    "MariaDB [venugopa_nobels]> select fname,lname,category\n",
    "    -> from laureate\n",
    "    -> join yearcat\n",
    "    -> on year_cat_id=id\n",
    "    -> where year=2010;\n",
    "</pre>\n",
    "\n",
    "- The order of tables is irrelevant, you can do the following (yearcat join laureate) with the same result:\n",
    "\n",
    "<pre>\n",
    "MariaDB [venugopa_nobels]> select fname,lname,category\n",
    "    -> from yearcat\n",
    "    -> join laureate\n",
    "    -> on year_cat_id=id\n",
    "    -> where year=2010;\n",
    "</pre>"
   ]
  },
  {
   "cell_type": "markdown",
   "metadata": {},
   "source": [
    "---"
   ]
  },
  {
   "cell_type": "markdown",
   "metadata": {
    "jp-MarkdownHeadingCollapsed": true,
    "tags": []
   },
   "source": [
    "##### <font color=\"brown\">2. Find the year and category for laureates that did not have a last name (null values)</font>\n",
    "\n",
    "<pre>\n",
    "MariaDB [venugopa_nobels]> select year,category from yearcat,laureate where year_cat_id=id and lname is null;\n",
    "+------+----------+\n",
    "| year | category |\n",
    "+------+----------+\n",
    "| 2022 | Peace    |\n",
    "| 2022 | Peace    |\n",
    "| 2020 | Peace    |\n",
    "| 2017 | Peace    |\n",
    "| 2015 | Peace    |\n",
    "\n",
    "    ......\n",
    "    \n",
    "| 1917 | Peace    |\n",
    "| 1910 | Peace    |\n",
    "| 1904 | Peace    |\n",
    "+------+----------+\n",
    " \n",
    "</pre>\n",
    "\n",
    "Looks like these are all in the Peace category, but we can verify:\n",
    "<pre>\n",
    "MariaDB [venugopa_nobels]> select distinct(category) from yearcat,laureate where year_cat_id=id and lname is null;\n",
    "+----------+\n",
    "| category |\n",
    "+----------+\n",
    "| Peace    |\n",
    "+----------+\n",
    "</pre>\n"
   ]
  },
  {
   "cell_type": "markdown",
   "metadata": {},
   "source": [
    "---"
   ]
  },
  {
   "cell_type": "markdown",
   "metadata": {},
   "source": [
    "##### <font color=\"brown\">3. For what contribution(s) was the Peace prize awarded in 2021? (Join on more than 2 tables)</font>\n",
    "\n",
    "**Version 1**\n",
    "<pre>\n",
    "MariaDB [venugopa_nobels]> select motivation\n",
    "    -> from contribution,yearcat,laureate\n",
    "    -> where year=2021 and category='Peace'\n",
    "    -> and yearcat.id = year_cat_id\n",
    "    -> and contribution.id = motiv_id;\n",
    "             \n",
    "+-----------------------------------------------------------------------------------\n",
    "| motivation                                                                         \n",
    "+----------------------------------------------------------------------------------- \n",
    "| for their efforts to safeguard freedom of expression, which  is a precondition ... \n",
    "| for their efforts to safeguard freedom of expression, which  is a precondition ...\n",
    "+-----------------------------------------------------------------------------------             \n",
    "</pre>\n",
    "\n",
    "- This is an inner join of all three tables\n",
    "- Since both the contribution and yearcat tables have a column named id, we need to qualify its usage with table names\n",
    "\n",
    "**Version 2**\n",
    "\n",
    "The above result is not quite what we want, since it is duplicated. (Two people shared the Peace prize in 2021, for the same contribution.) So we need to change the query to get distinct motivation:\n",
    "<pre>\n",
    "MariaDB [venugopa_nobels]> select distinct(motivation)\n",
    "    -> from contribution,yearcat,laureate\n",
    "    -> where year=2021 and category='Peace'\n",
    "    -> and yearcat.id = year_cat_id\n",
    "    -> and contribution.id = motiv_id;\n",
    "             \n",
    "+-----------------------------------------------------------------------------------\n",
    "| motivation                                                                         \n",
    "+----------------------------------------------------------------------------------- \n",
    "| for their efforts to safeguard freedom of expression, which  is a precondition ... \n",
    "+-----------------------------------------------------------------------------------                 \n",
    "</pre>\n",
    "\n",
    "**Version 3**\n",
    "\n",
    "In this version, the contribution and yearcat tables are given alternative short labels for ease of writing out the join conditions:\n",
    "\n",
    "<pre>\n",
    "MariaDB [venugopa_nobels]> select distinct(motivation)\n",
    "    -> from contribution C,yearcat Y,laureate\n",
    "    -> where year=2021 and category='Peace'\n",
    "    -> and Y.id = year_cat_id\n",
    "    -> and C.id = motiv_id;              \n",
    "</pre>\n",
    "\n",
    "**Version 4**\n",
    "\n",
    "Often, *all* tables in a join are labeled with single letters and *all* column names are qualified, regardless of whether or not the names are unique in the set of tables:\n",
    "\n",
    "<pre>\n",
    "MariaDB [venugopa_nobels]> select distinct(C.motivation)\n",
    "    -> from contribution C,yearcat Y,laureate L\n",
    "    -> where Y.year=2021 and Y.category='Peace'\n",
    "    -> and Y.id = L.year_cat_id\n",
    "    -> and C.id = L.motiv_id; \n",
    "</pre>\n",
    "I'll mostly follow this practice going forward."
   ]
  },
  {
   "cell_type": "markdown",
   "metadata": {},
   "source": [
    "---"
   ]
  },
  {
   "cell_type": "markdown",
   "metadata": {
    "tags": []
   },
   "source": [
    "##### <font color=\"brown\">4. How many people shared the Economics prize 2018?</font>\n",
    "\n",
    "<pre>\n",
    "MariaDB [venugopa_nobels]> select count(*) from yearcat Y, laureate L where Y.year=2018 and Y.category='Economics' and Y.id=L.year_cat_id;\n",
    "+----------+\n",
    "| count(*) |\n",
    "+----------+\n",
    "|        2 |\n",
    "+----------+\n",
    "</pre>"
   ]
  },
  {
   "cell_type": "code",
   "execution_count": null,
   "metadata": {},
   "outputs": [],
   "source": []
  }
 ],
 "metadata": {
  "kernelspec": {
   "display_name": "Python 3 (ipykernel)",
   "language": "python",
   "name": "python3"
  },
  "language_info": {
   "codemirror_mode": {
    "name": "ipython",
    "version": 3
   },
   "file_extension": ".py",
   "mimetype": "text/x-python",
   "name": "python",
   "nbconvert_exporter": "python",
   "pygments_lexer": "ipython3",
   "version": "3.11.3"
  }
 },
 "nbformat": 4,
 "nbformat_minor": 4
}
